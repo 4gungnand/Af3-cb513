{
 "cells": [
  {
   "cell_type": "markdown",
   "metadata": {},
   "source": [
    "# CB513 Batching"
   ]
  },
  {
   "cell_type": "code",
   "execution_count": 1,
   "metadata": {},
   "outputs": [],
   "source": [
    "import gzip\n",
    "import numpy as np\n",
    "import json\n",
    "import csv\n",
    "import os\n",
    "\n",
    "directory = '../Data/Preprocessed/'\n",
    "output_path = '../Data/Input/'\n",
    "cb513_path = directory + 'cb513+profile_split1.npy.gz'"
   ]
  },
  {
   "cell_type": "code",
   "execution_count": 2,
   "metadata": {},
   "outputs": [],
   "source": [
    "# with open(cb513_path, 'r') as file:\n",
    "#     reader = csv.reader(file)\n",
    "#     for row in reader:\n",
    "#         cb513 = list(reader)\n",
    "\n",
    "# # Extract the sequences from the cb513 dataset\n",
    "# sequences = [row[0] for row in cb513]\n",
    "# print(f\"Number of sequences: {len(sequences)}\")\n",
    "# for i, seq in enumerate(sequences):\n",
    "#     print(f\"Sequence {i}: {seq}\")\n",
    "\n",
    "# # Function to create job lists for AlphaFoldServer (20 sequences per job)\n",
    "# # n from 0-513: 514 sequences\n",
    "# n_end = 513\n",
    "# n_start = 0\n",
    "\n",
    "# def create_joblist_batches(n_start, n_end, batch_size=20):\n",
    "#     joblist = []\n",
    "#     batch_counter = 1\n",
    "#     for n in range(n_start, n_end+1):\n",
    "#         seq = sequences[n]\n",
    "#         job = {\n",
    "#             \"name\": f\"Cb513_{n}\",\n",
    "#             \"modelSeeds\": [\"1\"],\n",
    "#             \"sequences\": [\n",
    "#                 {\n",
    "#                     \"proteinChain\": {\n",
    "#                         \"sequence\": seq,\n",
    "#                         \"count\": 1\n",
    "#                     }\n",
    "#                 }\n",
    "#             ]\n",
    "#         }\n",
    "#         joblist.append(job)\n",
    "        \n",
    "#         if len(joblist) == batch_size or n == n_end:\n",
    "#             filename = output_path + f'cb513_batch/joblist_{batch_counter}.json'\n",
    "#             with open(filename, 'w') as f:\n",
    "#                 json.dump(joblist, f, indent=4)\n",
    "#             print(f\"Joblist batch {batch_counter} created\")\n",
    "#             joblist = []\n",
    "#             batch_counter += 1\n",
    "\n",
    "# create_joblist_batches(n_start, n_end)"
   ]
  },
  {
   "cell_type": "markdown",
   "metadata": {},
   "source": [
    "# TS115 Batching"
   ]
  },
  {
   "cell_type": "code",
   "execution_count": 3,
   "metadata": {},
   "outputs": [],
   "source": [
    "# # Read the TS115.csv file\n",
    "# ts115_path = directory + 'TS115_preprocessed.csv'\n",
    "\n",
    "# with open(ts115_path, 'r') as file:\n",
    "#     reader = csv.reader(file)\n",
    "#     for row in reader:\n",
    "#         ts115 = list(reader)\n",
    "\n",
    "# # Extract the sequences\n",
    "# sequences = [row[0] for row in ts115]\n",
    "# print(f\"Number of sequences: {len(sequences)}\")\n",
    "# for i, seq in enumerate(sequences):\n",
    "#     print(f\"Sequence {i}: {seq}\")\n",
    "\n",
    "# # Function to create job lists for AlphaFoldServer (30 sequences per job)\n",
    "# # n from 0-114: 115 sequences\n",
    "# n_end = 114\n",
    "# n_start = 0\n",
    "\n",
    "# def create_joblist_batches(n_start, n_end, batch_size=30):\n",
    "#     joblist = []\n",
    "#     batch_counter = 1\n",
    "#     for n in range(n_start, n_end+1):\n",
    "#         seq = sequences[n]\n",
    "#         job = {\n",
    "#             \"name\": f\"ts115_{n}\",\n",
    "#             \"modelSeeds\": [\"1\"],\n",
    "#             \"sequences\": [\n",
    "#                 {\n",
    "#                     \"proteinChain\": {\n",
    "#                         \"sequence\": seq,\n",
    "#                         \"count\": 1\n",
    "#                     }\n",
    "#                 }\n",
    "#             ]\n",
    "#         }\n",
    "#         joblist.append(job)\n",
    "        \n",
    "#         if len(joblist) == batch_size or n == n_end:\n",
    "#             filename = output_path + f'ts115_batch/joblist_{batch_counter}.json'\n",
    "#             with open(filename, 'w') as f:\n",
    "#                 json.dump(joblist, f, indent=4)\n",
    "#             print(f\"Joblist batch {batch_counter} created\")\n",
    "#             joblist = []\n",
    "#             batch_counter += 1\n",
    "\n",
    "# create_joblist_batches(n_start, n_end)"
   ]
  },
  {
   "cell_type": "markdown",
   "metadata": {},
   "source": [
    "# Batching Function for all"
   ]
  },
  {
   "cell_type": "code",
   "execution_count": 4,
   "metadata": {},
   "outputs": [],
   "source": [
    "def process_dataset(dataset_name, batch_size=30):\n",
    "    # Ensure output directory exists\n",
    "    batch_dir = os.path.join(output_path, f'{dataset_name}_batch/')\n",
    "    os.makedirs(batch_dir, exist_ok=True)\n",
    "\n",
    "    # Read dataset and extract sequences, skipping the header\n",
    "    dataset_path = os.path.join(directory, f'{dataset_name}_preprocessed.csv')\n",
    "    with open(dataset_path, 'r') as file:\n",
    "        reader = csv.reader(file)\n",
    "        next(reader, None)  # Skip the header\n",
    "        sequences = [row[2] for row in reader]  # Sequence is in the third column\n",
    "\n",
    "    print(f\"Processing {len(sequences)} sequences from {dataset_name}...\")\n",
    "\n",
    "    # Create job lists in batches\n",
    "    joblist, batch_counter = [], 1\n",
    "    for n, seq in enumerate(sequences):\n",
    "        joblist.append({\n",
    "            \"name\": f\"{dataset_name}_{n}\",\n",
    "            \"modelSeeds\": [\"1\"],\n",
    "            \"sequences\": [{\"proteinChain\": {\"sequence\": seq, \"count\": 1}}]\n",
    "        })\n",
    "\n",
    "        if len(joblist) == batch_size or n == len(sequences) - 1:\n",
    "            filename = os.path.join(batch_dir, f'joblist_{batch_counter}.json')\n",
    "            with open(filename, 'w') as f:\n",
    "                json.dump(joblist, f, indent=4)\n",
    "            print(f\"Batch {batch_counter} created: {filename}\")\n",
    "            joblist, batch_counter = [], batch_counter + 1"
   ]
  },
  {
   "cell_type": "code",
   "execution_count": 5,
   "metadata": {},
   "outputs": [
    {
     "name": "stdout",
     "output_type": "stream",
     "text": [
      "Processing 123 sequences from CASP10...\n",
      "Batch 1 created: ../Data/Input/CASP10_batch/joblist_1.json\n",
      "Batch 2 created: ../Data/Input/CASP10_batch/joblist_2.json\n",
      "Batch 3 created: ../Data/Input/CASP10_batch/joblist_3.json\n",
      "Batch 4 created: ../Data/Input/CASP10_batch/joblist_4.json\n",
      "Batch 5 created: ../Data/Input/CASP10_batch/joblist_5.json\n"
     ]
    }
   ],
   "source": [
    "process_dataset('CASP10', batch_size=30)"
   ]
  },
  {
   "cell_type": "code",
   "execution_count": 6,
   "metadata": {},
   "outputs": [
    {
     "name": "stdout",
     "output_type": "stream",
     "text": [
      "Processing 10 sequences from CASP14...\n",
      "Batch 1 created: ../Data/Input/CASP14_batch/joblist_1.json\n"
     ]
    }
   ],
   "source": [
    "process_dataset('CASP14', batch_size=30)"
   ]
  },
  {
   "cell_type": "code",
   "execution_count": 7,
   "metadata": {},
   "outputs": [
    {
     "name": "stdout",
     "output_type": "stream",
     "text": [
      "Processing 115 sequences from TS115...\n",
      "Batch 1 created: ../Data/Input/TS115_batch/joblist_1.json\n",
      "Batch 2 created: ../Data/Input/TS115_batch/joblist_2.json\n",
      "Batch 3 created: ../Data/Input/TS115_batch/joblist_3.json\n",
      "Batch 4 created: ../Data/Input/TS115_batch/joblist_4.json\n"
     ]
    }
   ],
   "source": [
    "process_dataset('TS115', batch_size=30)"
   ]
  },
  {
   "cell_type": "code",
   "execution_count": 9,
   "metadata": {},
   "outputs": [
    {
     "name": "stdout",
     "output_type": "stream",
     "text": [
      "Processing 21 sequences from CASP12...\n",
      "Batch 1 created: ../Data/Input/CASP12_batch/joblist_1.json\n"
     ]
    }
   ],
   "source": [
    "process_dataset('CASP12', batch_size=30)"
   ]
  }
 ],
 "metadata": {
  "kernelspec": {
   "display_name": "Python 3",
   "language": "python",
   "name": "python3"
  },
  "language_info": {
   "codemirror_mode": {
    "name": "ipython",
    "version": 3
   },
   "file_extension": ".py",
   "mimetype": "text/x-python",
   "name": "python",
   "nbconvert_exporter": "python",
   "pygments_lexer": "ipython3",
   "version": "3.10.12"
  }
 },
 "nbformat": 4,
 "nbformat_minor": 2
}
