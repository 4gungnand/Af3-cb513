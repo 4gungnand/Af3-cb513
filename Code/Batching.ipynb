{
 "cells": [
  {
   "cell_type": "markdown",
   "metadata": {},
   "source": [
    "# CB513 Batching"
   ]
  },
  {
   "cell_type": "code",
   "execution_count": 2,
   "metadata": {},
   "outputs": [],
   "source": [
    "import gzip\n",
    "import numpy as np\n",
    "import json\n",
    "import csv\n",
    "import os\n",
    "\n",
    "directory = '../Data/Preprocessed/'\n",
    "output_path = '../Data/Input/'\n",
    "cb513_path = directory + 'cb513+profile_split1.npy.gz'"
   ]
  },
  {
   "cell_type": "code",
   "execution_count": null,
   "metadata": {},
   "outputs": [],
   "source": [
    "# with open(cb513_path, 'r') as file:\n",
    "#     reader = csv.reader(file)\n",
    "#     for row in reader:\n",
    "#         cb513 = list(reader)\n",
    "\n",
    "# # Extract the sequences from the cb513 dataset\n",
    "# sequences = [row[0] for row in cb513]\n",
    "# print(f\"Number of sequences: {len(sequences)}\")\n",
    "# for i, seq in enumerate(sequences):\n",
    "#     print(f\"Sequence {i}: {seq}\")\n",
    "\n",
    "# # Function to create job lists for AlphaFoldServer (20 sequences per job)\n",
    "# # n from 0-513: 514 sequences\n",
    "# n_end = 513\n",
    "# n_start = 0\n",
    "\n",
    "# def create_joblist_batches(n_start, n_end, batch_size=20):\n",
    "#     joblist = []\n",
    "#     batch_counter = 1\n",
    "#     for n in range(n_start, n_end+1):\n",
    "#         seq = sequences[n]\n",
    "#         job = {\n",
    "#             \"name\": f\"Cb513_{n}\",\n",
    "#             \"modelSeeds\": [\"1\"],\n",
    "#             \"sequences\": [\n",
    "#                 {\n",
    "#                     \"proteinChain\": {\n",
    "#                         \"sequence\": seq,\n",
    "#                         \"count\": 1\n",
    "#                     }\n",
    "#                 }\n",
    "#             ]\n",
    "#         }\n",
    "#         joblist.append(job)\n",
    "        \n",
    "#         if len(joblist) == batch_size or n == n_end:\n",
    "#             filename = output_path + f'cb513_batch/joblist_{batch_counter}.json'\n",
    "#             with open(filename, 'w') as f:\n",
    "#                 json.dump(joblist, f, indent=4)\n",
    "#             print(f\"Joblist batch {batch_counter} created\")\n",
    "#             joblist = []\n",
    "#             batch_counter += 1\n",
    "\n",
    "# create_joblist_batches(n_start, n_end)"
   ]
  },
  {
   "cell_type": "markdown",
   "metadata": {},
   "source": [
    "# TS115 Batching"
   ]
  },
  {
   "cell_type": "code",
   "execution_count": null,
   "metadata": {},
   "outputs": [
    {
     "name": "stdout",
     "output_type": "stream",
     "text": [
      "Number of sequences: 115\n",
      "Sequence 0: 0\n",
      "Sequence 1: 1\n",
      "Sequence 2: 2\n",
      "Sequence 3: 3\n",
      "Sequence 4: 4\n",
      "Sequence 5: 5\n",
      "Sequence 6: 6\n",
      "Sequence 7: 7\n",
      "Sequence 8: 8\n",
      "Sequence 9: 9\n",
      "Sequence 10: 10\n",
      "Sequence 11: 11\n",
      "Sequence 12: 12\n",
      "Sequence 13: 13\n",
      "Sequence 14: 14\n",
      "Sequence 15: 15\n",
      "Sequence 16: 16\n",
      "Sequence 17: 17\n",
      "Sequence 18: 18\n",
      "Sequence 19: 19\n",
      "Sequence 20: 20\n",
      "Sequence 21: 21\n",
      "Sequence 22: 22\n",
      "Sequence 23: 23\n",
      "Sequence 24: 24\n",
      "Sequence 25: 25\n",
      "Sequence 26: 26\n",
      "Sequence 27: 27\n",
      "Sequence 28: 28\n",
      "Sequence 29: 29\n",
      "Sequence 30: 30\n",
      "Sequence 31: 31\n",
      "Sequence 32: 32\n",
      "Sequence 33: 33\n",
      "Sequence 34: 34\n",
      "Sequence 35: 35\n",
      "Sequence 36: 36\n",
      "Sequence 37: 37\n",
      "Sequence 38: 38\n",
      "Sequence 39: 39\n",
      "Sequence 40: 40\n",
      "Sequence 41: 41\n",
      "Sequence 42: 42\n",
      "Sequence 43: 43\n",
      "Sequence 44: 44\n",
      "Sequence 45: 45\n",
      "Sequence 46: 46\n",
      "Sequence 47: 47\n",
      "Sequence 48: 48\n",
      "Sequence 49: 49\n",
      "Sequence 50: 50\n",
      "Sequence 51: 51\n",
      "Sequence 52: 52\n",
      "Sequence 53: 53\n",
      "Sequence 54: 54\n",
      "Sequence 55: 55\n",
      "Sequence 56: 56\n",
      "Sequence 57: 57\n",
      "Sequence 58: 58\n",
      "Sequence 59: 59\n",
      "Sequence 60: 60\n",
      "Sequence 61: 61\n",
      "Sequence 62: 62\n",
      "Sequence 63: 63\n",
      "Sequence 64: 64\n",
      "Sequence 65: 65\n",
      "Sequence 66: 66\n",
      "Sequence 67: 67\n",
      "Sequence 68: 68\n",
      "Sequence 69: 69\n",
      "Sequence 70: 70\n",
      "Sequence 71: 71\n",
      "Sequence 72: 72\n",
      "Sequence 73: 73\n",
      "Sequence 74: 74\n",
      "Sequence 75: 75\n",
      "Sequence 76: 76\n",
      "Sequence 77: 77\n",
      "Sequence 78: 78\n",
      "Sequence 79: 79\n",
      "Sequence 80: 80\n",
      "Sequence 81: 81\n",
      "Sequence 82: 82\n",
      "Sequence 83: 83\n",
      "Sequence 84: 84\n",
      "Sequence 85: 85\n",
      "Sequence 86: 86\n",
      "Sequence 87: 87\n",
      "Sequence 88: 88\n",
      "Sequence 89: 89\n",
      "Sequence 90: 90\n",
      "Sequence 91: 91\n",
      "Sequence 92: 92\n",
      "Sequence 93: 93\n",
      "Sequence 94: 94\n",
      "Sequence 95: 95\n",
      "Sequence 96: 96\n",
      "Sequence 97: 97\n",
      "Sequence 98: 98\n",
      "Sequence 99: 99\n",
      "Sequence 100: 100\n",
      "Sequence 101: 101\n",
      "Sequence 102: 102\n",
      "Sequence 103: 103\n",
      "Sequence 104: 104\n",
      "Sequence 105: 105\n",
      "Sequence 106: 106\n",
      "Sequence 107: 107\n",
      "Sequence 108: 108\n",
      "Sequence 109: 109\n",
      "Sequence 110: 110\n",
      "Sequence 111: 111\n",
      "Sequence 112: 112\n",
      "Sequence 113: 113\n",
      "Sequence 114: 114\n",
      "Joblist batch 1 created\n",
      "Joblist batch 2 created\n",
      "Joblist batch 3 created\n",
      "Joblist batch 4 created\n"
     ]
    }
   ],
   "source": [
    "# # Read the TS115.csv file\n",
    "# ts115_path = directory + 'TS115_preprocessed.csv'\n",
    "\n",
    "# with open(ts115_path, 'r') as file:\n",
    "#     reader = csv.reader(file)\n",
    "#     for row in reader:\n",
    "#         ts115 = list(reader)\n",
    "\n",
    "# # Extract the sequences\n",
    "# sequences = [row[0] for row in ts115]\n",
    "# print(f\"Number of sequences: {len(sequences)}\")\n",
    "# for i, seq in enumerate(sequences):\n",
    "#     print(f\"Sequence {i}: {seq}\")\n",
    "\n",
    "# # Function to create job lists for AlphaFoldServer (30 sequences per job)\n",
    "# # n from 0-114: 115 sequences\n",
    "# n_end = 114\n",
    "# n_start = 0\n",
    "\n",
    "# def create_joblist_batches(n_start, n_end, batch_size=30):\n",
    "#     joblist = []\n",
    "#     batch_counter = 1\n",
    "#     for n in range(n_start, n_end+1):\n",
    "#         seq = sequences[n]\n",
    "#         job = {\n",
    "#             \"name\": f\"ts115_{n}\",\n",
    "#             \"modelSeeds\": [\"1\"],\n",
    "#             \"sequences\": [\n",
    "#                 {\n",
    "#                     \"proteinChain\": {\n",
    "#                         \"sequence\": seq,\n",
    "#                         \"count\": 1\n",
    "#                     }\n",
    "#                 }\n",
    "#             ]\n",
    "#         }\n",
    "#         joblist.append(job)\n",
    "        \n",
    "#         if len(joblist) == batch_size or n == n_end:\n",
    "#             filename = output_path + f'ts115_batch/joblist_{batch_counter}.json'\n",
    "#             with open(filename, 'w') as f:\n",
    "#                 json.dump(joblist, f, indent=4)\n",
    "#             print(f\"Joblist batch {batch_counter} created\")\n",
    "#             joblist = []\n",
    "#             batch_counter += 1\n",
    "\n",
    "# create_joblist_batches(n_start, n_end)"
   ]
  },
  {
   "cell_type": "markdown",
   "metadata": {},
   "source": [
    "# CASP14 Batching"
   ]
  },
  {
   "cell_type": "code",
   "execution_count": 17,
   "metadata": {},
   "outputs": [],
   "source": [
    "def process_dataset(dataset_name, batch_size=30):\n",
    "    # Ensure output directory exists\n",
    "    batch_dir = os.path.join(output_path, f'{dataset_name}_batch/')\n",
    "    os.makedirs(batch_dir, exist_ok=True)\n",
    "\n",
    "    # Read dataset and extract sequences, skipping the header\n",
    "    dataset_path = os.path.join(directory, f'{dataset_name}_preprocessed.csv')\n",
    "    with open(dataset_path, 'r') as file:\n",
    "        reader = csv.reader(file)\n",
    "        next(reader, None)  # Skip the header\n",
    "        sequences = [row[2] for row in reader]  # Sequence is in the third column\n",
    "\n",
    "    print(f\"Processing {len(sequences)} sequences from {dataset_name}...\")\n",
    "\n",
    "    # Create job lists in batches\n",
    "    joblist, batch_counter = [], 1\n",
    "    for n, seq in enumerate(sequences):\n",
    "        joblist.append({\n",
    "            \"name\": f\"{dataset_name}_{n}\",\n",
    "            \"modelSeeds\": [\"1\"],\n",
    "            \"sequences\": [{\"proteinChain\": {\"sequence\": seq, \"count\": 1}}]\n",
    "        })\n",
    "\n",
    "        if len(joblist) == batch_size or n == len(sequences) - 1:\n",
    "            filename = os.path.join(batch_dir, f'joblist_{batch_counter}.json')\n",
    "            with open(filename, 'w') as f:\n",
    "                json.dump(joblist, f, indent=4)\n",
    "            print(f\"Batch {batch_counter} created: {filename}\")\n",
    "            joblist, batch_counter = [], batch_counter + 1"
   ]
  },
  {
   "cell_type": "markdown",
   "metadata": {},
   "source": [
    "# CASP10 Batching"
   ]
  },
  {
   "cell_type": "code",
   "execution_count": 18,
   "metadata": {},
   "outputs": [
    {
     "name": "stdout",
     "output_type": "stream",
     "text": [
      "Processing 123 sequences from CASP10...\n",
      "Batch 1 created: ../Data/Input/CASP10_batch/joblist_1.json\n",
      "Batch 2 created: ../Data/Input/CASP10_batch/joblist_2.json\n",
      "Batch 3 created: ../Data/Input/CASP10_batch/joblist_3.json\n",
      "Batch 4 created: ../Data/Input/CASP10_batch/joblist_4.json\n",
      "Batch 5 created: ../Data/Input/CASP10_batch/joblist_5.json\n"
     ]
    }
   ],
   "source": [
    "process_dataset('CASP10', batch_size=30)"
   ]
  },
  {
   "cell_type": "code",
   "execution_count": 19,
   "metadata": {},
   "outputs": [
    {
     "name": "stdout",
     "output_type": "stream",
     "text": [
      "Processing 10 sequences from CASP14...\n",
      "Batch 1 created: ../Data/Input/CASP14_batch/joblist_1.json\n"
     ]
    }
   ],
   "source": [
    "process_dataset('CASP14', batch_size=30)"
   ]
  },
  {
   "cell_type": "code",
   "execution_count": 20,
   "metadata": {},
   "outputs": [
    {
     "name": "stdout",
     "output_type": "stream",
     "text": [
      "Processing 115 sequences from TS115...\n",
      "Batch 1 created: ../Data/Input/TS115_batch/joblist_1.json\n",
      "Batch 2 created: ../Data/Input/TS115_batch/joblist_2.json\n",
      "Batch 3 created: ../Data/Input/TS115_batch/joblist_3.json\n",
      "Batch 4 created: ../Data/Input/TS115_batch/joblist_4.json\n"
     ]
    }
   ],
   "source": [
    "process_dataset('TS115', batch_size=30)"
   ]
  }
 ],
 "metadata": {
  "kernelspec": {
   "display_name": "base",
   "language": "python",
   "name": "python3"
  },
  "language_info": {
   "codemirror_mode": {
    "name": "ipython",
    "version": 3
   },
   "file_extension": ".py",
   "mimetype": "text/x-python",
   "name": "python",
   "nbconvert_exporter": "python",
   "pygments_lexer": "ipython3",
   "version": "3.12.7"
  }
 },
 "nbformat": 4,
 "nbformat_minor": 2
}
