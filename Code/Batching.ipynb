{
 "cells": [
  {
   "cell_type": "markdown",
   "metadata": {},
   "source": [
    "# CB513 Batching"
   ]
  },
  {
   "cell_type": "code",
   "execution_count": 1,
   "metadata": {},
   "outputs": [],
   "source": [
    "import gzip\n",
    "import numpy as np\n",
    "import json\n",
    "import csv\n",
    "import os\n",
    "\n",
    "directory = '../Data/Preprocessed/'\n",
    "output_path = '../Data/Input/'\n",
    "cb513_path = directory + 'cb513+profile_split1.npy.gz'"
   ]
  },
  {
   "cell_type": "markdown",
   "metadata": {},
   "source": [
    "# Batching Function for all"
   ]
  },
  {
   "cell_type": "code",
   "execution_count": 2,
   "metadata": {},
   "outputs": [],
   "source": [
    "def process_dataset(dataset_name, batch_size=30):\n",
    "    # Ensure output directory exists\n",
    "    batch_dir = os.path.join(output_path, f'{dataset_name}_batch/')\n",
    "    os.makedirs(batch_dir, exist_ok=True)\n",
    "\n",
    "    # Read dataset and extract sequences, skipping the header\n",
    "    dataset_path = os.path.join(directory, f'{dataset_name}_preprocessed.csv')\n",
    "    with open(dataset_path, 'r') as file:\n",
    "        reader = csv.reader(file)\n",
    "        next(reader, None)  # Skip the header\n",
    "        sequences = [row[2]\n",
    "                     for row in reader]  # Sequence is in the third column\n",
    "\n",
    "    print(f\"Processing {len(sequences)} sequences from {dataset_name}...\")\n",
    "\n",
    "    # Create job lists in batches\n",
    "    joblist, batch_counter = [], 1\n",
    "    for n, seq in enumerate(sequences):\n",
    "        joblist.append({\n",
    "            \"name\":\n",
    "            f\"{dataset_name}_{n}\", # None for the first edition\n",
    "            \"modelSeeds\": [1], # Parameter 1 yang diubah\n",
    "            \"sequences\": [{\n",
    "                \"proteinChain\": {\n",
    "                    \"sequence\": seq,\n",
    "                    \"count\": 1,\n",
    "                }\n",
    "            }],\n",
    "        })\n",
    "\n",
    "        if len(joblist) == batch_size or n == len(sequences) - 1:\n",
    "            filename = os.path.join(batch_dir, f'joblist_{batch_counter}.json')\n",
    "            with open(filename, 'w') as f:\n",
    "                json.dump(joblist, f, indent=4)\n",
    "            print(f\"Batch {batch_counter} created: {filename}\")\n",
    "            joblist, batch_counter = [], batch_counter + 1"
   ]
  },
  {
   "cell_type": "code",
   "execution_count": 3,
   "metadata": {},
   "outputs": [
    {
     "name": "stdout",
     "output_type": "stream",
     "text": [
      "Processing 123 sequences from CASP10...\n",
      "Batch 1 created: ../Data/Input/CASP10_batch/joblist_1.json\n",
      "Batch 2 created: ../Data/Input/CASP10_batch/joblist_2.json\n",
      "Batch 3 created: ../Data/Input/CASP10_batch/joblist_3.json\n",
      "Batch 4 created: ../Data/Input/CASP10_batch/joblist_4.json\n",
      "Batch 5 created: ../Data/Input/CASP10_batch/joblist_5.json\n"
     ]
    }
   ],
   "source": [
    "process_dataset('CASP10', batch_size=30)"
   ]
  },
  {
   "cell_type": "code",
   "execution_count": 4,
   "metadata": {},
   "outputs": [
    {
     "name": "stdout",
     "output_type": "stream",
     "text": [
      "Processing 10 sequences from CASP14...\n",
      "Batch 1 created: ../Data/Input/CASP14_batch/joblist_1.json\n"
     ]
    }
   ],
   "source": [
    "process_dataset('CASP14', batch_size=30)"
   ]
  },
  {
   "cell_type": "code",
   "execution_count": 5,
   "metadata": {},
   "outputs": [
    {
     "name": "stdout",
     "output_type": "stream",
     "text": [
      "Processing 115 sequences from TS115...\n",
      "Batch 1 created: ../Data/Input/TS115_batch/joblist_1.json\n",
      "Batch 2 created: ../Data/Input/TS115_batch/joblist_2.json\n",
      "Batch 3 created: ../Data/Input/TS115_batch/joblist_3.json\n",
      "Batch 4 created: ../Data/Input/TS115_batch/joblist_4.json\n"
     ]
    }
   ],
   "source": [
    "process_dataset('TS115', batch_size=30)"
   ]
  },
  {
   "cell_type": "code",
   "execution_count": 6,
   "metadata": {},
   "outputs": [
    {
     "name": "stdout",
     "output_type": "stream",
     "text": [
      "Processing 21 sequences from CASP12...\n",
      "Batch 1 created: ../Data/Input/CASP12_batch/joblist_1.json\n"
     ]
    }
   ],
   "source": [
    "process_dataset('CASP12', batch_size=30)"
   ]
  },
  {
   "cell_type": "code",
   "execution_count": 8,
   "metadata": {},
   "outputs": [
    {
     "name": "stdout",
     "output_type": "stream",
     "text": [
      "Processing 514 sequences from CB513...\n",
      "Batch 1 created: ../Data/Input/CB513_batch/joblist_1.json\n",
      "Batch 2 created: ../Data/Input/CB513_batch/joblist_2.json\n",
      "Batch 3 created: ../Data/Input/CB513_batch/joblist_3.json\n",
      "Batch 4 created: ../Data/Input/CB513_batch/joblist_4.json\n",
      "Batch 5 created: ../Data/Input/CB513_batch/joblist_5.json\n",
      "Batch 6 created: ../Data/Input/CB513_batch/joblist_6.json\n",
      "Batch 7 created: ../Data/Input/CB513_batch/joblist_7.json\n",
      "Batch 8 created: ../Data/Input/CB513_batch/joblist_8.json\n",
      "Batch 9 created: ../Data/Input/CB513_batch/joblist_9.json\n",
      "Batch 10 created: ../Data/Input/CB513_batch/joblist_10.json\n",
      "Batch 11 created: ../Data/Input/CB513_batch/joblist_11.json\n",
      "Batch 12 created: ../Data/Input/CB513_batch/joblist_12.json\n",
      "Batch 13 created: ../Data/Input/CB513_batch/joblist_13.json\n",
      "Batch 14 created: ../Data/Input/CB513_batch/joblist_14.json\n",
      "Batch 15 created: ../Data/Input/CB513_batch/joblist_15.json\n",
      "Batch 16 created: ../Data/Input/CB513_batch/joblist_16.json\n",
      "Batch 17 created: ../Data/Input/CB513_batch/joblist_17.json\n",
      "Batch 18 created: ../Data/Input/CB513_batch/joblist_18.json\n",
      "Batch 19 created: ../Data/Input/CB513_batch/joblist_19.json\n",
      "Batch 20 created: ../Data/Input/CB513_batch/joblist_20.json\n",
      "Batch 21 created: ../Data/Input/CB513_batch/joblist_21.json\n",
      "Batch 22 created: ../Data/Input/CB513_batch/joblist_22.json\n",
      "Batch 23 created: ../Data/Input/CB513_batch/joblist_23.json\n",
      "Batch 24 created: ../Data/Input/CB513_batch/joblist_24.json\n",
      "Batch 25 created: ../Data/Input/CB513_batch/joblist_25.json\n",
      "Batch 26 created: ../Data/Input/CB513_batch/joblist_26.json\n"
     ]
    }
   ],
   "source": [
    "process_dataset('CB513', batch_size=20)"
   ]
  },
  {
   "cell_type": "code",
   "execution_count": 11,
   "metadata": {},
   "outputs": [],
   "source": [
    "def process_dataset(dataset_name, batch_size=30):\n",
    "    # Ensure output directory exists\n",
    "    batch_dir = os.path.join(output_path, f'{dataset_name}_2_batch/') # _2 for the edited version\n",
    "    os.makedirs(batch_dir, exist_ok=True)\n",
    "\n",
    "    # Read dataset and extract sequences, skipping the header\n",
    "    dataset_path = os.path.join(directory, f'{dataset_name}_preprocessed.csv') # read the original casp12 dataset\n",
    "    with open(dataset_path, 'r') as file:\n",
    "        reader = csv.reader(file)\n",
    "        next(reader, None)  # Skip the header\n",
    "        sequences = [row[2]\n",
    "                     for row in reader]  # Sequence is in the third column\n",
    "\n",
    "    print(f\"Processing {len(sequences)} sequences from {dataset_name}...\")\n",
    "\n",
    "    # Create job lists in batches\n",
    "    joblist, batch_counter = [], 1\n",
    "    for n, seq in enumerate(sequences):\n",
    "        joblist.append({\n",
    "            \"name\":\n",
    "            f\"{dataset_name}_{n}_2\", # _2 for the edited version\n",
    "            \"modelSeeds\": [1], # Parameter 1 yang diubah\n",
    "            \"sequences\": [{\n",
    "                \"proteinChain\": {\n",
    "                    \"sequence\": seq,\n",
    "                    \"count\": 1,\n",
    "                    \"maxTemplateDate\": \"2025-02-03\", # Parameter 2 yang diubah\n",
    "                }\n",
    "            }],\n",
    "            \"dialect\": \"alphafoldserver\",\n",
    "            \"version\": 1,\n",
    "        })\n",
    "\n",
    "        if len(joblist) == batch_size or n == len(sequences) - 1:\n",
    "            filename = os.path.join(batch_dir, f'joblist_{batch_counter}.json')\n",
    "            with open(filename, 'w') as f:\n",
    "                json.dump(joblist, f, indent=4)\n",
    "            print(f\"Batch {batch_counter} created: {filename}\")\n",
    "            joblist, batch_counter = [], batch_counter + 1"
   ]
  },
  {
   "cell_type": "code",
   "execution_count": 12,
   "metadata": {},
   "outputs": [
    {
     "name": "stdout",
     "output_type": "stream",
     "text": [
      "Processing 21 sequences from CASP12...\n",
      "Batch 1 created: ../Data/Input/CASP12_2_batch/joblist_1.json\n"
     ]
    }
   ],
   "source": [
    "process_dataset('CASP12', batch_size=30)"
   ]
  }
 ],
 "metadata": {
  "kernelspec": {
   "display_name": "Python 3",
   "language": "python",
   "name": "python3"
  },
  "language_info": {
   "codemirror_mode": {
    "name": "ipython",
    "version": 3
   },
   "file_extension": ".py",
   "mimetype": "text/x-python",
   "name": "python",
   "nbconvert_exporter": "python",
   "pygments_lexer": "ipython3",
   "version": "3.10.12"
  }
 },
 "nbformat": 4,
 "nbformat_minor": 2
}
