{
 "cells": [
  {
   "cell_type": "markdown",
   "metadata": {},
   "source": [
    "# Import Required Libraries\n",
    "Import necessary libraries, including gzip and numpy."
   ]
  },
  {
   "cell_type": "code",
   "execution_count": null,
   "metadata": {},
   "outputs": [],
   "source": [
    "# Import necessary libraries\n",
    "import gzip\n",
    "import numpy as np\n",
    "import matplotlib.pyplot as plt"
   ]
  },
  {
   "cell_type": "markdown",
   "metadata": {},
   "source": [
    "# Load Data from Files\n",
    "Load the cb513_sequence and cb513_testlabel data from the compressed numpy files using gzip."
   ]
  },
  {
   "cell_type": "code",
   "execution_count": null,
   "metadata": {},
   "outputs": [
    {
     "name": "stderr",
     "output_type": "stream",
     "text": [
      "/tmp/ipykernel_14637/700600711.py:5: UserWarning: Reading `.npy` or `.npz` file required additional header parsing as it was created on Python 2. Save the file again to speed up loading and avoid this warning.\n",
      "  cb513 = np.load(f)\n"
     ]
    }
   ],
   "source": [
    "# Load cb513 data from compressed numpy file\n",
    "f = gzip.GzipFile('../Data/Original/cb513+profile_split1.npy.gz', \"r\")\n",
    "cb513 = np.load(f)\n",
    "f.close()"
   ]
  },
  {
   "cell_type": "code",
   "execution_count": 3,
   "metadata": {},
   "outputs": [
    {
     "name": "stdout",
     "output_type": "stream",
     "text": [
      "(514, 39900)\n"
     ]
    }
   ],
   "source": [
    "print(cb513.shape)"
   ]
  },
  {
   "cell_type": "code",
   "execution_count": 4,
   "metadata": {},
   "outputs": [
    {
     "name": "stdout",
     "output_type": "stream",
     "text": [
      "(514, 700, 57)\n"
     ]
    }
   ],
   "source": [
    "# convert all to 700 x 57\n",
    "cb513_reshaped = cb513.reshape((514, 700, 57))\n",
    "print(cb513_reshaped.shape)"
   ]
  },
  {
   "cell_type": "code",
   "execution_count": 5,
   "metadata": {},
   "outputs": [
    {
     "name": "stdout",
     "output_type": "stream",
     "text": [
      "[[0.         0.         0.         ... 0.26894142 0.9234378  0.        ]\n",
      " [0.         0.         0.         ... 0.11920292 0.00919371 0.        ]\n",
      " [0.         0.         0.         ... 0.5        0.02508696 0.        ]\n",
      " ...\n",
      " [0.         0.         0.         ... 0.         0.         1.        ]\n",
      " [0.         0.         0.         ... 0.         0.         1.        ]\n",
      " [0.         0.         0.         ... 0.         0.         1.        ]]\n",
      "(700, 57)\n"
     ]
    }
   ],
   "source": [
    "# visualize the reshaped data\n",
    "print(cb513_reshaped[0])\n",
    "print(cb513_reshaped[0].shape)"
   ]
  },
  {
   "cell_type": "code",
   "execution_count": 6,
   "metadata": {},
   "outputs": [],
   "source": [
    "# for the first protein print separated features and labels\n",
    "'''The 57 features are:\n",
    "[0,22): amino acid residues, with the order of 'A', 'C', 'E', 'D', 'G', 'F', 'I', 'H', 'K', 'M', 'L', 'N', 'Q', 'P', 'S', 'R', 'T', 'W', 'V', 'Y', 'X', 'NoSeq'\n",
    "[22,31): Secondary structure labels, with the sequence of 'L', 'B', 'E', 'G', 'I', 'H', 'S', 'T', 'NoSeq'\n",
    "[31,33): N- and C- terminals;\n",
    "[33,35): relative and absolute solvent accessibility, used only for training. (absolute accessibility is thresholded at 15; relative accessibility is normalized by the largest accessibility value in a protein and thresholded at 0.15; original solvent accessibility is computed by DSSP)\n",
    "[35,57): sequence profile. Note the order of amino acid residues is ACDEFGHIKLMNPQRSTVWXY and it is different from the order for amino acid residues\n",
    "'''\n",
    "# first protein = p\n",
    "p = cb513_reshaped[0]"
   ]
  },
  {
   "cell_type": "code",
   "execution_count": null,
   "metadata": {},
   "outputs": [
    {
     "name": "stdout",
     "output_type": "stream",
     "text": [
      "[[0. 0. 0. ... 0. 0. 0.]\n",
      " [0. 0. 0. ... 0. 0. 0.]\n",
      " [0. 0. 0. ... 0. 0. 0.]\n",
      " ...\n",
      " [0. 0. 0. ... 0. 0. 1.]\n",
      " [0. 0. 0. ... 0. 0. 1.]\n",
      " [0. 0. 0. ... 0. 0. 1.]]\n",
      "(700, 22)\n",
      "[18 13 14 10  0 16  6 14 10  2 11 14 17 14  4 10 14  8 12  6 12 10  0 12\n",
      "  4 11 11  4  6  5 15 16 13  6 18 10 18  3 11  8  4 11 15 18 12  6 16 11\n",
      " 18 16 14  8 18 18 16 14 11  6 12 10 10 10 11 16 15 11  6 21 21 21 21 21\n",
      " 21 21 21 21 21 21 21 21 21 21 21 21 21 21 21 21 21 21 21 21 21 21 21 21\n",
      " 21 21 21 21 21 21 21 21 21 21 21 21 21 21 21 21 21 21 21 21 21 21 21 21\n",
      " 21 21 21 21 21 21 21 21 21 21 21 21 21 21 21 21 21 21 21 21 21 21 21 21\n",
      " 21 21 21 21 21 21 21 21 21 21 21 21 21 21 21 21 21 21 21 21 21 21 21 21\n",
      " 21 21 21 21 21 21 21 21 21 21 21 21 21 21 21 21 21 21 21 21 21 21 21 21\n",
      " 21 21 21 21 21 21 21 21 21 21 21 21 21 21 21 21 21 21 21 21 21 21 21 21\n",
      " 21 21 21 21 21 21 21 21 21 21 21 21 21 21 21 21 21 21 21 21 21 21 21 21\n",
      " 21 21 21 21 21 21 21 21 21 21 21 21 21 21 21 21 21 21 21 21 21 21 21 21\n",
      " 21 21 21 21 21 21 21 21 21 21 21 21 21 21 21 21 21 21 21 21 21 21 21 21\n",
      " 21 21 21 21 21 21 21 21 21 21 21 21 21 21 21 21 21 21 21 21 21 21 21 21\n",
      " 21 21 21 21 21 21 21 21 21 21 21 21 21 21 21 21 21 21 21 21 21 21 21 21\n",
      " 21 21 21 21 21 21 21 21 21 21 21 21 21 21 21 21 21 21 21 21 21 21 21 21\n",
      " 21 21 21 21 21 21 21 21 21 21 21 21 21 21 21 21 21 21 21 21 21 21 21 21\n",
      " 21 21 21 21 21 21 21 21 21 21 21 21 21 21 21 21 21 21 21 21 21 21 21 21\n",
      " 21 21 21 21 21 21 21 21 21 21 21 21 21 21 21 21 21 21 21 21 21 21 21 21\n",
      " 21 21 21 21 21 21 21 21 21 21 21 21 21 21 21 21 21 21 21 21 21 21 21 21\n",
      " 21 21 21 21 21 21 21 21 21 21 21 21 21 21 21 21 21 21 21 21 21 21 21 21\n",
      " 21 21 21 21 21 21 21 21 21 21 21 21 21 21 21 21 21 21 21 21 21 21 21 21\n",
      " 21 21 21 21 21 21 21 21 21 21 21 21 21 21 21 21 21 21 21 21 21 21 21 21\n",
      " 21 21 21 21 21 21 21 21 21 21 21 21 21 21 21 21 21 21 21 21 21 21 21 21\n",
      " 21 21 21 21 21 21 21 21 21 21 21 21 21 21 21 21 21 21 21 21 21 21 21 21\n",
      " 21 21 21 21 21 21 21 21 21 21 21 21 21 21 21 21 21 21 21 21 21 21 21 21\n",
      " 21 21 21 21 21 21 21 21 21 21 21 21 21 21 21 21 21 21 21 21 21 21 21 21\n",
      " 21 21 21 21 21 21 21 21 21 21 21 21 21 21 21 21 21 21 21 21 21 21 21 21\n",
      " 21 21 21 21 21 21 21 21 21 21 21 21 21 21 21 21 21 21 21 21 21 21 21 21\n",
      " 21 21 21 21 21 21 21 21 21 21 21 21 21 21 21 21 21 21 21 21 21 21 21 21\n",
      " 21 21 21 21]\n"
     ]
    }
   ],
   "source": [
    "# crop the array for amino acid residues\n",
    "aa_residues = p[:, 0:22]\n",
    "print(aa_residues)\n",
    "print(aa_residues.shape)\n",
    "print(np.argmax(aa_residues, axis=1))"
   ]
  },
  {
   "cell_type": "code",
   "execution_count": 8,
   "metadata": {},
   "outputs": [
    {
     "name": "stdout",
     "output_type": "stream",
     "text": [
      "[[1. 0. 0. ... 0. 0. 0.]\n",
      " [1. 0. 0. ... 0. 0. 0.]\n",
      " [1. 0. 0. ... 0. 0. 0.]\n",
      " ...\n",
      " [0. 0. 0. ... 0. 0. 1.]\n",
      " [0. 0. 0. ... 0. 0. 1.]\n",
      " [0. 0. 0. ... 0. 0. 1.]]\n",
      "(700, 9)\n",
      "[0 0 0 5 5 5 5 5 5 5 5 5 5 5 5 5 5 5 5 5 5 5 5 7 7 7 7 7 2 2 2 2 2 2 2 2 0\n",
      " 0 6 6 6 6 0 2 2 2 2 2 7 7 6 5 5 5 5 5 7 1 0 0 1 0 0 3 3 3 0 8 8 8 8 8 8 8\n",
      " 8 8 8 8 8 8 8 8 8 8 8 8 8 8 8 8 8 8 8 8 8 8 8 8 8 8 8 8 8 8 8 8 8 8 8 8 8\n",
      " 8 8 8 8 8 8 8 8 8 8 8 8 8 8 8 8 8 8 8 8 8 8 8 8 8 8 8 8 8 8 8 8 8 8 8 8 8\n",
      " 8 8 8 8 8 8 8 8 8 8 8 8 8 8 8 8 8 8 8 8 8 8 8 8 8 8 8 8 8 8 8 8 8 8 8 8 8\n",
      " 8 8 8 8 8 8 8 8 8 8 8 8 8 8 8 8 8 8 8 8 8 8 8 8 8 8 8 8 8 8 8 8 8 8 8 8 8\n",
      " 8 8 8 8 8 8 8 8 8 8 8 8 8 8 8 8 8 8 8 8 8 8 8 8 8 8 8 8 8 8 8 8 8 8 8 8 8\n",
      " 8 8 8 8 8 8 8 8 8 8 8 8 8 8 8 8 8 8 8 8 8 8 8 8 8 8 8 8 8 8 8 8 8 8 8 8 8\n",
      " 8 8 8 8 8 8 8 8 8 8 8 8 8 8 8 8 8 8 8 8 8 8 8 8 8 8 8 8 8 8 8 8 8 8 8 8 8\n",
      " 8 8 8 8 8 8 8 8 8 8 8 8 8 8 8 8 8 8 8 8 8 8 8 8 8 8 8 8 8 8 8 8 8 8 8 8 8\n",
      " 8 8 8 8 8 8 8 8 8 8 8 8 8 8 8 8 8 8 8 8 8 8 8 8 8 8 8 8 8 8 8 8 8 8 8 8 8\n",
      " 8 8 8 8 8 8 8 8 8 8 8 8 8 8 8 8 8 8 8 8 8 8 8 8 8 8 8 8 8 8 8 8 8 8 8 8 8\n",
      " 8 8 8 8 8 8 8 8 8 8 8 8 8 8 8 8 8 8 8 8 8 8 8 8 8 8 8 8 8 8 8 8 8 8 8 8 8\n",
      " 8 8 8 8 8 8 8 8 8 8 8 8 8 8 8 8 8 8 8 8 8 8 8 8 8 8 8 8 8 8 8 8 8 8 8 8 8\n",
      " 8 8 8 8 8 8 8 8 8 8 8 8 8 8 8 8 8 8 8 8 8 8 8 8 8 8 8 8 8 8 8 8 8 8 8 8 8\n",
      " 8 8 8 8 8 8 8 8 8 8 8 8 8 8 8 8 8 8 8 8 8 8 8 8 8 8 8 8 8 8 8 8 8 8 8 8 8\n",
      " 8 8 8 8 8 8 8 8 8 8 8 8 8 8 8 8 8 8 8 8 8 8 8 8 8 8 8 8 8 8 8 8 8 8 8 8 8\n",
      " 8 8 8 8 8 8 8 8 8 8 8 8 8 8 8 8 8 8 8 8 8 8 8 8 8 8 8 8 8 8 8 8 8 8 8 8 8\n",
      " 8 8 8 8 8 8 8 8 8 8 8 8 8 8 8 8 8 8 8 8 8 8 8 8 8 8 8 8 8 8 8 8 8 8]\n"
     ]
    }
   ],
   "source": [
    "# crop the array for secondary structure labels\n",
    "sec_structure = p[:, 22:31]\n",
    "print(sec_structure)\n",
    "print(sec_structure.shape)\n",
    "print(np.argmax(sec_structure, axis=1))"
   ]
  },
  {
   "cell_type": "code",
   "execution_count": 10,
   "metadata": {},
   "outputs": [
    {
     "name": "stdout",
     "output_type": "stream",
     "text": [
      "[[1. 0.]\n",
      " [0. 0.]\n",
      " [0. 0.]\n",
      " ...\n",
      " [0. 0.]\n",
      " [0. 0.]\n",
      " [0. 0.]]\n",
      "(700, 2)\n",
      "[0 0 0 0 0 0 0 0 0 0 0 0 0 0 0 0 0 0 0 0 0 0 0 0 0 0 0 0 0 0 0 0 0 0 0 0 0\n",
      " 0 0 0 0 0 0 0 0 0 0 0 0 0 0 0 0 0 0 0 0 0 0 0 0 0 0 0 0 0 1 0 0 0 0 0 0 0\n",
      " 0 0 0 0 0 0 0 0 0 0 0 0 0 0 0 0 0 0 0 0 0 0 0 0 0 0 0 0 0 0 0 0 0 0 0 0 0\n",
      " 0 0 0 0 0 0 0 0 0 0 0 0 0 0 0 0 0 0 0 0 0 0 0 0 0 0 0 0 0 0 0 0 0 0 0 0 0\n",
      " 0 0 0 0 0 0 0 0 0 0 0 0 0 0 0 0 0 0 0 0 0 0 0 0 0 0 0 0 0 0 0 0 0 0 0 0 0\n",
      " 0 0 0 0 0 0 0 0 0 0 0 0 0 0 0 0 0 0 0 0 0 0 0 0 0 0 0 0 0 0 0 0 0 0 0 0 0\n",
      " 0 0 0 0 0 0 0 0 0 0 0 0 0 0 0 0 0 0 0 0 0 0 0 0 0 0 0 0 0 0 0 0 0 0 0 0 0\n",
      " 0 0 0 0 0 0 0 0 0 0 0 0 0 0 0 0 0 0 0 0 0 0 0 0 0 0 0 0 0 0 0 0 0 0 0 0 0\n",
      " 0 0 0 0 0 0 0 0 0 0 0 0 0 0 0 0 0 0 0 0 0 0 0 0 0 0 0 0 0 0 0 0 0 0 0 0 0\n",
      " 0 0 0 0 0 0 0 0 0 0 0 0 0 0 0 0 0 0 0 0 0 0 0 0 0 0 0 0 0 0 0 0 0 0 0 0 0\n",
      " 0 0 0 0 0 0 0 0 0 0 0 0 0 0 0 0 0 0 0 0 0 0 0 0 0 0 0 0 0 0 0 0 0 0 0 0 0\n",
      " 0 0 0 0 0 0 0 0 0 0 0 0 0 0 0 0 0 0 0 0 0 0 0 0 0 0 0 0 0 0 0 0 0 0 0 0 0\n",
      " 0 0 0 0 0 0 0 0 0 0 0 0 0 0 0 0 0 0 0 0 0 0 0 0 0 0 0 0 0 0 0 0 0 0 0 0 0\n",
      " 0 0 0 0 0 0 0 0 0 0 0 0 0 0 0 0 0 0 0 0 0 0 0 0 0 0 0 0 0 0 0 0 0 0 0 0 0\n",
      " 0 0 0 0 0 0 0 0 0 0 0 0 0 0 0 0 0 0 0 0 0 0 0 0 0 0 0 0 0 0 0 0 0 0 0 0 0\n",
      " 0 0 0 0 0 0 0 0 0 0 0 0 0 0 0 0 0 0 0 0 0 0 0 0 0 0 0 0 0 0 0 0 0 0 0 0 0\n",
      " 0 0 0 0 0 0 0 0 0 0 0 0 0 0 0 0 0 0 0 0 0 0 0 0 0 0 0 0 0 0 0 0 0 0 0 0 0\n",
      " 0 0 0 0 0 0 0 0 0 0 0 0 0 0 0 0 0 0 0 0 0 0 0 0 0 0 0 0 0 0 0 0 0 0 0 0 0\n",
      " 0 0 0 0 0 0 0 0 0 0 0 0 0 0 0 0 0 0 0 0 0 0 0 0 0 0 0 0 0 0 0 0 0 0]\n"
     ]
    }
   ],
   "source": [
    "# crop the array for N- and C- terminals\n",
    "terminals = p[:, 31:33]\n",
    "print(terminals)\n",
    "print(terminals.shape)\n",
    "print(np.argmax(terminals, axis=1))"
   ]
  },
  {
   "cell_type": "code",
   "execution_count": 11,
   "metadata": {},
   "outputs": [
    {
     "name": "stdout",
     "output_type": "stream",
     "text": [
      "[[0. 0.]\n",
      " [0. 0.]\n",
      " [0. 0.]\n",
      " ...\n",
      " [0. 0.]\n",
      " [0. 0.]\n",
      " [0. 0.]]\n",
      "(700, 2)\n"
     ]
    }
   ],
   "source": [
    "# crop the array for relative and absolute solvent accessibility\n",
    "solvent_accessibility = p[:, 33:35]\n",
    "print(solvent_accessibility)\n",
    "print(solvent_accessibility.shape)"
   ]
  },
  {
   "cell_type": "code",
   "execution_count": 12,
   "metadata": {},
   "outputs": [
    {
     "name": "stdout",
     "output_type": "stream",
     "text": [
      "[[0.21416502 0.17079548 0.02297737 ... 0.26894142 0.9234378  0.        ]\n",
      " [0.0831727  0.01045671 0.04228977 ... 0.11920292 0.00919371 0.        ]\n",
      " [0.34751054 0.0253327  0.9945137  ... 0.5        0.02508696 0.        ]\n",
      " ...\n",
      " [0.         0.         0.         ... 0.         0.         1.        ]\n",
      " [0.         0.         0.         ... 0.         0.         1.        ]\n",
      " [0.         0.         0.         ... 0.         0.         1.        ]]\n",
      "(700, 22)\n",
      "[ 9 12  2 12  0 10  7 15  9  3 11 11 18  5  8  9 15  8 13  7 13 14  0 13\n",
      " 15 11 13  5 17  4 12 11 12 17 13  9 13 11  3 11  5  3 12 18  7 17  2 11\n",
      " 17  2  6 12 17 17 16 16 11  7  0  9 10  9 20 14  1 11  7 21 21 21 21 21\n",
      " 21 21 21 21 21 21 21 21 21 21 21 21 21 21 21 21 21 21 21 21 21 21 21 21\n",
      " 21 21 21 21 21 21 21 21 21 21 21 21 21 21 21 21 21 21 21 21 21 21 21 21\n",
      " 21 21 21 21 21 21 21 21 21 21 21 21 21 21 21 21 21 21 21 21 21 21 21 21\n",
      " 21 21 21 21 21 21 21 21 21 21 21 21 21 21 21 21 21 21 21 21 21 21 21 21\n",
      " 21 21 21 21 21 21 21 21 21 21 21 21 21 21 21 21 21 21 21 21 21 21 21 21\n",
      " 21 21 21 21 21 21 21 21 21 21 21 21 21 21 21 21 21 21 21 21 21 21 21 21\n",
      " 21 21 21 21 21 21 21 21 21 21 21 21 21 21 21 21 21 21 21 21 21 21 21 21\n",
      " 21 21 21 21 21 21 21 21 21 21 21 21 21 21 21 21 21 21 21 21 21 21 21 21\n",
      " 21 21 21 21 21 21 21 21 21 21 21 21 21 21 21 21 21 21 21 21 21 21 21 21\n",
      " 21 21 21 21 21 21 21 21 21 21 21 21 21 21 21 21 21 21 21 21 21 21 21 21\n",
      " 21 21 21 21 21 21 21 21 21 21 21 21 21 21 21 21 21 21 21 21 21 21 21 21\n",
      " 21 21 21 21 21 21 21 21 21 21 21 21 21 21 21 21 21 21 21 21 21 21 21 21\n",
      " 21 21 21 21 21 21 21 21 21 21 21 21 21 21 21 21 21 21 21 21 21 21 21 21\n",
      " 21 21 21 21 21 21 21 21 21 21 21 21 21 21 21 21 21 21 21 21 21 21 21 21\n",
      " 21 21 21 21 21 21 21 21 21 21 21 21 21 21 21 21 21 21 21 21 21 21 21 21\n",
      " 21 21 21 21 21 21 21 21 21 21 21 21 21 21 21 21 21 21 21 21 21 21 21 21\n",
      " 21 21 21 21 21 21 21 21 21 21 21 21 21 21 21 21 21 21 21 21 21 21 21 21\n",
      " 21 21 21 21 21 21 21 21 21 21 21 21 21 21 21 21 21 21 21 21 21 21 21 21\n",
      " 21 21 21 21 21 21 21 21 21 21 21 21 21 21 21 21 21 21 21 21 21 21 21 21\n",
      " 21 21 21 21 21 21 21 21 21 21 21 21 21 21 21 21 21 21 21 21 21 21 21 21\n",
      " 21 21 21 21 21 21 21 21 21 21 21 21 21 21 21 21 21 21 21 21 21 21 21 21\n",
      " 21 21 21 21 21 21 21 21 21 21 21 21 21 21 21 21 21 21 21 21 21 21 21 21\n",
      " 21 21 21 21 21 21 21 21 21 21 21 21 21 21 21 21 21 21 21 21 21 21 21 21\n",
      " 21 21 21 21 21 21 21 21 21 21 21 21 21 21 21 21 21 21 21 21 21 21 21 21\n",
      " 21 21 21 21 21 21 21 21 21 21 21 21 21 21 21 21 21 21 21 21 21 21 21 21\n",
      " 21 21 21 21 21 21 21 21 21 21 21 21 21 21 21 21 21 21 21 21 21 21 21 21\n",
      " 21 21 21 21]\n"
     ]
    }
   ],
   "source": [
    "# crop the array for sequence profile\n",
    "sequence_profile = p[:, 35:57]\n",
    "print(sequence_profile)\n",
    "print(sequence_profile.shape)\n",
    "print(np.argmax(sequence_profile, axis=1))"
   ]
  },
  {
   "cell_type": "code",
   "execution_count": 15,
   "metadata": {},
   "outputs": [
    {
     "name": "stdout",
     "output_type": "stream",
     "text": [
      "67\n"
     ]
    }
   ],
   "source": [
    "# print the length of the protein ignoring the padding\n",
    "length = len(np.where(np.argmax(aa_residues, axis=1) != 21)[0])\n",
    "print(length)"
   ]
  },
  {
   "cell_type": "code",
   "execution_count": 16,
   "metadata": {},
   "outputs": [
    {
     "name": "stdout",
     "output_type": "stream",
     "text": [
      "[[0.         0.         0.         ... 0.26894142 0.9234378  0.        ]\n",
      " [0.         0.         0.         ... 0.11920292 0.00919371 0.        ]\n",
      " [0.         0.         0.         ... 0.5        0.02508696 0.        ]\n",
      " ...\n",
      " [0.         0.         0.         ... 0.26894142 0.02209632 0.        ]\n",
      " [0.         0.         0.         ... 0.26894142 0.04352163 0.        ]\n",
      " [0.         0.         0.         ... 0.26894142 0.1693839  0.        ]]\n",
      "(67, 57)\n"
     ]
    }
   ],
   "source": [
    "# crop the arrays for features and labels according to the length of the protein\n",
    "features = p[:length, :]\n",
    "print(features)\n",
    "print(features.shape)"
   ]
  },
  {
   "cell_type": "code",
   "execution_count": 17,
   "metadata": {},
   "outputs": [
    {
     "name": "stdout",
     "output_type": "stream",
     "text": [
      "[[0. 0. 0. ... 0. 0. 0.]\n",
      " [0. 0. 0. ... 0. 0. 0.]\n",
      " [0. 0. 0. ... 0. 0. 0.]\n",
      " ...\n",
      " [0. 0. 0. ... 0. 0. 0.]\n",
      " [0. 0. 0. ... 0. 0. 0.]\n",
      " [0. 0. 0. ... 0. 0. 0.]]\n",
      "(67, 22)\n",
      "[18 13 14 10  0 16  6 14 10  2 11 14 17 14  4 10 14  8 12  6 12 10  0 12\n",
      "  4 11 11  4  6  5 15 16 13  6 18 10 18  3 11  8  4 11 15 18 12  6 16 11\n",
      " 18 16 14  8 18 18 16 14 11  6 12 10 10 10 11 16 15 11  6]\n"
     ]
    }
   ],
   "source": [
    "aa_residues = features[:, 0:22]\n",
    "print(aa_residues)\n",
    "print(aa_residues.shape)\n",
    "print(np.argmax(aa_residues, axis=1))"
   ]
  },
  {
   "cell_type": "code",
   "execution_count": 18,
   "metadata": {},
   "outputs": [
    {
     "name": "stdout",
     "output_type": "stream",
     "text": [
      "[[1. 0. 0. 0. 0. 0. 0. 0. 0.]\n",
      " [1. 0. 0. 0. 0. 0. 0. 0. 0.]\n",
      " [1. 0. 0. 0. 0. 0. 0. 0. 0.]\n",
      " [0. 0. 0. 0. 0. 1. 0. 0. 0.]\n",
      " [0. 0. 0. 0. 0. 1. 0. 0. 0.]\n",
      " [0. 0. 0. 0. 0. 1. 0. 0. 0.]\n",
      " [0. 0. 0. 0. 0. 1. 0. 0. 0.]\n",
      " [0. 0. 0. 0. 0. 1. 0. 0. 0.]\n",
      " [0. 0. 0. 0. 0. 1. 0. 0. 0.]\n",
      " [0. 0. 0. 0. 0. 1. 0. 0. 0.]\n",
      " [0. 0. 0. 0. 0. 1. 0. 0. 0.]\n",
      " [0. 0. 0. 0. 0. 1. 0. 0. 0.]\n",
      " [0. 0. 0. 0. 0. 1. 0. 0. 0.]\n",
      " [0. 0. 0. 0. 0. 1. 0. 0. 0.]\n",
      " [0. 0. 0. 0. 0. 1. 0. 0. 0.]\n",
      " [0. 0. 0. 0. 0. 1. 0. 0. 0.]\n",
      " [0. 0. 0. 0. 0. 1. 0. 0. 0.]\n",
      " [0. 0. 0. 0. 0. 1. 0. 0. 0.]\n",
      " [0. 0. 0. 0. 0. 1. 0. 0. 0.]\n",
      " [0. 0. 0. 0. 0. 1. 0. 0. 0.]\n",
      " [0. 0. 0. 0. 0. 1. 0. 0. 0.]\n",
      " [0. 0. 0. 0. 0. 1. 0. 0. 0.]\n",
      " [0. 0. 0. 0. 0. 1. 0. 0. 0.]\n",
      " [0. 0. 0. 0. 0. 0. 0. 1. 0.]\n",
      " [0. 0. 0. 0. 0. 0. 0. 1. 0.]\n",
      " [0. 0. 0. 0. 0. 0. 0. 1. 0.]\n",
      " [0. 0. 0. 0. 0. 0. 0. 1. 0.]\n",
      " [0. 0. 0. 0. 0. 0. 0. 1. 0.]\n",
      " [0. 0. 1. 0. 0. 0. 0. 0. 0.]\n",
      " [0. 0. 1. 0. 0. 0. 0. 0. 0.]\n",
      " [0. 0. 1. 0. 0. 0. 0. 0. 0.]\n",
      " [0. 0. 1. 0. 0. 0. 0. 0. 0.]\n",
      " [0. 0. 1. 0. 0. 0. 0. 0. 0.]\n",
      " [0. 0. 1. 0. 0. 0. 0. 0. 0.]\n",
      " [0. 0. 1. 0. 0. 0. 0. 0. 0.]\n",
      " [0. 0. 1. 0. 0. 0. 0. 0. 0.]\n",
      " [1. 0. 0. 0. 0. 0. 0. 0. 0.]\n",
      " [1. 0. 0. 0. 0. 0. 0. 0. 0.]\n",
      " [0. 0. 0. 0. 0. 0. 1. 0. 0.]\n",
      " [0. 0. 0. 0. 0. 0. 1. 0. 0.]\n",
      " [0. 0. 0. 0. 0. 0. 1. 0. 0.]\n",
      " [0. 0. 0. 0. 0. 0. 1. 0. 0.]\n",
      " [1. 0. 0. 0. 0. 0. 0. 0. 0.]\n",
      " [0. 0. 1. 0. 0. 0. 0. 0. 0.]\n",
      " [0. 0. 1. 0. 0. 0. 0. 0. 0.]\n",
      " [0. 0. 1. 0. 0. 0. 0. 0. 0.]\n",
      " [0. 0. 1. 0. 0. 0. 0. 0. 0.]\n",
      " [0. 0. 1. 0. 0. 0. 0. 0. 0.]\n",
      " [0. 0. 0. 0. 0. 0. 0. 1. 0.]\n",
      " [0. 0. 0. 0. 0. 0. 0. 1. 0.]\n",
      " [0. 0. 0. 0. 0. 0. 1. 0. 0.]\n",
      " [0. 0. 0. 0. 0. 1. 0. 0. 0.]\n",
      " [0. 0. 0. 0. 0. 1. 0. 0. 0.]\n",
      " [0. 0. 0. 0. 0. 1. 0. 0. 0.]\n",
      " [0. 0. 0. 0. 0. 1. 0. 0. 0.]\n",
      " [0. 0. 0. 0. 0. 1. 0. 0. 0.]\n",
      " [0. 0. 0. 0. 0. 0. 0. 1. 0.]\n",
      " [0. 1. 0. 0. 0. 0. 0. 0. 0.]\n",
      " [1. 0. 0. 0. 0. 0. 0. 0. 0.]\n",
      " [1. 0. 0. 0. 0. 0. 0. 0. 0.]\n",
      " [0. 1. 0. 0. 0. 0. 0. 0. 0.]\n",
      " [1. 0. 0. 0. 0. 0. 0. 0. 0.]\n",
      " [1. 0. 0. 0. 0. 0. 0. 0. 0.]\n",
      " [0. 0. 0. 1. 0. 0. 0. 0. 0.]\n",
      " [0. 0. 0. 1. 0. 0. 0. 0. 0.]\n",
      " [0. 0. 0. 1. 0. 0. 0. 0. 0.]\n",
      " [1. 0. 0. 0. 0. 0. 0. 0. 0.]]\n",
      "(67, 9)\n",
      "[0 0 0 5 5 5 5 5 5 5 5 5 5 5 5 5 5 5 5 5 5 5 5 7 7 7 7 7 2 2 2 2 2 2 2 2 0\n",
      " 0 6 6 6 6 0 2 2 2 2 2 7 7 6 5 5 5 5 5 7 1 0 0 1 0 0 3 3 3 0]\n"
     ]
    }
   ],
   "source": [
    "ss_labels = features[:, 22:31]\n",
    "print(ss_labels)\n",
    "print(ss_labels.shape)\n",
    "print(np.argmax(ss_labels, axis=1))"
   ]
  },
  {
   "cell_type": "code",
   "execution_count": 20,
   "metadata": {},
   "outputs": [
    {
     "name": "stdout",
     "output_type": "stream",
     "text": [
      "[[1. 0.]\n",
      " [0. 0.]\n",
      " [0. 0.]\n",
      " [0. 0.]\n",
      " [0. 0.]\n",
      " [0. 0.]\n",
      " [0. 0.]\n",
      " [0. 0.]\n",
      " [0. 0.]\n",
      " [0. 0.]\n",
      " [0. 0.]\n",
      " [0. 0.]\n",
      " [0. 0.]\n",
      " [0. 0.]\n",
      " [0. 0.]\n",
      " [0. 0.]\n",
      " [0. 0.]\n",
      " [0. 0.]\n",
      " [0. 0.]\n",
      " [0. 0.]\n",
      " [0. 0.]\n",
      " [0. 0.]\n",
      " [0. 0.]\n",
      " [0. 0.]\n",
      " [0. 0.]\n",
      " [0. 0.]\n",
      " [0. 0.]\n",
      " [0. 0.]\n",
      " [0. 0.]\n",
      " [0. 0.]\n",
      " [0. 0.]\n",
      " [0. 0.]\n",
      " [0. 0.]\n",
      " [0. 0.]\n",
      " [0. 0.]\n",
      " [0. 0.]\n",
      " [0. 0.]\n",
      " [0. 0.]\n",
      " [0. 0.]\n",
      " [0. 0.]\n",
      " [0. 0.]\n",
      " [0. 0.]\n",
      " [0. 0.]\n",
      " [0. 0.]\n",
      " [0. 0.]\n",
      " [0. 0.]\n",
      " [0. 0.]\n",
      " [0. 0.]\n",
      " [0. 0.]\n",
      " [0. 0.]\n",
      " [0. 0.]\n",
      " [0. 0.]\n",
      " [0. 0.]\n",
      " [0. 0.]\n",
      " [0. 0.]\n",
      " [0. 0.]\n",
      " [0. 0.]\n",
      " [0. 0.]\n",
      " [0. 0.]\n",
      " [0. 0.]\n",
      " [0. 0.]\n",
      " [0. 0.]\n",
      " [0. 0.]\n",
      " [0. 0.]\n",
      " [0. 0.]\n",
      " [0. 0.]\n",
      " [0. 1.]]\n",
      "(67, 2)\n"
     ]
    }
   ],
   "source": [
    "terminals = features[:, 31:33]\n",
    "print(terminals)\n",
    "print(terminals.shape)"
   ]
  },
  {
   "cell_type": "code",
   "execution_count": 21,
   "metadata": {},
   "outputs": [
    {
     "name": "stdout",
     "output_type": "stream",
     "text": [
      "[[0. 0.]\n",
      " [0. 0.]\n",
      " [0. 0.]\n",
      " [0. 0.]\n",
      " [0. 0.]\n",
      " [0. 0.]\n",
      " [0. 0.]\n",
      " [0. 0.]\n",
      " [0. 0.]\n",
      " [0. 0.]\n",
      " [0. 0.]\n",
      " [0. 0.]\n",
      " [0. 0.]\n",
      " [0. 0.]\n",
      " [0. 0.]\n",
      " [0. 0.]\n",
      " [0. 0.]\n",
      " [0. 0.]\n",
      " [0. 0.]\n",
      " [0. 0.]\n",
      " [0. 0.]\n",
      " [0. 0.]\n",
      " [0. 0.]\n",
      " [0. 0.]\n",
      " [0. 0.]\n",
      " [0. 0.]\n",
      " [0. 0.]\n",
      " [0. 0.]\n",
      " [0. 0.]\n",
      " [0. 0.]\n",
      " [0. 0.]\n",
      " [0. 0.]\n",
      " [0. 0.]\n",
      " [0. 0.]\n",
      " [0. 0.]\n",
      " [0. 0.]\n",
      " [0. 0.]\n",
      " [0. 0.]\n",
      " [0. 0.]\n",
      " [0. 0.]\n",
      " [0. 0.]\n",
      " [0. 0.]\n",
      " [0. 0.]\n",
      " [0. 0.]\n",
      " [0. 0.]\n",
      " [0. 0.]\n",
      " [0. 0.]\n",
      " [0. 0.]\n",
      " [0. 0.]\n",
      " [0. 0.]\n",
      " [0. 0.]\n",
      " [0. 0.]\n",
      " [0. 0.]\n",
      " [0. 0.]\n",
      " [0. 0.]\n",
      " [0. 0.]\n",
      " [0. 0.]\n",
      " [0. 0.]\n",
      " [0. 0.]\n",
      " [0. 0.]\n",
      " [0. 0.]\n",
      " [0. 0.]\n",
      " [0. 0.]\n",
      " [0. 0.]\n",
      " [0. 0.]\n",
      " [0. 0.]\n",
      " [0. 0.]]\n",
      "(67, 2)\n"
     ]
    }
   ],
   "source": [
    "solvent_accessibility = features[:, 33:35]\n",
    "print(solvent_accessibility)\n",
    "print(solvent_accessibility.shape)"
   ]
  },
  {
   "cell_type": "code",
   "execution_count": 22,
   "metadata": {},
   "outputs": [
    {
     "name": "stdout",
     "output_type": "stream",
     "text": [
      "[[0.21416502 0.17079548 0.02297737 ... 0.26894142 0.9234378  0.        ]\n",
      " [0.0831727  0.01045671 0.04228977 ... 0.11920292 0.00919371 0.        ]\n",
      " [0.34751054 0.0253327  0.9945137  ... 0.5        0.02508696 0.        ]\n",
      " ...\n",
      " [0.10065209 0.99991645 0.01852382 ... 0.26894142 0.02209632 0.        ]\n",
      " [0.14430313 0.03489141 0.54735762 ... 0.26894142 0.04352163 0.        ]\n",
      " [0.2042403  0.18542742 0.02711972 ... 0.26894142 0.1693839  0.        ]]\n",
      "(67, 22)\n",
      "[ 9 12  2 12  0 10  7 15  9  3 11 11 18  5  8  9 15  8 13  7 13 14  0 13\n",
      " 15 11 13  5 17  4 12 11 12 17 13  9 13 11  3 11  5  3 12 18  7 17  2 11\n",
      " 17  2  6 12 17 17 16 16 11  7  0  9 10  9 20 14  1 11  7]\n"
     ]
    }
   ],
   "source": [
    "sequence_profile = features[:, 35:57]\n",
    "print(sequence_profile)\n",
    "print(sequence_profile.shape)\n",
    "print(np.argmax(sequence_profile, axis=1))"
   ]
  },
  {
   "cell_type": "code",
   "execution_count": null,
   "metadata": {},
   "outputs": [],
   "source": [
    "# Define the array of characters for amino acid residues\n",
    "amino_acid_residues = [\n",
    "    'A', 'C', 'E', 'D', 'G', \n",
    "    'F', 'I', 'H', 'K', 'M', \n",
    "    'L', 'N', 'Q', 'P', 'S', \n",
    "    'R', 'T', 'W', 'V', 'Y', \n",
    "    'X', '_'\n",
    "]\n",
    "\n",
    "# Define the array of characters for secondary structure labels\n",
    "secondary_structure_labels = ['L', 'B', 'E', 'G', 'I', 'H', 'S', 'T', '_']\n",
    "\n",
    "# Define the array of characters for N- and C- terminals\n",
    "terminals = ['N', 'C']\n",
    "\n",
    "# Define the array of characters for sequence profile (ACDEF,GHIKL,MNPQR,STVWX,Y)\n",
    "sequence_profile_residues = [\n",
    "    'A', 'C', 'D', 'E', 'F',\n",
    "    'G', 'H', 'I', 'K', 'L',\n",
    "    'M', 'N', 'P', 'Q', 'R', \n",
    "    'S', 'T', 'V', 'W', 'X', \n",
    "    'Y', '_'\n",
    "]"
   ]
  },
  {
   "cell_type": "code",
   "execution_count": null,
   "metadata": {},
   "outputs": [
    {
     "name": "stdout",
     "output_type": "stream",
     "text": [
      "Residue: V\n",
      "Secondary Structure: L\n",
      "Terminals: N\n",
      "Solvent Accessibility: Relative: 0.0, Absolute: 0.0\n",
      "Sequence Profile: L\n"
     ]
    }
   ],
   "source": [
    "# Function to convert one-hot encoded residue to string and clean trailing underscores\n",
    "def residue_to_string(residue):\n",
    "    index = np.argmax(residue[:22])\n",
    "    residue_str = amino_acid_residues[index]\n",
    "    return residue_str\n",
    "\n",
    "# Function to convert one-hot encoded secondary structure to string\n",
    "def secondary_structure_to_string(secondary_structure):\n",
    "    index = np.argmax(secondary_structure[22:31])\n",
    "    ss_str = secondary_structure_labels[index]\n",
    "    return ss_str\n",
    "\n",
    "# Function to convert one-hot encoded terminals to string\n",
    "def terminals_to_string(terminals_one_hot):\n",
    "    if np.array_equal(terminals_one_hot[31:33], [1, 0]):\n",
    "        return 'N'\n",
    "    elif np.array_equal(terminals_one_hot[31:33], [0, 1]):\n",
    "        return 'C'\n",
    "    else:\n",
    "        return ''\n",
    "\n",
    "# Function to convert solvent accessibility to string\n",
    "def solvent_accessibility_to_string(solvent_accessibility):\n",
    "    return f\"Relative: {solvent_accessibility[33]}, Absolute: {solvent_accessibility[34]}\"\n",
    "\n",
    "# Function to convert sequence profile to string\n",
    "def sequence_profile_to_string(sequence_profile):\n",
    "    index = np.argmax(sequence_profile[35:57])\n",
    "    seq_profile_str = sequence_profile_residues[index]\n",
    "    return seq_profile_str\n",
    "\n",
    "# Function to convert all features to string\n",
    "def features_to_string(features):\n",
    "    residue_str = residue_to_string(features)\n",
    "    secondary_structure_str = secondary_structure_to_string(features)\n",
    "    terminals_str = terminals_to_string(features)\n",
    "    solvent_accessibility_str = solvent_accessibility_to_string(features)\n",
    "    sequence_profile_str = sequence_profile_to_string(features)\n",
    "    \n",
    "    return f\"Residue: {residue_str}\\n\" \\\n",
    "           f\"Secondary Structure: {secondary_structure_str}\\n\" \\\n",
    "           f\"Terminals: {terminals_str}\\n\" \\\n",
    "           f\"Solvent Accessibility: {solvent_accessibility_str}\\n\" \\\n",
    "           f\"Sequence Profile: {sequence_profile_str}\"\n",
    "\n",
    "# Example usage\n",
    "# For the first amino acid residue of the first protein\n",
    "features = cb513_reshaped[0][0]\n",
    "print(features_to_string(features))"
   ]
  },
  {
   "cell_type": "code",
   "execution_count": 35,
   "metadata": {},
   "outputs": [
    {
     "name": "stdout",
     "output_type": "stream",
     "text": [
      "Residue: VPSLATISLENSWSGLSKQIQLAQGNNGIFRTPIVLVDNKGNRVQITNVTSKVVTSNIQLLLNTRNI\n",
      "Secondary Structure: LLLHHHHHHHHHHHHHHHHHHHHTTTTTEEEEEEEELLSSSSLEEEEETTSHHHHHTBLLBLLGGGL\n",
      "Terminals: NC\n",
      "Solvent Accessibility: Relative: [0.0, 0.0, 0.0, 0.0, 0.0, 0.0, 0.0, 0.0, 0.0, 0.0, 0.0, 0.0, 0.0, 0.0, 0.0, 0.0, 0.0, 0.0, 0.0, 0.0, 0.0, 0.0, 0.0, 0.0, 0.0, 0.0, 0.0, 0.0, 0.0, 0.0, 0.0, 0.0, 0.0, 0.0, 0.0, 0.0, 0.0, 0.0, 0.0, 0.0, 0.0, 0.0, 0.0, 0.0, 0.0, 0.0, 0.0, 0.0, 0.0, 0.0, 0.0, 0.0, 0.0, 0.0, 0.0, 0.0, 0.0, 0.0, 0.0, 0.0, 0.0, 0.0, 0.0, 0.0, 0.0, 0.0, 0.0, 0.0, 0.0, 0.0, 0.0, 0.0, 0.0, 0.0, 0.0, 0.0, 0.0, 0.0, 0.0, 0.0, 0.0, 0.0, 0.0, 0.0, 0.0, 0.0, 0.0, 0.0, 0.0, 0.0, 0.0, 0.0, 0.0, 0.0, 0.0, 0.0, 0.0, 0.0, 0.0, 0.0, 0.0, 0.0, 0.0, 0.0, 0.0, 0.0, 0.0, 0.0, 0.0, 0.0, 0.0, 0.0, 0.0, 0.0, 0.0, 0.0, 0.0, 0.0, 0.0, 0.0, 0.0, 0.0, 0.0, 0.0, 0.0, 0.0, 0.0, 0.0, 0.0, 0.0, 0.0, 0.0, 0.0, 0.0, 0.0, 0.0, 0.0, 0.0, 0.0, 0.0, 0.0, 0.0, 0.0, 0.0, 0.0, 0.0, 0.0, 0.0, 0.0, 0.0, 0.0, 0.0, 0.0, 0.0, 0.0, 0.0, 0.0, 0.0, 0.0, 0.0, 0.0, 0.0, 0.0, 0.0, 0.0, 0.0, 0.0, 0.0, 0.0, 0.0, 0.0, 0.0, 0.0, 0.0, 0.0, 0.0, 0.0, 0.0, 0.0, 0.0, 0.0, 0.0, 0.0, 0.0, 0.0, 0.0, 0.0, 0.0, 0.0, 0.0, 0.0, 0.0, 0.0, 0.0, 0.0, 0.0, 0.0, 0.0, 0.0, 0.0, 0.0, 0.0, 0.0, 0.0, 0.0, 0.0, 0.0, 0.0, 0.0, 0.0, 0.0, 0.0, 0.0, 0.0, 0.0, 0.0, 0.0, 0.0, 0.0, 0.0, 0.0, 0.0, 0.0, 0.0, 0.0, 0.0, 0.0, 0.0, 0.0, 0.0, 0.0, 0.0, 0.0, 0.0, 0.0, 0.0, 0.0, 0.0, 0.0, 0.0, 0.0, 0.0, 0.0, 0.0, 0.0, 0.0, 0.0, 0.0, 0.0, 0.0, 0.0, 0.0, 0.0, 0.0, 0.0, 0.0, 0.0, 0.0, 0.0, 0.0, 0.0, 0.0, 0.0, 0.0, 0.0, 0.0, 0.0, 0.0, 0.0, 0.0, 0.0, 0.0, 0.0, 0.0, 0.0, 0.0, 0.0, 0.0, 0.0, 0.0, 0.0, 0.0, 0.0, 0.0, 0.0, 0.0, 0.0, 0.0, 0.0, 0.0, 0.0, 0.0, 0.0, 0.0, 0.0, 0.0, 0.0, 0.0, 0.0, 0.0, 0.0, 0.0, 0.0, 0.0, 0.0, 0.0, 0.0, 0.0, 0.0, 0.0, 0.0, 0.0, 0.0, 0.0, 0.0, 0.0, 0.0, 0.0, 0.0, 0.0, 0.0, 0.0, 0.0, 0.0, 0.0, 0.0, 0.0, 0.0, 0.0, 0.0, 0.0, 0.0, 0.0, 0.0, 0.0, 0.0, 0.0, 0.0, 0.0, 0.0, 0.0, 0.0, 0.0, 0.0, 0.0, 0.0, 0.0, 0.0, 0.0, 0.0, 0.0, 0.0, 0.0, 0.0, 0.0, 0.0, 0.0, 0.0, 0.0, 0.0, 0.0, 0.0, 0.0, 0.0, 0.0, 0.0, 0.0, 0.0, 0.0, 0.0, 0.0, 0.0, 0.0, 0.0, 0.0, 0.0, 0.0, 0.0, 0.0, 0.0, 0.0, 0.0, 0.0, 0.0, 0.0, 0.0, 0.0, 0.0, 0.0, 0.0, 0.0, 0.0, 0.0, 0.0, 0.0, 0.0, 0.0, 0.0, 0.0, 0.0, 0.0, 0.0, 0.0, 0.0, 0.0, 0.0, 0.0, 0.0, 0.0, 0.0, 0.0, 0.0, 0.0, 0.0, 0.0, 0.0, 0.0, 0.0, 0.0, 0.0, 0.0, 0.0, 0.0, 0.0, 0.0, 0.0, 0.0, 0.0, 0.0, 0.0, 0.0, 0.0, 0.0, 0.0, 0.0, 0.0, 0.0, 0.0, 0.0, 0.0, 0.0, 0.0, 0.0, 0.0, 0.0, 0.0, 0.0, 0.0, 0.0, 0.0, 0.0, 0.0, 0.0, 0.0, 0.0, 0.0, 0.0, 0.0, 0.0, 0.0, 0.0, 0.0, 0.0, 0.0, 0.0, 0.0, 0.0, 0.0, 0.0, 0.0, 0.0, 0.0, 0.0, 0.0, 0.0, 0.0, 0.0, 0.0, 0.0, 0.0, 0.0, 0.0, 0.0, 0.0, 0.0, 0.0, 0.0, 0.0, 0.0, 0.0, 0.0, 0.0, 0.0, 0.0, 0.0, 0.0, 0.0, 0.0, 0.0, 0.0, 0.0, 0.0, 0.0, 0.0, 0.0, 0.0, 0.0, 0.0, 0.0, 0.0, 0.0, 0.0, 0.0, 0.0, 0.0, 0.0, 0.0, 0.0, 0.0, 0.0, 0.0, 0.0, 0.0, 0.0, 0.0, 0.0, 0.0, 0.0, 0.0, 0.0, 0.0, 0.0, 0.0, 0.0, 0.0, 0.0, 0.0, 0.0, 0.0, 0.0, 0.0, 0.0, 0.0, 0.0, 0.0, 0.0, 0.0, 0.0, 0.0, 0.0, 0.0, 0.0, 0.0, 0.0, 0.0, 0.0, 0.0, 0.0, 0.0, 0.0, 0.0, 0.0, 0.0, 0.0, 0.0, 0.0, 0.0, 0.0, 0.0, 0.0, 0.0, 0.0, 0.0, 0.0, 0.0, 0.0, 0.0, 0.0, 0.0, 0.0, 0.0, 0.0, 0.0, 0.0, 0.0, 0.0, 0.0, 0.0, 0.0, 0.0, 0.0, 0.0, 0.0, 0.0, 0.0, 0.0, 0.0, 0.0, 0.0, 0.0, 0.0, 0.0, 0.0, 0.0, 0.0, 0.0, 0.0, 0.0, 0.0, 0.0, 0.0, 0.0, 0.0, 0.0, 0.0, 0.0, 0.0, 0.0, 0.0, 0.0, 0.0, 0.0, 0.0, 0.0, 0.0, 0.0, 0.0, 0.0, 0.0, 0.0, 0.0, 0.0, 0.0, 0.0, 0.0, 0.0, 0.0, 0.0, 0.0, 0.0, 0.0, 0.0, 0.0, 0.0, 0.0, 0.0, 0.0, 0.0, 0.0, 0.0, 0.0, 0.0, 0.0, 0.0, 0.0, 0.0, 0.0, 0.0, 0.0, 0.0, 0.0, 0.0, 0.0, 0.0, 0.0, 0.0, 0.0, 0.0, 0.0, 0.0, 0.0, 0.0, 0.0, 0.0, 0.0, 0.0, 0.0, 0.0, 0.0, 0.0, 0.0, 0.0, 0.0, 0.0, 0.0, 0.0, 0.0, 0.0, 0.0, 0.0, 0.0, 0.0, 0.0, 0.0, 0.0, 0.0, 0.0, 0.0, 0.0, 0.0], Absolute: [0.0, 0.0, 0.0, 0.0, 0.0, 0.0, 0.0, 0.0, 0.0, 0.0, 0.0, 0.0, 0.0, 0.0, 0.0, 0.0, 0.0, 0.0, 0.0, 0.0, 0.0, 0.0, 0.0, 0.0, 0.0, 0.0, 0.0, 0.0, 0.0, 0.0, 0.0, 0.0, 0.0, 0.0, 0.0, 0.0, 0.0, 0.0, 0.0, 0.0, 0.0, 0.0, 0.0, 0.0, 0.0, 0.0, 0.0, 0.0, 0.0, 0.0, 0.0, 0.0, 0.0, 0.0, 0.0, 0.0, 0.0, 0.0, 0.0, 0.0, 0.0, 0.0, 0.0, 0.0, 0.0, 0.0, 0.0, 0.0, 0.0, 0.0, 0.0, 0.0, 0.0, 0.0, 0.0, 0.0, 0.0, 0.0, 0.0, 0.0, 0.0, 0.0, 0.0, 0.0, 0.0, 0.0, 0.0, 0.0, 0.0, 0.0, 0.0, 0.0, 0.0, 0.0, 0.0, 0.0, 0.0, 0.0, 0.0, 0.0, 0.0, 0.0, 0.0, 0.0, 0.0, 0.0, 0.0, 0.0, 0.0, 0.0, 0.0, 0.0, 0.0, 0.0, 0.0, 0.0, 0.0, 0.0, 0.0, 0.0, 0.0, 0.0, 0.0, 0.0, 0.0, 0.0, 0.0, 0.0, 0.0, 0.0, 0.0, 0.0, 0.0, 0.0, 0.0, 0.0, 0.0, 0.0, 0.0, 0.0, 0.0, 0.0, 0.0, 0.0, 0.0, 0.0, 0.0, 0.0, 0.0, 0.0, 0.0, 0.0, 0.0, 0.0, 0.0, 0.0, 0.0, 0.0, 0.0, 0.0, 0.0, 0.0, 0.0, 0.0, 0.0, 0.0, 0.0, 0.0, 0.0, 0.0, 0.0, 0.0, 0.0, 0.0, 0.0, 0.0, 0.0, 0.0, 0.0, 0.0, 0.0, 0.0, 0.0, 0.0, 0.0, 0.0, 0.0, 0.0, 0.0, 0.0, 0.0, 0.0, 0.0, 0.0, 0.0, 0.0, 0.0, 0.0, 0.0, 0.0, 0.0, 0.0, 0.0, 0.0, 0.0, 0.0, 0.0, 0.0, 0.0, 0.0, 0.0, 0.0, 0.0, 0.0, 0.0, 0.0, 0.0, 0.0, 0.0, 0.0, 0.0, 0.0, 0.0, 0.0, 0.0, 0.0, 0.0, 0.0, 0.0, 0.0, 0.0, 0.0, 0.0, 0.0, 0.0, 0.0, 0.0, 0.0, 0.0, 0.0, 0.0, 0.0, 0.0, 0.0, 0.0, 0.0, 0.0, 0.0, 0.0, 0.0, 0.0, 0.0, 0.0, 0.0, 0.0, 0.0, 0.0, 0.0, 0.0, 0.0, 0.0, 0.0, 0.0, 0.0, 0.0, 0.0, 0.0, 0.0, 0.0, 0.0, 0.0, 0.0, 0.0, 0.0, 0.0, 0.0, 0.0, 0.0, 0.0, 0.0, 0.0, 0.0, 0.0, 0.0, 0.0, 0.0, 0.0, 0.0, 0.0, 0.0, 0.0, 0.0, 0.0, 0.0, 0.0, 0.0, 0.0, 0.0, 0.0, 0.0, 0.0, 0.0, 0.0, 0.0, 0.0, 0.0, 0.0, 0.0, 0.0, 0.0, 0.0, 0.0, 0.0, 0.0, 0.0, 0.0, 0.0, 0.0, 0.0, 0.0, 0.0, 0.0, 0.0, 0.0, 0.0, 0.0, 0.0, 0.0, 0.0, 0.0, 0.0, 0.0, 0.0, 0.0, 0.0, 0.0, 0.0, 0.0, 0.0, 0.0, 0.0, 0.0, 0.0, 0.0, 0.0, 0.0, 0.0, 0.0, 0.0, 0.0, 0.0, 0.0, 0.0, 0.0, 0.0, 0.0, 0.0, 0.0, 0.0, 0.0, 0.0, 0.0, 0.0, 0.0, 0.0, 0.0, 0.0, 0.0, 0.0, 0.0, 0.0, 0.0, 0.0, 0.0, 0.0, 0.0, 0.0, 0.0, 0.0, 0.0, 0.0, 0.0, 0.0, 0.0, 0.0, 0.0, 0.0, 0.0, 0.0, 0.0, 0.0, 0.0, 0.0, 0.0, 0.0, 0.0, 0.0, 0.0, 0.0, 0.0, 0.0, 0.0, 0.0, 0.0, 0.0, 0.0, 0.0, 0.0, 0.0, 0.0, 0.0, 0.0, 0.0, 0.0, 0.0, 0.0, 0.0, 0.0, 0.0, 0.0, 0.0, 0.0, 0.0, 0.0, 0.0, 0.0, 0.0, 0.0, 0.0, 0.0, 0.0, 0.0, 0.0, 0.0, 0.0, 0.0, 0.0, 0.0, 0.0, 0.0, 0.0, 0.0, 0.0, 0.0, 0.0, 0.0, 0.0, 0.0, 0.0, 0.0, 0.0, 0.0, 0.0, 0.0, 0.0, 0.0, 0.0, 0.0, 0.0, 0.0, 0.0, 0.0, 0.0, 0.0, 0.0, 0.0, 0.0, 0.0, 0.0, 0.0, 0.0, 0.0, 0.0, 0.0, 0.0, 0.0, 0.0, 0.0, 0.0, 0.0, 0.0, 0.0, 0.0, 0.0, 0.0, 0.0, 0.0, 0.0, 0.0, 0.0, 0.0, 0.0, 0.0, 0.0, 0.0, 0.0, 0.0, 0.0, 0.0, 0.0, 0.0, 0.0, 0.0, 0.0, 0.0, 0.0, 0.0, 0.0, 0.0, 0.0, 0.0, 0.0, 0.0, 0.0, 0.0, 0.0, 0.0, 0.0, 0.0, 0.0, 0.0, 0.0, 0.0, 0.0, 0.0, 0.0, 0.0, 0.0, 0.0, 0.0, 0.0, 0.0, 0.0, 0.0, 0.0, 0.0, 0.0, 0.0, 0.0, 0.0, 0.0, 0.0, 0.0, 0.0, 0.0, 0.0, 0.0, 0.0, 0.0, 0.0, 0.0, 0.0, 0.0, 0.0, 0.0, 0.0, 0.0, 0.0, 0.0, 0.0, 0.0, 0.0, 0.0, 0.0, 0.0, 0.0, 0.0, 0.0, 0.0, 0.0, 0.0, 0.0, 0.0, 0.0, 0.0, 0.0, 0.0, 0.0, 0.0, 0.0, 0.0, 0.0, 0.0, 0.0, 0.0, 0.0, 0.0, 0.0, 0.0, 0.0, 0.0, 0.0, 0.0, 0.0, 0.0, 0.0, 0.0, 0.0, 0.0, 0.0, 0.0, 0.0, 0.0, 0.0, 0.0, 0.0, 0.0, 0.0, 0.0, 0.0, 0.0, 0.0, 0.0, 0.0, 0.0, 0.0, 0.0, 0.0, 0.0, 0.0, 0.0, 0.0, 0.0, 0.0, 0.0, 0.0, 0.0, 0.0, 0.0, 0.0, 0.0, 0.0, 0.0, 0.0, 0.0, 0.0, 0.0, 0.0, 0.0, 0.0, 0.0, 0.0, 0.0, 0.0, 0.0, 0.0, 0.0, 0.0, 0.0, 0.0, 0.0, 0.0, 0.0, 0.0, 0.0, 0.0, 0.0, 0.0, 0.0, 0.0, 0.0, 0.0, 0.0, 0.0, 0.0, 0.0, 0.0, 0.0, 0.0, 0.0, 0.0, 0.0, 0.0, 0.0, 0.0, 0.0, 0.0, 0.0, 0.0, 0.0, 0.0, 0.0, 0.0, 0.0, 0.0, 0.0, 0.0, 0.0, 0.0, 0.0, 0.0, 0.0, 0.0, 0.0, 0.0, 0.0, 0.0, 0.0, 0.0, 0.0]\n",
      "Sequence Profile: LPDPAMISLENNWGKLSKQIQRAQSNQGVFPNPVQLQNENGEPWIVDNVDHPVVTTNIALMLYRCNI\n"
     ]
    }
   ],
   "source": [
    "# Function to convert one-hot encoded residue to string and clean trailing underscores\n",
    "def residue_to_string(residue):\n",
    "    indices = np.argmax(residue[:, :22], axis=-1)\n",
    "    residue_str = ''.join([amino_acid_residues[i] for i in indices])\n",
    "    residue_str = residue_str.rstrip('_')  # Remove trailing underscores\n",
    "    return residue_str\n",
    "\n",
    "# Function to convert one-hot encoded secondary structure to string\n",
    "def secondary_structure_to_string(secondary_structure):\n",
    "    indices = np.argmax(secondary_structure[:, 22:31], axis=-1)\n",
    "    ss_str = ''.join([secondary_structure_labels[i] for i in indices])\n",
    "    ss_str = ss_str.rstrip('_')  # Remove trailing underscores\n",
    "    return ss_str\n",
    "\n",
    "# Function to convert one-hot encoded terminals to string\n",
    "def terminals_to_string(terminals_one_hot):\n",
    "    terminals_str = ''\n",
    "    for terminal in terminals_one_hot[:, 31:33]:\n",
    "        if np.array_equal(terminal, [1, 0]):\n",
    "            terminals_str += 'N'\n",
    "        elif np.array_equal(terminal, [0, 1]):\n",
    "            terminals_str += 'C'\n",
    "        else:\n",
    "            terminals_str += ''\n",
    "    return terminals_str\n",
    "\n",
    "# Function to convert solvent accessibility to string\n",
    "def solvent_accessibility_to_string(solvent_accessibility):\n",
    "    relative_accessibility = solvent_accessibility[:, 33]\n",
    "    absolute_accessibility = solvent_accessibility[:, 34]\n",
    "    return f\"Relative: {relative_accessibility.tolist()}, Absolute: {absolute_accessibility.tolist()}\"\n",
    "\n",
    "# Function to convert sequence profile to string\n",
    "def sequence_profile_to_string(sequence_profile):\n",
    "    indices = np.argmax(sequence_profile[:, 35:57], axis=-1)\n",
    "    seq_profile_str = ''.join([sequence_profile_residues[i] for i in indices])\n",
    "    seq_profile_str = seq_profile_str.rstrip('_')  # Remove trailing underscores\n",
    "    return seq_profile_str\n",
    "\n",
    "# Function to convert all features to string\n",
    "def features_to_string(features):\n",
    "    residue_str = residue_to_string(features)\n",
    "    secondary_structure_str = secondary_structure_to_string(features)\n",
    "    terminals_str = terminals_to_string(features)\n",
    "    solvent_accessibility_str = solvent_accessibility_to_string(features)\n",
    "    sequence_profile_str = sequence_profile_to_string(features)\n",
    "    \n",
    "    return f\"Residue: {residue_str}\\n\" \\\n",
    "           f\"Secondary Structure: {secondary_structure_str}\\n\" \\\n",
    "           f\"Terminals: {terminals_str}\\n\" \\\n",
    "           f\"Solvent Accessibility: {solvent_accessibility_str}\\n\" \\\n",
    "           f\"Sequence Profile: {sequence_profile_str}\"\n",
    "\n",
    "# Example usage for the first protein\n",
    "features = cb513_reshaped[0]\n",
    "print(features_to_string(features))"
   ]
  },
  {
   "cell_type": "code",
   "execution_count": null,
   "metadata": {},
   "outputs": [
    {
     "name": "stdout",
     "output_type": "stream",
     "text": [
      "(514, 700, 9)\n",
      "(359800, 9)\n",
      "[1.79200e+04 1.18100e+03 1.80160e+04 3.13200e+03 3.00000e+01 2.61570e+04\n",
      " 8.31600e+03 1.00130e+04 2.75035e+05]\n"
     ]
    },
    {
     "data": {
      "image/png": "[encoded data removed]",
      "text/plain": [
       "<Figure size 1000x600 with 1 Axes>"
      ]
     },
     "metadata": {},
     "output_type": "display_data"
    },
    {
     "data": {
      "image/png": "[encoded data removed]",
      "text/plain": [
       "<Figure size 1000x600 with 1 Axes>"
      ]
     },
     "metadata": {},
     "output_type": "display_data"
    },
    {
     "data": {
      "image/png": "[encoded data removed]",
      "text/plain": [
       "<Figure size 1000x600 with 1 Axes>"
      ]
     },
     "metadata": {},
     "output_type": "display_data"
    }
   ],
   "source": [
    "# Visualize the data distribution for secondary structure labels\n",
    "\n",
    "# Get the secondary structure labels for all proteins\n",
    "ss_labels = cb513_reshaped[:, :, 22:31]\n",
    "print(ss_labels.shape)\n",
    "\n",
    "# Flatten the labels\n",
    "ss_labels = ss_labels.reshape((-1, 9))\n",
    "print(ss_labels.shape)\n",
    "\n",
    "# Count the frequency of each secondary structure label\n",
    "label_counts = np.sum(ss_labels, axis=0)\n",
    "print(label_counts)\n",
    "\n",
    "# Plot the distribution of secondary structure labels\n",
    "plt.figure(figsize=(10, 6))\n",
    "plt.bar(secondary_structure_labels, label_counts)\n",
    "plt.xlabel('Secondary Structure Labels')\n",
    "plt.ylabel('Frequency')\n",
    "plt.title('Distribution of Secondary Structure Labels')\n",
    "plt.show()\n",
    "\n",
    "# Plot the distribution of secondary structure labels ignoring the '-' label\n",
    "plt.figure(figsize=(10, 6))\n",
    "plt.bar(secondary_structure_labels[:-1], label_counts[:-1])\n",
    "plt.xlabel('Secondary Structure Labels')\n",
    "plt.ylabel('Frequency')\n",
    "plt.title('Distribution of Secondary Structure Labels (Ignoring \"-\")')\n",
    "plt.show()\n",
    "\n",
    "# Plot the distribution of secondary structure labels ignoring the '-' and sort by frequency\n",
    "sorted_indices = np.argsort(label_counts[:-1])[::-1]\n",
    "sorted_labels = np.array(secondary_structure_labels[:-1])[sorted_indices]\n",
    "sorted_counts = label_counts[:-1][sorted_indices]\n",
    "\n",
    "plt.figure(figsize=(10, 6))\n",
    "bars = plt.bar(sorted_labels, sorted_counts)\n",
    "plt.xlabel('Secondary Structure Labels')\n",
    "plt.ylabel('Frequency')\n",
    "plt.title('Distribution of Secondary Structure Labels (Ignoring \"-\" and Sorted)')\n",
    "\n",
    "# Add the number of frequency (rounded) on top of the bars\n",
    "for bar, count in zip(bars, sorted_counts):\n",
    "    yval = bar.get_height()\n",
    "    plt.text(bar.get_x() + bar.get_width()/2, yval + 500, int(round(count)), ha='center', va='bottom')\n",
    "\n",
    "plt.show()"
   ]
  },
  {
   "cell_type": "markdown",
   "metadata": {},
   "source": [
    "# Convert One hot to Label"
   ]
  },
  {
   "cell_type": "markdown",
   "metadata": {},
   "source": [
    "## Sequence Decoding"
   ]
  },
  {
   "cell_type": "code",
   "execution_count": null,
   "metadata": {},
   "outputs": [],
   "source": [
    "# Define the array of characters\n",
    "amino_acid_residues = [\n",
    "    '_', 'A', 'C', 'E', 'D', 'G', 'F', 'I', 'H', 'K', 'M', 'L', 'N', 'Q', 'P',\n",
    "    'S', 'R', 'T', 'W', 'V', 'Y', 'X'\n",
    "]\n",
    "\n",
    "# Function to convert one-hot encoded sequence to string and clean trailing underscores\n",
    "def residue_to_string(sequence):\n",
    "    indices = np.argmax(sequence, axis=-1)\n",
    "    sequence = ''.join([amino_acid_residues[i] for i in indices])\n",
    "    sequence = sequence.rstrip('_')  # Remove trailing underscores\n",
    "    return sequence\n",
    "\n",
    "\n",
    "# Apply the function to each sequence in CullPDB_sequence\n",
    "cb513_sequence_string = [residue_to_string(seq) for seq in cb513_sequence]\n",
    "print(cb513_sequence_string[0])\n",
    "print(len(cb513_sequence_string[0]))\n",
    "print(cb513_sequence_string[1])\n",
    "print(len(cb513_sequence_string[1]))"
   ]
  },
  {
   "cell_type": "markdown",
   "metadata": {},
   "source": [
    "## Label Decoding"
   ]
  },
  {
   "cell_type": "code",
   "execution_count": null,
   "metadata": {},
   "outputs": [],
   "source": [
    "DSSP = {0: '_', 1: 'C', 2: 'B', 3: 'E', 4: 'G', 5: 'I', 6: 'H', 7: 'S', 8: 'T'}\n",
    "\n",
    "def label_to_string(label):\n",
    "    indices = np.argmax(label, axis=-1)\n",
    "    indices = [DSSP[i] for i in indices]\n",
    "    label = ''.join(indices)\n",
    "    label = label.rstrip('_')  # Remove trailing underscores\n",
    "    return label\n",
    "\n",
    "# Apply the function to each sequence in cb513_testlabel\n",
    "cb513_testlabel = [label_to_string(label) for label in cb513_testlabel]\n",
    "print(cb513_testlabel[0])"
   ]
  },
  {
   "cell_type": "code",
   "execution_count": null,
   "metadata": {},
   "outputs": [],
   "source": [
    "# Print the first sequence and its label\n",
    "print(cb513_sequence_string[0])\n",
    "print(cb513_testlabel[0])"
   ]
  },
  {
   "cell_type": "code",
   "execution_count": null,
   "metadata": {},
   "outputs": [],
   "source": [
    "# def extract_secondary_structure(dssp_file):\n",
    "#     secondary_structure = \"\"\n",
    "#     with open(dssp_file, 'r') as file:\n",
    "#         lines = file.readlines()\n",
    "#         start_reading = False\n",
    "#         for line in lines:\n",
    "#             if line.startswith(\"  #  RESIDUE\"):\n",
    "#                 start_reading = True\n",
    "#                 continue\n",
    "#             if start_reading:\n",
    "#                 if line.strip() == \"\":\n",
    "#                     continue\n",
    "#                 structure = line[16]\n",
    "#                 if structure == \" \":\n",
    "#                     structure = \"C\"  # Coil\n",
    "#                 secondary_structure += structure\n",
    "#     return secondary_structure\n",
    "\n",
    "# dssp_file = 'fold_cb513_0_model_0.dssp'\n",
    "# secondary_structure = extract_secondary_structure(dssp_file)\n",
    "# print(secondary_structure)"
   ]
  },
  {
   "cell_type": "code",
   "execution_count": null,
   "metadata": {},
   "outputs": [],
   "source": [
    "from Bio.PDB import MMCIFParser, DSSP\n",
    "\n",
    "# Load mmCIF file\n",
    "parser = MMCIFParser()\n",
    "structure = parser.get_structure(\"model\", \"fold_cb513_0/fold_cb513_0_model_0.cif\")\n",
    "\n",
    "# Run DSSP\n",
    "dssp = DSSP(structure[0], \"fold_cb513_0/fold_cb513_0_model_0.cif\", dssp='mkdssp')\n",
    "\n",
    "# Combine all the residue into one string called residue\n",
    "# Combine all the predicted secondary structure one string called ss\n",
    "# Return the residue and ss\n",
    "residue = \"\"\n",
    "ss = \"\"\n",
    "\n",
    "for key in dssp.keys():\n",
    "    residue += dssp[key][1]\n",
    "    ss += dssp[key][2]\n",
    "\n",
    "print(residue)\n",
    "print(ss)"
   ]
  },
  {
   "cell_type": "code",
   "execution_count": null,
   "metadata": {},
   "outputs": [],
   "source": [
    "# convert the ss to the same format as the label\n",
    "ss = ss.replace(\"-\", \"C\")\n",
    "print(ss)"
   ]
  },
  {
   "cell_type": "markdown",
   "metadata": {},
   "source": [
    "$$Q_s =  \\frac{∑^s_{i=1} C_i}{n}×100\\%$$"
   ]
  },
  {
   "cell_type": "code",
   "execution_count": null,
   "metadata": {},
   "outputs": [],
   "source": [
    "# Calculate the accuracy of the predicted secondary structure (Q8 Score)\n",
    "def calculate_accuracy(predicted, actual):\n",
    "    correct = 0\n",
    "    total = len(predicted)\n",
    "    for p, a in zip(predicted, actual):\n",
    "        if p == a:\n",
    "            correct += 1\n",
    "    return correct / total\n",
    "\n",
    "# Calculate the accuracy of the predicted secondary structure\n",
    "accuracy = calculate_accuracy(cb513_testlabel[0], ss)\n",
    "print(accuracy)"
   ]
  },
  {
   "cell_type": "code",
   "execution_count": null,
   "metadata": {},
   "outputs": [],
   "source": [
    "# Convert the original & predicted 8-state secondary structure to 3-state secondary structure\n",
    "def convert_8state_to_3state(ss):\n",
    "    ss_3state = \"\"\n",
    "    for s in ss:\n",
    "        if s in ['H', 'G', 'I']:\n",
    "            ss_3state += 'H'\n",
    "        elif s in ['E', 'B']:\n",
    "            ss_3state += 'E'\n",
    "        else:\n",
    "            ss_3state += 'C'\n",
    "    return ss_3state\n",
    "\n",
    "cb513_testlabel_3state = cb513_testlabel.copy()\n",
    "cb513_testlabel_3state[0] = convert_8state_to_3state(cb513_testlabel[0])\n",
    "ss_3state = convert_8state_to_3state(ss)\n",
    "\n",
    "print(cb513_testlabel_3state[0])\n",
    "print(ss_3state)"
   ]
  },
  {
   "cell_type": "code",
   "execution_count": null,
   "metadata": {},
   "outputs": [],
   "source": [
    "# Calculate the accuracy of the predicted secondary structure (Q3 Score)\n",
    "def calculate_accuracy(predicted, actual):\n",
    "    correct = 0\n",
    "    total = len(predicted)\n",
    "    for p, a in zip(predicted, actual):\n",
    "        if p == a:\n",
    "            correct += 1\n",
    "    return correct / total\n",
    "\n",
    "# Calculate the accuracy of the predicted secondary structure\n",
    "accuracy = calculate_accuracy(cb513_testlabel_3state[0], ss_3state)\n",
    "print(accuracy)"
   ]
  }
 ],
 "metadata": {
  "kernelspec": {
   "display_name": "Python 3",
   "language": "python",
   "name": "python3"
  },
  "language_info": {
   "codemirror_mode": {
    "name": "ipython",
    "version": 3
   },
   "file_extension": ".py",
   "mimetype": "text/x-python",
   "name": "python",
   "nbconvert_exporter": "python",
   "pygments_lexer": "ipython3",
   "version": "3.10.12"
  }
 },
 "nbformat": 4,
 "nbformat_minor": 2
}
