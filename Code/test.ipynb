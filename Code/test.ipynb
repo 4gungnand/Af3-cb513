{
 "cells": [
  {
   "cell_type": "code",
   "execution_count": 1,
   "metadata": {},
   "outputs": [
    {
     "name": "stdout",
     "output_type": "stream",
     "text": [
      "Residue 1: Energy = 1.61 kcal/mol -> No Hydrogen Bond\n",
      "Residue 2: Energy = 1.07 kcal/mol -> No Hydrogen Bond\n",
      "Residue 3: Energy = 1.61 kcal/mol -> No Hydrogen Bond\n"
     ]
    }
   ],
   "source": [
    "import numpy as np\n",
    "\n",
    "def euclidean_distance(atom1, atom2):\n",
    "    return np.sqrt(np.sum((np.array(atom1) - np.array(atom2)) ** 2))\n",
    "\n",
    "def hydrogen_bond_energy(coords):\n",
    "    r_ON = euclidean_distance(coords['O'], coords['N'])\n",
    "    r_CH = euclidean_distance(coords['C'], coords['H'])\n",
    "    r_OH = euclidean_distance(coords['O'], coords['H'])\n",
    "    r_CN = euclidean_distance(coords['C'], coords['N'])\n",
    "\n",
    "    E = 0.084 * ( (1/r_ON) + (1/r_CH) - (1/r_OH) - (1/r_CN) ) * 332\n",
    "    return E\n",
    "\n",
    "def determine_secondary_structure(E):\n",
    "    if E < -0.5:\n",
    "        return \"Hydrogen Bond Formed\"\n",
    "    else:\n",
    "        return \"No Hydrogen Bond\"\n",
    "\n",
    "# Contoh koordinat untuk 3 residu (dalam Ångström)\n",
    "residue1 = {'O': (1.0, 2.0, 3.0), 'N': (4.0, 5.0, 6.0), 'C': (2.0, 3.0, 4.0), 'H': (3.5, 4.5, 5.5)}\n",
    "residue2 = {'O': (2.5, 3.5, 4.5), 'N': (5.0, 6.0, 7.0), 'C': (3.0, 4.0, 5.0), 'H': (4.5, 5.5, 6.5)}\n",
    "residue3 = {'O': (3.0, 4.0, 5.0), 'N': (6.0, 7.0, 8.0), 'C': (4.0, 5.0, 6.0), 'H': (5.5, 6.5, 7.5)}\n",
    "\n",
    "# Hitung energi dan tentukan struktur sekunder\n",
    "for i, residue in enumerate([residue1, residue2, residue3], start=1):\n",
    "    E = hydrogen_bond_energy(residue)\n",
    "    structure = determine_secondary_structure(E)\n",
    "    print(f\"Residue {i}: Energy = {E:.2f} kcal/mol -> {structure}\")"
   ]
  }
 ],
 "metadata": {
  "kernelspec": {
   "display_name": "Python 3",
   "language": "python",
   "name": "python3"
  },
  "language_info": {
   "codemirror_mode": {
    "name": "ipython",
    "version": 3
   },
   "file_extension": ".py",
   "mimetype": "text/x-python",
   "name": "python",
   "nbconvert_exporter": "python",
   "pygments_lexer": "ipython3",
   "version": "3.10.12"
  }
 },
 "nbformat": 4,
 "nbformat_minor": 2
}
