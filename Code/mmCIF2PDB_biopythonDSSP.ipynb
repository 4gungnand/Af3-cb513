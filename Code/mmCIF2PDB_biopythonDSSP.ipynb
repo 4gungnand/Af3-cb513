{
 "cells": [
  {
   "cell_type": "markdown",
   "metadata": {},
   "source": [
    "# Starter"
   ]
  },
  {
   "cell_type": "markdown",
   "metadata": {},
   "source": [
    "In this code we convert the output of AlphaFold from mmCIF (.CIF) to PDB (.pdb) by using biopython library."
   ]
  },
  {
   "cell_type": "code",
   "execution_count": 2,
   "metadata": {},
   "outputs": [],
   "source": [
    "from Bio.PDB import MMCIFParser, DSSP\n",
    "\n",
    "# Load mmCIF file\n",
    "parser = MMCIFParser()\n",
    "structure = parser.get_structure(\"model\", \"fold_cb513_0/fold_cb513_0_model_0.cif\")\n",
    "\n",
    "# Run DSSP\n",
    "dssp = DSSP(structure[0], \"fold_cb513_0/fold_cb513_0_model_0.cif\", dssp='mkdssp')"
   ]
  },
  {
   "cell_type": "code",
   "execution_count": 3,
   "metadata": {},
   "outputs": [
    {
     "name": "stdout",
     "output_type": "stream",
     "text": [
      "(1, 'V', '-', 1.0, 360.0, 121.7, 0, 0.0, 2, -0.1, 0, 0.0, 0, 0.0)\n",
      "(2, 'P', '-', 0.5441176470588235, -68.7, 146.5, 0, 0.0, 2, -0.0, 0, 0.0, 0, 0.0)\n",
      "(3, 'S', '-', 0.46153846153846156, -72.8, 163.8, 1, -0.1, 4, -2.3, -2, -0.1, 5, -0.2)\n",
      "(4, 'L', 'H', 0.6402439024390244, -60.8, -35.5, 1, -0.2, 4, -2.6, 2, -0.2, 33, -0.2)\n",
      "(5, 'A', 'H', 0.2169811320754717, -62.4, -42.6, 2, -0.2, 4, -2.3, 1, -0.2, 32, -0.3)\n",
      "(6, 'T', 'H', 0.4225352112676056, -63.8, -45.2, 2, -0.2, 4, -2.5, 1, -0.2, -2, -0.2)\n",
      "(7, 'I', 'H', 0.378698224852071, -62.0, -42.8, -4, -2.3, 4, -2.6, 1, -0.2, -2, -0.2)\n",
      "(8, 'S', 'H', 0.12307692307692308, -60.4, -44.1, -4, -2.6, 4, -1.5, 1, -0.2, -1, -0.2)\n",
      "(9, 'L', 'H', 0.21341463414634146, -63.7, -44.3, -4, -2.3, 4, -0.6, 2, -0.2, -2, -0.2)\n",
      "(10, 'E', 'H', 0.6237113402061856, -60.7, -43.6, -4, -2.5, 3, -0.9, 1, -0.2, 4, -0.4)\n",
      "(11, 'N', 'H', 0.8152866242038217, -66.8, -28.0, -4, -2.6, 4, -0.2, 1, -0.2, -1, -0.2)\n",
      "(12, 'S', 'H', 0.2230769230769231, -101.1, 3.7, -4, -1.5, 4, -3.0, -5, -0.2, 5, -0.2)\n",
      "(13, 'W', 'H', 0.2775330396475771, -55.6, -48.7, -3, -0.9, 4, -2.6, -4, -0.6, 5, -0.2)\n",
      "(14, 'S', 'H', 0.7615384615384615, -63.2, -45.5, -4, -0.4, 4, -2.2, 1, -0.2, -1, -0.2)\n",
      "(15, 'G', 'H', 0.34523809523809523, -64.2, -40.6, -4, -0.2, 4, -2.3, 2, -0.2, -2, -0.2)\n",
      "(16, 'L', 'H', 0.0, -63.6, -45.7, -4, -3.0, 4, -2.1, 2, -0.2, -2, -0.2)\n",
      "(17, 'S', 'H', 0.03076923076923077, -58.7, -44.4, -4, -2.6, 4, -1.9, -5, -0.2, -2, -0.2)\n",
      "(18, 'K', 'H', 0.5609756097560976, -61.2, -44.4, -4, -2.2, 4, -2.3, 1, -0.2, -1, -0.2)\n",
      "(19, 'Q', 'H', 0.07575757575757576, -66.2, -34.5, -4, -2.3, 4, -2.4, 1, -0.2, -1, -0.2)\n",
      "(20, 'I', 'H', 0.01775147928994083, -62.4, -42.1, -4, -2.1, 4, -0.9, 2, -0.2, -1, -0.2)\n",
      "(21, 'Q', 'H', 0.16666666666666666, -62.0, -46.5, -4, -1.9, 3, -0.8, 1, -0.2, 4, -0.5)\n",
      "(22, 'L', 'H', 0.3597560975609756, -64.3, -34.3, -4, -2.3, 3, -1.2, 1, -0.2, -1, -0.2)\n",
      "(23, 'A', 'H', 0.0, -66.1, -23.5, -4, -2.4, 5, -2.7, 1, -0.3, 3, -1.8)\n",
      "(24, 'Q', 'T', 0.6767676767676768, -60.2, -31.2, -4, -0.9, 3, -0.3, -3, -0.8, -1, -0.3)\n",
      "(25, 'G', 'T', 0.8690476190476191, -100.6, 14.6, -3, -1.2, -1, -0.3, -4, -0.5, -2, -0.2)\n",
      "(26, 'N', 'T', 0.37579617834394907, -139.2, 38.3, -3, -1.8, 3, -2.0, 3, -0.0, -1, -0.2)\n",
      "(27, 'N', 'T', 1.0, 55.2, 33.4, -3, -0.3, -3, -0.2, 1, -0.3, 3, -0.1)\n",
      "(28, 'G', 'T', 0.17857142857142858, 80.7, 4.9, -5, -2.7, 21, -2.3, 1, -0.2, 2, -0.4)\n",
      "(29, 'I', 'E', 0.5266272189349113, -100.3, 132.1, -3, -2.0, 19, -0.3, -6, -0.4, -1, -0.2)\n",
      "(30, 'F', 'E', 0.05583756345177665, -68.8, 142.6, 17, -2.7, -10, -0.1, -2, -0.4, -11, -0.1)\n",
      "(31, 'R', 'E', 0.6935483870967742, -74.2, -35.1, 1, -0.3, -1, -0.1, -12, -0.2, -12, -0.0)\n",
      "(32, 'T', 'E', 0.5915492957746479, -129.2, 117.4, -3, -0.0, -1, -0.3, -13, -0.0, -13, -0.1)\n",
      "(33, 'P', 'E', 0.4338235294117647, -59.4, 145.5, 0, 0.0, 2, -0.5, 0, 0.0, 14, -0.2)\n",
      "(34, 'I', 'E', 0.13609467455621302, -104.2, 127.7, 12, -2.4, 12, -3.1, -18, -0.0, 2, -0.5)\n",
      "(35, 'V', 'E', 0.4154929577464789, -95.3, 124.7, -2, -0.5, 2, -0.3, 10, -0.2, 10, -0.2)\n",
      "(36, 'L', 'E', 0.06097560975609756, -120.2, 169.1, 8, -2.8, 8, -2.9, -2, -0.5, 2, -0.5)\n",
      "(37, 'V', 'E', 0.15492957746478872, -106.6, 130.3, -32, -0.3, 6, -0.2, -2, -0.3, -28, -0.2)\n",
      "(38, 'D', '-', 0.2392638036809816, -85.0, -178.4, 4, -2.9, 3, -1.9, -2, -0.5, -33, -0.1)\n",
      "(39, 'N', 'T', 0.8980891719745223, -69.3, -7.5, 1, -0.3, -35, -0.1, 2, -0.1, -1, -0.1)\n",
      "(40, 'K', 'T', 0.8146341463414634, -102.3, 0.4, 2, -0.2, -1, -0.3, -36, -0.0, 3, -0.1)\n",
      "(41, 'G', 'S', 0.5119047619047619, 87.3, 8.6, -3, -1.9, 2, -0.3, 1, -0.3, -2, -0.1)\n",
      "(42, 'N', '-', 0.5668789808917197, -91.6, 144.4, 1, -0.0, -4, -2.9, -5, -0.0, 2, -0.4)\n",
      "(43, 'R', 'E', 0.8104838709677419, -77.2, 130.5, -2, -0.3, 2, -0.4, -6, -0.2, -6, -0.2)\n",
      "(44, 'V', 'E', 0.3732394366197183, -130.2, 142.3, -8, -2.9, -8, -2.8, -2, -0.4, 2, -0.4)\n",
      "(45, 'Q', 'E', 0.6818181818181818, -94.3, 131.6, -2, -0.4, 2, -0.6, -10, -0.2, -10, -0.2)\n",
      "(46, 'I', 'E', 0.07692307692307693, -102.9, 116.1, -12, -3.1, -12, -2.4, -2, -0.4, 3, -0.1)\n",
      "(47, 'T', 'E', 0.3732394366197183, -117.0, -8.6, -2, -0.6, -17, -2.7, -14, -0.2, 2, -0.3)\n",
      "(48, 'N', 'E', 0.2611464968152866, -158.7, 172.8, -19, -0.3, 3, -1.1, -17, -0.0, -19, -0.2)\n",
      "(49, 'V', 'T', 0.2746478873239437, -77.2, -7.5, -21, -2.3, -20, -0.1, -2, -0.3, 9, -0.1)\n",
      "(50, 'T', 'T', 0.7535211267605634, -85.1, -8.3, -22, -0.3, -1, -0.2, 4, -0.1, -21, -0.1)\n",
      "(51, 'S', 'S', 0.2, -60.0, 143.7, -3, -1.1, 4, -2.5, 1, -0.1, 3, -0.9)\n",
      "(52, 'K', 'H', 0.8195121951219512, -57.0, -39.8, 1, -0.3, 4, -2.3, 2, -0.2, 5, -0.2)\n",
      "(53, 'V', 'H', 0.21830985915492956, -62.9, -31.4, 1, -0.2, 4, -0.5, 2, -0.2, -1, -0.3)\n",
      "(54, 'V', 'H', 0.0, -76.8, -50.9, -3, -0.9, 4, -1.3, -6, -0.2, 3, -1.0)\n",
      "(55, 'T', 'H', 0.5633802816901409, -62.9, -29.9, -4, -2.5, 4, -0.2, 1, -0.3, -2, -0.2)\n",
      "(56, 'S', 'H', 0.5846153846153846, -76.7, -20.1, -4, -2.3, -1, -0.3, -5, -0.3, -2, -0.2)\n",
      "(57, 'N', 'H', 0.267515923566879, -129.6, 8.6, -3, -1.0, 4, -2.4, -4, -0.5, 3, -0.3)\n",
      "(58, 'I', 'H', 0.3431952662721893, -59.3, -39.2, -4, -1.3, 4, -2.8, 1, -0.2, 5, -0.2)\n",
      "(59, 'Q', 'H', 0.5959595959595959, -64.2, -43.9, -4, -0.2, 4, -2.6, 1, -0.2, -1, -0.2)\n",
      "(60, 'L', 'H', 0.6280487804878049, -65.9, -40.3, -3, -0.3, 4, -2.5, 2, -0.2, -1, -0.2)\n",
      "(61, 'L', 'H', 0.0, -64.5, -42.6, -4, -2.4, 4, -1.2, 2, -0.2, -2, -0.2)\n",
      "(62, 'L', 'H', 0.1951219512195122, -67.6, -43.5, -4, -2.8, 4, -1.8, -5, -0.2, 3, -0.2)\n",
      "(63, 'N', 'H', 0.445859872611465, -62.1, -42.9, -4, -2.6, 4, -1.1, -5, -0.2, -2, -0.2)\n",
      "(64, 'T', 'H', 0.6126760563380281, -59.9, -34.1, -4, -2.5, -1, -0.2, 1, -0.2, -2, -0.2)\n",
      "(65, 'R', 'H', 0.5846774193548387, -80.4, -29.9, -4, -1.2, -1, -0.2, -3, -0.2, -2, -0.2)\n",
      "(66, 'N', 'H', 0.6942675159235668, -109.3, 5.9, -4, -1.8, -2, -0.2, -3, -0.1, -1, -0.2)\n",
      "(67, 'I', '-', 1.0, -82.3, 360.0, -4, -1.1, -4, -0.0, -3, -0.1, 0, 0.0)\n"
     ]
    }
   ],
   "source": [
    "# Print all DSSP output\n",
    "for key in dssp.keys():\n",
    "    residue = dssp[key]\n",
    "    print(residue)"
   ]
  },
  {
   "cell_type": "code",
   "execution_count": 8,
   "metadata": {},
   "outputs": [
    {
     "name": "stdout",
     "output_type": "stream",
     "text": [
      "VPSLATISLENSWSGLSKQIQLAQGNNGIFRTPIVLVDNKGNRVQITNVTSKVVTSNIQLLLNTRNI\n",
      "---HHHHHHHHHHHHHHHHHHHHTTTTTEEEEEEEEE-TTS-EEEEEETTSHHHHHHHHHHHHHHH-\n"
     ]
    }
   ],
   "source": [
    "# Combine all the residue into one string called residue\n",
    "# Combine all the predicted secondary structure one string called ss\n",
    "# Return the residue and ss\n",
    "\n",
    "residue = \"\"\n",
    "ss = \"\"\n",
    "\n",
    "for key in dssp.keys():\n",
    "    residue += dssp[key][1]\n",
    "    ss += dssp[key][2]\n",
    "\n",
    "print(residue)\n",
    "print(ss)"
   ]
  },
  {
   "cell_type": "code",
   "execution_count": 16,
   "metadata": {},
   "outputs": [
    {
     "data": {
      "image/png": "[encoded data removed]",
      "text/plain": [
       "<Figure size 1500x100 with 1 Axes>"
      ]
     },
     "metadata": {},
     "output_type": "display_data"
    }
   ],
   "source": [
    "import matplotlib.pyplot as plt\n",
    "\n",
    "# Your sequence and secondary structure\n",
    "sequence = \"VPSLATISLENSWSGLSKQIQLAQGNNGIFRTPIVLVDNKGNRVQITNVTSKVVTSNIQLLLNTRNI\"\n",
    "secondary_structure = \"---HHHHHHHHHHHHHHHHHHHHTTTTTEEEEEEEEE-TTS-EEEEEETTSHHHHHHHHHHHHHHH-\"\n",
    "\n",
    "# Define colors for secondary structure elements using 8-state DSSP\n",
    "colors = {'H': 'red', 'B': 'blue', 'E': 'blue', 'G': 'purple', 'I': 'orange', 'T': 'green', 'S': 'yellow', '-': 'gray'}\n",
    "\n",
    "# Create a list of colors corresponding to the secondary structure\n",
    "color_list = [colors[ss] for ss in secondary_structure]\n",
    "\n",
    "# Plot\n",
    "fig, ax = plt.subplots(figsize=(15, 1))\n",
    "ax.bar(range(len(sequence)), [1]*len(sequence), color=color_list)\n",
    "ax.set_xticks(range(len(sequence)))\n",
    "ax.set_xticklabels(sequence, rotation=0, fontsize=10)\n",
    "ax.set_yticks([])\n",
    "ax.set_title(\"Secondary Structure Visualization\")\n",
    "\n",
    "plt.show()"
   ]
  }
 ],
 "metadata": {
  "kernelspec": {
   "display_name": "Python 3",
   "language": "python",
   "name": "python3"
  },
  "language_info": {
   "codemirror_mode": {
    "name": "ipython",
    "version": 3
   },
   "file_extension": ".py",
   "mimetype": "text/x-python",
   "name": "python",
   "nbconvert_exporter": "python",
   "pygments_lexer": "ipython3",
   "version": "3.10.12"
  }
 },
 "nbformat": 4,
 "nbformat_minor": 2
}
