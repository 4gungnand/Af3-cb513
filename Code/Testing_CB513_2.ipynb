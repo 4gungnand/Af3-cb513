{
 "cells": [
  {
   "cell_type": "markdown",
   "metadata": {},
   "source": [
    "# Testing"
   ]
  },
  {
   "cell_type": "code",
   "execution_count": 1,
   "metadata": {},
   "outputs": [],
   "source": [
    "# Import libraries\n",
    "import pandas as pd\n",
    "import matplotlib.pyplot as plt\n",
    "from sklearn.metrics import precision_recall_fscore_support"
   ]
  },
  {
   "cell_type": "code",
   "execution_count": 2,
   "metadata": {},
   "outputs": [],
   "source": [
    "df_cb513_2 = pd.read_csv(f\"../Data/Postprocessed/cb513_2_dssp.csv\")\n",
    "df_test_cb513_2 = pd.read_csv(f\"../Data/Preprocessed/cb513_preprocessed.csv\") # Original dataset"
   ]
  },
  {
   "cell_type": "markdown",
   "metadata": {},
   "source": [
    "## Cleaning"
   ]
  },
  {
   "cell_type": "code",
   "execution_count": 3,
   "metadata": {},
   "outputs": [
    {
     "data": {
      "text/html": [
       "<div>\n",
       "<style scoped>\n",
       "    .dataframe tbody tr th:only-of-type {\n",
       "        vertical-align: middle;\n",
       "    }\n",
       "\n",
       "    .dataframe tbody tr th {\n",
       "        vertical-align: top;\n",
       "    }\n",
       "\n",
       "    .dataframe thead th {\n",
       "        text-align: right;\n",
       "    }\n",
       "</style>\n",
       "<table border=\"1\" class=\"dataframe\">\n",
       "  <thead>\n",
       "    <tr style=\"text-align: right;\">\n",
       "      <th></th>\n",
       "      <th>id</th>\n",
       "      <th>length</th>\n",
       "      <th>residue</th>\n",
       "      <th>predicted_dssp8</th>\n",
       "    </tr>\n",
       "  </thead>\n",
       "  <tbody>\n",
       "    <tr>\n",
       "      <th>0</th>\n",
       "      <td>0</td>\n",
       "      <td>67</td>\n",
       "      <td>VPSLATISLENSWSGLSKQIQLAQGNNGIFRTPIVLVDNKGNRVQI...</td>\n",
       "      <td>---HHHHHHHHHHHHHHHHHHHHTTTTTEEEEEEEEE-TTS-EEEE...</td>\n",
       "    </tr>\n",
       "    <tr>\n",
       "      <th>1</th>\n",
       "      <td>1</td>\n",
       "      <td>87</td>\n",
       "      <td>MFKVYGYDSNIHKCVYCDNAKRLLTVKKQPFEFINIMPEKGVFDDE...</td>\n",
       "      <td>-EEEEE--TTTS--HHHHHHHHHHHHTT--EEEEES-SBTTB--HH...</td>\n",
       "    </tr>\n",
       "    <tr>\n",
       "      <th>2</th>\n",
       "      <td>2</td>\n",
       "      <td>449</td>\n",
       "      <td>TPEMPVLENRAAQGNITAPGGARRLTGDQTAALRNSLSDKPAKNII...</td>\n",
       "      <td>--SS---S--S--S-TTSTTTT-S-SS--HHHHHHT---SPPSEEE...</td>\n",
       "    </tr>\n",
       "    <tr>\n",
       "      <th>3</th>\n",
       "      <td>3</td>\n",
       "      <td>108</td>\n",
       "      <td>APAFSVSPASGASDGQSVSVSVAAAGETYYIAQCAPVGGQDACNPA...</td>\n",
       "      <td>--EEEEES-SSBPTT-EEEEEEE--SSEEEEEEEEEETTEEEE-TT...</td>\n",
       "    </tr>\n",
       "    <tr>\n",
       "      <th>4</th>\n",
       "      <td>4</td>\n",
       "      <td>349</td>\n",
       "      <td>TPAFNKPKVELHVHLDGAIKPETILYFGKKRGIALPADTVEELRNI...</td>\n",
       "      <td>--S--S-EEEEEEESTTS--HHHHHHHHHHHT---S-SSHHHHHHH...</td>\n",
       "    </tr>\n",
       "  </tbody>\n",
       "</table>\n",
       "</div>"
      ],
      "text/plain": [
       "   id  length                                            residue  \\\n",
       "0   0      67  VPSLATISLENSWSGLSKQIQLAQGNNGIFRTPIVLVDNKGNRVQI...   \n",
       "1   1      87  MFKVYGYDSNIHKCVYCDNAKRLLTVKKQPFEFINIMPEKGVFDDE...   \n",
       "2   2     449  TPEMPVLENRAAQGNITAPGGARRLTGDQTAALRNSLSDKPAKNII...   \n",
       "3   3     108  APAFSVSPASGASDGQSVSVSVAAAGETYYIAQCAPVGGQDACNPA...   \n",
       "4   4     349  TPAFNKPKVELHVHLDGAIKPETILYFGKKRGIALPADTVEELRNI...   \n",
       "\n",
       "                                     predicted_dssp8  \n",
       "0  ---HHHHHHHHHHHHHHHHHHHHTTTTTEEEEEEEEE-TTS-EEEE...  \n",
       "1  -EEEEE--TTTS--HHHHHHHHHHHHTT--EEEEES-SBTTB--HH...  \n",
       "2  --SS---S--S--S-TTSTTTT-S-SS--HHHHHHT---SPPSEEE...  \n",
       "3  --EEEEES-SSBPTT-EEEEEEE--SSEEEEEEEEEETTEEEE-TT...  \n",
       "4  --S--S-EEEEEEESTTS--HHHHHHHHHHHT---S-SSHHHHHHH...  "
      ]
     },
     "execution_count": 3,
     "metadata": {},
     "output_type": "execute_result"
    }
   ],
   "source": [
    "df_cb513_2.head()"
   ]
  },
  {
   "cell_type": "code",
   "execution_count": 4,
   "metadata": {},
   "outputs": [
    {
     "data": {
      "text/html": [
       "<div>\n",
       "<style scoped>\n",
       "    .dataframe tbody tr th:only-of-type {\n",
       "        vertical-align: middle;\n",
       "    }\n",
       "\n",
       "    .dataframe tbody tr th {\n",
       "        vertical-align: top;\n",
       "    }\n",
       "\n",
       "    .dataframe thead th {\n",
       "        text-align: right;\n",
       "    }\n",
       "</style>\n",
       "<table border=\"1\" class=\"dataframe\">\n",
       "  <thead>\n",
       "    <tr style=\"text-align: right;\">\n",
       "      <th></th>\n",
       "      <th>id</th>\n",
       "      <th>length</th>\n",
       "      <th>residue</th>\n",
       "      <th>dssp8</th>\n",
       "      <th>dssp3</th>\n",
       "    </tr>\n",
       "  </thead>\n",
       "  <tbody>\n",
       "    <tr>\n",
       "      <th>0</th>\n",
       "      <td>0</td>\n",
       "      <td>67</td>\n",
       "      <td>VPSLATISLENSWSGLSKQIQLAQGNNGIFRTPIVLVDNKGNRVQI...</td>\n",
       "      <td>LLLHHHHHHHHHHHHHHHHHHHHTTTTTEEEEEEEELLSSSSLEEE...</td>\n",
       "      <td>CCCHHHHHHHHHHHHHHHHHHHHCCCCCEEEEEEEECCCCCCCEEE...</td>\n",
       "    </tr>\n",
       "    <tr>\n",
       "      <th>1</th>\n",
       "      <td>1</td>\n",
       "      <td>87</td>\n",
       "      <td>MFKVYGYDSNIHKCVYCDNAKRLLTVKKQPFEFINIMPEKGVFDDE...</td>\n",
       "      <td>LEEEEELLTTTSLLHHHHHHHHHHHHTTLLEEEEESLSBTTBLLHH...</td>\n",
       "      <td>CEEEEECCCCCCCCHHHHHHHHHHHHCCCCEEEEECCCECCECCHH...</td>\n",
       "    </tr>\n",
       "    <tr>\n",
       "      <th>2</th>\n",
       "      <td>2</td>\n",
       "      <td>449</td>\n",
       "      <td>TPEMPVLENRAAQGNITAPGGARRLTGDQTAALRNSLSDKPAKNII...</td>\n",
       "      <td>LLLLLLLLLLSLLSLTTSTTTTLLLSSLLHHHHHHHLLLSLLSEEE...</td>\n",
       "      <td>CCCCCCCCCCCCCCCCCCCCCCCCCCCCCHHHHHHHCCCCCCCEEE...</td>\n",
       "    </tr>\n",
       "    <tr>\n",
       "      <th>3</th>\n",
       "      <td>3</td>\n",
       "      <td>108</td>\n",
       "      <td>APAFSVSPASGASDGQSVSVSVAAAGETYYIAQCAPVGGQDACNPA...</td>\n",
       "      <td>LLEEEEELLSSLLSSLEEEEEEESLLSEEEEEEELEETTEELLLTT...</td>\n",
       "      <td>CCEEEEECCCCCCCCCEEEEEEECCCCEEEEEEECEECCEECCCCC...</td>\n",
       "    </tr>\n",
       "    <tr>\n",
       "      <th>4</th>\n",
       "      <td>4</td>\n",
       "      <td>349</td>\n",
       "      <td>TPAFNKPKVELHVHLDGAIKPETILYFGKKRGIALPADTVEELRNI...</td>\n",
       "      <td>LLSLLSLEEEEEEEGGGSLLHHHHHHHHHHHTLLLSLSSHHHHHHH...</td>\n",
       "      <td>CCCCCCCEEEEEEEHHHCCCHHHHHHHHHHHCCCCCCCCHHHHHHH...</td>\n",
       "    </tr>\n",
       "    <tr>\n",
       "      <th>...</th>\n",
       "      <td>...</td>\n",
       "      <td>...</td>\n",
       "      <td>...</td>\n",
       "      <td>...</td>\n",
       "      <td>...</td>\n",
       "    </tr>\n",
       "    <tr>\n",
       "      <th>509</th>\n",
       "      <td>509</td>\n",
       "      <td>171</td>\n",
       "      <td>XRCGEQGSNMECPNNLCCSQYGYCGMGGDYCGKGCQNGACWTSKRC...</td>\n",
       "      <td>LLLBGGGTTBLLGGGLEELTTSLEELSHHHHSTTLLSSSLSSLLBL...</td>\n",
       "      <td>CCCEHHHCCECCHHHCEECCCCCEECCHHHHCCCCCCCCCCCCCEC...</td>\n",
       "    </tr>\n",
       "    <tr>\n",
       "      <th>510</th>\n",
       "      <td>510</td>\n",
       "      <td>211</td>\n",
       "      <td>MYGNWGRFIRVNLSTGDIKVEEYDEELAKKWLGSRGLAIYLLLKEM...</td>\n",
       "      <td>LLSSLSEEEEEETTTTEEEEEELLHHHHHHHLSHHHHHHHHHHHHS...</td>\n",
       "      <td>CCCCCCEEEEEECCCCEEEEEECCHHHHHHHCCHHHHHHHHHHHHC...</td>\n",
       "    </tr>\n",
       "    <tr>\n",
       "      <th>511</th>\n",
       "      <td>511</td>\n",
       "      <td>291</td>\n",
       "      <td>MPPITQQATVTAWLPQVDASQITGTISSLESFTNRFYTTTSGAQAS...</td>\n",
       "      <td>LLLLLLHHHHHHHGGGLLHHHHHHHHHHHHTSSLLLTTSHHHHHHH...</td>\n",
       "      <td>CCCCCCHHHHHHHHHHCCHHHHHHHHHHHHCCCCCCCCCHHHHHHH...</td>\n",
       "    </tr>\n",
       "    <tr>\n",
       "      <th>512</th>\n",
       "      <td>512</td>\n",
       "      <td>700</td>\n",
       "      <td>XRAKVAMSHFEPHEYIRYDLLEKNIDIVRKRLNRPLTLSEKIVYGH...</td>\n",
       "      <td>LLSLLBSLSSLTTSBLLHHHHHHHHHHHHHHHLSLLLHHHHHHHTT...</td>\n",
       "      <td>CCCCCECCCCCCCCECCHHHHHHHHHHHHHHHCCCCCHHHHHHHCC...</td>\n",
       "    </tr>\n",
       "    <tr>\n",
       "      <th>513</th>\n",
       "      <td>513</td>\n",
       "      <td>700</td>\n",
       "      <td>IERGKTYLRLRPDRVAMQDATAQMAMLQFISSGLPKVAVPSTIHCD...</td>\n",
       "      <td>LLTTTSEEEELLSEEEEEHHHHHHHHHHHHHHTLSSLSSLEEEELL...</td>\n",
       "      <td>CCCCCCEEEECCCEEEEEHHHHHHHHHHHHHHCCCCCCCCEEEECC...</td>\n",
       "    </tr>\n",
       "  </tbody>\n",
       "</table>\n",
       "<p>514 rows × 5 columns</p>\n",
       "</div>"
      ],
      "text/plain": [
       "      id  length                                            residue  \\\n",
       "0      0      67  VPSLATISLENSWSGLSKQIQLAQGNNGIFRTPIVLVDNKGNRVQI...   \n",
       "1      1      87  MFKVYGYDSNIHKCVYCDNAKRLLTVKKQPFEFINIMPEKGVFDDE...   \n",
       "2      2     449  TPEMPVLENRAAQGNITAPGGARRLTGDQTAALRNSLSDKPAKNII...   \n",
       "3      3     108  APAFSVSPASGASDGQSVSVSVAAAGETYYIAQCAPVGGQDACNPA...   \n",
       "4      4     349  TPAFNKPKVELHVHLDGAIKPETILYFGKKRGIALPADTVEELRNI...   \n",
       "..   ...     ...                                                ...   \n",
       "509  509     171  XRCGEQGSNMECPNNLCCSQYGYCGMGGDYCGKGCQNGACWTSKRC...   \n",
       "510  510     211  MYGNWGRFIRVNLSTGDIKVEEYDEELAKKWLGSRGLAIYLLLKEM...   \n",
       "511  511     291  MPPITQQATVTAWLPQVDASQITGTISSLESFTNRFYTTTSGAQAS...   \n",
       "512  512     700  XRAKVAMSHFEPHEYIRYDLLEKNIDIVRKRLNRPLTLSEKIVYGH...   \n",
       "513  513     700  IERGKTYLRLRPDRVAMQDATAQMAMLQFISSGLPKVAVPSTIHCD...   \n",
       "\n",
       "                                                 dssp8  \\\n",
       "0    LLLHHHHHHHHHHHHHHHHHHHHTTTTTEEEEEEEELLSSSSLEEE...   \n",
       "1    LEEEEELLTTTSLLHHHHHHHHHHHHTTLLEEEEESLSBTTBLLHH...   \n",
       "2    LLLLLLLLLLSLLSLTTSTTTTLLLSSLLHHHHHHHLLLSLLSEEE...   \n",
       "3    LLEEEEELLSSLLSSLEEEEEEESLLSEEEEEEELEETTEELLLTT...   \n",
       "4    LLSLLSLEEEEEEEGGGSLLHHHHHHHHHHHTLLLSLSSHHHHHHH...   \n",
       "..                                                 ...   \n",
       "509  LLLBGGGTTBLLGGGLEELTTSLEELSHHHHSTTLLSSSLSSLLBL...   \n",
       "510  LLSSLSEEEEEETTTTEEEEEELLHHHHHHHLSHHHHHHHHHHHHS...   \n",
       "511  LLLLLLHHHHHHHGGGLLHHHHHHHHHHHHTSSLLLTTSHHHHHHH...   \n",
       "512  LLSLLBSLSSLTTSBLLHHHHHHHHHHHHHHHLSLLLHHHHHHHTT...   \n",
       "513  LLTTTSEEEELLSEEEEEHHHHHHHHHHHHHHTLSSLSSLEEEELL...   \n",
       "\n",
       "                                                 dssp3  \n",
       "0    CCCHHHHHHHHHHHHHHHHHHHHCCCCCEEEEEEEECCCCCCCEEE...  \n",
       "1    CEEEEECCCCCCCCHHHHHHHHHHHHCCCCEEEEECCCECCECCHH...  \n",
       "2    CCCCCCCCCCCCCCCCCCCCCCCCCCCCCHHHHHHHCCCCCCCEEE...  \n",
       "3    CCEEEEECCCCCCCCCEEEEEEECCCCEEEEEEECEECCEECCCCC...  \n",
       "4    CCCCCCCEEEEEEEHHHCCCHHHHHHHHHHHCCCCCCCCHHHHHHH...  \n",
       "..                                                 ...  \n",
       "509  CCCEHHHCCECCHHHCEECCCCCEECCHHHHCCCCCCCCCCCCCEC...  \n",
       "510  CCCCCCEEEEEECCCCEEEEEECCHHHHHHHCCHHHHHHHHHHHHC...  \n",
       "511  CCCCCCHHHHHHHHHHCCHHHHHHHHHHHHCCCCCCCCCHHHHHHH...  \n",
       "512  CCCCCECCCCCCCCECCHHHHHHHHHHHHHHHCCCCCHHHHHHHCC...  \n",
       "513  CCCCCCEEEECCCEEEEEHHHHHHHHHHHHHHCCCCCCCCEEEECC...  \n",
       "\n",
       "[514 rows x 5 columns]"
      ]
     },
     "execution_count": 4,
     "metadata": {},
     "output_type": "execute_result"
    }
   ],
   "source": [
    "df_test_cb513_2"
   ]
  },
  {
   "cell_type": "markdown",
   "metadata": {},
   "source": [
    "| Code | Structure                     |\n",
    "|------|-------------------------------|\n",
    "| H    | Alpha helix (4-12)            |\n",
    "| B    | Isolated beta-bridge residue  |\n",
    "| E    | Strand                        |\n",
    "| G    | 3-10 helix                    |\n",
    "| I    | Pi helix                      |\n",
    "| T    | Turn                          |\n",
    "| S    | Bend                          |\n",
    "| C    | Coil                          | \n",
    "\n",
    "- Some dataset may use different code for the last structure, such as space '' or 'L', but in this case we use 'C'\n",
    "- DSSP version 4 predicts can predict P state but it is not used in this case, so we convert it to 'C' because it is not a common structure https://chatgpt.com/share/681d8142-dd3c-8005-a045-f54247344b66"
   ]
  },
  {
   "cell_type": "code",
   "execution_count": 5,
   "metadata": {},
   "outputs": [],
   "source": [
    "# Standarkan format struktur sekunder prediksi menggunakan regex\n",
    "df_cb513_2['predicted_dssp8'] = df_cb513_2['predicted_dssp8'].str.replace('-', 'C', regex=True)\n",
    "df_cb513_2['predicted_dssp8'] = df_cb513_2['predicted_dssp8'].str.replace('P', 'C', regex=True)"
   ]
  },
  {
   "cell_type": "code",
   "execution_count": 6,
   "metadata": {},
   "outputs": [],
   "source": [
    "# Standarkan format struktur sekunder prediksi menggunakan regex\n",
    "df_test_cb513_2['dssp8'] = df_test_cb513_2['dssp8'].str.replace('L', 'C', regex=True)"
   ]
  },
  {
   "cell_type": "code",
   "execution_count": 7,
   "metadata": {},
   "outputs": [
    {
     "data": {
      "text/html": [
       "<div>\n",
       "<style scoped>\n",
       "    .dataframe tbody tr th:only-of-type {\n",
       "        vertical-align: middle;\n",
       "    }\n",
       "\n",
       "    .dataframe tbody tr th {\n",
       "        vertical-align: top;\n",
       "    }\n",
       "\n",
       "    .dataframe thead th {\n",
       "        text-align: right;\n",
       "    }\n",
       "</style>\n",
       "<table border=\"1\" class=\"dataframe\">\n",
       "  <thead>\n",
       "    <tr style=\"text-align: right;\">\n",
       "      <th></th>\n",
       "      <th>dssp8</th>\n",
       "      <th>predicted_dssp8</th>\n",
       "    </tr>\n",
       "  </thead>\n",
       "  <tbody>\n",
       "    <tr>\n",
       "      <th>0</th>\n",
       "      <td>CCCHHHHHHHHHHHHHHHHHHHHTTTTTEEEEEEEECCSSSSCEEE...</td>\n",
       "      <td>CCCHHHHHHHHHHHHHHHHHHHHTTTTTEEEEEEEEECTTSCEEEE...</td>\n",
       "    </tr>\n",
       "    <tr>\n",
       "      <th>1</th>\n",
       "      <td>CEEEEECCTTTSCCHHHHHHHHHHHHTTCCEEEEESCSBTTBCCHH...</td>\n",
       "      <td>CEEEEECCTTTSCCHHHHHHHHHHHHTTCCEEEEESCSBTTBCCHH...</td>\n",
       "    </tr>\n",
       "    <tr>\n",
       "      <th>2</th>\n",
       "      <td>CCCCCCCCCCSCCSCTTSTTTTCCCSSCCHHHHHHHCCCSCCSEEE...</td>\n",
       "      <td>CCSSCCCSCCSCCSCTTSTTTTCSCSSCCHHHHHHTCCCSCCSEEE...</td>\n",
       "    </tr>\n",
       "    <tr>\n",
       "      <th>3</th>\n",
       "      <td>CCEEEEECCSSCCSSCEEEEEEESCCSEEEEEEECEETTEECCCTT...</td>\n",
       "      <td>CCEEEEESCSSBCTTCEEEEEEECCSSEEEEEEEEEETTEEEECTT...</td>\n",
       "    </tr>\n",
       "    <tr>\n",
       "      <th>4</th>\n",
       "      <td>CCSCCSCEEEEEEEGGGSCCHHHHHHHHHHHTCCCSCSSHHHHHHH...</td>\n",
       "      <td>CCSCCSCEEEEEEESTTSCCHHHHHHHHHHHTCCCSCSSHHHHHHH...</td>\n",
       "    </tr>\n",
       "    <tr>\n",
       "      <th>...</th>\n",
       "      <td>...</td>\n",
       "      <td>...</td>\n",
       "    </tr>\n",
       "    <tr>\n",
       "      <th>503</th>\n",
       "      <td>CCSSCCCTHHHHHHHHHHHGGGCBCCCTTC</td>\n",
       "      <td>CCCSCCCTTHHHHHHHHHHHHTCSSCCCCC</td>\n",
       "    </tr>\n",
       "    <tr>\n",
       "      <th>504</th>\n",
       "      <td>CCSCEETTTTTCCCCCCBCCSSBCHHHHHHHHHHHHHHHHHHSCCC...</td>\n",
       "      <td>CCSCEETTTTTCCCCCCBCTTSBCHHHHHHHHHHHHHHHHHHSCCC...</td>\n",
       "    </tr>\n",
       "    <tr>\n",
       "      <th>505</th>\n",
       "      <td>CCSSCSEEEEEETTTTEEEEEECCHHHHHHHCSHHHHHHHHHHHHS...</td>\n",
       "      <td>CCSCCSEEEEEETTTCCEEEEECCHHHHHHHCSTHHHHHHHHHHHS...</td>\n",
       "    </tr>\n",
       "    <tr>\n",
       "      <th>506</th>\n",
       "      <td>CCCCCCHHHHHHHGGGCCHHHHHHHHHHHHTSSCCCTTSHHHHHHH...</td>\n",
       "      <td>CCCCCCHHHHHHHGGGCCHHHHHHHHHHHHTSSCCCTTSHHHHHHH...</td>\n",
       "    </tr>\n",
       "    <tr>\n",
       "      <th>507</th>\n",
       "      <td>CCTTTSEEEECCSEEEEEHHHHHHHHHHHHHHTCSSCSSCEEEECC...</td>\n",
       "      <td>CCTTTCEEEECCSEEEEEHHHHHHHHHHHHHHTCSSCSSCEEEECC...</td>\n",
       "    </tr>\n",
       "  </tbody>\n",
       "</table>\n",
       "<p>508 rows × 2 columns</p>\n",
       "</div>"
      ],
      "text/plain": [
       "                                                 dssp8  \\\n",
       "0    CCCHHHHHHHHHHHHHHHHHHHHTTTTTEEEEEEEECCSSSSCEEE...   \n",
       "1    CEEEEECCTTTSCCHHHHHHHHHHHHTTCCEEEEESCSBTTBCCHH...   \n",
       "2    CCCCCCCCCCSCCSCTTSTTTTCCCSSCCHHHHHHHCCCSCCSEEE...   \n",
       "3    CCEEEEECCSSCCSSCEEEEEEESCCSEEEEEEECEETTEECCCTT...   \n",
       "4    CCSCCSCEEEEEEEGGGSCCHHHHHHHHHHHTCCCSCSSHHHHHHH...   \n",
       "..                                                 ...   \n",
       "503                     CCSSCCCTHHHHHHHHHHHGGGCBCCCTTC   \n",
       "504  CCSCEETTTTTCCCCCCBCCSSBCHHHHHHHHHHHHHHHHHHSCCC...   \n",
       "505  CCSSCSEEEEEETTTTEEEEEECCHHHHHHHCSHHHHHHHHHHHHS...   \n",
       "506  CCCCCCHHHHHHHGGGCCHHHHHHHHHHHHTSSCCCTTSHHHHHHH...   \n",
       "507  CCTTTSEEEECCSEEEEEHHHHHHHHHHHHHHTCSSCSSCEEEECC...   \n",
       "\n",
       "                                       predicted_dssp8  \n",
       "0    CCCHHHHHHHHHHHHHHHHHHHHTTTTTEEEEEEEEECTTSCEEEE...  \n",
       "1    CEEEEECCTTTSCCHHHHHHHHHHHHTTCCEEEEESCSBTTBCCHH...  \n",
       "2    CCSSCCCSCCSCCSCTTSTTTTCSCSSCCHHHHHHTCCCSCCSEEE...  \n",
       "3    CCEEEEESCSSBCTTCEEEEEEECCSSEEEEEEEEEETTEEEECTT...  \n",
       "4    CCSCCSCEEEEEEESTTSCCHHHHHHHHHHHTCCCSCSSHHHHHHH...  \n",
       "..                                                 ...  \n",
       "503                     CCCSCCCTTHHHHHHHHHHHHTCSSCCCCC  \n",
       "504  CCSCEETTTTTCCCCCCBCTTSBCHHHHHHHHHHHHHHHHHHSCCC...  \n",
       "505  CCSCCSEEEEEETTTCCEEEEECCHHHHHHHCSTHHHHHHHHHHHS...  \n",
       "506  CCCCCCHHHHHHHGGGCCHHHHHHHHHHHHTSSCCCTTSHHHHHHH...  \n",
       "507  CCTTTCEEEECCSEEEEEHHHHHHHHHHHHHHTCSSCSSCEEEECC...  \n",
       "\n",
       "[508 rows x 2 columns]"
      ]
     },
     "execution_count": 7,
     "metadata": {},
     "output_type": "execute_result"
    }
   ],
   "source": [
    "# Merge the two DataFrames on the 'id' column\n",
    "df_merged = pd.merge(df_cb513_2, df_test_cb513_2, on='id', suffixes=('_predicted', '_actual'))\n",
    "\n",
    "df_merged[['dssp8', 'predicted_dssp8']]"
   ]
  },
  {
   "cell_type": "markdown",
   "metadata": {},
   "source": [
    "## Definisi fungsi"
   ]
  },
  {
   "cell_type": "markdown",
   "metadata": {},
   "source": [
    "$$Q_s =  \\frac{∑^s_{i=1} C_i}{n}×100\\%$$\n",
    "\n",
    "Dengan:\n",
    "- $C_i$ = Jumlah residu yang terprediksi dengan benar\n",
    "- $n$ = Jumlah residu yang terprediksi\n",
    "- $s$ = Jumlah State yang ada (8 state atau 3 state)"
   ]
  },
  {
   "cell_type": "code",
   "execution_count": 8,
   "metadata": {},
   "outputs": [],
   "source": [
    "def calculate_q_score(predicted, actual):\n",
    "    \"\"\"\n",
    "    Menghitung Q_s untuk satu protein.\n",
    "    \n",
    "    Args:\n",
    "        predicted (str): Struktur sekunder yang diprediksi.\n",
    "        actual (str): Struktur sekunder yang sebenarnya.\n",
    "    \n",
    "    Returns:\n",
    "        float: Nilai Q_s dalam persen.\n",
    "    \"\"\"\n",
    "    correct = sum(1 for p, a in zip(predicted, actual) if p == a)\n",
    "    total = len(actual)\n",
    "    return (correct / total) * 100 if total > 0 else 0"
   ]
  },
  {
   "cell_type": "markdown",
   "metadata": {},
   "source": [
    "$$Q_{avg} = \\frac{\\sum{Q_s}}{n_{protein}}$$\n",
    "\n",
    "Dengan:\n",
    "- $Q_{avg}$ = Akurasi skor-Q rata-rata dari semua protein\n",
    "- $Q_s$ = Akurasi skor-Q dari setiap protein\n",
    "- $n_{protein}$ = Jumlah protein yang diuji"
   ]
  },
  {
   "cell_type": "code",
   "execution_count": 9,
   "metadata": {},
   "outputs": [],
   "source": [
    "def calculate_q_average(predicted_list, actual_list):\n",
    "    \"\"\"\n",
    "    Menghitung Q_avg untuk semua protein dalam dataset.\n",
    "    \n",
    "    Args:\n",
    "        predicted_list (list of str): Daftar struktur sekunder yang diprediksi.\n",
    "        actual_list (list of str): Daftar struktur sekunder yang sebenarnya.\n",
    "    \n",
    "    Returns:\n",
    "        float: Nilai Q_avg dalam persen.\n",
    "    \"\"\"\n",
    "    q_scores = [calculate_q_score(predicted, actual) for predicted, actual in zip(predicted_list, actual_list)]\n",
    "    return sum(q_scores) / len(q_scores) if q_scores else 0"
   ]
  },
  {
   "cell_type": "code",
   "execution_count": 10,
   "metadata": {},
   "outputs": [],
   "source": [
    "def convert_8state_to_3state(ss):\n",
    "    ss_3state = \"\"\n",
    "    for s in ss:\n",
    "        if s in ['H', 'G', 'I']:\n",
    "            ss_3state += 'H'\n",
    "        elif s in ['E', 'B']:\n",
    "            ss_3state += 'E'\n",
    "        else:\n",
    "            ss_3state += 'C'\n",
    "    return ss_3state"
   ]
  },
  {
   "cell_type": "code",
   "execution_count": 11,
   "metadata": {},
   "outputs": [],
   "source": [
    "def calculate_metrics(y_true, y_pred, classes, csv_path=None):\n",
    "    \"\"\"\n",
    "    Calculate precision, recall, and F1-score for given classes and optionally save to CSV.\n",
    "\n",
    "    Args:\n",
    "        y_true (list): True labels (flattened).\n",
    "        y_pred (list): Predicted labels (flattened).\n",
    "        classes (list): List of class labels.\n",
    "        csv_path (str, optional): Path to save the metrics DataFrame as CSV.\n",
    "\n",
    "    Returns:\n",
    "        pd.DataFrame: DataFrame containing metrics per class and average.\n",
    "    \"\"\"\n",
    "\n",
    "    min_len = min(len(y_true), len(y_pred))\n",
    "    y_true = y_true[:min_len]\n",
    "    y_pred = y_pred[:min_len]\n",
    "\n",
    "    precision, recall, f1, _ = precision_recall_fscore_support(\n",
    "        y_true, y_pred, labels=classes, zero_division=0\n",
    "    )\n",
    "\n",
    "    metrics_df = pd.DataFrame({\n",
    "        'Class': classes,\n",
    "        'Precision': precision,\n",
    "        'Recall': recall,\n",
    "        'F1-Score': f1\n",
    "    })\n",
    "\n",
    "    avg_row = pd.DataFrame({\n",
    "        'Class': ['Average'],\n",
    "        'Precision': [precision.mean()],\n",
    "        'Recall': [recall.mean()],\n",
    "        'F1-Score': [f1.mean()]\n",
    "    })\n",
    "\n",
    "    metrics_df = pd.concat([metrics_df, avg_row], ignore_index=True)\n",
    "\n",
    "    if csv_path:\n",
    "        metrics_df.to_csv(csv_path, index=False)\n",
    "\n",
    "    return metrics_df"
   ]
  },
  {
   "cell_type": "markdown",
   "metadata": {},
   "source": [
    "## Akurasi Q8"
   ]
  },
  {
   "cell_type": "code",
   "execution_count": 12,
   "metadata": {},
   "outputs": [
    {
     "name": "stdout",
     "output_type": "stream",
     "text": [
      "Q8_avg: 88.77%\n"
     ]
    }
   ],
   "source": [
    "predicted_list = df_merged['predicted_dssp8'].tolist()  # Struktur sekunder yang diprediksi\n",
    "actual_list = df_merged['dssp8'].tolist()  # Struktur sekunder yang sebenarnya\n",
    "\n",
    "q8_avg = calculate_q_average(predicted_list, actual_list)\n",
    "print(f\"Q8_avg: {q8_avg:.2f}%\")"
   ]
  },
  {
   "cell_type": "markdown",
   "metadata": {},
   "source": [
    "## Precision, Recall, dan F1-Score"
   ]
  },
  {
   "cell_type": "code",
   "execution_count": 13,
   "metadata": {},
   "outputs": [
    {
     "name": "stdout",
     "output_type": "stream",
     "text": [
      "     Class  Precision    Recall  F1-Score\n",
      "0        C   0.750563  0.737437  0.743942\n",
      "1        B   0.538682  0.493438  0.515068\n",
      "2        E   0.890025  0.902219  0.896081\n",
      "3        G   0.690321  0.722947  0.706257\n",
      "4        I   0.041860  0.600000  0.078261\n",
      "5        H   0.924195  0.937827  0.930961\n",
      "6        S   0.660814  0.594175  0.625725\n",
      "7        T   0.688409  0.692605  0.690500\n",
      "8  Average   0.648109  0.710081  0.648349\n"
     ]
    }
   ],
   "source": [
    "# Define the 8 DSSP classes\n",
    "dssp8_classes = ['C', 'B', 'E', 'G', 'I', 'H', 'S', 'T']\n",
    "\n",
    "# Flatten all predicted and actual secondary structure strings into lists of single characters\n",
    "y_pred = [ss for seq in df_merged['predicted_dssp8'] for ss in seq]\n",
    "y_true = [ss for seq in df_merged['dssp8'] for ss in seq]\n",
    "\n",
    "metrics_df = calculate_metrics(y_true, y_pred, dssp8_classes, '../Data/Results/cb513_2_metrics.csv')\n",
    "print(metrics_df)"
   ]
  },
  {
   "cell_type": "markdown",
   "metadata": {},
   "source": [
    "## Akurasi Q3"
   ]
  },
  {
   "cell_type": "code",
   "execution_count": 14,
   "metadata": {},
   "outputs": [
    {
     "name": "stdout",
     "output_type": "stream",
     "text": [
      "Q3_avg: 93.48%\n"
     ]
    }
   ],
   "source": [
    "predicted_list_3state = [convert_8state_to_3state(ss) for ss in predicted_list]\n",
    "actual_list_3state = [convert_8state_to_3state(ss) for ss in actual_list]\n",
    "\n",
    "q3_avg = calculate_q_average(predicted_list_3state, actual_list_3state)\n",
    "print(f\"Q3_avg: {q3_avg:.2f}%\")"
   ]
  },
  {
   "cell_type": "markdown",
   "metadata": {},
   "source": [
    "## Precision, Recall, dan F1-Score"
   ]
  },
  {
   "cell_type": "code",
   "execution_count": 15,
   "metadata": {},
   "outputs": [
    {
     "name": "stdout",
     "output_type": "stream",
     "text": [
      "     Class  Precision    Recall  F1-Score\n",
      "0        H   0.908558  0.937640  0.922870\n",
      "1        E   0.879531  0.886360  0.882933\n",
      "2        C   0.890924  0.864116  0.877315\n",
      "3  Average   0.893005  0.896039  0.894373\n"
     ]
    }
   ],
   "source": [
    "# Define DSSP 3-state classes\n",
    "dssp3_classes = ['H', 'E', 'C']\n",
    "\n",
    "# Flatten all predicted and actual secondary structure strings into lists of single characters\n",
    "y_pred3 = [ss for seq in predicted_list_3state for ss in seq]\n",
    "y_true3 = [ss for seq in actual_list_3state for ss in seq]\n",
    "\n",
    "metrics_df_3state = calculate_metrics(y_true3, y_pred3, dssp3_classes, '../Data/Results/cb513_2_metrics_3state.csv')\n",
    "print(metrics_df_3state)"
   ]
  },
  {
   "cell_type": "markdown",
   "metadata": {},
   "source": [
    "# Visualisasi"
   ]
  },
  {
   "cell_type": "markdown",
   "metadata": {},
   "source": [
    "## 8-State"
   ]
  },
  {
   "cell_type": "code",
   "execution_count": 16,
   "metadata": {},
   "outputs": [
    {
     "data": {
      "image/png": "[encoded data removed]",
      "text/plain": [
       "<Figure size 2000x200 with 1 Axes>"
      ]
     },
     "metadata": {},
     "output_type": "display_data"
    },
    {
     "data": {
      "image/png": "[encoded data removed]",
      "text/plain": [
       "<Figure size 2000x200 with 1 Axes>"
      ]
     },
     "metadata": {},
     "output_type": "display_data"
    }
   ],
   "source": [
    "# Get the residue of the first protein\n",
    "residu = df_cb513_2['residue'].iloc[0]\n",
    "\n",
    "# Get the first protein's dssp8 predicted and actual secondary structure\n",
    "predicted_ss = df_merged['predicted_dssp8'].iloc[0]\n",
    "actual_ss = df_merged['dssp8'].iloc[0]\n",
    "\n",
    "# Define colors for secondary structure elements using 8-state DSSP\n",
    "colors = {'H': 'red', 'B': 'blue', 'E': 'blue', 'G': 'purple', 'I': 'orange', 'T': 'green', 'S': 'yellow', 'C': 'gray'}\n",
    "# Plot\n",
    "fig, ax = plt.subplots(figsize=(20, 2))\n",
    "ax.bar(range(len(actual_ss)), [1]*len(actual_ss), color=[colors[ss] for ss in actual_ss])\n",
    "ax.set_xticks(range(len(actual_ss)))\n",
    "ax.set_xticklabels(residu, rotation=0, fontsize=10)\n",
    "ax.set_yticks([])\n",
    "ax.set_title(\"Real Secondary Structure\")\n",
    "\n",
    "fig, ax = plt.subplots(figsize=(20, 2))\n",
    "ax.bar(range(len(predicted_ss)), [1]*len(predicted_ss), color=[colors[predicted_ss] for predicted_ss in predicted_ss])\n",
    "ax.set_xticks(range(len(predicted_ss)))\n",
    "ax.set_xticklabels(residu, rotation=0, fontsize=10)\n",
    "ax.set_yticks([])\n",
    "ax.set_title(\"Predicted Secondary Structure\")\n",
    "\n",
    "plt.show()"
   ]
  },
  {
   "cell_type": "code",
   "execution_count": 17,
   "metadata": {},
   "outputs": [
    {
     "name": "stdout",
     "output_type": "stream",
     "text": [
      "Q8 for the first protein: 77.61%\n"
     ]
    }
   ],
   "source": [
    "# Akurasi Q8 protein pertama\n",
    "q8_first_protein = calculate_q_score(predicted_ss, actual_ss)\n",
    "print(f\"Q8 for the first protein: {q8_first_protein:.2f}%\")"
   ]
  },
  {
   "cell_type": "markdown",
   "metadata": {},
   "source": [
    "## 3-State"
   ]
  },
  {
   "cell_type": "code",
   "execution_count": 18,
   "metadata": {},
   "outputs": [
    {
     "data": {
      "image/png": "[encoded data removed]",
      "text/plain": [
       "<Figure size 2000x200 with 1 Axes>"
      ]
     },
     "metadata": {},
     "output_type": "display_data"
    },
    {
     "data": {
      "image/png": "[encoded data removed]",
      "text/plain": [
       "<Figure size 2000x200 with 1 Axes>"
      ]
     },
     "metadata": {},
     "output_type": "display_data"
    }
   ],
   "source": [
    "# Get the residue of the first protein\n",
    "residu = df_cb513_2['residue'].iloc[0]\n",
    "\n",
    "# Get the first protein's dssp3 predicted and actual secondary structure\n",
    "predicted_ss = predicted_list_3state[0]\n",
    "actual_ss = actual_list_3state[0]\n",
    "\n",
    "# Define colors for secondary structure elements using 3-state DSSP\n",
    "colors = {'H': 'red', 'E': 'blue', 'C': 'gray'}\n",
    "\n",
    "# Plot\n",
    "fig, ax = plt.subplots(figsize=(20, 2))\n",
    "ax.bar(range(len(actual_ss)), [1]*len(actual_ss), color=[colors[ss] for ss in actual_ss])\n",
    "ax.set_xticks(range(len(actual_ss)))\n",
    "ax.set_xticklabels(residu, rotation=0, fontsize=10)\n",
    "ax.set_yticks([])\n",
    "ax.set_title(\"Real Secondary Structure\")\n",
    "\n",
    "fig, ax = plt.subplots(figsize=(20, 2))\n",
    "ax.bar(range(len(predicted_ss)), [1]*len(predicted_ss), color=[colors[predicted_ss] for predicted_ss in predicted_ss])\n",
    "ax.set_xticks(range(len(predicted_ss)))\n",
    "ax.set_xticklabels(residu, rotation=0, fontsize=10)\n",
    "ax.set_yticks([])\n",
    "ax.set_title(\"Predicted Secondary Structure\")\n",
    "\n",
    "plt.show()"
   ]
  },
  {
   "cell_type": "code",
   "execution_count": 19,
   "metadata": {},
   "outputs": [
    {
     "name": "stdout",
     "output_type": "stream",
     "text": [
      "Q3 for the first protein: 82.09%\n"
     ]
    }
   ],
   "source": [
    "# Akurasi Q3 protein pertama\n",
    "q3 = calculate_q_score(predicted_ss, actual_ss)\n",
    "print(f\"Q3 for the first protein: {q3:.2f}%\")"
   ]
  }
 ],
 "metadata": {
  "kernelspec": {
   "display_name": "Python 3",
   "language": "python",
   "name": "python3"
  },
  "language_info": {
   "codemirror_mode": {
    "name": "ipython",
    "version": 3
   },
   "file_extension": ".py",
   "mimetype": "text/x-python",
   "name": "python",
   "nbconvert_exporter": "python",
   "pygments_lexer": "ipython3",
   "version": "3.10.12"
  }
 },
 "nbformat": 4,
 "nbformat_minor": 2
}
