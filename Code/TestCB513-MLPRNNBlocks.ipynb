{
 "cells": [
  {
   "cell_type": "code",
   "execution_count": null,
   "metadata": {
    "executionInfo": {
     "elapsed": 10296,
     "status": "ok",
     "timestamp": 1662963052502,
     "user": {
      "displayName": "DEWI PRAMUDI ISMI",
      "userId": "00613283494289866497"
     },
     "user_tz": -420
    },
    "id": "PhzEopU9mNx4"
   },
   "outputs": [],
   "source": [
    "import gzip\n",
    "import numpy as np\n",
    "import random as rd\n",
    "import matplotlib.pyplot as plt\n",
    "import tensorflow as tf\n",
    "from tensorflow import keras\n",
    "from tensorflow.keras import layers\n",
    "\n",
    "from keras.layers import LSTM, GRU, Dense, RepeatVector, TimeDistributed, Input, \\\n",
    "    multiply, concatenate, Flatten, Activation, Bidirectional, Embedding, Dropout, Conv1D, \\\n",
    "    MultiHeadAttention, Add, LayerNormalization, BatchNormalization, Dot\n",
    "\n",
    "\n",
    "from keras.models import Sequential, Model, load_model\n",
    "\n",
    "from tensorflow.keras.optimizers import Adam\n",
    "from tensorflow.keras.utils import plot_model\n",
    "from tensorflow.keras.callbacks import EarlyStopping\n",
    "from keras.utils.vis_utils import plot_model, model_to_dot\n",
    "\n",
    "from tensorflow.keras.regularizers import L1, L2\n"
   ]
  },
  {
   "cell_type": "code",
   "execution_count": null,
   "metadata": {},
   "outputs": [],
   "source": [
    "PSSP_model = tf.keras.models.load_model('model.h5')"
   ]
  },
  {
   "cell_type": "code",
   "execution_count": null,
   "metadata": {
    "colab": {
     "base_uri": "https://localhost:8080/"
    },
    "executionInfo": {
     "elapsed": 5542,
     "status": "ok",
     "timestamp": 1662963058034,
     "user": {
      "displayName": "DEWI PRAMUDI ISMI",
      "userId": "00613283494289866497"
     },
     "user_tz": -420
    },
    "id": "6g-uG6Vumd4J",
    "outputId": "eaf48518-af19-493d-ec82-384d4216d4fa"
   },
   "outputs": [],
   "source": [
    "#import data CB513\n",
    "\n",
    "import gzip\n",
    "import numpy as np\n",
    "\n",
    "f = gzip.GzipFile('Data/cb513_profile_MASK.npy.gz', \"r\")\n",
    "cb513_profile= np.load(f)\n",
    "f.close()\n",
    "\n",
    "f = gzip.GzipFile('Data/cb513_sequence_MASK.npy.gz', \"r\")\n",
    "cb513_sequence= np.load(f)\n",
    "f.close()\n",
    "\n",
    "\n",
    "cb513_sequence_integer = np.zeros((cb513_sequence.shape[0], cb513_sequence.shape[1]))\n",
    "print(cb513_sequence_integer.shape)\n",
    "\n",
    "for i in range(0, cb513_sequence_integer.shape[0]):\n",
    "    for j in range(0, cb513_sequence_integer.shape[1]):\n",
    "        cb513_sequence_integer[i][j] = np.argmax(cb513_sequence[i][j])\n",
    "\n",
    "print(cb513_sequence_integer)\n",
    "\n",
    "cb513_hmm_profile = np.load('Data/hhm_test.npy', \"r\")\n",
    "print(cb513_hmm_profile.shape)\n",
    "print(cb513_hmm_profile)\n",
    "\n",
    "f = gzip.GzipFile('Data/cb513_testlabel_MASK.npy.gz', \"r\")\n",
    "cb513_testlabel = np.load(f)\n",
    "f.close()"
   ]
  },
  {
   "cell_type": "code",
   "execution_count": null,
   "metadata": {
    "colab": {
     "base_uri": "https://localhost:8080/"
    },
    "executionInfo": {
     "elapsed": 16,
     "status": "ok",
     "timestamp": 1662963058036,
     "user": {
      "displayName": "DEWI PRAMUDI ISMI",
      "userId": "00613283494289866497"
     },
     "user_tz": -420
    },
    "id": "mFyhk0to9e4m",
    "outputId": "3b6ddf97-bb8e-423b-e1f2-62c16a740389"
   },
   "outputs": [],
   "source": [
    "#print(cb513_testdata.shape)\n",
    "print(cb513_testlabel.shape)"
   ]
  },
  {
   "cell_type": "code",
   "execution_count": null,
   "metadata": {
    "colab": {
     "base_uri": "https://localhost:8080/"
    },
    "executionInfo": {
     "elapsed": 86870,
     "status": "ok",
     "timestamp": 1662963144895,
     "user": {
      "displayName": "DEWI PRAMUDI ISMI",
      "userId": "00613283494289866497"
     },
     "user_tz": -420
    },
    "id": "b1cOebWB-KJ2",
    "outputId": "7100d063-0a1b-46e6-b1e1-79037582704b"
   },
   "outputs": [],
   "source": [
    "loss, acc = PSSP_model.evaluate([cb513_sequence_integer, cb513_profile, cb513_hmm_profile], cb513_testlabel, verbose=2)\n",
    "\n",
    "\n",
    "print('Restored PSSP model, accuracy: {:5.2f}%'.format(100 * acc))"
   ]
  },
  {
   "cell_type": "code",
   "execution_count": null,
   "metadata": {
    "executionInfo": {
     "elapsed": 144251,
     "status": "ok",
     "timestamp": 1662963289109,
     "user": {
      "displayName": "DEWI PRAMUDI ISMI",
      "userId": "00613283494289866497"
     },
     "user_tz": -420
    },
    "id": "Nzw6k5BLBDRC"
   },
   "outputs": [],
   "source": [
    "prediction_result = PSSP_model.predict([cb513_sequence_integer, cb513_profile, cb513_hmm_profile])\n",
    "\n"
   ]
  },
  {
   "cell_type": "code",
   "execution_count": null,
   "metadata": {
    "colab": {
     "base_uri": "https://localhost:8080/"
    },
    "executionInfo": {
     "elapsed": 17,
     "status": "ok",
     "timestamp": 1662963289110,
     "user": {
      "displayName": "DEWI PRAMUDI ISMI",
      "userId": "00613283494289866497"
     },
     "user_tz": -420
    },
    "id": "DI-0ktfKBKsa",
    "outputId": "3018a65c-e0de-4259-dfd3-c2bd7f8ea3ec"
   },
   "outputs": [],
   "source": [
    "print(prediction_result)"
   ]
  },
  {
   "cell_type": "code",
   "execution_count": null,
   "metadata": {
    "colab": {
     "base_uri": "https://localhost:8080/"
    },
    "executionInfo": {
     "elapsed": 15,
     "status": "ok",
     "timestamp": 1662963289110,
     "user": {
      "displayName": "DEWI PRAMUDI ISMI",
      "userId": "00613283494289866497"
     },
     "user_tz": -420
    },
    "id": "peDmBy8_cHm8",
    "outputId": "e85d20cd-b1f2-42ff-be7a-71f5ee52fc70"
   },
   "outputs": [],
   "source": [
    "print(prediction_result.shape)"
   ]
  },
  {
   "cell_type": "code",
   "execution_count": null,
   "metadata": {
    "colab": {
     "base_uri": "https://localhost:8080/"
    },
    "executionInfo": {
     "elapsed": 13,
     "status": "ok",
     "timestamp": 1662963289111,
     "user": {
      "displayName": "DEWI PRAMUDI ISMI",
      "userId": "00613283494289866497"
     },
     "user_tz": -420
    },
    "id": "3xvmdNB-vufP",
    "outputId": "25ca37e2-15e0-40a5-ef78-e50841ee53f3"
   },
   "outputs": [],
   "source": [
    "class_prediction_result = np.zeros((514,700,9))\n",
    "class_prediction_result.shape"
   ]
  },
  {
   "cell_type": "code",
   "execution_count": null,
   "metadata": {
    "executionInfo": {
     "elapsed": 713,
     "status": "ok",
     "timestamp": 1662963289812,
     "user": {
      "displayName": "DEWI PRAMUDI ISMI",
      "userId": "00613283494289866497"
     },
     "user_tz": -420
    },
    "id": "74jGSYj3uvz_"
   },
   "outputs": [],
   "source": [
    "\n",
    "\n",
    "for i in range(0, len(prediction_result)):\n",
    "    for j in range(0, len(prediction_result[i])):\n",
    "        index = np.argmax(prediction_result[i][j])\n",
    "        class_prediction_result[i][j][index]= 1"
   ]
  },
  {
   "cell_type": "code",
   "execution_count": null,
   "metadata": {
    "colab": {
     "base_uri": "https://localhost:8080/"
    },
    "executionInfo": {
     "elapsed": 3,
     "status": "ok",
     "timestamp": 1662963289813,
     "user": {
      "displayName": "DEWI PRAMUDI ISMI",
      "userId": "00613283494289866497"
     },
     "user_tz": -420
    },
    "id": "PI_fXG1ouzWP",
    "outputId": "6aaffc32-7d38-4e85-f5b2-13a11f5fa1cc"
   },
   "outputs": [],
   "source": [
    "\n",
    "cb513_testlabel_reshape=cb513_testlabel.reshape(-1,9)\n",
    "print(cb513_testlabel_reshape.shape)\n",
    "\n",
    "class_prediction_result_reshape = class_prediction_result.reshape(-1,9)\n",
    "print(class_prediction_result_reshape.shape)"
   ]
  },
  {
   "cell_type": "code",
   "execution_count": null,
   "metadata": {
    "executionInfo": {
     "elapsed": 2842,
     "status": "ok",
     "timestamp": 1662963292652,
     "user": {
      "displayName": "DEWI PRAMUDI ISMI",
      "userId": "00613283494289866497"
     },
     "user_tz": -420
    },
    "id": "SvVz_z8au1mf"
   },
   "outputs": [],
   "source": [
    "#transform class label into a single digit (integer 0..9)\n",
    "cb513_testlabel_value = np.zeros((cb513_testlabel_reshape.shape[0],1))\n",
    "\n",
    "for i in range(0, len(cb513_testlabel_reshape)):\n",
    "    value = np.argmax(cb513_testlabel_reshape[i])\n",
    "    cb513_testlabel_value[i] = value"
   ]
  },
  {
   "cell_type": "code",
   "execution_count": null,
   "metadata": {
    "executionInfo": {
     "elapsed": 3109,
     "status": "ok",
     "timestamp": 1662963295758,
     "user": {
      "displayName": "DEWI PRAMUDI ISMI",
      "userId": "00613283494289866497"
     },
     "user_tz": -420
    },
    "id": "bmQyq3oWu3nH"
   },
   "outputs": [],
   "source": [
    "class_prediction_result_value = np.zeros((class_prediction_result_reshape.shape[0],1))\n",
    "\n",
    "for i in range(0, len(class_prediction_result_reshape)): \n",
    "    value = np.argmax(class_prediction_result_reshape[i])\n",
    "    class_prediction_result_value[i] = value\n"
   ]
  },
  {
   "cell_type": "code",
   "execution_count": null,
   "metadata": {
    "executionInfo": {
     "elapsed": 10,
     "status": "ok",
     "timestamp": 1662963296998,
     "user": {
      "displayName": "DEWI PRAMUDI ISMI",
      "userId": "00613283494289866497"
     },
     "user_tz": -420
    },
    "id": "toV8sSUqu8EP"
   },
   "outputs": [],
   "source": [
    "#'L', 'B', 'E', 'G', 'I', 'H', 'S', 'T','NoSeq'"
   ]
  },
  {
   "cell_type": "code",
   "execution_count": null,
   "metadata": {
    "executionInfo": {
     "elapsed": 9,
     "status": "ok",
     "timestamp": 1662963296999,
     "user": {
      "displayName": "DEWI PRAMUDI ISMI",
      "userId": "00613283494289866497"
     },
     "user_tz": -420
    },
    "id": "JWSTey6MGiwn",
    "scrolled": true
   },
   "outputs": [],
   "source": [
    "from sklearn.metrics import classification_report, confusion_matrix\n",
    "print(confusion_matrix(cb513_testlabel_value,class_prediction_result_value))\n",
    "print(classification_report(cb513_testlabel_value,class_prediction_result_value, labels=[0,1,2,3,4,5,6,7,8]))"
   ]
  }
 ],
 "metadata": {
  "colab": {
   "collapsed_sections": [],
   "provenance": [
    {
     "file_id": "1ideaUiJrhPj5B_vh7P78r3HBk0IQCpml",
     "timestamp": 1615900013946
    },
    {
     "file_id": "1cb5eDoxvMsT2BBJYSpkQaoGMN61B45Kl",
     "timestamp": 1615720032610
    },
    {
     "file_id": "1ShGNWF2M8ox-MOcYZQsT086ffNf9rPuT",
     "timestamp": 1615553497306
    },
    {
     "file_id": "1gDEipfMVQaugQd3Wh8PRyneBJWEYMinV",
     "timestamp": 1615014053031
    },
    {
     "file_id": "1Es0FDimzM6fGTER2N5XJQtZ1YGpspUtt",
     "timestamp": 1615013593472
    },
    {
     "file_id": "1A7x5AzsF7TSdQD5utBOe6BBoHcakmbNO",
     "timestamp": 1613498551873
    },
    {
     "file_id": "1c_gN1evGLfFI9E2Tg_l9sfseYeAGEN9W",
     "timestamp": 1613062791445
    },
    {
     "file_id": "1eyJd2sr3CEWJVkWaBM7gV38OLLns2UXB",
     "timestamp": 1612857565178
    }
   ]
  },
  "kernelspec": {
   "display_name": "Python 3 (ipykernel)",
   "language": "python",
   "name": "python3"
  },
  "language_info": {
   "codemirror_mode": {
    "name": "ipython",
    "version": 3
   },
   "file_extension": ".py",
   "mimetype": "text/x-python",
   "name": "python",
   "nbconvert_exporter": "python",
   "pygments_lexer": "ipython3",
   "version": "3.9.16"
  }
 },
 "nbformat": 4,
 "nbformat_minor": 1
}
