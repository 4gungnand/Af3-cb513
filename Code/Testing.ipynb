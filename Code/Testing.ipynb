{
 "cells": [
  {
   "cell_type": "markdown",
   "metadata": {},
   "source": [
    "# Testing"
   ]
  },
  {
   "cell_type": "markdown",
   "metadata": {},
   "source": [
    "# Import Required Libraries"
   ]
  },
  {
   "cell_type": "code",
   "execution_count": null,
   "metadata": {},
   "outputs": [],
   "source": [
    "import matplotlib.pyplot as plt\n",
    "import os\n",
    "import pandas as pd\n",
    "from Bio.PDB import MMCIFParser, DSSP"
   ]
  },
  {
   "cell_type": "markdown",
   "metadata": {},
   "source": [
    "# DSSP\n",
    "> WINDOWS BELUM KOMPATIBEL! GUNAKAN OS LINUX!\n",
    "\n",
    "> PASTIKAN PACKAGE DSSP & BIOPYTHON SUDAH TERINSTAL\n",
    "\n",
    "[DSSP](https://github.com/PDB-REDO/dssp):\n",
    "```bash\n",
    "    git clone https://github.com/PDB-REDO/dssp.git\n",
    "    cd dssp\n",
    "    cmake -S . -B build\n",
    "    cmake --build build\n",
    "    cmake --install build\n",
    "```\n",
    "    \n",
    "BIOPYTHON:\n",
    "```python\n",
    "    !pip install biopython\n",
    "```"
   ]
  },
  {
   "cell_type": "code",
   "execution_count": 10,
   "metadata": {},
   "outputs": [
    {
     "ename": "FileNotFoundError",
     "evalue": "[WinError 2] The system cannot find the file specified",
     "output_type": "error",
     "traceback": [
      "\u001b[1;31m---------------------------------------------------------------------------\u001b[0m",
      "\u001b[1;31mFileNotFoundError\u001b[0m                         Traceback (most recent call last)",
      "File \u001b[1;32m~\\AppData\\Roaming\\Python\\Python312\\site-packages\\Bio\\PDB\\DSSP.py:385\u001b[0m, in \u001b[0;36mDSSP.__init__\u001b[1;34m(self, model, in_file, dssp, acc_array, file_type)\u001b[0m\n\u001b[0;32m    384\u001b[0m \u001b[38;5;28;01mtry\u001b[39;00m:\n\u001b[1;32m--> 385\u001b[0m     version_string \u001b[38;5;241m=\u001b[39m subprocess\u001b[38;5;241m.\u001b[39mcheck_output([dssp, \u001b[38;5;124m\"\u001b[39m\u001b[38;5;124m--version\u001b[39m\u001b[38;5;124m\"\u001b[39m], text\u001b[38;5;241m=\u001b[39m\u001b[38;5;28;01mTrue\u001b[39;00m)\n\u001b[0;32m    386\u001b[0m     dssp_version \u001b[38;5;241m=\u001b[39m re\u001b[38;5;241m.\u001b[39msearch(\u001b[38;5;124mr\u001b[39m\u001b[38;5;124m\"\u001b[39m\u001b[38;5;124m\\\u001b[39m\u001b[38;5;124ms*([\u001b[39m\u001b[38;5;124m\\\u001b[39m\u001b[38;5;124md.]+)\u001b[39m\u001b[38;5;124m\"\u001b[39m, version_string)\u001b[38;5;241m.\u001b[39mgroup(\u001b[38;5;241m1\u001b[39m)\n",
      "File \u001b[1;32mc:\\ProgramData\\anaconda3\\Lib\\subprocess.py:466\u001b[0m, in \u001b[0;36mcheck_output\u001b[1;34m(timeout, *popenargs, **kwargs)\u001b[0m\n\u001b[0;32m    464\u001b[0m     kwargs[\u001b[38;5;124m'\u001b[39m\u001b[38;5;124minput\u001b[39m\u001b[38;5;124m'\u001b[39m] \u001b[38;5;241m=\u001b[39m empty\n\u001b[1;32m--> 466\u001b[0m \u001b[38;5;28;01mreturn\u001b[39;00m run(\u001b[38;5;241m*\u001b[39mpopenargs, stdout\u001b[38;5;241m=\u001b[39mPIPE, timeout\u001b[38;5;241m=\u001b[39mtimeout, check\u001b[38;5;241m=\u001b[39m\u001b[38;5;28;01mTrue\u001b[39;00m,\n\u001b[0;32m    467\u001b[0m            \u001b[38;5;241m*\u001b[39m\u001b[38;5;241m*\u001b[39mkwargs)\u001b[38;5;241m.\u001b[39mstdout\n",
      "File \u001b[1;32mc:\\ProgramData\\anaconda3\\Lib\\subprocess.py:548\u001b[0m, in \u001b[0;36mrun\u001b[1;34m(input, capture_output, timeout, check, *popenargs, **kwargs)\u001b[0m\n\u001b[0;32m    546\u001b[0m     kwargs[\u001b[38;5;124m'\u001b[39m\u001b[38;5;124mstderr\u001b[39m\u001b[38;5;124m'\u001b[39m] \u001b[38;5;241m=\u001b[39m PIPE\n\u001b[1;32m--> 548\u001b[0m \u001b[38;5;28;01mwith\u001b[39;00m Popen(\u001b[38;5;241m*\u001b[39mpopenargs, \u001b[38;5;241m*\u001b[39m\u001b[38;5;241m*\u001b[39mkwargs) \u001b[38;5;28;01mas\u001b[39;00m process:\n\u001b[0;32m    549\u001b[0m     \u001b[38;5;28;01mtry\u001b[39;00m:\n",
      "File \u001b[1;32mc:\\ProgramData\\anaconda3\\Lib\\subprocess.py:1026\u001b[0m, in \u001b[0;36mPopen.__init__\u001b[1;34m(self, args, bufsize, executable, stdin, stdout, stderr, preexec_fn, close_fds, shell, cwd, env, universal_newlines, startupinfo, creationflags, restore_signals, start_new_session, pass_fds, user, group, extra_groups, encoding, errors, text, umask, pipesize, process_group)\u001b[0m\n\u001b[0;32m   1023\u001b[0m             \u001b[38;5;28mself\u001b[39m\u001b[38;5;241m.\u001b[39mstderr \u001b[38;5;241m=\u001b[39m io\u001b[38;5;241m.\u001b[39mTextIOWrapper(\u001b[38;5;28mself\u001b[39m\u001b[38;5;241m.\u001b[39mstderr,\n\u001b[0;32m   1024\u001b[0m                     encoding\u001b[38;5;241m=\u001b[39mencoding, errors\u001b[38;5;241m=\u001b[39merrors)\n\u001b[1;32m-> 1026\u001b[0m     \u001b[38;5;28mself\u001b[39m\u001b[38;5;241m.\u001b[39m_execute_child(args, executable, preexec_fn, close_fds,\n\u001b[0;32m   1027\u001b[0m                         pass_fds, cwd, env,\n\u001b[0;32m   1028\u001b[0m                         startupinfo, creationflags, shell,\n\u001b[0;32m   1029\u001b[0m                         p2cread, p2cwrite,\n\u001b[0;32m   1030\u001b[0m                         c2pread, c2pwrite,\n\u001b[0;32m   1031\u001b[0m                         errread, errwrite,\n\u001b[0;32m   1032\u001b[0m                         restore_signals,\n\u001b[0;32m   1033\u001b[0m                         gid, gids, uid, umask,\n\u001b[0;32m   1034\u001b[0m                         start_new_session, process_group)\n\u001b[0;32m   1035\u001b[0m \u001b[38;5;28;01mexcept\u001b[39;00m:\n\u001b[0;32m   1036\u001b[0m     \u001b[38;5;66;03m# Cleanup if the child failed starting.\u001b[39;00m\n",
      "File \u001b[1;32mc:\\ProgramData\\anaconda3\\Lib\\subprocess.py:1538\u001b[0m, in \u001b[0;36mPopen._execute_child\u001b[1;34m(self, args, executable, preexec_fn, close_fds, pass_fds, cwd, env, startupinfo, creationflags, shell, p2cread, p2cwrite, c2pread, c2pwrite, errread, errwrite, unused_restore_signals, unused_gid, unused_gids, unused_uid, unused_umask, unused_start_new_session, unused_process_group)\u001b[0m\n\u001b[0;32m   1537\u001b[0m \u001b[38;5;28;01mtry\u001b[39;00m:\n\u001b[1;32m-> 1538\u001b[0m     hp, ht, pid, tid \u001b[38;5;241m=\u001b[39m _winapi\u001b[38;5;241m.\u001b[39mCreateProcess(executable, args,\n\u001b[0;32m   1539\u001b[0m                              \u001b[38;5;66;03m# no special security\u001b[39;00m\n\u001b[0;32m   1540\u001b[0m                              \u001b[38;5;28;01mNone\u001b[39;00m, \u001b[38;5;28;01mNone\u001b[39;00m,\n\u001b[0;32m   1541\u001b[0m                              \u001b[38;5;28mint\u001b[39m(\u001b[38;5;129;01mnot\u001b[39;00m close_fds),\n\u001b[0;32m   1542\u001b[0m                              creationflags,\n\u001b[0;32m   1543\u001b[0m                              env,\n\u001b[0;32m   1544\u001b[0m                              cwd,\n\u001b[0;32m   1545\u001b[0m                              startupinfo)\n\u001b[0;32m   1546\u001b[0m \u001b[38;5;28;01mfinally\u001b[39;00m:\n\u001b[0;32m   1547\u001b[0m     \u001b[38;5;66;03m# Child is launched. Close the parent's copy of those pipe\u001b[39;00m\n\u001b[0;32m   1548\u001b[0m     \u001b[38;5;66;03m# handles that only the child should have open.  You need\u001b[39;00m\n\u001b[1;32m   (...)\u001b[0m\n\u001b[0;32m   1551\u001b[0m     \u001b[38;5;66;03m# pipe will not close when the child process exits and the\u001b[39;00m\n\u001b[0;32m   1552\u001b[0m     \u001b[38;5;66;03m# ReadFile will hang.\u001b[39;00m\n",
      "\u001b[1;31mFileNotFoundError\u001b[0m: [WinError 2] The system cannot find the file specified",
      "\nDuring handling of the above exception, another exception occurred:\n",
      "\u001b[1;31mFileNotFoundError\u001b[0m                         Traceback (most recent call last)",
      "Cell \u001b[1;32mIn[10], line 16\u001b[0m\n\u001b[0;32m     14\u001b[0m     model \u001b[38;5;241m=\u001b[39m struktur[\u001b[38;5;241m0\u001b[39m]\n\u001b[0;32m     15\u001b[0m     chain \u001b[38;5;241m=\u001b[39m model[\u001b[38;5;124m'\u001b[39m\u001b[38;5;124mA\u001b[39m\u001b[38;5;124m'\u001b[39m]\n\u001b[1;32m---> 16\u001b[0m     dssp \u001b[38;5;241m=\u001b[39m DSSP(chain, os\u001b[38;5;241m.\u001b[39mpath\u001b[38;5;241m.\u001b[39mjoin(direktori, nama_file), dssp\u001b[38;5;241m=\u001b[39m\u001b[38;5;124m'\u001b[39m\u001b[38;5;124mmkdssp\u001b[39m\u001b[38;5;124m'\u001b[39m)\n\u001b[0;32m     17\u001b[0m     data_protein\u001b[38;5;241m.\u001b[39mappend(dssp)\n\u001b[0;32m     19\u001b[0m \u001b[38;5;66;03m# Membuat array untuk menyimpan data residu dan sekunder struktur\u001b[39;00m\n",
      "File \u001b[1;32m~\\AppData\\Roaming\\Python\\Python312\\site-packages\\Bio\\PDB\\DSSP.py:397\u001b[0m, in \u001b[0;36mDSSP.__init__\u001b[1;34m(self, model, in_file, dssp, acc_array, file_type)\u001b[0m\n\u001b[0;32m    395\u001b[0m \u001b[38;5;28;01melse\u001b[39;00m:\n\u001b[0;32m    396\u001b[0m     \u001b[38;5;28;01mraise\u001b[39;00m\n\u001b[1;32m--> 397\u001b[0m version_string \u001b[38;5;241m=\u001b[39m subprocess\u001b[38;5;241m.\u001b[39mcheck_output([dssp, \u001b[38;5;124m\"\u001b[39m\u001b[38;5;124m--version\u001b[39m\u001b[38;5;124m\"\u001b[39m], text\u001b[38;5;241m=\u001b[39m\u001b[38;5;28;01mTrue\u001b[39;00m)\n\u001b[0;32m    398\u001b[0m dssp_version \u001b[38;5;241m=\u001b[39m re\u001b[38;5;241m.\u001b[39msearch(\u001b[38;5;124mr\u001b[39m\u001b[38;5;124m\"\u001b[39m\u001b[38;5;124m\\\u001b[39m\u001b[38;5;124ms*([\u001b[39m\u001b[38;5;124m\\\u001b[39m\u001b[38;5;124md.]+)\u001b[39m\u001b[38;5;124m\"\u001b[39m, version_string)\u001b[38;5;241m.\u001b[39mgroup(\u001b[38;5;241m1\u001b[39m)\n\u001b[0;32m    399\u001b[0m dssp_dict, dssp_keys \u001b[38;5;241m=\u001b[39m dssp_dict_from_pdb_file(\n\u001b[0;32m    400\u001b[0m     in_file, dssp, dssp_version\n\u001b[0;32m    401\u001b[0m )\n",
      "File \u001b[1;32mc:\\ProgramData\\anaconda3\\Lib\\subprocess.py:466\u001b[0m, in \u001b[0;36mcheck_output\u001b[1;34m(timeout, *popenargs, **kwargs)\u001b[0m\n\u001b[0;32m    463\u001b[0m         empty \u001b[38;5;241m=\u001b[39m \u001b[38;5;124mb\u001b[39m\u001b[38;5;124m'\u001b[39m\u001b[38;5;124m'\u001b[39m\n\u001b[0;32m    464\u001b[0m     kwargs[\u001b[38;5;124m'\u001b[39m\u001b[38;5;124minput\u001b[39m\u001b[38;5;124m'\u001b[39m] \u001b[38;5;241m=\u001b[39m empty\n\u001b[1;32m--> 466\u001b[0m \u001b[38;5;28;01mreturn\u001b[39;00m run(\u001b[38;5;241m*\u001b[39mpopenargs, stdout\u001b[38;5;241m=\u001b[39mPIPE, timeout\u001b[38;5;241m=\u001b[39mtimeout, check\u001b[38;5;241m=\u001b[39m\u001b[38;5;28;01mTrue\u001b[39;00m,\n\u001b[0;32m    467\u001b[0m            \u001b[38;5;241m*\u001b[39m\u001b[38;5;241m*\u001b[39mkwargs)\u001b[38;5;241m.\u001b[39mstdout\n",
      "File \u001b[1;32mc:\\ProgramData\\anaconda3\\Lib\\subprocess.py:548\u001b[0m, in \u001b[0;36mrun\u001b[1;34m(input, capture_output, timeout, check, *popenargs, **kwargs)\u001b[0m\n\u001b[0;32m    545\u001b[0m     kwargs[\u001b[38;5;124m'\u001b[39m\u001b[38;5;124mstdout\u001b[39m\u001b[38;5;124m'\u001b[39m] \u001b[38;5;241m=\u001b[39m PIPE\n\u001b[0;32m    546\u001b[0m     kwargs[\u001b[38;5;124m'\u001b[39m\u001b[38;5;124mstderr\u001b[39m\u001b[38;5;124m'\u001b[39m] \u001b[38;5;241m=\u001b[39m PIPE\n\u001b[1;32m--> 548\u001b[0m \u001b[38;5;28;01mwith\u001b[39;00m Popen(\u001b[38;5;241m*\u001b[39mpopenargs, \u001b[38;5;241m*\u001b[39m\u001b[38;5;241m*\u001b[39mkwargs) \u001b[38;5;28;01mas\u001b[39;00m process:\n\u001b[0;32m    549\u001b[0m     \u001b[38;5;28;01mtry\u001b[39;00m:\n\u001b[0;32m    550\u001b[0m         stdout, stderr \u001b[38;5;241m=\u001b[39m process\u001b[38;5;241m.\u001b[39mcommunicate(\u001b[38;5;28minput\u001b[39m, timeout\u001b[38;5;241m=\u001b[39mtimeout)\n",
      "File \u001b[1;32mc:\\ProgramData\\anaconda3\\Lib\\subprocess.py:1026\u001b[0m, in \u001b[0;36mPopen.__init__\u001b[1;34m(self, args, bufsize, executable, stdin, stdout, stderr, preexec_fn, close_fds, shell, cwd, env, universal_newlines, startupinfo, creationflags, restore_signals, start_new_session, pass_fds, user, group, extra_groups, encoding, errors, text, umask, pipesize, process_group)\u001b[0m\n\u001b[0;32m   1022\u001b[0m         \u001b[38;5;28;01mif\u001b[39;00m \u001b[38;5;28mself\u001b[39m\u001b[38;5;241m.\u001b[39mtext_mode:\n\u001b[0;32m   1023\u001b[0m             \u001b[38;5;28mself\u001b[39m\u001b[38;5;241m.\u001b[39mstderr \u001b[38;5;241m=\u001b[39m io\u001b[38;5;241m.\u001b[39mTextIOWrapper(\u001b[38;5;28mself\u001b[39m\u001b[38;5;241m.\u001b[39mstderr,\n\u001b[0;32m   1024\u001b[0m                     encoding\u001b[38;5;241m=\u001b[39mencoding, errors\u001b[38;5;241m=\u001b[39merrors)\n\u001b[1;32m-> 1026\u001b[0m     \u001b[38;5;28mself\u001b[39m\u001b[38;5;241m.\u001b[39m_execute_child(args, executable, preexec_fn, close_fds,\n\u001b[0;32m   1027\u001b[0m                         pass_fds, cwd, env,\n\u001b[0;32m   1028\u001b[0m                         startupinfo, creationflags, shell,\n\u001b[0;32m   1029\u001b[0m                         p2cread, p2cwrite,\n\u001b[0;32m   1030\u001b[0m                         c2pread, c2pwrite,\n\u001b[0;32m   1031\u001b[0m                         errread, errwrite,\n\u001b[0;32m   1032\u001b[0m                         restore_signals,\n\u001b[0;32m   1033\u001b[0m                         gid, gids, uid, umask,\n\u001b[0;32m   1034\u001b[0m                         start_new_session, process_group)\n\u001b[0;32m   1035\u001b[0m \u001b[38;5;28;01mexcept\u001b[39;00m:\n\u001b[0;32m   1036\u001b[0m     \u001b[38;5;66;03m# Cleanup if the child failed starting.\u001b[39;00m\n\u001b[0;32m   1037\u001b[0m     \u001b[38;5;28;01mfor\u001b[39;00m f \u001b[38;5;129;01min\u001b[39;00m \u001b[38;5;28mfilter\u001b[39m(\u001b[38;5;28;01mNone\u001b[39;00m, (\u001b[38;5;28mself\u001b[39m\u001b[38;5;241m.\u001b[39mstdin, \u001b[38;5;28mself\u001b[39m\u001b[38;5;241m.\u001b[39mstdout, \u001b[38;5;28mself\u001b[39m\u001b[38;5;241m.\u001b[39mstderr)):\n",
      "File \u001b[1;32mc:\\ProgramData\\anaconda3\\Lib\\subprocess.py:1538\u001b[0m, in \u001b[0;36mPopen._execute_child\u001b[1;34m(self, args, executable, preexec_fn, close_fds, pass_fds, cwd, env, startupinfo, creationflags, shell, p2cread, p2cwrite, c2pread, c2pwrite, errread, errwrite, unused_restore_signals, unused_gid, unused_gids, unused_uid, unused_umask, unused_start_new_session, unused_process_group)\u001b[0m\n\u001b[0;32m   1536\u001b[0m \u001b[38;5;66;03m# Start the process\u001b[39;00m\n\u001b[0;32m   1537\u001b[0m \u001b[38;5;28;01mtry\u001b[39;00m:\n\u001b[1;32m-> 1538\u001b[0m     hp, ht, pid, tid \u001b[38;5;241m=\u001b[39m _winapi\u001b[38;5;241m.\u001b[39mCreateProcess(executable, args,\n\u001b[0;32m   1539\u001b[0m                              \u001b[38;5;66;03m# no special security\u001b[39;00m\n\u001b[0;32m   1540\u001b[0m                              \u001b[38;5;28;01mNone\u001b[39;00m, \u001b[38;5;28;01mNone\u001b[39;00m,\n\u001b[0;32m   1541\u001b[0m                              \u001b[38;5;28mint\u001b[39m(\u001b[38;5;129;01mnot\u001b[39;00m close_fds),\n\u001b[0;32m   1542\u001b[0m                              creationflags,\n\u001b[0;32m   1543\u001b[0m                              env,\n\u001b[0;32m   1544\u001b[0m                              cwd,\n\u001b[0;32m   1545\u001b[0m                              startupinfo)\n\u001b[0;32m   1546\u001b[0m \u001b[38;5;28;01mfinally\u001b[39;00m:\n\u001b[0;32m   1547\u001b[0m     \u001b[38;5;66;03m# Child is launched. Close the parent's copy of those pipe\u001b[39;00m\n\u001b[0;32m   1548\u001b[0m     \u001b[38;5;66;03m# handles that only the child should have open.  You need\u001b[39;00m\n\u001b[1;32m   (...)\u001b[0m\n\u001b[0;32m   1551\u001b[0m     \u001b[38;5;66;03m# pipe will not close when the child process exits and the\u001b[39;00m\n\u001b[0;32m   1552\u001b[0m     \u001b[38;5;66;03m# ReadFile will hang.\u001b[39;00m\n\u001b[0;32m   1553\u001b[0m     \u001b[38;5;28mself\u001b[39m\u001b[38;5;241m.\u001b[39m_close_pipe_fds(p2cread, p2cwrite,\n\u001b[0;32m   1554\u001b[0m                          c2pread, c2pwrite,\n\u001b[0;32m   1555\u001b[0m                          errread, errwrite)\n",
      "\u001b[1;31mFileNotFoundError\u001b[0m: [WinError 2] The system cannot find the file specified"
     ]
    }
   ],
   "source": [
    "# Input mmcif file dari prediksi AF3\n",
    "parser = MMCIFParser()\n",
    "\n",
    "# Nama direktori file mmcif\n",
    "direktori = \"../Data/Predictions\"\n",
    "\n",
    "# Array untuk menyimpan data protein\n",
    "data_protein = []\n",
    "\n",
    "# Membaca setiap file mmcif\n",
    "for i, nama_folder in enumerate(os.listdir(direktori)):\n",
    "    nama_file = os.path.join(direktori, nama_folder, nama_folder + '_model_0.cif')\n",
    "    struktur = parser.get_structure('struktur', nama_file)\n",
    "    model = struktur[0]\n",
    "    chain = model['A']\n",
    "    dssp = DSSP(chain, os.path.join(direktori, nama_file), dssp='mkdssp')\n",
    "    data_protein.append(dssp)\n",
    "\n",
    "# Membuat array untuk menyimpan data residu dan sekunder struktur\n",
    "data_fitur = []\n",
    "\n",
    "# Membaca setiap data protein\n",
    "for protein in data_protein:\n",
    "    fitur = []\n",
    "    for key, value in protein.items():\n",
    "        fitur.append({'residue': key[1], 'dssp8': value[2]})\n",
    "    data_fitur.append(fitur)\n",
    "\n",
    "# Ubah array menjadi pandas dataframe\n",
    "df = pd.DataFrame(data_fitur)\n",
    "\n",
    "# Tamplikan 5 baris pertama\n",
    "print(df.head())"
   ]
  },
  {
   "cell_type": "code",
   "execution_count": null,
   "metadata": {},
   "outputs": [
    {
     "name": "stdout",
     "output_type": "stream",
     "text": [
      "(1, 'V', '-', 1.0, 360.0, 121.7, 0, 0.0, 2, -0.1, 0, 0.0, 0, 0.0)\n",
      "(2, 'P', '-', 0.5441176470588235, -68.7, 146.5, 0, 0.0, 2, -0.0, 0, 0.0, 0, 0.0)\n",
      "(3, 'S', '-', 0.46153846153846156, -72.8, 163.8, 1, -0.1, 4, -2.3, -2, -0.1, 5, -0.2)\n",
      "(4, 'L', 'H', 0.6402439024390244, -60.8, -35.5, 1, -0.2, 4, -2.6, 2, -0.2, 33, -0.2)\n",
      "(5, 'A', 'H', 0.2169811320754717, -62.4, -42.6, 2, -0.2, 4, -2.3, 1, -0.2, 32, -0.3)\n",
      "(6, 'T', 'H', 0.4225352112676056, -63.8, -45.2, 2, -0.2, 4, -2.5, 1, -0.2, -2, -0.2)\n",
      "(7, 'I', 'H', 0.378698224852071, -62.0, -42.8, -4, -2.3, 4, -2.6, 1, -0.2, -2, -0.2)\n",
      "(8, 'S', 'H', 0.12307692307692308, -60.4, -44.1, -4, -2.6, 4, -1.5, 1, -0.2, -1, -0.2)\n",
      "(9, 'L', 'H', 0.21341463414634146, -63.7, -44.3, -4, -2.3, 4, -0.6, 2, -0.2, -2, -0.2)\n",
      "(10, 'E', 'H', 0.6237113402061856, -60.7, -43.6, -4, -2.5, 3, -0.9, 1, -0.2, 4, -0.4)\n",
      "(11, 'N', 'H', 0.8152866242038217, -66.8, -28.0, -4, -2.6, 4, -0.2, 1, -0.2, -1, -0.2)\n",
      "(12, 'S', 'H', 0.2230769230769231, -101.1, 3.7, -4, -1.5, 4, -3.0, -5, -0.2, 5, -0.2)\n",
      "(13, 'W', 'H', 0.2775330396475771, -55.6, -48.7, -3, -0.9, 4, -2.6, -4, -0.6, 5, -0.2)\n",
      "(14, 'S', 'H', 0.7615384615384615, -63.2, -45.5, -4, -0.4, 4, -2.2, 1, -0.2, -1, -0.2)\n",
      "(15, 'G', 'H', 0.34523809523809523, -64.2, -40.6, -4, -0.2, 4, -2.3, 2, -0.2, -2, -0.2)\n",
      "(16, 'L', 'H', 0.0, -63.6, -45.7, -4, -3.0, 4, -2.1, 2, -0.2, -2, -0.2)\n",
      "(17, 'S', 'H', 0.03076923076923077, -58.7, -44.4, -4, -2.6, 4, -1.9, -5, -0.2, -2, -0.2)\n",
      "(18, 'K', 'H', 0.5609756097560976, -61.2, -44.4, -4, -2.2, 4, -2.3, 1, -0.2, -1, -0.2)\n",
      "(19, 'Q', 'H', 0.07575757575757576, -66.2, -34.5, -4, -2.3, 4, -2.4, 1, -0.2, -1, -0.2)\n",
      "(20, 'I', 'H', 0.01775147928994083, -62.4, -42.1, -4, -2.1, 4, -0.9, 2, -0.2, -1, -0.2)\n",
      "(21, 'Q', 'H', 0.16666666666666666, -62.0, -46.5, -4, -1.9, 3, -0.8, 1, -0.2, 4, -0.5)\n",
      "(22, 'L', 'H', 0.3597560975609756, -64.3, -34.3, -4, -2.3, 3, -1.2, 1, -0.2, -1, -0.2)\n",
      "(23, 'A', 'H', 0.0, -66.1, -23.5, -4, -2.4, 5, -2.7, 1, -0.3, 3, -1.8)\n",
      "(24, 'Q', 'T', 0.6767676767676768, -60.2, -31.2, -4, -0.9, 3, -0.3, -3, -0.8, -1, -0.3)\n",
      "(25, 'G', 'T', 0.8690476190476191, -100.6, 14.6, -3, -1.2, -1, -0.3, -4, -0.5, -2, -0.2)\n",
      "(26, 'N', 'T', 0.37579617834394907, -139.2, 38.3, -3, -1.8, 3, -2.0, 3, -0.0, -1, -0.2)\n",
      "(27, 'N', 'T', 1.0, 55.2, 33.4, -3, -0.3, -3, -0.2, 1, -0.3, 3, -0.1)\n",
      "(28, 'G', 'T', 0.17857142857142858, 80.7, 4.9, -5, -2.7, 21, -2.3, 1, -0.2, 2, -0.4)\n",
      "(29, 'I', 'E', 0.5266272189349113, -100.3, 132.1, -3, -2.0, 19, -0.3, -6, -0.4, -1, -0.2)\n",
      "(30, 'F', 'E', 0.05583756345177665, -68.8, 142.6, 17, -2.7, -10, -0.1, -2, -0.4, -11, -0.1)\n",
      "(31, 'R', 'E', 0.6935483870967742, -74.2, -35.1, 1, -0.3, -1, -0.1, -12, -0.2, -12, -0.0)\n",
      "(32, 'T', 'E', 0.5915492957746479, -129.2, 117.4, -3, -0.0, -1, -0.3, -13, -0.0, -13, -0.1)\n",
      "(33, 'P', 'E', 0.4338235294117647, -59.4, 145.5, 0, 0.0, 2, -0.5, 0, 0.0, 14, -0.2)\n",
      "(34, 'I', 'E', 0.13609467455621302, -104.2, 127.7, 12, -2.4, 12, -3.1, -18, -0.0, 2, -0.5)\n",
      "(35, 'V', 'E', 0.4154929577464789, -95.3, 124.7, -2, -0.5, 2, -0.3, 10, -0.2, 10, -0.2)\n",
      "(36, 'L', 'E', 0.06097560975609756, -120.2, 169.1, 8, -2.8, 8, -2.9, -2, -0.5, 2, -0.5)\n",
      "(37, 'V', 'E', 0.15492957746478872, -106.6, 130.3, -32, -0.3, 6, -0.2, -2, -0.3, -28, -0.2)\n",
      "(38, 'D', '-', 0.2392638036809816, -85.0, -178.4, 4, -2.9, 3, -1.9, -2, -0.5, -33, -0.1)\n",
      "(39, 'N', 'T', 0.8980891719745223, -69.3, -7.5, 1, -0.3, -35, -0.1, 2, -0.1, -1, -0.1)\n",
      "(40, 'K', 'T', 0.8146341463414634, -102.3, 0.4, 2, -0.2, -1, -0.3, -36, -0.0, 3, -0.1)\n",
      "(41, 'G', 'S', 0.5119047619047619, 87.3, 8.6, -3, -1.9, 2, -0.3, 1, -0.3, -2, -0.1)\n",
      "(42, 'N', '-', 0.5668789808917197, -91.6, 144.4, 1, -0.0, -4, -2.9, -5, -0.0, 2, -0.4)\n",
      "(43, 'R', 'E', 0.8104838709677419, -77.2, 130.5, -2, -0.3, 2, -0.4, -6, -0.2, -6, -0.2)\n",
      "(44, 'V', 'E', 0.3732394366197183, -130.2, 142.3, -8, -2.9, -8, -2.8, -2, -0.4, 2, -0.4)\n",
      "(45, 'Q', 'E', 0.6818181818181818, -94.3, 131.6, -2, -0.4, 2, -0.6, -10, -0.2, -10, -0.2)\n",
      "(46, 'I', 'E', 0.07692307692307693, -102.9, 116.1, -12, -3.1, -12, -2.4, -2, -0.4, 3, -0.1)\n",
      "(47, 'T', 'E', 0.3732394366197183, -117.0, -8.6, -2, -0.6, -17, -2.7, -14, -0.2, 2, -0.3)\n",
      "(48, 'N', 'E', 0.2611464968152866, -158.7, 172.8, -19, -0.3, 3, -1.1, -17, -0.0, -19, -0.2)\n",
      "(49, 'V', 'T', 0.2746478873239437, -77.2, -7.5, -21, -2.3, -20, -0.1, -2, -0.3, 9, -0.1)\n",
      "(50, 'T', 'T', 0.7535211267605634, -85.1, -8.3, -22, -0.3, -1, -0.2, 4, -0.1, -21, -0.1)\n",
      "(51, 'S', 'S', 0.2, -60.0, 143.7, -3, -1.1, 4, -2.5, 1, -0.1, 3, -0.9)\n",
      "(52, 'K', 'H', 0.8195121951219512, -57.0, -39.8, 1, -0.3, 4, -2.3, 2, -0.2, 5, -0.2)\n",
      "(53, 'V', 'H', 0.21830985915492956, -62.9, -31.4, 1, -0.2, 4, -0.5, 2, -0.2, -1, -0.3)\n",
      "(54, 'V', 'H', 0.0, -76.8, -50.9, -3, -0.9, 4, -1.3, -6, -0.2, 3, -1.0)\n",
      "(55, 'T', 'H', 0.5633802816901409, -62.9, -29.9, -4, -2.5, 4, -0.2, 1, -0.3, -2, -0.2)\n",
      "(56, 'S', 'H', 0.5846153846153846, -76.7, -20.1, -4, -2.3, -1, -0.3, -5, -0.3, -2, -0.2)\n",
      "(57, 'N', 'H', 0.267515923566879, -129.6, 8.6, -3, -1.0, 4, -2.4, -4, -0.5, 3, -0.3)\n",
      "(58, 'I', 'H', 0.3431952662721893, -59.3, -39.2, -4, -1.3, 4, -2.8, 1, -0.2, 5, -0.2)\n",
      "(59, 'Q', 'H', 0.5959595959595959, -64.2, -43.9, -4, -0.2, 4, -2.6, 1, -0.2, -1, -0.2)\n",
      "(60, 'L', 'H', 0.6280487804878049, -65.9, -40.3, -3, -0.3, 4, -2.5, 2, -0.2, -1, -0.2)\n",
      "(61, 'L', 'H', 0.0, -64.5, -42.6, -4, -2.4, 4, -1.2, 2, -0.2, -2, -0.2)\n",
      "(62, 'L', 'H', 0.1951219512195122, -67.6, -43.5, -4, -2.8, 4, -1.8, -5, -0.2, 3, -0.2)\n",
      "(63, 'N', 'H', 0.445859872611465, -62.1, -42.9, -4, -2.6, 4, -1.1, -5, -0.2, -2, -0.2)\n",
      "(64, 'T', 'H', 0.6126760563380281, -59.9, -34.1, -4, -2.5, -1, -0.2, 1, -0.2, -2, -0.2)\n",
      "(65, 'R', 'H', 0.5846774193548387, -80.4, -29.9, -4, -1.2, -1, -0.2, -3, -0.2, -2, -0.2)\n",
      "(66, 'N', 'H', 0.6942675159235668, -109.3, 5.9, -4, -1.8, -2, -0.2, -3, -0.1, -1, -0.2)\n",
      "(67, 'I', '-', 1.0, -82.3, 360.0, -4, -1.1, -4, -0.0, -3, -0.1, 0, 0.0)\n",
      "\n",
      " VPSLATISLENSWSGLSKQIQLAQGNNGIFRTPIVLVDNKGNRVQITNVTSKVVTSNIQLLLNTRNI\n",
      "---HHHHHHHHHHHHHHHHHHHHTTTTTEEEEEEEEE-TTS-EEEEEETTSHHHHHHHHHHHHHHH-\n"
     ]
    }
   ],
   "source": [
    "# Print semua output DSSP\n",
    "for key in dssp.keys():\n",
    "    residu = dssp[key]\n",
    "    print(residu)\n",
    "\n",
    "# Menggabungkan semua residu menjadi satu string yang disebut residu\n",
    "residu = \"\"\n",
    "# Menggabungkan semua struktur sekunder yang diprediksi menjadi satu string yang disebut ss\n",
    "ss = \"\"\n",
    "\n",
    "# Loop melalui kamus dssp dan tambahkan residu dan struktur sekunder ke string masing-masing\n",
    "for key in dssp.keys():\n",
    "    residu += dssp[key][1]\n",
    "    ss += dssp[key][2]\n",
    "\n",
    "# Cetak residu dan struktur sekunder\n",
    "print(\"\\n\", residu)\n",
    "print(ss)"
   ]
  },
  {
   "cell_type": "markdown",
   "metadata": {},
   "source": [
    "# Metrik Akurasi skor-Q\n",
    "$$Q_s =  \\frac{∑^s_{i=1} C_i}{n}×100\\%$$"
   ]
  },
  {
   "cell_type": "markdown",
   "metadata": {},
   "source": [
    "## Akurasi Q8 "
   ]
  },
  {
   "cell_type": "code",
   "execution_count": null,
   "metadata": {},
   "outputs": [],
   "source": [
    "real_ss = cb513_testlabel[0]\n",
    "print(real_ss)"
   ]
  },
  {
   "cell_type": "code",
   "execution_count": null,
   "metadata": {},
   "outputs": [
    {
     "name": "stdout",
     "output_type": "stream",
     "text": [
      "CCCHHHHHHHHHHHHHHHHHHHHTTTTTEEEEEEEEECTTSCEEEEEETTSHHHHHHHHHHHHHHHC\n"
     ]
    }
   ],
   "source": [
    "# Ganti Struktur sekunder yang masih berbeda format agar sama dengan label\n",
    "ss = ss.replace(\"-\", \"C\")\n",
    "print(ss)"
   ]
  },
  {
   "cell_type": "code",
   "execution_count": null,
   "metadata": {},
   "outputs": [
    {
     "name": "stdout",
     "output_type": "stream",
     "text": [
      "0.7761194029850746\n"
     ]
    }
   ],
   "source": [
    "# Calculate the accuracy of the predicted secondary structure (Q8 Score)\n",
    "def calculate_accuracy(predicted, actual):\n",
    "    correct = 0\n",
    "    total = len(predicted)\n",
    "    for p, a in zip(predicted, actual):\n",
    "        if p == a:\n",
    "            correct += 1\n",
    "    return correct / total\n",
    "\n",
    "# Calculate the accuracy of the predicted secondary structure\n",
    "accuracy = calculate_accuracy(cb513_testlabel[0], ss)\n",
    "print(accuracy)"
   ]
  },
  {
   "cell_type": "markdown",
   "metadata": {},
   "source": [
    "Visualisasi akurasi Q8"
   ]
  },
  {
   "cell_type": "code",
   "execution_count": null,
   "metadata": {},
   "outputs": [
    {
     "data": {
      "image/png": "[encoded data removed]",
      "text/plain": [
       "<Figure size 1500x200 with 1 Axes>"
      ]
     },
     "metadata": {},
     "output_type": "display_data"
    },
    {
     "data": {
      "image/png": "[encoded data removed]",
      "text/plain": [
       "<Figure size 1500x200 with 1 Axes>"
      ]
     },
     "metadata": {},
     "output_type": "display_data"
    }
   ],
   "source": [
    "real_ss = cb513_testlabel[0]\n",
    "\n",
    "# Define colors for secondary structure elements using 8-state DSSP\n",
    "colors = {'H': 'red', 'B': 'blue', 'E': 'blue', 'G': 'purple', 'I': 'orange', 'T': 'green', 'S': 'yellow', 'C': 'gray', '-': 'black'}\n",
    "\n",
    "# Create a list of colors corresponding to the secondary structure\n",
    "color_list = [colors[ss] for ss in ss]\n",
    "\n",
    "# Plot\n",
    "fig, ax = plt.subplots(figsize=(15, 2))\n",
    "ax.bar(range(len(real_ss)), [1]*len(real_ss), color=[colors[ss] for ss in real_ss])\n",
    "ax.set_xticks(range(len(real_ss)))\n",
    "ax.set_xticklabels(residu, rotation=0, fontsize=10)\n",
    "ax.set_yticks([])\n",
    "ax.set_title(\"Real Secondary Structure\")\n",
    "\n",
    "fig, ax = plt.subplots(figsize=(15, 2))\n",
    "ax.bar(range(len(ss)), [1]*len(ss), color=[colors[ss] for ss in ss])\n",
    "ax.set_xticks(range(len(ss)))\n",
    "ax.set_xticklabels(residu, rotation=0, fontsize=10)\n",
    "ax.set_yticks([])\n",
    "ax.set_title(\"Predicted Secondary Structure\")\n",
    "\n",
    "plt.show()"
   ]
  },
  {
   "cell_type": "markdown",
   "metadata": {},
   "source": [
    "## Akurasi Q3"
   ]
  },
  {
   "cell_type": "markdown",
   "metadata": {},
   "source": [
    "Tabel Konversi Q8 ke Q3\n",
    "| DSSP 8-Class | 3-Class |\n",
    "|--------------|---------|\n",
    "| H            | H       |\n",
    "| G            | H       |\n",
    "| I            | H       |\n",
    "| B            | E       |\n",
    "| E            | E       |\n",
    "| T            | C       |\n",
    "| S            | C       |\n",
    "| C            | C       |"
   ]
  },
  {
   "cell_type": "code",
   "execution_count": null,
   "metadata": {},
   "outputs": [
    {
     "name": "stdout",
     "output_type": "stream",
     "text": [
      "CCCHHHHHHHHHHHHHHHHHHHHCCCCCEEEEEEEECCCCCCCEEEEECCCHHHHHCECCECCHHHC\n",
      "CCCHHHHHHHHHHHHHHHHHHHHCCCCCEEEEEEEEECCCCCEEEEEECCCHHHHHHHHHHHHHHHC\n"
     ]
    }
   ],
   "source": [
    "# Convert the original & predicted 8-state secondary structure to 3-state secondary structure\n",
    "def convert_8state_to_3state(ss):\n",
    "    ss_3state = \"\"\n",
    "    for s in ss:\n",
    "        if s in ['H', 'G', 'I']:\n",
    "            ss_3state += 'H'\n",
    "        elif s in ['E', 'B']:\n",
    "            ss_3state += 'E'\n",
    "        else:\n",
    "            ss_3state += 'C'\n",
    "    return ss_3state\n",
    "\n",
    "cb513_testlabel_3state = cb513_testlabel.copy()\n",
    "cb513_testlabel_3state[0] = convert_8state_to_3state(cb513_testlabel[0])\n",
    "ss_3state = convert_8state_to_3state(ss)\n",
    "\n",
    "print(cb513_testlabel_3state[0])\n",
    "print(ss_3state)"
   ]
  },
  {
   "cell_type": "code",
   "execution_count": null,
   "metadata": {},
   "outputs": [
    {
     "name": "stdout",
     "output_type": "stream",
     "text": [
      "0.8656716417910447\n"
     ]
    }
   ],
   "source": [
    "# Calculate the accuracy of the predicted secondary structure (Q3 Score)\n",
    "def calculate_accuracy(predicted, actual):\n",
    "    correct = 0\n",
    "    total = len(predicted)\n",
    "    for p, a in zip(predicted, actual):\n",
    "        if p == a:\n",
    "            correct += 1\n",
    "    return correct / total\n",
    "\n",
    "# Calculate the accuracy of the predicted secondary structure\n",
    "accuracy = calculate_accuracy(cb513_testlabel_3state[0], ss_3state)\n",
    "print(accuracy)"
   ]
  },
  {
   "cell_type": "markdown",
   "metadata": {},
   "source": [
    "Visualisasi akurasi Q3"
   ]
  },
  {
   "cell_type": "code",
   "execution_count": null,
   "metadata": {},
   "outputs": [
    {
     "data": {
      "image/png": "[encoded data removed]",
      "text/plain": [
       "<Figure size 1500x200 with 1 Axes>"
      ]
     },
     "metadata": {},
     "output_type": "display_data"
    },
    {
     "data": {
      "image/png": "[encoded data removed]",
      "text/plain": [
       "<Figure size 1500x200 with 1 Axes>"
      ]
     },
     "metadata": {},
     "output_type": "display_data"
    }
   ],
   "source": [
    "# residue and secondary structure\n",
    "residue = residu\n",
    "predicted_ss = ss_3state\n",
    "real_ss = cb513_testlabel_3state[0]\n",
    "\n",
    "# Define colors for secondary structure elements using 3-state DSSP\n",
    "colors = {'H': 'red', 'E': 'blue', 'C': 'gray', '-': 'black'}\n",
    "\n",
    "# Create a list of colors corresponding to the secondary structure\n",
    "color_list_real = [colors[ss] for ss in real_ss]\n",
    "color_list_predicted = [colors[ss] for ss in predicted_ss]\n",
    "\n",
    "# Plot\n",
    "fig, ax = plt.subplots(figsize=(15, 2))\n",
    "ax.bar(range(len(real_ss)), [1]*len(real_ss), color=color_list_real)\n",
    "ax.set_xticks(range(len(real_ss)))\n",
    "ax.set_xticklabels(residue, rotation=0, fontsize=10)\n",
    "ax.set_yticks([])\n",
    "ax.set_title(\"Real Secondary Structure\")\n",
    "\n",
    "fig, ax = plt.subplots(figsize=(15, 2))\n",
    "ax.bar(range(len(predicted_ss)), [1]*len(predicted_ss), color=color_list_predicted)\n",
    "ax.set_xticks(range(len(predicted_ss)))\n",
    "ax.set_xticklabels(residue, rotation=0, fontsize=10)\n",
    "ax.set_yticks([])\n",
    "ax.set_title(\"Predicted Secondary Structure\")\n",
    "\n",
    "plt.show()"
   ]
  }
 ],
 "metadata": {
  "kernelspec": {
   "display_name": "base",
   "language": "python",
   "name": "python3"
  },
  "language_info": {
   "codemirror_mode": {
    "name": "ipython",
    "version": 3
   },
   "file_extension": ".py",
   "mimetype": "text/x-python",
   "name": "python",
   "nbconvert_exporter": "python",
   "pygments_lexer": "ipython3",
   "version": "3.12.7"
  }
 },
 "nbformat": 4,
 "nbformat_minor": 2
}
