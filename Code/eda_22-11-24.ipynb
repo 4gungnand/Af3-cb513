{
 "cells": [
  {
   "cell_type": "code",
   "execution_count": 2,
   "metadata": {},
   "outputs": [],
   "source": [
    "import biolib"
   ]
  },
  {
   "cell_type": "code",
   "execution_count": 3,
   "metadata": {},
   "outputs": [
    {
     "name": "stdout",
     "output_type": "stream",
     "text": [
      "2024-11-22 23:03:49,144 | INFO : Already signed in\n"
     ]
    }
   ],
   "source": [
    "biolib.login()"
   ]
  },
  {
   "cell_type": "code",
   "execution_count": 4,
   "metadata": {},
   "outputs": [
    {
     "name": "stdout",
     "output_type": "stream",
     "text": [
      "2024-11-22 23:03:50,772 | INFO : Loaded project bio-utils/DSSP:0.0.7\n"
     ]
    }
   ],
   "source": [
    "dssp = biolib.load('bio-utils/DSSP')"
   ]
  },
  {
   "cell_type": "code",
   "execution_count": 5,
   "metadata": {},
   "outputs": [
    {
     "name": "stdout",
     "output_type": "stream",
     "text": [
      "2024-11-22 23:03:56,192 | INFO : Cloud: The job has been queued. Please wait...\n",
      "2024-11-22 23:04:00,808 | INFO : Cloud: Initializing\n",
      "2024-11-22 23:04:00,810 | INFO : Cloud: Downloading Source Files...\n",
      "2024-11-22 23:04:00,810 | INFO : Cloud: Pulling images...\n",
      "2024-11-22 23:04:00,810 | INFO : Cloud: Computing...\n",
      "mkdssp 3.0.0 options:\n",
      "  -h [ --help ]         Display help message\n",
      "  -i [ --input ] arg    Input PDB file (.pdb) or mmCIF file (.cif/.mcif), \n",
      "                        optionally compressed by gzip (.gz) or bzip2 (.bz2)\n",
      "  -o [ --output ] arg   Output file, optionally compressed by gzip (.gz) or \n",
      "                        bzip2 (.bz2). Use 'stdout' to output to screen\n",
      "  -v [ --verbose ]      Verbose output\n",
      "  --version             Print version and citation info\n",
      "  -d [ --debug ] arg    Debug level (for even more verbose output)\n",
      "\n",
      "\n",
      "Examples: \n",
      "\n",
      "To calculate the secondary structure for the file 1crn.pdb and\n",
      "write the result to a file called 1crn.dssp, you type:\n",
      "\n",
      "  mkdssp -i 1crn.pdb -o 1crn.dssp\n",
      "\n",
      "2024-11-22 23:04:03,982 | INFO : Cloud: Computation finished\n",
      "2024-11-22 23:04:03,982 | INFO : Cloud: Result Ready\n",
      "2024-11-22 23:04:03,982 | INFO : Waiting for job 93c7350f-cb0c-4708-b52f-00ae674b589e to finish...\n",
      "2024-11-22 23:04:05,392 | INFO : Job 93c7350f-cb0c-4708-b52f-00ae674b589e has finished.\n"
     ]
    },
    {
     "data": {
      "text/plain": [
       "Job: 93c7350f-cb0c-4708-b52f-00ae674b589e"
      ]
     },
     "execution_count": 5,
     "metadata": {},
     "output_type": "execute_result"
    }
   ],
   "source": [
    "dssp.cli(args='--help')"
   ]
  },
  {
   "cell_type": "code",
   "execution_count": 6,
   "metadata": {},
   "outputs": [
    {
     "name": "stdout",
     "output_type": "stream",
     "text": [
      "2024-11-22 23:04:12,477 | INFO : Cloud: Initializing\n",
      "2024-11-22 23:04:12,477 | INFO : Cloud: Downloading Source Files...\n",
      "2024-11-22 23:04:12,483 | INFO : Cloud: Pulling images...\n",
      "2024-11-22 23:04:12,483 | INFO : Cloud: Computing...\n",
      "2024-11-22 23:04:15,653 | INFO : Cloud: Computation finished\n",
      "2024-11-22 23:04:15,653 | INFO : Cloud: Result Ready\n",
      "2024-11-22 23:04:15,661 | INFO : Waiting for job 0722a8ba-3e4d-4630-9703-4a4ad4bab972 to finish...\n",
      "2024-11-22 23:04:16,941 | INFO : Job 0722a8ba-3e4d-4630-9703-4a4ad4bab972 has finished.\n"
     ]
    }
   ],
   "source": [
    "job = dssp.cli(args='-i fold_cb513_0_model_0.pdb -o fold_cb513_0_model_0.dssp')"
   ]
  },
  {
   "cell_type": "code",
   "execution_count": 8,
   "metadata": {},
   "outputs": [
    {
     "data": {
      "text/html": [
       "<pre style=\"white-space:pre;overflow-x:auto;line-height:normal;font-family:Menlo,'DejaVu Sans Mono',consolas,'Courier New',monospace\"><span style=\"font-style: italic\">                                                      Jobs                                                      </span>\n",
       "┏━━━━━━━━━━━━━━━━━━━━━━━━━━━━━━━━━━━━━━┳━━━━━━┳━━━━━━━━━━━━━━━━━━━━━━┳━━━━━━━━━━━┳━━━━━━━━━━━━━━━━━━━━━━━━━━━━━┓\n",
       "┃<span style=\"font-weight: bold\"> ID                                   </span>┃<span style=\"font-weight: bold\"> Name </span>┃<span style=\"font-weight: bold\"> Application          </span>┃<span style=\"font-weight: bold\"> Status    </span>┃<span style=\"font-weight: bold\"> Started At                  </span>┃\n",
       "┡━━━━━━━━━━━━━━━━━━━━━━━━━━━━━━━━━━━━━━╇━━━━━━╇━━━━━━━━━━━━━━━━━━━━━━╇━━━━━━━━━━━╇━━━━━━━━━━━━━━━━━━━━━━━━━━━━━┩\n",
       "│ 0722a8ba-3e4d-4630-9703-4a4ad4bab972 │ dssp │ bio-utils/DSSP:0.0.7 │ completed │ 2024-11-22T16:04:06.234693Z │\n",
       "│ 93c7350f-cb0c-4708-b52f-00ae674b589e │ dssp │ bio-utils/DSSP:0.0.7 │ failed    │ 2024-11-22T16:03:50.978583Z │\n",
       "│ 7610c0b8-9902-4d21-abcc-3e999c13ff90 │ dssp │ bio-utils/DSSP:0.0.7 │ failed    │ 2024-11-22T12:14:29.062605Z │\n",
       "│ d71959e8-21ab-4927-abb7-750834cbd0c2 │ dssp │ bio-utils/DSSP:0.0.7 │ failed    │ 2024-11-22T12:12:04.092819Z │\n",
       "│ 02c6dce8-5d66-44c9-b89e-6afe4b1b2436 │ dssp │ bio-utils/DSSP:0.0.7 │ failed    │ 2024-11-22T12:07:30.583347Z │\n",
       "│ 3beddfe8-7b65-442c-990f-827409820c5f │ dssp │ bio-utils/DSSP:0.0.7 │ completed │ 2024-11-22T12:03:53.410950Z │\n",
       "└──────────────────────────────────────┴──────┴──────────────────────┴───────────┴─────────────────────────────┘\n",
       "</pre>\n"
      ],
      "text/plain": [
       "\u001b[3m                                                      Jobs                                                      \u001b[0m\n",
       "┏━━━━━━━━━━━━━━━━━━━━━━━━━━━━━━━━━━━━━━┳━━━━━━┳━━━━━━━━━━━━━━━━━━━━━━┳━━━━━━━━━━━┳━━━━━━━━━━━━━━━━━━━━━━━━━━━━━┓\n",
       "┃\u001b[1m \u001b[0m\u001b[1mID                                  \u001b[0m\u001b[1m \u001b[0m┃\u001b[1m \u001b[0m\u001b[1mName\u001b[0m\u001b[1m \u001b[0m┃\u001b[1m \u001b[0m\u001b[1mApplication         \u001b[0m\u001b[1m \u001b[0m┃\u001b[1m \u001b[0m\u001b[1mStatus   \u001b[0m\u001b[1m \u001b[0m┃\u001b[1m \u001b[0m\u001b[1mStarted At                 \u001b[0m\u001b[1m \u001b[0m┃\n",
       "┡━━━━━━━━━━━━━━━━━━━━━━━━━━━━━━━━━━━━━━╇━━━━━━╇━━━━━━━━━━━━━━━━━━━━━━╇━━━━━━━━━━━╇━━━━━━━━━━━━━━━━━━━━━━━━━━━━━┩\n",
       "│ 0722a8ba-3e4d-4630-9703-4a4ad4bab972 │ dssp │ bio-utils/DSSP:0.0.7 │ completed │ 2024-11-22T16:04:06.234693Z │\n",
       "│ 93c7350f-cb0c-4708-b52f-00ae674b589e │ dssp │ bio-utils/DSSP:0.0.7 │ failed    │ 2024-11-22T16:03:50.978583Z │\n",
       "│ 7610c0b8-9902-4d21-abcc-3e999c13ff90 │ dssp │ bio-utils/DSSP:0.0.7 │ failed    │ 2024-11-22T12:14:29.062605Z │\n",
       "│ d71959e8-21ab-4927-abb7-750834cbd0c2 │ dssp │ bio-utils/DSSP:0.0.7 │ failed    │ 2024-11-22T12:12:04.092819Z │\n",
       "│ 02c6dce8-5d66-44c9-b89e-6afe4b1b2436 │ dssp │ bio-utils/DSSP:0.0.7 │ failed    │ 2024-11-22T12:07:30.583347Z │\n",
       "│ 3beddfe8-7b65-442c-990f-827409820c5f │ dssp │ bio-utils/DSSP:0.0.7 │ completed │ 2024-11-22T12:03:53.410950Z │\n",
       "└──────────────────────────────────────┴──────┴──────────────────────┴───────────┴─────────────────────────────┘\n"
      ]
     },
     "metadata": {},
     "output_type": "display_data"
    }
   ],
   "source": [
    "biolib.show_jobs(count=25)"
   ]
  },
  {
   "cell_type": "code",
   "execution_count": 9,
   "metadata": {},
   "outputs": [
    {
     "name": "stdout",
     "output_type": "stream",
     "text": [
      "2024-11-22 23:06:17,739 | INFO : Saving 1 files to ....\n"
     ]
    }
   ],
   "source": [
    "job = biolib.get_job('0722a8ba-3e4d-4630-9703-4a4ad4bab972')\n",
    "job.save_files('.')"
   ]
  },
  {
   "cell_type": "code",
   "execution_count": 1,
   "metadata": {},
   "outputs": [
    {
     "name": "stdout",
     "output_type": "stream",
     "text": [
      "(514, 700, 22)\n",
      "(514, 700, 9)\n"
     ]
    }
   ],
   "source": [
    "import gzip\n",
    "import numpy as np\n",
    "\n",
    "f = gzip.GzipFile('cb513_sequence_MASK.npy.gz', \"r\")\n",
    "cb513_sequence = np.load(f)\n",
    "f.close()\n",
    "\n",
    "f = gzip.GzipFile('cb513_testlabel_MASK.npy.gz', \"r\")\n",
    "cb513_testlabel = np.load(f)\n",
    "f.close()\n",
    "\n",
    "print(cb513_sequence.shape)\n",
    "print(cb513_testlabel.shape)"
   ]
  }
 ],
 "metadata": {
  "kernelspec": {
   "display_name": "Python 3",
   "language": "python",
   "name": "python3"
  },
  "language_info": {
   "codemirror_mode": {
    "name": "ipython",
    "version": 3
   },
   "file_extension": ".py",
   "mimetype": "text/x-python",
   "name": "python",
   "nbconvert_exporter": "python",
   "pygments_lexer": "ipython3",
   "version": "undefined.undefined.undefined"
  }
 },
 "nbformat": 4,
 "nbformat_minor": 2
}
