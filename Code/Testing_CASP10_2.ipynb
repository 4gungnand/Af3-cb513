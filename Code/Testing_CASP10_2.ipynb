{
 "cells": [
  {
   "cell_type": "markdown",
   "metadata": {},
   "source": [
    "# Testing"
   ]
  },
  {
   "cell_type": "code",
   "execution_count": 1,
   "metadata": {},
   "outputs": [],
   "source": [
    "# Import libraries\n",
    "import pandas as pd\n",
    "import matplotlib.pyplot as plt\n",
    "from sklearn.metrics import precision_recall_fscore_support"
   ]
  },
  {
   "cell_type": "code",
   "execution_count": 2,
   "metadata": {},
   "outputs": [],
   "source": [
    "df_casp10_2 = pd.read_csv(f\"../Data/Postprocessed/casp10_2_dssp.csv\")\n",
    "df_test_casp10_2 = pd.read_csv(f\"../Data/Preprocessed/casp10_preprocessed.csv\") # Original test set"
   ]
  },
  {
   "cell_type": "markdown",
   "metadata": {},
   "source": [
    "## Cleaning"
   ]
  },
  {
   "cell_type": "code",
   "execution_count": 3,
   "metadata": {},
   "outputs": [
    {
     "data": {
      "text/html": [
       "<div>\n",
       "<style scoped>\n",
       "    .dataframe tbody tr th:only-of-type {\n",
       "        vertical-align: middle;\n",
       "    }\n",
       "\n",
       "    .dataframe tbody tr th {\n",
       "        vertical-align: top;\n",
       "    }\n",
       "\n",
       "    .dataframe thead th {\n",
       "        text-align: right;\n",
       "    }\n",
       "</style>\n",
       "<table border=\"1\" class=\"dataframe\">\n",
       "  <thead>\n",
       "    <tr style=\"text-align: right;\">\n",
       "      <th></th>\n",
       "      <th>id</th>\n",
       "      <th>length</th>\n",
       "      <th>residue</th>\n",
       "      <th>predicted_dssp8</th>\n",
       "    </tr>\n",
       "  </thead>\n",
       "  <tbody>\n",
       "    <tr>\n",
       "      <th>0</th>\n",
       "      <td>0</td>\n",
       "      <td>108</td>\n",
       "      <td>LLSTDIWVAALIRRAELGGAFATVARKGDARAGAVLVKAVDRREGT...</td>\n",
       "      <td>---HHHHHHHHHHHHHHTT-EEEEEE---TTT--EEEEEEETTTTE...</td>\n",
       "    </tr>\n",
       "    <tr>\n",
       "      <th>1</th>\n",
       "      <td>1</td>\n",
       "      <td>155</td>\n",
       "      <td>AEVGYPLSWLKDKHPIEEPDLEYSLKWFKKHEYDLETSKLQEVSEK...</td>\n",
       "      <td>----SHHHHHHHHS--PPP--SS-HHHHHHHTTSPP-HHHHHHHHH...</td>\n",
       "    </tr>\n",
       "    <tr>\n",
       "      <th>2</th>\n",
       "      <td>2</td>\n",
       "      <td>168</td>\n",
       "      <td>GYGQRLLAKQMESMIEEAISQAAENYYIQGDIIIPEEWQDIPVEEI...</td>\n",
       "      <td>-HHHHHHHHHHHHHHHHHHHHHBSSEEEEEE----GGGTTS-HHHH...</td>\n",
       "    </tr>\n",
       "    <tr>\n",
       "      <th>3</th>\n",
       "      <td>3</td>\n",
       "      <td>249</td>\n",
       "      <td>MNLVQDKVTIITGGTRGIGFAAAKIFIDNGAKVSIFGETQEEVDTA...</td>\n",
       "      <td>--TTTT-EEEEETTTSHHHHHHHHHHHHTT-EEEEE-SSHHHHHHH...</td>\n",
       "    </tr>\n",
       "    <tr>\n",
       "      <th>4</th>\n",
       "      <td>4</td>\n",
       "      <td>27</td>\n",
       "      <td>ECHLCPVCGESFASKGAQERHLRLLHA</td>\n",
       "      <td>--EE-TTT--EESSHHHHHHHHHHH--</td>\n",
       "    </tr>\n",
       "  </tbody>\n",
       "</table>\n",
       "</div>"
      ],
      "text/plain": [
       "   id  length                                            residue  \\\n",
       "0   0     108  LLSTDIWVAALIRRAELGGAFATVARKGDARAGAVLVKAVDRREGT...   \n",
       "1   1     155  AEVGYPLSWLKDKHPIEEPDLEYSLKWFKKHEYDLETSKLQEVSEK...   \n",
       "2   2     168  GYGQRLLAKQMESMIEEAISQAAENYYIQGDIIIPEEWQDIPVEEI...   \n",
       "3   3     249  MNLVQDKVTIITGGTRGIGFAAAKIFIDNGAKVSIFGETQEEVDTA...   \n",
       "4   4      27                        ECHLCPVCGESFASKGAQERHLRLLHA   \n",
       "\n",
       "                                     predicted_dssp8  \n",
       "0  ---HHHHHHHHHHHHHHTT-EEEEEE---TTT--EEEEEEETTTTE...  \n",
       "1  ----SHHHHHHHHS--PPP--SS-HHHHHHHTTSPP-HHHHHHHHH...  \n",
       "2  -HHHHHHHHHHHHHHHHHHHHHBSSEEEEEE----GGGTTS-HHHH...  \n",
       "3  --TTTT-EEEEETTTSHHHHHHHHHHHHTT-EEEEE-SSHHHHHHH...  \n",
       "4                        --EE-TTT--EESSHHHHHHHHHHH--  "
      ]
     },
     "execution_count": 3,
     "metadata": {},
     "output_type": "execute_result"
    }
   ],
   "source": [
    "df_casp10_2.head()"
   ]
  },
  {
   "cell_type": "code",
   "execution_count": 4,
   "metadata": {},
   "outputs": [
    {
     "data": {
      "text/html": [
       "<div>\n",
       "<style scoped>\n",
       "    .dataframe tbody tr th:only-of-type {\n",
       "        vertical-align: middle;\n",
       "    }\n",
       "\n",
       "    .dataframe tbody tr th {\n",
       "        vertical-align: top;\n",
       "    }\n",
       "\n",
       "    .dataframe thead th {\n",
       "        text-align: right;\n",
       "    }\n",
       "</style>\n",
       "<table border=\"1\" class=\"dataframe\">\n",
       "  <thead>\n",
       "    <tr style=\"text-align: right;\">\n",
       "      <th></th>\n",
       "      <th>id</th>\n",
       "      <th>length</th>\n",
       "      <th>residue</th>\n",
       "      <th>dssp8</th>\n",
       "      <th>dssp3</th>\n",
       "    </tr>\n",
       "  </thead>\n",
       "  <tbody>\n",
       "    <tr>\n",
       "      <th>0</th>\n",
       "      <td>0</td>\n",
       "      <td>108</td>\n",
       "      <td>LLSTDIWVAALIRRAELGGAFATVARKGDARAGAVLVKAVDRREGT...</td>\n",
       "      <td>LLLHHHHHHHHHHHHHHTTLEEEEEELLLTTTLLEEEEEEETTTTE...</td>\n",
       "      <td>CCCHHHHHHHHHHHHHHCCCEEEEEECCCCCCCCEEEEEEECCCCE...</td>\n",
       "    </tr>\n",
       "    <tr>\n",
       "      <th>1</th>\n",
       "      <td>1</td>\n",
       "      <td>155</td>\n",
       "      <td>AEVGYPLSWLKDKHPIEEPDLEYSLKWFKKHEYDLETSKLQEVSEK...</td>\n",
       "      <td>LLLBTTHHHHHHHSLLLLLLLSSLHHHHHHHGGGSLHHHHHHHHHH...</td>\n",
       "      <td>CCCECCHHHHHHHCCCCCCCCCCCHHHHHHHHHHCCHHHHHHHHHH...</td>\n",
       "    </tr>\n",
       "    <tr>\n",
       "      <th>2</th>\n",
       "      <td>2</td>\n",
       "      <td>168</td>\n",
       "      <td>GYGQRLLAKQMESMIEEAISQAAENYYIQGDIIIPEEWQDIPVEEI...</td>\n",
       "      <td>LHHHHHHHHHHHHHHHHHHHHHBSSEEEEEELLLLGGGTTSLHHHH...</td>\n",
       "      <td>CHHHHHHHHHHHHHHHHHHHHHECCEEEEEECCCCHHHCCCCHHHH...</td>\n",
       "    </tr>\n",
       "    <tr>\n",
       "      <th>3</th>\n",
       "      <td>3</td>\n",
       "      <td>249</td>\n",
       "      <td>MNLVQDKVTIITGGTRGIGFAAAKIFIDNGAKVSIFGETQEEVDTA...</td>\n",
       "      <td>LLTTTTLEEEETTLSSHHHHHHHHHHHHTTLEEEEELSSHHHHHHH...</td>\n",
       "      <td>CCCCCCCEEEECCCCCHHHHHHHHHHHHCCCEEEEECCCHHHHHHH...</td>\n",
       "    </tr>\n",
       "    <tr>\n",
       "      <th>4</th>\n",
       "      <td>4</td>\n",
       "      <td>27</td>\n",
       "      <td>ECHLCPVCGESFASKGAQERHLRLLHA</td>\n",
       "      <td>LLEELTTSLLEESSHHHHHHHHHTTLL</td>\n",
       "      <td>CCEECCCCCCEECCHHHHHHHHHCCCC</td>\n",
       "    </tr>\n",
       "    <tr>\n",
       "      <th>...</th>\n",
       "      <td>...</td>\n",
       "      <td>...</td>\n",
       "      <td>...</td>\n",
       "      <td>...</td>\n",
       "      <td>...</td>\n",
       "    </tr>\n",
       "    <tr>\n",
       "      <th>118</th>\n",
       "      <td>118</td>\n",
       "      <td>303</td>\n",
       "      <td>SPVRVENGVLTEVLKGHNEIILPNSVKSIPKAAFRGSQINKVVLNE...</td>\n",
       "      <td>LLEEEETTEEEEELSSLSEEELLTTLLEELTTTTTTLLLSEEELLT...</td>\n",
       "      <td>CCEEEECCEEEEECCCCCEEECCCCCCEECCCCCCCCCCCEEECCC...</td>\n",
       "    </tr>\n",
       "    <tr>\n",
       "      <th>119</th>\n",
       "      <td>119</td>\n",
       "      <td>100</td>\n",
       "      <td>MIDLAPLVRRLAGTPLAEWANGLQAQLDTKMSKGHGDLQRWQSALD...</td>\n",
       "      <td>LLLLHHHHHHHTTSTTHHHHHHHHHHHHHHHHHTHHHHHTTHHHHH...</td>\n",
       "      <td>CCCCHHHHHHHCCCCCHHHHHHHHHHHHHHHHHCHHHHHCCHHHHH...</td>\n",
       "    </tr>\n",
       "    <tr>\n",
       "      <th>120</th>\n",
       "      <td>120</td>\n",
       "      <td>106</td>\n",
       "      <td>DLKGIWQLCHYVSALKPSNTFKVLSDDGRIVNFTIIPGADAIITGY...</td>\n",
       "      <td>LLLEEEEEEEELLLEEEEEEEEEELTTSEEEEEELLTTSLLEEEEE...</td>\n",
       "      <td>CCCEEEEEEEECCCEEEEEEEEEECCCCEEEEEECCCCCCCEEEEE...</td>\n",
       "    </tr>\n",
       "    <tr>\n",
       "      <th>121</th>\n",
       "      <td>121</td>\n",
       "      <td>173</td>\n",
       "      <td>DDTRYLVGAVPEVDGKVVFSKEFQIPGMSQAQIYDTMTKWMDERLK...</td>\n",
       "      <td>LLGGGSTTSSLEETTEELEEEEEELTTSLHHHHHHHHHHHHHHHHH...</td>\n",
       "      <td>CCHHHCCCCCCEECCEECEEEEEECCCCCHHHHHHHHHHHHHHHHH...</td>\n",
       "    </tr>\n",
       "    <tr>\n",
       "      <th>122</th>\n",
       "      <td>122</td>\n",
       "      <td>212</td>\n",
       "      <td>DLDSKAKSPFVFKSAYYLSLYTKRRARNLRQLAEGIRAADPGVIFH...</td>\n",
       "      <td>LTTLEEEEEEEEEEEEEEEEEEEEEESSHHHHHHHHHHLLHHHHHH...</td>\n",
       "      <td>CCCCEEEEEEEEEEEEEEEEEEEEEECCHHHHHHHHHHCCHHHHHH...</td>\n",
       "    </tr>\n",
       "  </tbody>\n",
       "</table>\n",
       "<p>123 rows × 5 columns</p>\n",
       "</div>"
      ],
      "text/plain": [
       "      id  length                                            residue  \\\n",
       "0      0     108  LLSTDIWVAALIRRAELGGAFATVARKGDARAGAVLVKAVDRREGT...   \n",
       "1      1     155  AEVGYPLSWLKDKHPIEEPDLEYSLKWFKKHEYDLETSKLQEVSEK...   \n",
       "2      2     168  GYGQRLLAKQMESMIEEAISQAAENYYIQGDIIIPEEWQDIPVEEI...   \n",
       "3      3     249  MNLVQDKVTIITGGTRGIGFAAAKIFIDNGAKVSIFGETQEEVDTA...   \n",
       "4      4      27                        ECHLCPVCGESFASKGAQERHLRLLHA   \n",
       "..   ...     ...                                                ...   \n",
       "118  118     303  SPVRVENGVLTEVLKGHNEIILPNSVKSIPKAAFRGSQINKVVLNE...   \n",
       "119  119     100  MIDLAPLVRRLAGTPLAEWANGLQAQLDTKMSKGHGDLQRWQSALD...   \n",
       "120  120     106  DLKGIWQLCHYVSALKPSNTFKVLSDDGRIVNFTIIPGADAIITGY...   \n",
       "121  121     173  DDTRYLVGAVPEVDGKVVFSKEFQIPGMSQAQIYDTMTKWMDERLK...   \n",
       "122  122     212  DLDSKAKSPFVFKSAYYLSLYTKRRARNLRQLAEGIRAADPGVIFH...   \n",
       "\n",
       "                                                 dssp8  \\\n",
       "0    LLLHHHHHHHHHHHHHHTTLEEEEEELLLTTTLLEEEEEEETTTTE...   \n",
       "1    LLLBTTHHHHHHHSLLLLLLLSSLHHHHHHHGGGSLHHHHHHHHHH...   \n",
       "2    LHHHHHHHHHHHHHHHHHHHHHBSSEEEEEELLLLGGGTTSLHHHH...   \n",
       "3    LLTTTTLEEEETTLSSHHHHHHHHHHHHTTLEEEEELSSHHHHHHH...   \n",
       "4                          LLEELTTSLLEESSHHHHHHHHHTTLL   \n",
       "..                                                 ...   \n",
       "118  LLEEEETTEEEEELSSLSEEELLTTLLEELTTTTTTLLLSEEELLT...   \n",
       "119  LLLLHHHHHHHTTSTTHHHHHHHHHHHHHHHHHTHHHHHTTHHHHH...   \n",
       "120  LLLEEEEEEEELLLEEEEEEEEEELTTSEEEEEELLTTSLLEEEEE...   \n",
       "121  LLGGGSTTSSLEETTEELEEEEEELTTSLHHHHHHHHHHHHHHHHH...   \n",
       "122  LTTLEEEEEEEEEEEEEEEEEEEEEESSHHHHHHHHHHLLHHHHHH...   \n",
       "\n",
       "                                                 dssp3  \n",
       "0    CCCHHHHHHHHHHHHHHCCCEEEEEECCCCCCCCEEEEEEECCCCE...  \n",
       "1    CCCECCHHHHHHHCCCCCCCCCCCHHHHHHHHHHCCHHHHHHHHHH...  \n",
       "2    CHHHHHHHHHHHHHHHHHHHHHECCEEEEEECCCCHHHCCCCHHHH...  \n",
       "3    CCCCCCCEEEECCCCCHHHHHHHHHHHHCCCEEEEECCCHHHHHHH...  \n",
       "4                          CCEECCCCCCEECCHHHHHHHHHCCCC  \n",
       "..                                                 ...  \n",
       "118  CCEEEECCEEEEECCCCCEEECCCCCCEECCCCCCCCCCCEEECCC...  \n",
       "119  CCCCHHHHHHHCCCCCHHHHHHHHHHHHHHHHHCHHHHHCCHHHHH...  \n",
       "120  CCCEEEEEEEECCCEEEEEEEEEECCCCEEEEEECCCCCCCEEEEE...  \n",
       "121  CCHHHCCCCCCEECCEECEEEEEECCCCCHHHHHHHHHHHHHHHHH...  \n",
       "122  CCCCEEEEEEEEEEEEEEEEEEEEEECCHHHHHHHHHHCCHHHHHH...  \n",
       "\n",
       "[123 rows x 5 columns]"
      ]
     },
     "execution_count": 4,
     "metadata": {},
     "output_type": "execute_result"
    }
   ],
   "source": [
    "df_test_casp10_2"
   ]
  },
  {
   "cell_type": "markdown",
   "metadata": {},
   "source": [
    "| Code | Structure                     |\n",
    "|------|-------------------------------|\n",
    "| H    | Alpha helix (4-12)            |\n",
    "| B    | Isolated beta-bridge residue  |\n",
    "| E    | Strand                        |\n",
    "| G    | 3-10 helix                    |\n",
    "| I    | Pi helix                      |\n",
    "| T    | Turn                          |\n",
    "| S    | Bend                          |\n",
    "| C    | Coil                          | \n",
    "\n",
    "- Some dataset may use different code for the last structure, such as space '' or 'L', but in this case we use 'C'\n",
    "- DSSP version 4 predicts can predict P state but it is not used in this case, so we convert it to 'C' because it is not a common structure https://chatgpt.com/share/681d8142-dd3c-8005-a045-f54247344b66"
   ]
  },
  {
   "cell_type": "code",
   "execution_count": 5,
   "metadata": {},
   "outputs": [],
   "source": [
    "# Standarkan format struktur sekunder prediksi menggunakan regex\n",
    "df_casp10_2['predicted_dssp8'] = df_casp10_2['predicted_dssp8'].str.replace('-', 'C', regex=True)\n",
    "df_casp10_2['predicted_dssp8'] = df_casp10_2['predicted_dssp8'].str.replace('P', 'C', regex=True)"
   ]
  },
  {
   "cell_type": "code",
   "execution_count": 6,
   "metadata": {},
   "outputs": [],
   "source": [
    "# Standarkan format struktur sekunder prediksi menggunakan regex\n",
    "df_test_casp10_2['dssp8'] = df_test_casp10_2['dssp8'].str.replace('L', 'C', regex=True)"
   ]
  },
  {
   "cell_type": "code",
   "execution_count": 7,
   "metadata": {},
   "outputs": [
    {
     "data": {
      "text/html": [
       "<div>\n",
       "<style scoped>\n",
       "    .dataframe tbody tr th:only-of-type {\n",
       "        vertical-align: middle;\n",
       "    }\n",
       "\n",
       "    .dataframe tbody tr th {\n",
       "        vertical-align: top;\n",
       "    }\n",
       "\n",
       "    .dataframe thead th {\n",
       "        text-align: right;\n",
       "    }\n",
       "</style>\n",
       "<table border=\"1\" class=\"dataframe\">\n",
       "  <thead>\n",
       "    <tr style=\"text-align: right;\">\n",
       "      <th></th>\n",
       "      <th>dssp8</th>\n",
       "      <th>predicted_dssp8</th>\n",
       "    </tr>\n",
       "  </thead>\n",
       "  <tbody>\n",
       "    <tr>\n",
       "      <th>0</th>\n",
       "      <td>CCCHHHHHHHHHHHHHHTTCEEEEEECCCTTTCCEEEEEEETTTTE...</td>\n",
       "      <td>CCCHHHHHHHHHHHHHHTTCEEEEEECCCTTTCCEEEEEEETTTTE...</td>\n",
       "    </tr>\n",
       "    <tr>\n",
       "      <th>1</th>\n",
       "      <td>CCCBTTHHHHHHHSCCCCCCCSSCHHHHHHHGGGSCHHHHHHHHHH...</td>\n",
       "      <td>CCCCSHHHHHHHHSCCCCCCCSSCHHHHHHHTTSCCCHHHHHHHHH...</td>\n",
       "    </tr>\n",
       "    <tr>\n",
       "      <th>2</th>\n",
       "      <td>CHHHHHHHHHHHHHHHHHHHHHBSSEEEEEECCCCGGGTTSCHHHH...</td>\n",
       "      <td>CHHHHHHHHHHHHHHHHHHHHHBSSEEEEEECCCCGGGTTSCHHHH...</td>\n",
       "    </tr>\n",
       "    <tr>\n",
       "      <th>3</th>\n",
       "      <td>CCTTTTCEEEETTCSSHHHHHHHHHHHHTTCEEEEECSSHHHHHHH...</td>\n",
       "      <td>CCTTTTCEEEEETTTSHHHHHHHHHHHHTTCEEEEECSSHHHHHHH...</td>\n",
       "    </tr>\n",
       "    <tr>\n",
       "      <th>4</th>\n",
       "      <td>CCEECTTSCCEESSHHHHHHHHHTTCC</td>\n",
       "      <td>CCEECTTTCCEESSHHHHHHHHHHHCC</td>\n",
       "    </tr>\n",
       "    <tr>\n",
       "      <th>...</th>\n",
       "      <td>...</td>\n",
       "      <td>...</td>\n",
       "    </tr>\n",
       "    <tr>\n",
       "      <th>118</th>\n",
       "      <td>CCEEEETTEEEEECSSCSEEECCTTCCEECTTTTTTCCCSEEECCT...</td>\n",
       "      <td>CCEEEETTEEEEECSSCSEEECCTTCCEECTTTTTTCCCSEEECCT...</td>\n",
       "    </tr>\n",
       "    <tr>\n",
       "      <th>119</th>\n",
       "      <td>CCCCHHHHHHHTTSTTHHHHHHHHHHHHHHHHHTHHHHHTTHHHHH...</td>\n",
       "      <td>CCCCHHHHHHHTTSTTHHHHHTHHHHHHHHHTTCCTTHHHHHHHHH...</td>\n",
       "    </tr>\n",
       "    <tr>\n",
       "      <th>120</th>\n",
       "      <td>CCCEEEEEEEECCCEEEEEEEEEECTTSEEEEEECCTTSCCEEEEE...</td>\n",
       "      <td>CCCEEEEEEEESSSEEEEEEEEEECTTSEEEEEEEETTEEEEEEEE...</td>\n",
       "    </tr>\n",
       "    <tr>\n",
       "      <th>121</th>\n",
       "      <td>CCGGGSTTSSCEETTEECEEEEEECTTSCHHHHHHHHHHHHHHHHH...</td>\n",
       "      <td>CCGGGSTTSSCEETTEECEEEEEECTTCCHHHHHHHHHHHHHHHHH...</td>\n",
       "    </tr>\n",
       "    <tr>\n",
       "      <th>122</th>\n",
       "      <td>CTTCEEEEEEEEEEEEEEEEEEEEEESSHHHHHHHHHHCCHHHHHH...</td>\n",
       "      <td>CTTCEEEEEEEEEEEEEEEEEEEEEESSHHHHHHHHHHCCHHHHHH...</td>\n",
       "    </tr>\n",
       "  </tbody>\n",
       "</table>\n",
       "<p>123 rows × 2 columns</p>\n",
       "</div>"
      ],
      "text/plain": [
       "                                                 dssp8  \\\n",
       "0    CCCHHHHHHHHHHHHHHTTCEEEEEECCCTTTCCEEEEEEETTTTE...   \n",
       "1    CCCBTTHHHHHHHSCCCCCCCSSCHHHHHHHGGGSCHHHHHHHHHH...   \n",
       "2    CHHHHHHHHHHHHHHHHHHHHHBSSEEEEEECCCCGGGTTSCHHHH...   \n",
       "3    CCTTTTCEEEETTCSSHHHHHHHHHHHHTTCEEEEECSSHHHHHHH...   \n",
       "4                          CCEECTTSCCEESSHHHHHHHHHTTCC   \n",
       "..                                                 ...   \n",
       "118  CCEEEETTEEEEECSSCSEEECCTTCCEECTTTTTTCCCSEEECCT...   \n",
       "119  CCCCHHHHHHHTTSTTHHHHHHHHHHHHHHHHHTHHHHHTTHHHHH...   \n",
       "120  CCCEEEEEEEECCCEEEEEEEEEECTTSEEEEEECCTTSCCEEEEE...   \n",
       "121  CCGGGSTTSSCEETTEECEEEEEECTTSCHHHHHHHHHHHHHHHHH...   \n",
       "122  CTTCEEEEEEEEEEEEEEEEEEEEEESSHHHHHHHHHHCCHHHHHH...   \n",
       "\n",
       "                                       predicted_dssp8  \n",
       "0    CCCHHHHHHHHHHHHHHTTCEEEEEECCCTTTCCEEEEEEETTTTE...  \n",
       "1    CCCCSHHHHHHHHSCCCCCCCSSCHHHHHHHTTSCCCHHHHHHHHH...  \n",
       "2    CHHHHHHHHHHHHHHHHHHHHHBSSEEEEEECCCCGGGTTSCHHHH...  \n",
       "3    CCTTTTCEEEEETTTSHHHHHHHHHHHHTTCEEEEECSSHHHHHHH...  \n",
       "4                          CCEECTTTCCEESSHHHHHHHHHHHCC  \n",
       "..                                                 ...  \n",
       "118  CCEEEETTEEEEECSSCSEEECCTTCCEECTTTTTTCCCSEEECCT...  \n",
       "119  CCCCHHHHHHHTTSTTHHHHHTHHHHHHHHHTTCCTTHHHHHHHHH...  \n",
       "120  CCCEEEEEEEESSSEEEEEEEEEECTTSEEEEEEEETTEEEEEEEE...  \n",
       "121  CCGGGSTTSSCEETTEECEEEEEECTTCCHHHHHHHHHHHHHHHHH...  \n",
       "122  CTTCEEEEEEEEEEEEEEEEEEEEEESSHHHHHHHHHHCCHHHHHH...  \n",
       "\n",
       "[123 rows x 2 columns]"
      ]
     },
     "execution_count": 7,
     "metadata": {},
     "output_type": "execute_result"
    }
   ],
   "source": [
    "# Merge the two DataFrames on the 'id' column\n",
    "df_merged = pd.merge(df_casp10_2, df_test_casp10_2, on='id', suffixes=('_predicted', '_actual'))\n",
    "\n",
    "df_merged[['dssp8', 'predicted_dssp8']]"
   ]
  },
  {
   "cell_type": "markdown",
   "metadata": {},
   "source": [
    "## Definisi fungsi"
   ]
  },
  {
   "cell_type": "markdown",
   "metadata": {},
   "source": [
    "$$Q_s =  \\frac{∑^s_{i=1} C_i}{n}×100\\%$$\n",
    "\n",
    "Dengan:\n",
    "- $C_i$ = Jumlah residu yang terprediksi dengan benar\n",
    "- $n$ = Jumlah residu yang terprediksi\n",
    "- $s$ = Jumlah State yang ada (8 state atau 3 state)"
   ]
  },
  {
   "cell_type": "code",
   "execution_count": 8,
   "metadata": {},
   "outputs": [],
   "source": [
    "def calculate_q_score(predicted, actual):\n",
    "    \"\"\"\n",
    "    Menghitung Q_s untuk satu protein.\n",
    "    \n",
    "    Args:\n",
    "        predicted (str): Struktur sekunder yang diprediksi.\n",
    "        actual (str): Struktur sekunder yang sebenarnya.\n",
    "    \n",
    "    Returns:\n",
    "        float: Nilai Q_s dalam persen.\n",
    "    \"\"\"\n",
    "    correct = sum(1 for p, a in zip(predicted, actual) if p == a)\n",
    "    total = len(actual)\n",
    "    return (correct / total) * 100 if total > 0 else 0"
   ]
  },
  {
   "cell_type": "markdown",
   "metadata": {},
   "source": [
    "$$Q_{avg} = \\frac{\\sum{Q_s}}{n_{protein}}$$\n",
    "\n",
    "Dengan:\n",
    "- $Q_{avg}$ = Akurasi skor-Q rata-rata dari semua protein\n",
    "- $Q_s$ = Akurasi skor-Q dari setiap protein\n",
    "- $n_{protein}$ = Jumlah protein yang diuji"
   ]
  },
  {
   "cell_type": "code",
   "execution_count": 9,
   "metadata": {},
   "outputs": [],
   "source": [
    "def calculate_q_average(predicted_list, actual_list):\n",
    "    \"\"\"\n",
    "    Menghitung Q_avg untuk semua protein dalam dataset.\n",
    "    \n",
    "    Args:\n",
    "        predicted_list (list of str): Daftar struktur sekunder yang diprediksi.\n",
    "        actual_list (list of str): Daftar struktur sekunder yang sebenarnya.\n",
    "    \n",
    "    Returns:\n",
    "        float: Nilai Q_avg dalam persen.\n",
    "    \"\"\"\n",
    "    q_scores = [calculate_q_score(predicted, actual) for predicted, actual in zip(predicted_list, actual_list)]\n",
    "    return sum(q_scores) / len(q_scores) if q_scores else 0"
   ]
  },
  {
   "cell_type": "code",
   "execution_count": 10,
   "metadata": {},
   "outputs": [],
   "source": [
    "def convert_8state_to_3state(ss):\n",
    "    ss_3state = \"\"\n",
    "    for s in ss:\n",
    "        if s in ['H', 'G', 'I']:\n",
    "            ss_3state += 'H'\n",
    "        elif s in ['E', 'B']:\n",
    "            ss_3state += 'E'\n",
    "        else:\n",
    "            ss_3state += 'C'\n",
    "    return ss_3state"
   ]
  },
  {
   "cell_type": "code",
   "execution_count": 11,
   "metadata": {},
   "outputs": [],
   "source": [
    "def calculate_metrics(y_true, y_pred, classes, csv_path=None):\n",
    "    \"\"\"\n",
    "    Calculate precision, recall, and F1-score for given classes and optionally save to CSV.\n",
    "\n",
    "    Args:\n",
    "        y_true (list): True labels (flattened).\n",
    "        y_pred (list): Predicted labels (flattened).\n",
    "        classes (list): List of class labels.\n",
    "        csv_path (str, optional): Path to save the metrics DataFrame as CSV.\n",
    "\n",
    "    Returns:\n",
    "        pd.DataFrame: DataFrame containing metrics per class and average.\n",
    "    \"\"\"\n",
    "\n",
    "    min_len = min(len(y_true), len(y_pred))\n",
    "    y_true = y_true[:min_len]\n",
    "    y_pred = y_pred[:min_len]\n",
    "\n",
    "    precision, recall, f1, _ = precision_recall_fscore_support(\n",
    "        y_true, y_pred, labels=classes, zero_division=0\n",
    "    )\n",
    "\n",
    "    metrics_df = pd.DataFrame({\n",
    "        'Class': classes,\n",
    "        'Precision': precision,\n",
    "        'Recall': recall,\n",
    "        'F1-Score': f1\n",
    "    })\n",
    "\n",
    "    avg_row = pd.DataFrame({\n",
    "        'Class': ['Average'],\n",
    "        'Precision': [precision.mean()],\n",
    "        'Recall': [recall.mean()],\n",
    "        'F1-Score': [f1.mean()]\n",
    "    })\n",
    "\n",
    "    metrics_df = pd.concat([metrics_df, avg_row], ignore_index=True)\n",
    "\n",
    "    if csv_path:\n",
    "        metrics_df.to_csv(csv_path, index=False)\n",
    "\n",
    "    return metrics_df"
   ]
  },
  {
   "cell_type": "markdown",
   "metadata": {},
   "source": [
    "## Akurasi Q8"
   ]
  },
  {
   "cell_type": "code",
   "execution_count": 12,
   "metadata": {},
   "outputs": [
    {
     "name": "stdout",
     "output_type": "stream",
     "text": [
      "Q8_avg: 90.05%\n"
     ]
    }
   ],
   "source": [
    "predicted_list = df_merged['predicted_dssp8'].tolist()  # Struktur sekunder yang diprediksi\n",
    "actual_list = df_merged['dssp8'].tolist()  # Struktur sekunder yang sebenarnya\n",
    "\n",
    "q8_avg = calculate_q_average(predicted_list, actual_list)\n",
    "print(f\"Q8_avg: {q8_avg:.2f}%\")"
   ]
  },
  {
   "cell_type": "markdown",
   "metadata": {},
   "source": [
    "## Precision, Recall, dan F1-Score"
   ]
  },
  {
   "cell_type": "code",
   "execution_count": 13,
   "metadata": {},
   "outputs": [
    {
     "name": "stdout",
     "output_type": "stream",
     "text": [
      "     Class  Precision    Recall  F1-Score\n",
      "0        C   0.922632  0.892089  0.907104\n",
      "1        B   0.812500  0.801762  0.807095\n",
      "2        E   0.958811  0.975694  0.967179\n",
      "3        G   0.836294  0.826851  0.831546\n",
      "4        I   0.032258  1.000000  0.062500\n",
      "5        H   0.965220  0.958435  0.961816\n",
      "6        S   0.830167  0.810112  0.820017\n",
      "7        T   0.862252  0.866240  0.864241\n",
      "8  Average   0.777517  0.891398  0.777687\n"
     ]
    }
   ],
   "source": [
    "# Define the 8 DSSP classes\n",
    "dssp8_classes = ['C', 'B', 'E', 'G', 'I', 'H', 'S', 'T']\n",
    "\n",
    "# Flatten all predicted and actual secondary structure strings into lists of single characters\n",
    "y_pred = [ss for seq in df_merged['predicted_dssp8'] for ss in seq]\n",
    "y_true = [ss for seq in df_merged['dssp8'] for ss in seq]\n",
    "\n",
    "metrics_df = calculate_metrics(y_true, y_pred, dssp8_classes, '../Data/Results/casp10_2_metrics.csv')\n",
    "print(metrics_df)"
   ]
  },
  {
   "cell_type": "markdown",
   "metadata": {},
   "source": [
    "## Akurasi Q3"
   ]
  },
  {
   "cell_type": "code",
   "execution_count": 14,
   "metadata": {},
   "outputs": [
    {
     "name": "stdout",
     "output_type": "stream",
     "text": [
      "Q3_avg: 94.29%\n"
     ]
    }
   ],
   "source": [
    "predicted_list_3state = [convert_8state_to_3state(ss) for ss in predicted_list]\n",
    "actual_list_3state = [convert_8state_to_3state(ss) for ss in actual_list]\n",
    "\n",
    "q3_avg = calculate_q_average(predicted_list_3state, actual_list_3state)\n",
    "print(f\"Q3_avg: {q3_avg:.2f}%\")"
   ]
  },
  {
   "cell_type": "markdown",
   "metadata": {},
   "source": [
    "## Precision, Recall, dan F1-Score"
   ]
  },
  {
   "cell_type": "code",
   "execution_count": 15,
   "metadata": {},
   "outputs": [
    {
     "name": "stdout",
     "output_type": "stream",
     "text": [
      "     Class  Precision    Recall  F1-Score\n",
      "0        H   0.954979  0.967329  0.961114\n",
      "1        E   0.957408  0.973037  0.965160\n",
      "2        C   0.957722  0.938656  0.948093\n",
      "3  Average   0.956703  0.959674  0.958122\n"
     ]
    }
   ],
   "source": [
    "# Define DSSP 3-state classes\n",
    "dssp3_classes = ['H', 'E', 'C']\n",
    "\n",
    "# Flatten all predicted and actual secondary structure strings into lists of single characters\n",
    "y_pred3 = [ss for seq in predicted_list_3state for ss in seq]\n",
    "y_true3 = [ss for seq in actual_list_3state for ss in seq]\n",
    "\n",
    "metrics_df_3state = calculate_metrics(y_true3, y_pred3, dssp3_classes, '../Data/Results/casp10_2_metrics_3state.csv')\n",
    "print(metrics_df_3state)"
   ]
  },
  {
   "cell_type": "markdown",
   "metadata": {},
   "source": [
    "# Visualisasi"
   ]
  },
  {
   "cell_type": "markdown",
   "metadata": {},
   "source": [
    "## 8-State"
   ]
  },
  {
   "cell_type": "code",
   "execution_count": 16,
   "metadata": {},
   "outputs": [
    {
     "data": {
      "image/png": "[encoded data removed]",
      "text/plain": [
       "<Figure size 2000x200 with 1 Axes>"
      ]
     },
     "metadata": {},
     "output_type": "display_data"
    },
    {
     "data": {
      "image/png": "[encoded data removed]",
      "text/plain": [
       "<Figure size 2000x200 with 1 Axes>"
      ]
     },
     "metadata": {},
     "output_type": "display_data"
    }
   ],
   "source": [
    "# Get the residue of the first protein\n",
    "residu = df_casp10_2['residue'].iloc[0]\n",
    "\n",
    "# Get the first protein's dssp8 predicted and actual secondary structure\n",
    "predicted_ss = df_merged['predicted_dssp8'].iloc[0]\n",
    "actual_ss = df_merged['dssp8'].iloc[0]\n",
    "\n",
    "# Define colors for secondary structure elements using 8-state DSSP\n",
    "colors = {'H': 'red', 'B': 'blue', 'E': 'blue', 'G': 'purple', 'I': 'orange', 'T': 'green', 'S': 'yellow', 'C': 'gray'}\n",
    "# Plot\n",
    "fig, ax = plt.subplots(figsize=(20, 2))\n",
    "ax.bar(range(len(actual_ss)), [1]*len(actual_ss), color=[colors[ss] for ss in actual_ss])\n",
    "ax.set_xticks(range(len(actual_ss)))\n",
    "ax.set_xticklabels(residu, rotation=0, fontsize=10)\n",
    "ax.set_yticks([])\n",
    "ax.set_title(\"Real Secondary Structure\")\n",
    "\n",
    "fig, ax = plt.subplots(figsize=(20, 2))\n",
    "ax.bar(range(len(predicted_ss)), [1]*len(predicted_ss), color=[colors[predicted_ss] for predicted_ss in predicted_ss])\n",
    "ax.set_xticks(range(len(predicted_ss)))\n",
    "ax.set_xticklabels(residu, rotation=0, fontsize=10)\n",
    "ax.set_yticks([])\n",
    "ax.set_title(\"Predicted Secondary Structure\")\n",
    "\n",
    "plt.show()"
   ]
  },
  {
   "cell_type": "code",
   "execution_count": 17,
   "metadata": {},
   "outputs": [
    {
     "name": "stdout",
     "output_type": "stream",
     "text": [
      "Q8 for the first protein: 94.44%\n"
     ]
    }
   ],
   "source": [
    "# Akurasi Q8 protein pertama\n",
    "q8_first_protein = calculate_q_score(predicted_ss, actual_ss)\n",
    "print(f\"Q8 for the first protein: {q8_first_protein:.2f}%\")"
   ]
  },
  {
   "cell_type": "markdown",
   "metadata": {},
   "source": [
    "## 3-State"
   ]
  },
  {
   "cell_type": "code",
   "execution_count": 18,
   "metadata": {},
   "outputs": [
    {
     "data": {
      "image/png": "[encoded data removed]",
      "text/plain": [
       "<Figure size 2000x200 with 1 Axes>"
      ]
     },
     "metadata": {},
     "output_type": "display_data"
    },
    {
     "data": {
      "image/png": "[encoded data removed]",
      "text/plain": [
       "<Figure size 2000x200 with 1 Axes>"
      ]
     },
     "metadata": {},
     "output_type": "display_data"
    }
   ],
   "source": [
    "# Get the residue of the first protein\n",
    "residu = df_casp10_2['residue'].iloc[0]\n",
    "\n",
    "# Get the first protein's dssp3 predicted and actual secondary structure\n",
    "predicted_ss = predicted_list_3state[0]\n",
    "actual_ss = actual_list_3state[0]\n",
    "\n",
    "# Define colors for secondary structure elements using 3-state DSSP\n",
    "colors = {'H': 'red', 'E': 'blue', 'C': 'gray'}\n",
    "\n",
    "# Plot\n",
    "fig, ax = plt.subplots(figsize=(20, 2))\n",
    "ax.bar(range(len(actual_ss)), [1]*len(actual_ss), color=[colors[ss] for ss in actual_ss])\n",
    "ax.set_xticks(range(len(actual_ss)))\n",
    "ax.set_xticklabels(residu, rotation=0, fontsize=10)\n",
    "ax.set_yticks([])\n",
    "ax.set_title(\"Real Secondary Structure\")\n",
    "\n",
    "fig, ax = plt.subplots(figsize=(20, 2))\n",
    "ax.bar(range(len(predicted_ss)), [1]*len(predicted_ss), color=[colors[predicted_ss] for predicted_ss in predicted_ss])\n",
    "ax.set_xticks(range(len(predicted_ss)))\n",
    "ax.set_xticklabels(residu, rotation=0, fontsize=10)\n",
    "ax.set_yticks([])\n",
    "ax.set_title(\"Predicted Secondary Structure\")\n",
    "\n",
    "plt.show()"
   ]
  },
  {
   "cell_type": "code",
   "execution_count": 19,
   "metadata": {},
   "outputs": [
    {
     "name": "stdout",
     "output_type": "stream",
     "text": [
      "Q3 for the first protein: 98.15%\n"
     ]
    }
   ],
   "source": [
    "# Akurasi Q3 protein pertama\n",
    "q3 = calculate_q_score(predicted_ss, actual_ss)\n",
    "print(f\"Q3 for the first protein: {q3:.2f}%\")"
   ]
  }
 ],
 "metadata": {
  "kernelspec": {
   "display_name": "Python 3",
   "language": "python",
   "name": "python3"
  },
  "language_info": {
   "codemirror_mode": {
    "name": "ipython",
    "version": 3
   },
   "file_extension": ".py",
   "mimetype": "text/x-python",
   "name": "python",
   "nbconvert_exporter": "python",
   "pygments_lexer": "ipython3",
   "version": "3.10.12"
  }
 },
 "nbformat": 4,
 "nbformat_minor": 2
}
