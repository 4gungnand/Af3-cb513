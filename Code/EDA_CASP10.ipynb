{
 "cells": [
  {
   "cell_type": "code",
   "execution_count": 26,
   "id": "7bbd66f1",
   "metadata": {},
   "outputs": [],
   "source": [
    "# Utility\n",
    "import numpy as np\n",
    "import h5py\n",
    "import os\n",
    "import requests\n",
    "import pandas as pd\n",
    "import matplotlib.pyplot as plt\n",
    "import seaborn as sns"
   ]
  },
  {
   "cell_type": "code",
   "execution_count": 27,
   "id": "40a86eb5",
   "metadata": {},
   "outputs": [],
   "source": [
    "# Define the array of characters for amino acid residues\n",
    "amino_acid_residues = [\n",
    "    'A', 'C', 'E', 'D', 'G', \n",
    "    'F', 'I', 'H', 'K', 'M', \n",
    "    'L', 'N', 'Q', 'P', 'S', \n",
    "    'R', 'T', 'W', 'V', 'Y', \n",
    "    'X', '_'\n",
    "]\n",
    "\n",
    "# Define the array of characters for secondary structure labels\n",
    "secondary_structure_labels = ['L', 'B', 'E', 'G', 'I', 'H', 'S', 'T', '_']"
   ]
  },
  {
   "cell_type": "code",
   "execution_count": 28,
   "id": "30934887",
   "metadata": {},
   "outputs": [
    {
     "name": "stdout",
     "output_type": "stream",
     "text": [
      "\n",
      "Dataset already exists. Loading...\n",
      "\n",
      "\n",
      "Loading CASP10 dataset...\n",
      "\n",
      "\n",
      "Dataset loaded successfully.\n",
      "Shape of data_hot: (123, 700)\n",
      "Shape of labels_q8: (123, 700)\n"
     ]
    }
   ],
   "source": [
    "url = \"https://github.com/amckenna41/DCBLSTM_PSP/raw/master/data/casp10.h5\"    \n",
    "data_path = os.path.join('../Data/Original/casp10.h5')\n",
    "\n",
    "def download_casp10():\n",
    "    print(\"\\nDownloading CASP10 dataset...\\n\")\n",
    "    response = requests.get(url, stream=True)\n",
    "    response.raise_for_status()\n",
    "    with open(data_path, 'wb') as file:\n",
    "        for chunk in response.iter_content(chunk_size=8192):\n",
    "            file.write(chunk)\n",
    "    print(\"\\nDataset downloaded successfully.\")\n",
    "\n",
    "def load_casp10():\n",
    "    print(\"\\nLoading CASP10 dataset...\\n\")\n",
    "    with h5py.File(data_path, 'r') as casp10_data:\n",
    "        # Load sequence features (one-hot encoding)\n",
    "        data_hot = casp10_data['features'][:, :, :22]\n",
    "        # Load secondary structure labels (one-hot Q8)\n",
    "        labels_q8 = casp10_data['labels'][:, :, :9]\n",
    "\n",
    "        # Convert sequence features from one-hot to string format\n",
    "        data_hot = np.argmax(data_hot, axis=-1)\n",
    "        data_hot = np.array([[amino_acid_residues[i] for i in seq] for seq in data_hot])\n",
    "        # Convert Q8 labels from one-hot to string format\n",
    "        labels_q8 = np.argmax(labels_q8, axis=-1)\n",
    "        labels_q8 = np.array([[secondary_structure_labels[i] for i in seq] for seq in labels_q8])\n",
    "\n",
    "        print(\"\\nDataset loaded successfully.\")\n",
    "        return data_hot, labels_q8\n",
    "\n",
    "# Check if the dataset file already exists\n",
    "if os.path.exists(data_path):\n",
    "    print(\"\\nDataset already exists. Loading...\\n\")\n",
    "else:\n",
    "    # If the dataset file does not exist, download it\n",
    "    try:\n",
    "        download_casp10()\n",
    "    except Exception as e:\n",
    "        print(f\"Error downloading dataset: {e}\")\n",
    "        exit(1)\n",
    "\n",
    "# Load the CASP10 dataset\n",
    "try:\n",
    "    data_hot, labels_q8 = load_casp10()\n",
    "    # Print the shapes of the loaded data\n",
    "    print(f\"Shape of data_hot: {data_hot.shape}\")\n",
    "    print(f\"Shape of labels_q8: {labels_q8.shape}\")\n",
    "except Exception as e:\n",
    "    print(f\"Error loading dataset: {e}\")\n",
    "    exit(1)"
   ]
  },
  {
   "cell_type": "code",
   "execution_count": 29,
   "id": "62a551ae",
   "metadata": {},
   "outputs": [
    {
     "name": "stdout",
     "output_type": "stream",
     "text": [
      "\n",
      "First 5 sequences and their corresponding labels:\n",
      "\n",
      "Sequence 1: LLSTDIWVAALIRRAELGGAFATVARKGDARAGAVLVKAVDRREGTARLFSEATRGDGERFWMQPVRSTFEPDLDAYAERAARIDPDIWVVEIEDRDGRHFLTEPVESAAAAAAAAAAAAAAAAAAAAAAAAAAAAAAAAAAAAAAAAAAAAAAAAAAAAAAAAAAAAAAAAAAAAAAAAAAAAAAAAAAAAAAAAAAAAAAAAAAAAAAAAAAAAAAAAAAAAAAAAAAAAAAAAAAAAAAAAAAAAAAAAAAAAAAAAAAAAAAAAAAAAAAAAAAAAAAAAAAAAAAAAAAAAAAAAAAAAAAAAAAAAAAAAAAAAAAAAAAAAAAAAAAAAAAAAAAAAAAAAAAAAAAAAAAAAAAAAAAAAAAAAAAAAAAAAAAAAAAAAAAAAAAAAAAAAAAAAAAAAAAAAAAAAAAAAAAAAAAAAAAAAAAAAAAAAAAAAAAAAAAAAAAAAAAAAAAAAAAAAAAAAAAAAAAAAAAAAAAAAAAAAAAAAAAAAAAAAAAAAAAAAAAAAAAAAAAAAAAAAAAAAAAAAAAAAAAAAAAAAAAAAAAAAAAAAAAAAAAAAAAAAAAAAAAAAAAAAAAAAAAAAAAAAAAAAAAAAAAAAAAAAAAAAAAAAAAAAAAAAAAAAAAAAAAAAAAAAAAAAAAAAAAAAAAAAAAAAAAAAAAAAAAAAAAAAAAAAAAAAAAAAAAAAAAAA\n",
      "Labels 1: LLLHHHHHHHHHHHHHHTTLEEEEEELLLTTTLLEEEEEEETTTTEEEEEEEEELTTSLEEEELSLLLSSTHHHHHHHHHHHHHLTTLEEEEEEETTLLLLLLSLBLLLLLLLLLLLLLLLLL_________________________________________________________________________________________________________________________________________________________________________________________________________________________________________________________________________________________________________________________________________________________________________________________________________________________________________________________________________________________________________________________________________________________________________________________________\n",
      "\n",
      "Sequence 2: AEVGYPLSWLKDKHPIEEPDLEYSLKWFKKHEYDLETSKLQEVSEKVGDAYDTLCETTQEVVKAVGYSVISDIQGEHVVDRIDWRHACDKCIDFGELIDEIYYELTIAMINTKLENADIDPDMVEEMASDLARDIQSSEMSEIDYNRRIQEMIDAAAAAAAAAAAAAAAAAAAAAAAAAAAAAAAAAAAAAAAAAAAAAAAAAAAAAAAAAAAAAAAAAAAAAAAAAAAAAAAAAAAAAAAAAAAAAAAAAAAAAAAAAAAAAAAAAAAAAAAAAAAAAAAAAAAAAAAAAAAAAAAAAAAAAAAAAAAAAAAAAAAAAAAAAAAAAAAAAAAAAAAAAAAAAAAAAAAAAAAAAAAAAAAAAAAAAAAAAAAAAAAAAAAAAAAAAAAAAAAAAAAAAAAAAAAAAAAAAAAAAAAAAAAAAAAAAAAAAAAAAAAAAAAAAAAAAAAAAAAAAAAAAAAAAAAAAAAAAAAAAAAAAAAAAAAAAAAAAAAAAAAAAAAAAAAAAAAAAAAAAAAAAAAAAAAAAAAAAAAAAAAAAAAAAAAAAAAAAAAAAAAAAAAAAAAAAAAAAAAAAAAAAAAAAAAAAAAAAAAAAAAAAAAAAAAAAAAAAAAAAAAAAAAAAAAAAAAAAAAAAAAAAAAAAAAAAAAAAAAAAAAAAAAAAAAAAAAAAAAAAAAAAAAAAAAAAAAAAAAAAAAAAA\n",
      "Labels 2: LLLBTTHHHHHHHSLLLLLLLSSLHHHHHHHGGGSLHHHHHHHHHHHHHHHHHHHHHHHHHHHHHLTTTSLHHHHHHHHHTSLTTLLSTTLLLHHHHHHHHHHHHHHHHHHHHHHHTTLLGGGGHHHHHHHHHHHHHSLBLHHHHHHHHHHHHTL_________________________________________________________________________________________________________________________________________________________________________________________________________________________________________________________________________________________________________________________________________________________________________________________________________________________________________________________________________________________________________________________________________________________________\n",
      "\n",
      "Sequence 3: GYGQRLLAKQMESMIEEAISQAAENYYIQGDIIIPEEWQDIPVEEISQWKNYVDLCNQSNSDYKTLGSAWVYIDASTMKGKTDEEEYQMYEEVYRDKLGGQALLYVYYLDHKSFEKAEKILEIFTSGDEGSNFEDIIEGQPYFGTIMRYGSDKFDDNLEIFKAAKQGKAAAAAAAAAAAAAAAAAAAAAAAAAAAAAAAAAAAAAAAAAAAAAAAAAAAAAAAAAAAAAAAAAAAAAAAAAAAAAAAAAAAAAAAAAAAAAAAAAAAAAAAAAAAAAAAAAAAAAAAAAAAAAAAAAAAAAAAAAAAAAAAAAAAAAAAAAAAAAAAAAAAAAAAAAAAAAAAAAAAAAAAAAAAAAAAAAAAAAAAAAAAAAAAAAAAAAAAAAAAAAAAAAAAAAAAAAAAAAAAAAAAAAAAAAAAAAAAAAAAAAAAAAAAAAAAAAAAAAAAAAAAAAAAAAAAAAAAAAAAAAAAAAAAAAAAAAAAAAAAAAAAAAAAAAAAAAAAAAAAAAAAAAAAAAAAAAAAAAAAAAAAAAAAAAAAAAAAAAAAAAAAAAAAAAAAAAAAAAAAAAAAAAAAAAAAAAAAAAAAAAAAAAAAAAAAAAAAAAAAAAAAAAAAAAAAAAAAAAAAAAAAAAAAAAAAAAAAAAAAAAAAAAAAAAAAAAAAAAAAAAAAAAAAAAAAAAAAAAAAAAAAAAAAAAAAA\n",
      "Labels 3: LHHHHHHHHHHHHHHHHHHHHHBSSEEEEEELLLLGGGTTSLHHHHTSHHHHHHHHHHSLGGGLEEEEEEEEEEGGGBLLLLHHHHHHHHHHHHHHTTLSEEEEEEEEELHHHHHHHHHHHTTSLTTLSLHHHHHHHTTLLEEEEEELTTLSSLSSLHHHHHHHHHTL____________________________________________________________________________________________________________________________________________________________________________________________________________________________________________________________________________________________________________________________________________________________________________________________________________________________________________________________________________________________________________________________________________________\n",
      "\n",
      "Sequence 4: MNLVQDKVTIITGGTRGIGFAAAKIFIDNGAKVSIFGETQEEVDTALAQLKELYPEEEVLGFAPDLTSRDAVMAAVGQVAQKYGRLDVMINNAGITSNNVFSRVSEEEFKHIMDINVTGVFNGAWCAYQCMKDAKKGVIINTASVTGIFGSLSGVGYPASKASVIGLTHGLGREIIRKNIRVVGVAPGVVNTDMTNGNPPEIMEGYLKALPMKRMLEPEEIANVYLFLASDLASGITATTVSVDGAYRPAAAAAAAAAAAAAAAAAAAAAAAAAAAAAAAAAAAAAAAAAAAAAAAAAAAAAAAAAAAAAAAAAAAAAAAAAAAAAAAAAAAAAAAAAAAAAAAAAAAAAAAAAAAAAAAAAAAAAAAAAAAAAAAAAAAAAAAAAAAAAAAAAAAAAAAAAAAAAAAAAAAAAAAAAAAAAAAAAAAAAAAAAAAAAAAAAAAAAAAAAAAAAAAAAAAAAAAAAAAAAAAAAAAAAAAAAAAAAAAAAAAAAAAAAAAAAAAAAAAAAAAAAAAAAAAAAAAAAAAAAAAAAAAAAAAAAAAAAAAAAAAAAAAAAAAAAAAAAAAAAAAAAAAAAAAAAAAAAAAAAAAAAAAAAAAAAAAAAAAAAAAAAAAAAAAAAAAAAAAAAAAAAAAAAAAAAAAAAAAAAAAAAAAAAAAAAAAAAAAAAAAAAAAAAAAAAAAAAAAAAAAAAAAAAAA\n",
      "Labels 4: LLTTTTLEEEETTLSSHHHHHHHHHHHHTTLEEEEELSSHHHHHHHHHHHHHHLTTLLLEEELLLTTLHHHHHHHHHHHHHHHSLLLEEEELLLLLLLLLGGGLLHHHHHHHHHHHTHHHHHHHHHHHHHHTTTTLEEEEEELLTHHHHLLSSLTHHHHHHHHHHHHHHHHHHHHGGGTEEEEEEEELLBSSTTTTTSLHHHHHHHHHHLTTSSLBLHHHHHHHHHHHHSGGGTTLLSEEEEESTTLLL___________________________________________________________________________________________________________________________________________________________________________________________________________________________________________________________________________________________________________________________________________________________________________________________________________________________________________________________________\n",
      "\n",
      "Sequence 5: ECHLCPVCGESFASKGAQERHLRLLHAAAAAAAAAAAAAAAAAAAAAAAAAAAAAAAAAAAAAAAAAAAAAAAAAAAAAAAAAAAAAAAAAAAAAAAAAAAAAAAAAAAAAAAAAAAAAAAAAAAAAAAAAAAAAAAAAAAAAAAAAAAAAAAAAAAAAAAAAAAAAAAAAAAAAAAAAAAAAAAAAAAAAAAAAAAAAAAAAAAAAAAAAAAAAAAAAAAAAAAAAAAAAAAAAAAAAAAAAAAAAAAAAAAAAAAAAAAAAAAAAAAAAAAAAAAAAAAAAAAAAAAAAAAAAAAAAAAAAAAAAAAAAAAAAAAAAAAAAAAAAAAAAAAAAAAAAAAAAAAAAAAAAAAAAAAAAAAAAAAAAAAAAAAAAAAAAAAAAAAAAAAAAAAAAAAAAAAAAAAAAAAAAAAAAAAAAAAAAAAAAAAAAAAAAAAAAAAAAAAAAAAAAAAAAAAAAAAAAAAAAAAAAAAAAAAAAAAAAAAAAAAAAAAAAAAAAAAAAAAAAAAAAAAAAAAAAAAAAAAAAAAAAAAAAAAAAAAAAAAAAAAAAAAAAAAAAAAAAAAAAAAAAAAAAAAAAAAAAAAAAAAAAAAAAAAAAAAAAAAAAAAAAAAAAAAAAAAAAAAAAAAAAAAAAAAAAAAAAAAAAAAAAAAAAAAAAAAAAAAAAAAAAAAAAAAAAAAAAAAAAAAAAAAAAAAAAA\n",
      "Labels 5: LLEELTTSLLEESSHHHHHHHHHTTLLLLLLLLLLLLLLLLLLLLLLLLLLLLLLLLLLLLLLLLLLLLLLLLLLLLLLLLLLLLLLLLLLLLLLLLLLLLLLLLLLLLLLLLLLLLLLLLLL_________________________________________________________________________________________________________________________________________________________________________________________________________________________________________________________________________________________________________________________________________________________________________________________________________________________________________________________________________________________________________________________________________________________________________________________________\n",
      "\n"
     ]
    }
   ],
   "source": [
    "# Print the first 5 sequences and their corresponding labels\n",
    "print(\"\\nFirst 5 sequences and their corresponding labels:\\n\")\n",
    "for i in range(5):\n",
    "    print(f\"Sequence {i+1}: {''.join(data_hot[i])}\")\n",
    "    print(f\"Labels {i+1}: {''.join(labels_q8[i])}\")\n",
    "    print()"
   ]
  },
  {
   "cell_type": "code",
   "execution_count": 30,
   "id": "b2b837a5",
   "metadata": {},
   "outputs": [
    {
     "name": "stdout",
     "output_type": "stream",
     "text": [
      "<KeysViewHDF5 ['features', 'labels']>\n",
      "(123, 700, 43)\n",
      "(123, 700, 9)\n",
      "(123, 700, 21)\n"
     ]
    }
   ],
   "source": [
    "with h5py.File(data_path, 'r') as casp10_data:\n",
    "    # Load sequence features (one-hot encoding)\n",
    "    data_hot = casp10_data['features'][:, :, 0:21]\n",
    "    print(casp10_data.keys())\n",
    "    print(casp10_data['features'].shape)\n",
    "    print(casp10_data['labels'].shape)\n",
    "    print(data_hot.shape)\n",
    "    "
   ]
  },
  {
   "cell_type": "markdown",
   "id": "948afaa0",
   "metadata": {},
   "source": [
    "# Investigating the CASP10 Dataset\n",
    "This section explores the structure of the CASP10 dataset, including its features, labels, and transformations applied during loading."
   ]
  },
  {
   "cell_type": "code",
   "execution_count": 31,
   "id": "57884727",
   "metadata": {},
   "outputs": [
    {
     "name": "stdout",
     "output_type": "stream",
     "text": [
      "Keys in the dataset: ['features', 'labels']\n",
      "Shape of 'features': (123, 700, 43)\n",
      "Shape of 'labels': (123, 700, 9)\n"
     ]
    }
   ],
   "source": [
    "# Step 1: Inspect the structure of the HDF5 file\n",
    "with h5py.File(data_path, 'r') as casp10_data:\n",
    "    print(\"Keys in the dataset:\", list(casp10_data.keys()))\n",
    "    print(\"Shape of 'features':\", casp10_data['features'].shape)\n",
    "    print(\"Shape of 'labels':\", casp10_data['labels'].shape)"
   ]
  },
  {
   "cell_type": "markdown",
   "id": "31f5c82b",
   "metadata": {},
   "source": [
    "### Step 2: Analyze the raw data\n",
    "The dataset contains one-hot encoded features for amino acid residues and secondary structure labels. Let's examine a sample of the raw data."
   ]
  },
  {
   "cell_type": "code",
   "execution_count": 32,
   "id": "8ee29c41",
   "metadata": {},
   "outputs": [
    {
     "name": "stdout",
     "output_type": "stream",
     "text": [
      "Raw features (first sequence):\n",
      " [[0.         0.         0.         ... 0.         0.         0.14679   ]\n",
      " [0.         0.         0.         ... 0.         0.         0.00947104]\n",
      " [0.         0.         0.         ... 0.         0.         0.544879  ]\n",
      " ...\n",
      " [0.         0.         0.         ... 0.         0.         0.        ]\n",
      " [0.         0.         0.         ... 0.         0.         0.        ]\n",
      " [0.         0.         0.         ... 0.         0.         0.        ]]\n",
      "Raw labels (first sequence):\n",
      " [[1 0 0 ... 0 0 0]\n",
      " [1 0 0 ... 0 0 0]\n",
      " [1 0 0 ... 0 0 0]\n",
      " ...\n",
      " [0 0 0 ... 0 0 1]\n",
      " [0 0 0 ... 0 0 1]\n",
      " [0 0 0 ... 0 0 1]]\n"
     ]
    }
   ],
   "source": [
    "# Step 2: View a sample of the raw data\n",
    "with h5py.File(data_path, 'r') as casp10_data:\n",
    "    raw_features = casp10_data['features'][:5, :, :22]  # First 5 sequences, amino acid features\n",
    "    raw_labels = casp10_data['labels'][:5, :, :9]  # First 5 sequences, Q8 labels\n",
    "    print(\"Raw features (first sequence):\\n\", raw_features[0])\n",
    "    print(\"Raw labels (first sequence):\\n\", raw_labels[0])"
   ]
  },
  {
   "cell_type": "markdown",
   "id": "0e5f30a8",
   "metadata": {},
   "source": [
    "### Step 3: Convert one-hot encoded data to human-readable format\n",
    "The one-hot encoded data is converted to amino acid residues and secondary structure labels using the predefined mappings."
   ]
  },
  {
   "cell_type": "code",
   "execution_count": 33,
   "id": "853a01da",
   "metadata": {},
   "outputs": [
    {
     "name": "stdout",
     "output_type": "stream",
     "text": [
      "Converted sequence (first): LLSTDIWVAALIRRAELGGAFATVARKGDARAGAVLVKAVDRREGTARLFSEATRGDGERFWMQPVRSTFEPDLDAYAERAARIDPDIWVVEIEDRDGRHFLTEPVES________________________________________________________________________________________________________________________________________________________________________________________________________________________________________________________________________________________________________________________________________________________________________________________________________________________________________________________________________________________________________________________________________________________________________________________________________________\n",
      "Converted labels (first): LLLHHHHHHHHHHHHHHTTLEEEEEELLLTTTLLEEEEEEETTTTEEEEEEEEELTTSLEEEELSLLLSSTHHHHHHHHHHHHHLTTLEEEEEEETTLLLLLLSLBLL________________________________________________________________________________________________________________________________________________________________________________________________________________________________________________________________________________________________________________________________________________________________________________________________________________________________________________________________________________________________________________________________________________________________________________________________________________\n"
     ]
    }
   ],
   "source": [
    "# Step 3: Convert the raw one-hot encoding to single characters, handling padding explicitly\n",
    "def one_hot_to_residues(one_hot_data, mapping):\n",
    "    residues = []\n",
    "    for seq in one_hot_data:\n",
    "        converted_seq = []\n",
    "        for vector in seq:\n",
    "            if np.all(vector == 0):\n",
    "                converted_seq.append('_')  # Explicitly handle padding\n",
    "            else:\n",
    "                converted_seq.append(mapping[np.argmax(vector)])\n",
    "        residues.append(''.join(converted_seq))\n",
    "    return residues\n",
    "\n",
    "# Convert features and labels\n",
    "with h5py.File(data_path, 'r') as casp10_data:\n",
    "    raw_features = casp10_data['features'][:, :, :22]\n",
    "    raw_labels = casp10_data['labels'][:, :, :9]\n",
    "\n",
    "converted_features = one_hot_to_residues(raw_features, amino_acid_residues)\n",
    "converted_labels = one_hot_to_residues(raw_labels, secondary_structure_labels)\n",
    "\n",
    "# Print the first converted sequence and labels\n",
    "print(\"Converted sequence (first):\", converted_features[0])\n",
    "print(\"Converted labels (first):\", converted_labels[0])"
   ]
  },
  {
   "cell_type": "markdown",
   "id": "400d72c8",
   "metadata": {},
   "source": [
    "### Step 4: Investigate padding and 'NoSeq' markers\n",
    "The dataset includes padding (`_`) to mark the end of sequences. Let's analyze how these markers are distributed."
   ]
  },
  {
   "cell_type": "code",
   "execution_count": 34,
   "id": "907cdd20",
   "metadata": {},
   "outputs": [
    {
     "name": "stdout",
     "output_type": "stream",
     "text": [
      "Padding counts (first 5 sequences): [592, 545, 532, 451, 673]\n",
      "Padding counts (first 5 sequences): [592, 545, 532, 451, 673]\n"
     ]
    }
   ],
   "source": [
    "# Step 4: Analyze padding in sequences and labels\n",
    "def analyze_padding(data):\n",
    "    padding_counts = [seq.count('_') for seq in data]\n",
    "    print(\"Padding counts (first 5 sequences):\", padding_counts[:5])\n",
    "\n",
    "# Analyze padding in features and labels\n",
    "analyze_padding(converted_features)\n",
    "analyze_padding(converted_labels)"
   ]
  },
  {
   "cell_type": "markdown",
   "id": "9fa7c873",
   "metadata": {},
   "source": [
    "### Step 5: Clean sequences and labels by removing padding\n",
    "To ensure consistency, we remove padding (`_`) from the sequences and labels."
   ]
  },
  {
   "cell_type": "code",
   "execution_count": 35,
   "id": "b76bf271",
   "metadata": {},
   "outputs": [
    {
     "name": "stdout",
     "output_type": "stream",
     "text": [
      "Cleaned sequence (first): LLSTDIWVAALIRRAELGGAFATVARKGDARAGAVLVKAVDRREGTARLFSEATRGDGERFWMQPVRSTFEPDLDAYAERAARIDPDIWVVEIEDRDGRHFLTEPVES\n",
      "Cleaned labels (first): LLLHHHHHHHHHHHHHHTTLEEEEEELLLTTTLLEEEEEEETTTTEEEEEEEEELTTSLEEEELSLLLSSTHHHHHHHHHHHHHLTTLEEEEEEETTLLLLLLSLBLL\n"
     ]
    }
   ],
   "source": [
    "# Step 5: Remove padding from sequences and labels\n",
    "def remove_padding(data):\n",
    "    return [''.join([char for char in seq if char != '_']) for seq in data]\n",
    "\n",
    "cleaned_features = remove_padding(converted_features)\n",
    "cleaned_labels = remove_padding(converted_labels)\n",
    "\n",
    "# Print cleaned sequences and labels\n",
    "print(\"Cleaned sequence (first):\", cleaned_features[0])\n",
    "print(\"Cleaned labels (first):\", cleaned_labels[0])"
   ]
  },
  {
   "cell_type": "markdown",
   "id": "086a82ab",
   "metadata": {},
   "source": [
    "### Step 6: Verify alignment between sequences and labels\n",
    "Ensure that the lengths of the cleaned sequences and labels match."
   ]
  },
  {
   "cell_type": "code",
   "execution_count": 36,
   "id": "b48b86f4",
   "metadata": {},
   "outputs": [
    {
     "name": "stdout",
     "output_type": "stream",
     "text": [
      "Sequence 1 and labels are aligned (length: 108)\n",
      "Sequence 2 and labels are aligned (length: 155)\n",
      "Sequence 3 and labels are aligned (length: 168)\n",
      "Sequence 4 and labels are aligned (length: 249)\n",
      "Sequence 5 and labels are aligned (length: 27)\n"
     ]
    }
   ],
   "source": [
    "# Step 6: Verify alignment\n",
    "for i in range(5):\n",
    "    assert len(cleaned_features[i]) == len(cleaned_labels[i]), f\"Mismatch in sequence {i+1}\"\n",
    "    print(f\"Sequence {i+1} and labels are aligned (length: {len(cleaned_features[i])})\")"
   ]
  },
  {
   "cell_type": "code",
   "execution_count": 37,
   "id": "3113a180",
   "metadata": {},
   "outputs": [],
   "source": [
    "def convert_8state_to_3state(ss):\n",
    "    ss_3state = \"\"\n",
    "    for s in ss:\n",
    "        if s in ['H', 'G', 'I']:\n",
    "            ss_3state += 'H'\n",
    "        elif s in ['E', 'B']:\n",
    "            ss_3state += 'E'\n",
    "        else:\n",
    "            ss_3state += 'C'\n",
    "    return ss_3state"
   ]
  },
  {
   "cell_type": "markdown",
   "id": "acb881ad",
   "metadata": {},
   "source": [
    "### Step 7: Save the cleaned data as CSV files"
   ]
  },
  {
   "cell_type": "code",
   "execution_count": 38,
   "id": "ae18c97a",
   "metadata": {},
   "outputs": [],
   "source": [
    "dataset_dir = '../Data/Preprocessed/'"
   ]
  },
  {
   "cell_type": "code",
   "execution_count": 39,
   "id": "59b6e16b",
   "metadata": {},
   "outputs": [],
   "source": [
    "# Create a list to store the combined data\n",
    "combined_data = []\n",
    "\n",
    "for i in range(len(cleaned_features)):\n",
    "    # Get the sequence and labels\n",
    "    sequence = cleaned_features[i]\n",
    "    dssp8 = cleaned_labels[i]\n",
    "    dssp3 = convert_8state_to_3state(dssp8)\n",
    "    \n",
    "    combined_data.append({\n",
    "        \"length\": len(sequence), \n",
    "        \"residue\": sequence, \n",
    "        \"dssp8\": dssp8, \n",
    "        \"dssp3\": dssp3\n",
    "        })\n",
    "\n",
    "df = pd.DataFrame(combined_data)\n",
    "df.to_csv(dataset_dir + 'CASP10_preprocessed.csv', index_label='id')"
   ]
  },
  {
   "cell_type": "markdown",
   "id": "5e009fc6",
   "metadata": {},
   "source": [
    "# EDA for casp10 Dataset\n",
    "Goal: Perform exploratory data analysis (EDA) on the casp10 dataset to understand the dataset format and the frequency of secondary structure elements in the dataset."
   ]
  },
  {
   "cell_type": "code",
   "execution_count": 40,
   "id": "f43da555",
   "metadata": {},
   "outputs": [],
   "source": [
    "# Import necessary libraries\n",
    "import seaborn as sns\n",
    "import matplotlib.pyplot as plt\n",
    "import pandas as pd"
   ]
  },
  {
   "cell_type": "code",
   "execution_count": 41,
   "id": "1562a84d",
   "metadata": {},
   "outputs": [
    {
     "data": {
      "text/html": [
       "<div>\n",
       "<style scoped>\n",
       "    .dataframe tbody tr th:only-of-type {\n",
       "        vertical-align: middle;\n",
       "    }\n",
       "\n",
       "    .dataframe tbody tr th {\n",
       "        vertical-align: top;\n",
       "    }\n",
       "\n",
       "    .dataframe thead th {\n",
       "        text-align: right;\n",
       "    }\n",
       "</style>\n",
       "<table border=\"1\" class=\"dataframe\">\n",
       "  <thead>\n",
       "    <tr style=\"text-align: right;\">\n",
       "      <th></th>\n",
       "      <th>id</th>\n",
       "      <th>length</th>\n",
       "      <th>residue</th>\n",
       "      <th>dssp8</th>\n",
       "      <th>dssp3</th>\n",
       "    </tr>\n",
       "  </thead>\n",
       "  <tbody>\n",
       "    <tr>\n",
       "      <th>0</th>\n",
       "      <td>0</td>\n",
       "      <td>108</td>\n",
       "      <td>LLSTDIWVAALIRRAELGGAFATVARKGDARAGAVLVKAVDRREGT...</td>\n",
       "      <td>LLLHHHHHHHHHHHHHHTTLEEEEEELLLTTTLLEEEEEEETTTTE...</td>\n",
       "      <td>CCCHHHHHHHHHHHHHHCCCEEEEEECCCCCCCCEEEEEEECCCCE...</td>\n",
       "    </tr>\n",
       "    <tr>\n",
       "      <th>1</th>\n",
       "      <td>1</td>\n",
       "      <td>155</td>\n",
       "      <td>AEVGYPLSWLKDKHPIEEPDLEYSLKWFKKHEYDLETSKLQEVSEK...</td>\n",
       "      <td>LLLBTTHHHHHHHSLLLLLLLSSLHHHHHHHGGGSLHHHHHHHHHH...</td>\n",
       "      <td>CCCECCHHHHHHHCCCCCCCCCCCHHHHHHHHHHCCHHHHHHHHHH...</td>\n",
       "    </tr>\n",
       "    <tr>\n",
       "      <th>2</th>\n",
       "      <td>2</td>\n",
       "      <td>168</td>\n",
       "      <td>GYGQRLLAKQMESMIEEAISQAAENYYIQGDIIIPEEWQDIPVEEI...</td>\n",
       "      <td>LHHHHHHHHHHHHHHHHHHHHHBSSEEEEEELLLLGGGTTSLHHHH...</td>\n",
       "      <td>CHHHHHHHHHHHHHHHHHHHHHECCEEEEEECCCCHHHCCCCHHHH...</td>\n",
       "    </tr>\n",
       "    <tr>\n",
       "      <th>3</th>\n",
       "      <td>3</td>\n",
       "      <td>249</td>\n",
       "      <td>MNLVQDKVTIITGGTRGIGFAAAKIFIDNGAKVSIFGETQEEVDTA...</td>\n",
       "      <td>LLTTTTLEEEETTLSSHHHHHHHHHHHHTTLEEEEELSSHHHHHHH...</td>\n",
       "      <td>CCCCCCCEEEECCCCCHHHHHHHHHHHHCCCEEEEECCCHHHHHHH...</td>\n",
       "    </tr>\n",
       "    <tr>\n",
       "      <th>4</th>\n",
       "      <td>4</td>\n",
       "      <td>27</td>\n",
       "      <td>ECHLCPVCGESFASKGAQERHLRLLHA</td>\n",
       "      <td>LLEELTTSLLEESSHHHHHHHHHTTLL</td>\n",
       "      <td>CCEECCCCCCEECCHHHHHHHHHCCCC</td>\n",
       "    </tr>\n",
       "    <tr>\n",
       "      <th>...</th>\n",
       "      <td>...</td>\n",
       "      <td>...</td>\n",
       "      <td>...</td>\n",
       "      <td>...</td>\n",
       "      <td>...</td>\n",
       "    </tr>\n",
       "    <tr>\n",
       "      <th>118</th>\n",
       "      <td>118</td>\n",
       "      <td>303</td>\n",
       "      <td>SPVRVENGVLTEVLKGHNEIILPNSVKSIPKAAFRGSQINKVVLNE...</td>\n",
       "      <td>LLEEEETTEEEEELSSLSEEELLTTLLEELTTTTTTLLLSEEELLT...</td>\n",
       "      <td>CCEEEECCEEEEECCCCCEEECCCCCCEECCCCCCCCCCCEEECCC...</td>\n",
       "    </tr>\n",
       "    <tr>\n",
       "      <th>119</th>\n",
       "      <td>119</td>\n",
       "      <td>100</td>\n",
       "      <td>MIDLAPLVRRLAGTPLAEWANGLQAQLDTKMSKGHGDLQRWQSALD...</td>\n",
       "      <td>LLLLHHHHHHHTTSTTHHHHHHHHHHHHHHHHHTHHHHHTTHHHHH...</td>\n",
       "      <td>CCCCHHHHHHHCCCCCHHHHHHHHHHHHHHHHHCHHHHHCCHHHHH...</td>\n",
       "    </tr>\n",
       "    <tr>\n",
       "      <th>120</th>\n",
       "      <td>120</td>\n",
       "      <td>106</td>\n",
       "      <td>DLKGIWQLCHYVSALKPSNTFKVLSDDGRIVNFTIIPGADAIITGY...</td>\n",
       "      <td>LLLEEEEEEEELLLEEEEEEEEEELTTSEEEEEELLTTSLLEEEEE...</td>\n",
       "      <td>CCCEEEEEEEECCCEEEEEEEEEECCCCEEEEEECCCCCCCEEEEE...</td>\n",
       "    </tr>\n",
       "    <tr>\n",
       "      <th>121</th>\n",
       "      <td>121</td>\n",
       "      <td>173</td>\n",
       "      <td>DDTRYLVGAVPEVDGKVVFSKEFQIPGMSQAQIYDTMTKWMDERLK...</td>\n",
       "      <td>LLGGGSTTSSLEETTEELEEEEEELTTSLHHHHHHHHHHHHHHHHH...</td>\n",
       "      <td>CCHHHCCCCCCEECCEECEEEEEECCCCCHHHHHHHHHHHHHHHHH...</td>\n",
       "    </tr>\n",
       "    <tr>\n",
       "      <th>122</th>\n",
       "      <td>122</td>\n",
       "      <td>212</td>\n",
       "      <td>DLDSKAKSPFVFKSAYYLSLYTKRRARNLRQLAEGIRAADPGVIFH...</td>\n",
       "      <td>LTTLEEEEEEEEEEEEEEEEEEEEEESSHHHHHHHHHHLLHHHHHH...</td>\n",
       "      <td>CCCCEEEEEEEEEEEEEEEEEEEEEECCHHHHHHHHHHCCHHHHHH...</td>\n",
       "    </tr>\n",
       "  </tbody>\n",
       "</table>\n",
       "<p>123 rows × 5 columns</p>\n",
       "</div>"
      ],
      "text/plain": [
       "      id  length                                            residue  \\\n",
       "0      0     108  LLSTDIWVAALIRRAELGGAFATVARKGDARAGAVLVKAVDRREGT...   \n",
       "1      1     155  AEVGYPLSWLKDKHPIEEPDLEYSLKWFKKHEYDLETSKLQEVSEK...   \n",
       "2      2     168  GYGQRLLAKQMESMIEEAISQAAENYYIQGDIIIPEEWQDIPVEEI...   \n",
       "3      3     249  MNLVQDKVTIITGGTRGIGFAAAKIFIDNGAKVSIFGETQEEVDTA...   \n",
       "4      4      27                        ECHLCPVCGESFASKGAQERHLRLLHA   \n",
       "..   ...     ...                                                ...   \n",
       "118  118     303  SPVRVENGVLTEVLKGHNEIILPNSVKSIPKAAFRGSQINKVVLNE...   \n",
       "119  119     100  MIDLAPLVRRLAGTPLAEWANGLQAQLDTKMSKGHGDLQRWQSALD...   \n",
       "120  120     106  DLKGIWQLCHYVSALKPSNTFKVLSDDGRIVNFTIIPGADAIITGY...   \n",
       "121  121     173  DDTRYLVGAVPEVDGKVVFSKEFQIPGMSQAQIYDTMTKWMDERLK...   \n",
       "122  122     212  DLDSKAKSPFVFKSAYYLSLYTKRRARNLRQLAEGIRAADPGVIFH...   \n",
       "\n",
       "                                                 dssp8  \\\n",
       "0    LLLHHHHHHHHHHHHHHTTLEEEEEELLLTTTLLEEEEEEETTTTE...   \n",
       "1    LLLBTTHHHHHHHSLLLLLLLSSLHHHHHHHGGGSLHHHHHHHHHH...   \n",
       "2    LHHHHHHHHHHHHHHHHHHHHHBSSEEEEEELLLLGGGTTSLHHHH...   \n",
       "3    LLTTTTLEEEETTLSSHHHHHHHHHHHHTTLEEEEELSSHHHHHHH...   \n",
       "4                          LLEELTTSLLEESSHHHHHHHHHTTLL   \n",
       "..                                                 ...   \n",
       "118  LLEEEETTEEEEELSSLSEEELLTTLLEELTTTTTTLLLSEEELLT...   \n",
       "119  LLLLHHHHHHHTTSTTHHHHHHHHHHHHHHHHHTHHHHHTTHHHHH...   \n",
       "120  LLLEEEEEEEELLLEEEEEEEEEELTTSEEEEEELLTTSLLEEEEE...   \n",
       "121  LLGGGSTTSSLEETTEELEEEEEELTTSLHHHHHHHHHHHHHHHHH...   \n",
       "122  LTTLEEEEEEEEEEEEEEEEEEEEEESSHHHHHHHHHHLLHHHHHH...   \n",
       "\n",
       "                                                 dssp3  \n",
       "0    CCCHHHHHHHHHHHHHHCCCEEEEEECCCCCCCCEEEEEEECCCCE...  \n",
       "1    CCCECCHHHHHHHCCCCCCCCCCCHHHHHHHHHHCCHHHHHHHHHH...  \n",
       "2    CHHHHHHHHHHHHHHHHHHHHHECCEEEEEECCCCHHHCCCCHHHH...  \n",
       "3    CCCCCCCEEEECCCCCHHHHHHHHHHHHCCCEEEEECCCHHHHHHH...  \n",
       "4                          CCEECCCCCCEECCHHHHHHHHHCCCC  \n",
       "..                                                 ...  \n",
       "118  CCEEEECCEEEEECCCCCEEECCCCCCEECCCCCCCCCCCEEECCC...  \n",
       "119  CCCCHHHHHHHCCCCCHHHHHHHHHHHHHHHHHCHHHHHCCHHHHH...  \n",
       "120  CCCEEEEEEEECCCEEEEEEEEEECCCCEEEEEECCCCCCCEEEEE...  \n",
       "121  CCHHHCCCCCCEECCEECEEEEEECCCCCHHHHHHHHHHHHHHHHH...  \n",
       "122  CCCCEEEEEEEEEEEEEEEEEEEEEECCHHHHHHHHHHCCHHHHHH...  \n",
       "\n",
       "[123 rows x 5 columns]"
      ]
     },
     "execution_count": 41,
     "metadata": {},
     "output_type": "execute_result"
    }
   ],
   "source": [
    "file_dir = '../Data/preprocessed/casp10_preprocessed.csv'\n",
    "df_ori = pd.read_csv(file_dir, sep=',', header=0)\n",
    "df_ori"
   ]
  },
  {
   "cell_type": "code",
   "execution_count": 42,
   "id": "954d04ac",
   "metadata": {},
   "outputs": [
    {
     "data": {
      "text/html": [
       "<div>\n",
       "<style scoped>\n",
       "    .dataframe tbody tr th:only-of-type {\n",
       "        vertical-align: middle;\n",
       "    }\n",
       "\n",
       "    .dataframe tbody tr th {\n",
       "        vertical-align: top;\n",
       "    }\n",
       "\n",
       "    .dataframe thead th {\n",
       "        text-align: right;\n",
       "    }\n",
       "</style>\n",
       "<table border=\"1\" class=\"dataframe\">\n",
       "  <thead>\n",
       "    <tr style=\"text-align: right;\">\n",
       "      <th></th>\n",
       "      <th>residue</th>\n",
       "    </tr>\n",
       "  </thead>\n",
       "  <tbody>\n",
       "    <tr>\n",
       "      <th>0</th>\n",
       "      <td>LLSTDIWVAALIRRAELGGAFATVARKGDARAGAVLVKAVDRREGT...</td>\n",
       "    </tr>\n",
       "    <tr>\n",
       "      <th>1</th>\n",
       "      <td>AEVGYPLSWLKDKHPIEEPDLEYSLKWFKKHEYDLETSKLQEVSEK...</td>\n",
       "    </tr>\n",
       "    <tr>\n",
       "      <th>2</th>\n",
       "      <td>GYGQRLLAKQMESMIEEAISQAAENYYIQGDIIIPEEWQDIPVEEI...</td>\n",
       "    </tr>\n",
       "    <tr>\n",
       "      <th>3</th>\n",
       "      <td>MNLVQDKVTIITGGTRGIGFAAAKIFIDNGAKVSIFGETQEEVDTA...</td>\n",
       "    </tr>\n",
       "    <tr>\n",
       "      <th>4</th>\n",
       "      <td>ECHLCPVCGESFASKGAQERHLRLLHA</td>\n",
       "    </tr>\n",
       "    <tr>\n",
       "      <th>...</th>\n",
       "      <td>...</td>\n",
       "    </tr>\n",
       "    <tr>\n",
       "      <th>118</th>\n",
       "      <td>SPVRVENGVLTEVLKGHNEIILPNSVKSIPKAAFRGSQINKVVLNE...</td>\n",
       "    </tr>\n",
       "    <tr>\n",
       "      <th>119</th>\n",
       "      <td>MIDLAPLVRRLAGTPLAEWANGLQAQLDTKMSKGHGDLQRWQSALD...</td>\n",
       "    </tr>\n",
       "    <tr>\n",
       "      <th>120</th>\n",
       "      <td>DLKGIWQLCHYVSALKPSNTFKVLSDDGRIVNFTIIPGADAIITGY...</td>\n",
       "    </tr>\n",
       "    <tr>\n",
       "      <th>121</th>\n",
       "      <td>DDTRYLVGAVPEVDGKVVFSKEFQIPGMSQAQIYDTMTKWMDERLK...</td>\n",
       "    </tr>\n",
       "    <tr>\n",
       "      <th>122</th>\n",
       "      <td>DLDSKAKSPFVFKSAYYLSLYTKRRARNLRQLAEGIRAADPGVIFH...</td>\n",
       "    </tr>\n",
       "  </tbody>\n",
       "</table>\n",
       "<p>123 rows × 1 columns</p>\n",
       "</div>"
      ],
      "text/plain": [
       "                                               residue\n",
       "0    LLSTDIWVAALIRRAELGGAFATVARKGDARAGAVLVKAVDRREGT...\n",
       "1    AEVGYPLSWLKDKHPIEEPDLEYSLKWFKKHEYDLETSKLQEVSEK...\n",
       "2    GYGQRLLAKQMESMIEEAISQAAENYYIQGDIIIPEEWQDIPVEEI...\n",
       "3    MNLVQDKVTIITGGTRGIGFAAAKIFIDNGAKVSIFGETQEEVDTA...\n",
       "4                          ECHLCPVCGESFASKGAQERHLRLLHA\n",
       "..                                                 ...\n",
       "118  SPVRVENGVLTEVLKGHNEIILPNSVKSIPKAAFRGSQINKVVLNE...\n",
       "119  MIDLAPLVRRLAGTPLAEWANGLQAQLDTKMSKGHGDLQRWQSALD...\n",
       "120  DLKGIWQLCHYVSALKPSNTFKVLSDDGRIVNFTIIPGADAIITGY...\n",
       "121  DDTRYLVGAVPEVDGKVVFSKEFQIPGMSQAQIYDTMTKWMDERLK...\n",
       "122  DLDSKAKSPFVFKSAYYLSLYTKRRARNLRQLAEGIRAADPGVIFH...\n",
       "\n",
       "[123 rows x 1 columns]"
      ]
     },
     "execution_count": 42,
     "metadata": {},
     "output_type": "execute_result"
    }
   ],
   "source": [
    "# get only the first column\n",
    "df = pd.DataFrame(df_ori['residue'])\n",
    "df"
   ]
  },
  {
   "cell_type": "code",
   "execution_count": 43,
   "id": "0c6f87f6",
   "metadata": {},
   "outputs": [
    {
     "name": "stdout",
     "output_type": "stream",
     "text": [
      "True\n"
     ]
    }
   ],
   "source": [
    "# Check if the secondary structure sequences in the dataset are in correct format\n",
    "def check_secondary_structure_format(ss_seq):\n",
    "    \"\"\"\n",
    "    Check if the secondary structure sequences in the dataset are in correct format\n",
    "    \"\"\"\n",
    "    # Check if the sequences are in correct format\n",
    "    for seq in ss_seq:\n",
    "        for char in seq:\n",
    "            if char not in secondary_structure_labels:\n",
    "                print(\n",
    "                    f\"Invalid character '{char}' found in secondary structure sequence: {seq}\"\n",
    "                )\n",
    "                return False\n",
    "    return True\n",
    "# Check the secondary structure format\n",
    "print(check_secondary_structure_format(df_ori.iloc[:, 3]))"
   ]
  },
  {
   "cell_type": "code",
   "execution_count": 44,
   "id": "7334da0c",
   "metadata": {},
   "outputs": [
    {
     "data": {
      "text/html": [
       "<div>\n",
       "<style scoped>\n",
       "    .dataframe tbody tr th:only-of-type {\n",
       "        vertical-align: middle;\n",
       "    }\n",
       "\n",
       "    .dataframe tbody tr th {\n",
       "        vertical-align: top;\n",
       "    }\n",
       "\n",
       "    .dataframe thead th {\n",
       "        text-align: right;\n",
       "    }\n",
       "</style>\n",
       "<table border=\"1\" class=\"dataframe\">\n",
       "  <thead>\n",
       "    <tr style=\"text-align: right;\">\n",
       "      <th></th>\n",
       "      <th>label</th>\n",
       "      <th>counts</th>\n",
       "    </tr>\n",
       "  </thead>\n",
       "  <tbody>\n",
       "    <tr>\n",
       "      <th>0</th>\n",
       "      <td>L</td>\n",
       "      <td>4652</td>\n",
       "    </tr>\n",
       "    <tr>\n",
       "      <th>1</th>\n",
       "      <td>B</td>\n",
       "      <td>227</td>\n",
       "    </tr>\n",
       "    <tr>\n",
       "      <th>2</th>\n",
       "      <td>E</td>\n",
       "      <td>5225</td>\n",
       "    </tr>\n",
       "    <tr>\n",
       "      <th>3</th>\n",
       "      <td>G</td>\n",
       "      <td>797</td>\n",
       "    </tr>\n",
       "    <tr>\n",
       "      <th>4</th>\n",
       "      <td>I</td>\n",
       "      <td>5</td>\n",
       "    </tr>\n",
       "    <tr>\n",
       "      <th>5</th>\n",
       "      <td>H</td>\n",
       "      <td>6544</td>\n",
       "    </tr>\n",
       "    <tr>\n",
       "      <th>6</th>\n",
       "      <td>S</td>\n",
       "      <td>1780</td>\n",
       "    </tr>\n",
       "    <tr>\n",
       "      <th>7</th>\n",
       "      <td>T</td>\n",
       "      <td>2811</td>\n",
       "    </tr>\n",
       "    <tr>\n",
       "      <th>8</th>\n",
       "      <td>_</td>\n",
       "      <td>0</td>\n",
       "    </tr>\n",
       "  </tbody>\n",
       "</table>\n",
       "</div>"
      ],
      "text/plain": [
       "  label  counts\n",
       "0     L    4652\n",
       "1     B     227\n",
       "2     E    5225\n",
       "3     G     797\n",
       "4     I       5\n",
       "5     H    6544\n",
       "6     S    1780\n",
       "7     T    2811\n",
       "8     _       0"
      ]
     },
     "execution_count": 44,
     "metadata": {},
     "output_type": "execute_result"
    }
   ],
   "source": [
    "# Visualize the data distribution for secondary structure labels\n",
    "# Get the counts of each secondary structure label\n",
    "def get_counts(df):\n",
    "    \"\"\"\n",
    "    Get the counts of each secondary structure label\n",
    "    \"\"\"\n",
    "    # Get the 8 state secondary structures\n",
    "    dssp8 = df['dssp8']\n",
    "    counts = []\n",
    "    # Get the counts of each secondary structure label\n",
    "    for i in range(len(secondary_structure_labels)):\n",
    "        label = secondary_structure_labels[i]\n",
    "        n = dssp8.str.count(label)\n",
    "        counts.append([label, n.sum()])\n",
    "    return counts\n",
    "# Get the counts of each secondary structure label\n",
    "counts = get_counts(df_ori)\n",
    "# Create a dataframe with the counts\n",
    "df_counts = pd.DataFrame(counts,\n",
    "                         columns=['label', 'counts'])\n",
    "df_counts"
   ]
  },
  {
   "cell_type": "code",
   "execution_count": 45,
   "id": "5e4fae87",
   "metadata": {},
   "outputs": [
    {
     "name": "stdout",
     "output_type": "stream",
     "text": [
      "L: 4652\n",
      "B: 227\n",
      "E: 5225\n",
      "G: 797\n",
      "I: 5\n",
      "H: 6544\n",
      "S: 1780\n",
      "T: 2811\n",
      "_: 0\n"
     ]
    },
    {
     "data": {
      "image/png": "[encoded data removed]",
      "text/plain": [
       "<Figure size 1000x600 with 1 Axes>"
      ]
     },
     "metadata": {},
     "output_type": "display_data"
    }
   ],
   "source": [
    "# Plot the distribution of secondary structure labels\n",
    "def plot_distribution(df_counts):\n",
    "    \"\"\"\n",
    "    Plot the distribution of secondary structure labels\n",
    "    \"\"\"\n",
    "    for i, label in enumerate(secondary_structure_labels):\n",
    "        n = df_counts[df_counts['label'] == label]['counts'].values[0]\n",
    "        print(f'{label}: {n}')\n",
    "\n",
    "    plt.figure(figsize=(10, 6))\n",
    "    sns.barplot(x='label',\n",
    "                y='counts',\n",
    "                palette='Spectral',\n",
    "                hue='label',\n",
    "                data=df_counts)\n",
    "    plt.title('Distribution of Secondary Structure Labels')\n",
    "    plt.xlabel('Secondary Structure Label')\n",
    "    plt.ylabel('Count')\n",
    "    plt.show()\n",
    "\n",
    "plot_distribution(df_counts)"
   ]
  },
  {
   "cell_type": "markdown",
   "id": "10011aa7",
   "metadata": {},
   "source": [
    "# Rangkuman"
   ]
  },
  {
   "cell_type": "code",
   "execution_count": null,
   "id": "1b4009aa",
   "metadata": {},
   "outputs": [],
   "source": [
    "import os\n",
    "import requests\n",
    "import h5py\n",
    "import numpy as np\n",
    "import pandas as pd\n",
    "import matplotlib.pyplot as plt\n",
    "import seaborn as sns\n",
    "\n",
    "def preprocess_casp10(\n",
    "    data_path='../Data/Original/casp10.h5',\n",
    "    output_csv='../Data/Preprocessed/CASP10_preprocessed.csv',\n",
    "    plot=True\n",
    "):    \n",
    "    # Definisi mapping\n",
    "    amino_acid_residues = [\n",
    "        'A', 'C', 'E', 'D', 'G', 'F', 'I', 'H', 'K', 'M', \n",
    "        'L', 'N', 'Q', 'P', 'S', 'R', 'T', 'W', 'V', 'Y', \n",
    "        'X', '_'\n",
    "    ]\n",
    "    secondary_structure_labels = ['L', 'B', 'E', 'G', 'I', 'H', 'S', 'T', '_']\n",
    "\n",
    "    # Load dan konversi one-hot ke string\n",
    "    def one_hot_to_residues(one_hot_data, mapping):\n",
    "        residues = []\n",
    "        for seq in one_hot_data:\n",
    "            converted_seq = []\n",
    "            for vector in seq:\n",
    "                if np.all(vector == 0):\n",
    "                    converted_seq.append('_')\n",
    "                else:\n",
    "                    converted_seq.append(mapping[np.argmax(vector)])\n",
    "            residues.append(''.join(converted_seq))\n",
    "        return residues\n",
    "    \n",
    "    # Seleksi fitur dan label dari dataset\n",
    "    with h5py.File(data_path, 'r') as casp10_data:\n",
    "        raw_features = casp10_data['features'][:, :, :22]\n",
    "        raw_labels = casp10_data['labels'][:, :, :9]\n",
    "    converted_features = one_hot_to_residues(raw_features, amino_acid_residues)\n",
    "    converted_labels = one_hot_to_residues(raw_labels, secondary_structure_labels)\n",
    "\n",
    "    # Bersihkan padding\n",
    "    def remove_padding(data):\n",
    "        return [''.join([char for char in seq if char != '_']) for seq in data]\n",
    "    cleaned_features = remove_padding(converted_features)\n",
    "    cleaned_labels = remove_padding(converted_labels)\n",
    "\n",
    "    # Konversi 8-state ke 3-state\n",
    "    def convert_8state_to_3state(ss):\n",
    "        return ''.join(['H' if s in ['H', 'G', 'I'] else 'E' if s in ['E', 'B'] else 'C' for s in ss])\n",
    "    \n",
    "    # Buat dataframe\n",
    "    combined_data = []\n",
    "    for seq, dssp8 in zip(cleaned_features, cleaned_labels):\n",
    "        dssp3 = convert_8state_to_3state(dssp8)\n",
    "        combined_data.append({\n",
    "            \"length\": len(seq),\n",
    "            \"residue\": seq,\n",
    "            \"dssp8\": dssp8,\n",
    "            \"dssp3\": dssp3\n",
    "        })\n",
    "    df = pd.DataFrame(combined_data)\n",
    "    # Simpan ke CSV\n",
    "    os.makedirs(os.path.dirname(output_csv), exist_ok=True)\n",
    "    df.to_csv(output_csv, index_label='id')\n",
    "    \n",
    "    return df, df_counts\n",
    "\n",
    "# Contoh pemanggilan:\n",
    "df, df_counts = preprocess_casp10()"
   ]
  }
 ],
 "metadata": {
  "kernelspec": {
   "display_name": "base",
   "language": "python",
   "name": "python3"
  },
  "language_info": {
   "codemirror_mode": {
    "name": "ipython",
    "version": 3
   },
   "file_extension": ".py",
   "mimetype": "text/x-python",
   "name": "python",
   "nbconvert_exporter": "python",
   "pygments_lexer": "ipython3",
   "version": "3.12.7"
  }
 },
 "nbformat": 4,
 "nbformat_minor": 5
}
