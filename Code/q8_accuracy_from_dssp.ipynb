{
 "cells": [
  {
   "cell_type": "markdown",
   "metadata": {},
   "source": [
    "# Final"
   ]
  },
  {
   "cell_type": "markdown",
   "metadata": {},
   "source": [
    "# Import Required Libraries\n",
    "Import necessary libraries, including gzip and numpy."
   ]
  },
  {
   "cell_type": "code",
   "execution_count": 1,
   "metadata": {},
   "outputs": [],
   "source": [
    "# Import necessary libraries\n",
    "import gzip\n",
    "import numpy as np"
   ]
  },
  {
   "cell_type": "markdown",
   "metadata": {},
   "source": [
    "# Load Data from Files\n",
    "Load the cb513_sequence and cb513_testlabel data from the compressed numpy files using gzip."
   ]
  },
  {
   "cell_type": "code",
   "execution_count": 2,
   "metadata": {},
   "outputs": [],
   "source": [
    "# Load Data from Files\n",
    "\n",
    "# Load cb513_sequence data from compressed numpy file\n",
    "f = gzip.GzipFile('../Data/Preprocessed/cb513_sequence_MASK.npy.gz', \"r\")\n",
    "cb513_sequence = np.load(f)\n",
    "f.close()\n",
    "\n",
    "# Load cb513_testlabel data from compressed numpy file\n",
    "f = gzip.GzipFile('../Data/Preprocessed/cb513_testlabel_MASK.npy.gz', \"r\")\n",
    "cb513_testlabel = np.load(f)\n",
    "f.close()"
   ]
  },
  {
   "cell_type": "code",
   "execution_count": 3,
   "metadata": {},
   "outputs": [
    {
     "name": "stdout",
     "output_type": "stream",
     "text": [
      "(514, 700, 22)\n",
      "(514, 700, 9)\n"
     ]
    }
   ],
   "source": [
    "# Print shapes of the loaded data\n",
    "print(cb513_sequence.shape)\n",
    "print(cb513_testlabel.shape)"
   ]
  },
  {
   "cell_type": "code",
   "execution_count": 4,
   "metadata": {},
   "outputs": [
    {
     "name": "stdout",
     "output_type": "stream",
     "text": [
      "22\n"
     ]
    }
   ],
   "source": [
    "# Print the first 10 rows of the loaded data\n",
    "print(len(cb513_sequence[0][0]))"
   ]
  },
  {
   "cell_type": "markdown",
   "metadata": {},
   "source": [
    "# Convert One hot to Label"
   ]
  },
  {
   "cell_type": "markdown",
   "metadata": {},
   "source": [
    "## Sequence Decoding"
   ]
  },
  {
   "cell_type": "code",
   "execution_count": 5,
   "metadata": {},
   "outputs": [
    {
     "name": "stdout",
     "output_type": "stream",
     "text": [
      "VPSLATISLENSWSGLSKQIQLAQGNNGIFRTPIVLVDNKGNRVQITNVTSKVVTSNIQLLLNTRNI\n",
      "67\n",
      "MFKVYGYDSNIHKCVYCDNAKRLLTVKKQPFEFINIMPEKGVFDDEKIAELLTKLGRDTQIGLTMPQVFAPDGSHIGGFDQLREYFK\n",
      "87\n"
     ]
    }
   ],
   "source": [
    "# Define the array of characters\n",
    "amino_acid_residues = [\n",
    "    '_', 'A', 'C', 'E', 'D', 'G', 'F', 'I', 'H', 'K', 'M', 'L', 'N', 'Q', 'P',\n",
    "    'S', 'R', 'T', 'W', 'V', 'Y', 'X'\n",
    "]\n",
    "\n",
    "# Function to convert one-hot encoded sequence to string and clean trailing underscores\n",
    "def residue_to_string(sequence):\n",
    "    indices = np.argmax(sequence, axis=-1)\n",
    "    sequence = ''.join([amino_acid_residues[i] for i in indices])\n",
    "    sequence = sequence.rstrip('_')  # Remove trailing underscores\n",
    "    return sequence\n",
    "\n",
    "\n",
    "# Apply the function to each sequence in CullPDB_sequence\n",
    "cb513_sequence_string = [residue_to_string(seq) for seq in cb513_sequence]\n",
    "print(cb513_sequence_string[0])\n",
    "print(len(cb513_sequence_string[0]))\n",
    "print(cb513_sequence_string[1])\n",
    "print(len(cb513_sequence_string[1]))"
   ]
  },
  {
   "cell_type": "markdown",
   "metadata": {},
   "source": [
    "## Label Decoding"
   ]
  },
  {
   "cell_type": "code",
   "execution_count": 6,
   "metadata": {},
   "outputs": [
    {
     "name": "stdout",
     "output_type": "stream",
     "text": [
      "CCCHHHHHHHHHHHHHHHHHHHHTTTTTEEEEEEEECCSSSSCEEEEETTSHHHHHTBCCBCCGGGC\n"
     ]
    }
   ],
   "source": [
    "DSSP = {0: '_', 1: 'C', 2: 'B', 3: 'E', 4: 'G', 5: 'I', 6: 'H', 7: 'S', 8: 'T'}\n",
    "\n",
    "def label_to_string(label):\n",
    "    indices = np.argmax(label, axis=-1)\n",
    "    indices = [DSSP[i] for i in indices]\n",
    "    label = ''.join(indices)\n",
    "    label = label.rstrip('_')  # Remove trailing underscores\n",
    "    return label\n",
    "\n",
    "# Apply the function to each sequence in cb513_testlabel\n",
    "cb513_testlabel = [label_to_string(label) for label in cb513_testlabel]\n",
    "print(cb513_testlabel[0])"
   ]
  },
  {
   "cell_type": "code",
   "execution_count": 9,
   "metadata": {},
   "outputs": [
    {
     "name": "stdout",
     "output_type": "stream",
     "text": [
      "VPSLATISLENSWSGLSKQIQLAQGNNGIFRTPIVLVDNKGNRVQITNVTSKVVTSNIQLLLNTRNI\n",
      "CCCHHHHHHHHHHHHHHHHHHHHTTTTTEEEEEEEECCSSSSCEEEEETTSHHHHHTBCCBCCGGGC\n"
     ]
    }
   ],
   "source": [
    "# Print the first sequence and its label\n",
    "print(cb513_sequence_string[0])\n",
    "print(cb513_testlabel[0])"
   ]
  },
  {
   "cell_type": "code",
   "execution_count": 23,
   "metadata": {},
   "outputs": [],
   "source": [
    "# def extract_secondary_structure(dssp_file):\n",
    "#     secondary_structure = \"\"\n",
    "#     with open(dssp_file, 'r') as file:\n",
    "#         lines = file.readlines()\n",
    "#         start_reading = False\n",
    "#         for line in lines:\n",
    "#             if line.startswith(\"  #  RESIDUE\"):\n",
    "#                 start_reading = True\n",
    "#                 continue\n",
    "#             if start_reading:\n",
    "#                 if line.strip() == \"\":\n",
    "#                     continue\n",
    "#                 structure = line[16]\n",
    "#                 if structure == \" \":\n",
    "#                     structure = \"C\"  # Coil\n",
    "#                 secondary_structure += structure\n",
    "#     return secondary_structure\n",
    "\n",
    "# dssp_file = 'fold_cb513_0_model_0.dssp'\n",
    "# secondary_structure = extract_secondary_structure(dssp_file)\n",
    "# print(secondary_structure)"
   ]
  },
  {
   "cell_type": "code",
   "execution_count": null,
   "metadata": {},
   "outputs": [
    {
     "name": "stdout",
     "output_type": "stream",
     "text": [
      "VPSLATISLENSWSGLSKQIQLAQGNNGIFRTPIVLVDNKGNRVQITNVTSKVVTSNIQLLLNTRNI\n",
      "---HHHHHHHHHHHHHHHHHHHHTTTTTEEEEEEEEE-TTS-EEEEEETTSHHHHHHHHHHHHHHH-\n"
     ]
    }
   ],
   "source": [
    "from Bio.PDB import MMCIFParser, DSSP\n",
    "\n",
    "# Load mmCIF file\n",
    "parser = MMCIFParser()\n",
    "structure = parser.get_structure(\"model\", \"fold_cb513_0/fold_cb513_0_model_0.cif\")\n",
    "\n",
    "# Run DSSP\n",
    "dssp = DSSP(structure[0], \"fold_cb513_0/fold_cb513_0_model_0.cif\", dssp='mkdssp')\n",
    "\n",
    "# Combine all the residue into one string called residue\n",
    "# Combine all the predicted secondary structure one string called ss\n",
    "# Return the residue and ss\n",
    "residue = \"\"\n",
    "ss = \"\"\n",
    "\n",
    "for key in dssp.keys():\n",
    "    residue += dssp[key][1]\n",
    "    ss += dssp[key][2]\n",
    "\n",
    "print(residue)\n",
    "print(ss)"
   ]
  },
  {
   "cell_type": "code",
   "execution_count": 12,
   "metadata": {},
   "outputs": [
    {
     "name": "stdout",
     "output_type": "stream",
     "text": [
      "CCCHHHHHHHHHHHHHHHHHHHHTTTTTEEEEEEEEECTTSCEEEEEETTSHHHHHHHHHHHHHHHC\n"
     ]
    }
   ],
   "source": [
    "# convert the ss to the same format as the label\n",
    "ss = ss.replace(\"-\", \"C\")\n",
    "print(ss)"
   ]
  },
  {
   "cell_type": "markdown",
   "metadata": {},
   "source": [
    "$$Q_s =  \\frac{∑^s_{i=1} C_i}{n}×100\\%$$"
   ]
  },
  {
   "cell_type": "code",
   "execution_count": null,
   "metadata": {},
   "outputs": [
    {
     "name": "stdout",
     "output_type": "stream",
     "text": [
      "0.7761194029850746\n"
     ]
    }
   ],
   "source": [
    "# Calculate the accuracy of the predicted secondary structure (Q8 Score)\n",
    "def calculate_accuracy(predicted, actual):\n",
    "    correct = 0\n",
    "    total = len(predicted)\n",
    "    for p, a in zip(predicted, actual):\n",
    "        if p == a:\n",
    "            correct += 1\n",
    "    return correct / total\n",
    "\n",
    "# Calculate the accuracy of the predicted secondary structure\n",
    "accuracy = calculate_accuracy(cb513_testlabel[0], ss)\n",
    "print(accuracy)"
   ]
  },
  {
   "cell_type": "code",
   "execution_count": 21,
   "metadata": {},
   "outputs": [
    {
     "name": "stdout",
     "output_type": "stream",
     "text": [
      "CCCHHHHHHHHHHHHHHHHHHHHCCCCCEEEEEEEECCCCCCCEEEEECCCHHHHHCECCECCHHHC\n",
      "CCCHHHHHHHHHHHHHHHHHHHHCCCCCEEEEEEEEECCCCCEEEEEECCCHHHHHHHHHHHHHHHC\n"
     ]
    }
   ],
   "source": [
    "# Convert the original & predicted 8-state secondary structure to 3-state secondary structure\n",
    "def convert_8state_to_3state(ss):\n",
    "    ss_3state = \"\"\n",
    "    for s in ss:\n",
    "        if s in ['H', 'G', 'I']:\n",
    "            ss_3state += 'H'\n",
    "        elif s in ['E', 'B']:\n",
    "            ss_3state += 'E'\n",
    "        else:\n",
    "            ss_3state += 'C'\n",
    "    return ss_3state\n",
    "\n",
    "cb513_testlabel_3state = cb513_testlabel.copy()\n",
    "cb513_testlabel_3state[0] = convert_8state_to_3state(cb513_testlabel[0])\n",
    "ss_3state = convert_8state_to_3state(ss)\n",
    "\n",
    "print(cb513_testlabel_3state[0])\n",
    "print(ss_3state)"
   ]
  },
  {
   "cell_type": "code",
   "execution_count": 22,
   "metadata": {},
   "outputs": [
    {
     "name": "stdout",
     "output_type": "stream",
     "text": [
      "0.8656716417910447\n"
     ]
    }
   ],
   "source": [
    "# Calculate the accuracy of the predicted secondary structure (Q3 Score)\n",
    "def calculate_accuracy(predicted, actual):\n",
    "    correct = 0\n",
    "    total = len(predicted)\n",
    "    for p, a in zip(predicted, actual):\n",
    "        if p == a:\n",
    "            correct += 1\n",
    "    return correct / total\n",
    "\n",
    "# Calculate the accuracy of the predicted secondary structure\n",
    "accuracy = calculate_accuracy(cb513_testlabel_3state[0], ss_3state)\n",
    "print(accuracy)"
   ]
  }
 ],
 "metadata": {
  "kernelspec": {
   "display_name": "Python 3",
   "language": "python",
   "name": "python3"
  },
  "language_info": {
   "codemirror_mode": {
    "name": "ipython",
    "version": 3
   },
   "file_extension": ".py",
   "mimetype": "text/x-python",
   "name": "python",
   "nbconvert_exporter": "python",
   "pygments_lexer": "ipython3",
   "version": "3.10.12"
  }
 },
 "nbformat": 4,
 "nbformat_minor": 2
}
