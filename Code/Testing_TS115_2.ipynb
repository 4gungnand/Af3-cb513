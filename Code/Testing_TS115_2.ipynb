{
 "cells": [
  {
   "cell_type": "markdown",
   "metadata": {},
   "source": [
    "# Testing"
   ]
  },
  {
   "cell_type": "code",
   "execution_count": 1,
   "metadata": {},
   "outputs": [],
   "source": [
    "# Import libraries\n",
    "import pandas as pd\n",
    "import matplotlib.pyplot as plt\n",
    "from sklearn.metrics import precision_recall_fscore_support"
   ]
  },
  {
   "cell_type": "code",
   "execution_count": 2,
   "metadata": {},
   "outputs": [],
   "source": [
    "df_ts115_2 = pd.read_csv(f\"../Data/Postprocessed/ts115_2_dssp.csv\")\n",
    "df_test_ts115_2 = pd.read_csv(f\"../Data/Preprocessed/ts115_preprocessed.csv\") # The Original"
   ]
  },
  {
   "cell_type": "markdown",
   "metadata": {},
   "source": [
    "## Cleaning"
   ]
  },
  {
   "cell_type": "code",
   "execution_count": 3,
   "metadata": {},
   "outputs": [
    {
     "data": {
      "text/html": [
       "<div>\n",
       "<style scoped>\n",
       "    .dataframe tbody tr th:only-of-type {\n",
       "        vertical-align: middle;\n",
       "    }\n",
       "\n",
       "    .dataframe tbody tr th {\n",
       "        vertical-align: top;\n",
       "    }\n",
       "\n",
       "    .dataframe thead th {\n",
       "        text-align: right;\n",
       "    }\n",
       "</style>\n",
       "<table border=\"1\" class=\"dataframe\">\n",
       "  <thead>\n",
       "    <tr style=\"text-align: right;\">\n",
       "      <th></th>\n",
       "      <th>id</th>\n",
       "      <th>length</th>\n",
       "      <th>residue</th>\n",
       "      <th>predicted_dssp8</th>\n",
       "    </tr>\n",
       "  </thead>\n",
       "  <tbody>\n",
       "    <tr>\n",
       "      <th>0</th>\n",
       "      <td>0</td>\n",
       "      <td>140</td>\n",
       "      <td>MTRLSEILDQMTTVLNDLKTVMDAEQQQLSVGQINGSQLQRITEEK...</td>\n",
       "      <td>--HHHHHHHHHHHHHHHHHHHHHHHHHHHHSSS--HHHHHHHHHHH...</td>\n",
       "    </tr>\n",
       "    <tr>\n",
       "      <th>1</th>\n",
       "      <td>1</td>\n",
       "      <td>102</td>\n",
       "      <td>MKPTYEILGQMDETFILVKDSEYLYFVDQHLLEERINYEKLKDENL...</td>\n",
       "      <td>--SS-EEEEEETTTEEEEE-SSEEEEEEHHHHHHHHHHHHH--HHH...</td>\n",
       "    </tr>\n",
       "    <tr>\n",
       "      <th>2</th>\n",
       "      <td>2</td>\n",
       "      <td>468</td>\n",
       "      <td>SGRPMPVFEDVTRALVRELNPRGDLTPLDSLIDFKHFRPFCLVLRK...</td>\n",
       "      <td>-PPP-HHHHHHHHHHHHHH-TTSSPEEP--GGGGGGGSTTEEEEE-...</td>\n",
       "    </tr>\n",
       "    <tr>\n",
       "      <th>3</th>\n",
       "      <td>3</td>\n",
       "      <td>714</td>\n",
       "      <td>MTARRFLNELADLYGVATSYTDYKGAHIEVSDDTLVKILRALGVNL...</td>\n",
       "      <td>---HHHHHHHHHHTTB-SEEE-TTS-EEEPPHHHHHHHHHHTT---...</td>\n",
       "    </tr>\n",
       "    <tr>\n",
       "      <th>4</th>\n",
       "      <td>4</td>\n",
       "      <td>235</td>\n",
       "      <td>MGSSHHHHHHSSGLVPRGSHMPSYTLHYFNHRGRAEICRMLFAAAG...</td>\n",
       "      <td>-------------PPPTTS-PPPEEEEEESSSGGGHHHHHHHHHHT...</td>\n",
       "    </tr>\n",
       "  </tbody>\n",
       "</table>\n",
       "</div>"
      ],
      "text/plain": [
       "   id  length                                            residue  \\\n",
       "0   0     140  MTRLSEILDQMTTVLNDLKTVMDAEQQQLSVGQINGSQLQRITEEK...   \n",
       "1   1     102  MKPTYEILGQMDETFILVKDSEYLYFVDQHLLEERINYEKLKDENL...   \n",
       "2   2     468  SGRPMPVFEDVTRALVRELNPRGDLTPLDSLIDFKHFRPFCLVLRK...   \n",
       "3   3     714  MTARRFLNELADLYGVATSYTDYKGAHIEVSDDTLVKILRALGVNL...   \n",
       "4   4     235  MGSSHHHHHHSSGLVPRGSHMPSYTLHYFNHRGRAEICRMLFAAAG...   \n",
       "\n",
       "                                     predicted_dssp8  \n",
       "0  --HHHHHHHHHHHHHHHHHHHHHHHHHHHHSSS--HHHHHHHHHHH...  \n",
       "1  --SS-EEEEEETTTEEEEE-SSEEEEEEHHHHHHHHHHHHH--HHH...  \n",
       "2  -PPP-HHHHHHHHHHHHHH-TTSSPEEP--GGGGGGGSTTEEEEE-...  \n",
       "3  ---HHHHHHHHHHTTB-SEEE-TTS-EEEPPHHHHHHHHHHTT---...  \n",
       "4  -------------PPPTTS-PPPEEEEEESSSGGGHHHHHHHHHHT...  "
      ]
     },
     "execution_count": 3,
     "metadata": {},
     "output_type": "execute_result"
    }
   ],
   "source": [
    "df_ts115_2.head()"
   ]
  },
  {
   "cell_type": "code",
   "execution_count": 4,
   "metadata": {},
   "outputs": [
    {
     "data": {
      "text/html": [
       "<div>\n",
       "<style scoped>\n",
       "    .dataframe tbody tr th:only-of-type {\n",
       "        vertical-align: middle;\n",
       "    }\n",
       "\n",
       "    .dataframe tbody tr th {\n",
       "        vertical-align: top;\n",
       "    }\n",
       "\n",
       "    .dataframe thead th {\n",
       "        text-align: right;\n",
       "    }\n",
       "</style>\n",
       "<table border=\"1\" class=\"dataframe\">\n",
       "  <thead>\n",
       "    <tr style=\"text-align: right;\">\n",
       "      <th></th>\n",
       "      <th>id</th>\n",
       "      <th>length</th>\n",
       "      <th>residue</th>\n",
       "      <th>dssp8</th>\n",
       "      <th>dssp3</th>\n",
       "    </tr>\n",
       "  </thead>\n",
       "  <tbody>\n",
       "    <tr>\n",
       "      <th>0</th>\n",
       "      <td>0</td>\n",
       "      <td>140</td>\n",
       "      <td>MTRLSEILDQMTTVLNDLKTVMDAEQQQLSVGQINGSQLQRITEEK...</td>\n",
       "      <td>CCHHHHHHHHHHHHHHHHHHHHHHHHHHHCSSCTTCCHHHHHHHHH...</td>\n",
       "      <td>CCHHHHHHHHHHHHHHHHHHHHHHHHHHHCCCCCCCCHHHHHHHHH...</td>\n",
       "    </tr>\n",
       "    <tr>\n",
       "      <th>1</th>\n",
       "      <td>1</td>\n",
       "      <td>102</td>\n",
       "      <td>MKPTYEILGQMDETFILVKDSEYLYFVDQHLLEERINYEKLKDENL...</td>\n",
       "      <td>CCCSCEEEEEETTTEEEEECSSEEEEEEHHHHHHHHHHHHHCCHHH...</td>\n",
       "      <td>CCCCCEEEEEECCCEEEEECCCEEEEEEHHHHHHHHHHHHHCCHHH...</td>\n",
       "    </tr>\n",
       "    <tr>\n",
       "      <th>2</th>\n",
       "      <td>2</td>\n",
       "      <td>468</td>\n",
       "      <td>SGRPMPVFEDVTRALVRELNPRGDLTPLDSLIDFKHFRPFCLVLRK...</td>\n",
       "      <td>CCCCCHHHHHHHHHHHHHHSTTSCCEECSCSTTGGGGSTTEEEEEC...</td>\n",
       "      <td>CCCCCHHHHHHHHHHHHHHCCCCCCEECCCCCCHHHHCCCEEEEEC...</td>\n",
       "    </tr>\n",
       "    <tr>\n",
       "      <th>3</th>\n",
       "      <td>3</td>\n",
       "      <td>714</td>\n",
       "      <td>MTARRFLNELADLYGVATSYTDYKGAHIEVSDDTLVKILRALGVNL...</td>\n",
       "      <td>CCCCHHHHHHHHHTTBCSEEECTTSCEEECCHHHHHHHHHHTTCCC...</td>\n",
       "      <td>CCCCHHHHHHHHHCCECCEEECCCCCEEECCHHHHHHHHHHCCCCC...</td>\n",
       "    </tr>\n",
       "    <tr>\n",
       "      <th>4</th>\n",
       "      <td>4</td>\n",
       "      <td>235</td>\n",
       "      <td>MGSSHHHHHHSSGLVPRGSHMPSYTLHYFNHRGRAEICRMLFAAAG...</td>\n",
       "      <td>CCCCCCCCCCCCCCCCCCCCCCCEEEEECSSSTTTHHHHHHHHHHT...</td>\n",
       "      <td>CCCCCCCCCCCCCCCCCCCCCCCEEEEECCCCCCCHHHHHHHHHHC...</td>\n",
       "    </tr>\n",
       "    <tr>\n",
       "      <th>...</th>\n",
       "      <td>...</td>\n",
       "      <td>...</td>\n",
       "      <td>...</td>\n",
       "      <td>...</td>\n",
       "      <td>...</td>\n",
       "    </tr>\n",
       "    <tr>\n",
       "      <th>110</th>\n",
       "      <td>110</td>\n",
       "      <td>315</td>\n",
       "      <td>GALARPCDCDVGGALDPQCDEATGQCRCRPHMIGRRCEQVQPGYFR...</td>\n",
       "      <td>CCCCCCCCCCTTTBSSSSCBTTTTBCCBCTTEESTTSCEECTTEEB...</td>\n",
       "      <td>CCCCCCCCCCCCCECCCCCECCCCECCECCCEECCCCCEECCCEEE...</td>\n",
       "    </tr>\n",
       "    <tr>\n",
       "      <th>111</th>\n",
       "      <td>111</td>\n",
       "      <td>215</td>\n",
       "      <td>GPMDTKFKDDLFRKYVQFHESKVDTTTSRQRPGSDECLRVAASTLL...</td>\n",
       "      <td>CCCCHHHHHHHHHHHHHHHHCCCCCCCCCCCCCCCHHHHHHHHHHH...</td>\n",
       "      <td>CCCCHHHHHHHHHHHHHHHHCCCCCCCCCCCCCCCHHHHHHHHHHH...</td>\n",
       "    </tr>\n",
       "    <tr>\n",
       "      <th>112</th>\n",
       "      <td>112</td>\n",
       "      <td>400</td>\n",
       "      <td>MIVRGINMTKIKLESPGFMVHKKLKSMSQSYGVMMTGVPAEVLGQM...</td>\n",
       "      <td>CCCCCCCCCCCCCCCHHHHHHHHHHHHHHHHGGGGGCCCHHHHHHH...</td>\n",
       "      <td>CCCCCCCCCCCCCCCHHHHHHHHHHHHHHHHHHHHHCCCHHHHHHH...</td>\n",
       "    </tr>\n",
       "    <tr>\n",
       "      <th>113</th>\n",
       "      <td>113</td>\n",
       "      <td>263</td>\n",
       "      <td>FIKFVTGLEDSLGTIKKKQHSFFVSLTLPDVRGADQILEQACVGSD...</td>\n",
       "      <td>CCCCCCCCCCHHHHHHTSSSCEEEEECCSCCTTCHHHHHHHTTTCS...</td>\n",
       "      <td>CCCCCCCCCCHHHHHHCCCCCEEEEECCCCCCCCHHHHHHHCCCCC...</td>\n",
       "    </tr>\n",
       "    <tr>\n",
       "      <th>114</th>\n",
       "      <td>114</td>\n",
       "      <td>348</td>\n",
       "      <td>MSKKFFLSLGLVALLFSNSQAIDENLIKAAQAEGRVNSLAMPDTWA...</td>\n",
       "      <td>CCCCCCCCCCCCCCCCCCCCCCCHHHHHHHHHHCEEEEESCCTTST...</td>\n",
       "      <td>CCCCCCCCCCCCCCCCCCCCCCCHHHHHHHHHHCEEEEECCCCCCC...</td>\n",
       "    </tr>\n",
       "  </tbody>\n",
       "</table>\n",
       "<p>115 rows × 5 columns</p>\n",
       "</div>"
      ],
      "text/plain": [
       "      id  length                                            residue  \\\n",
       "0      0     140  MTRLSEILDQMTTVLNDLKTVMDAEQQQLSVGQINGSQLQRITEEK...   \n",
       "1      1     102  MKPTYEILGQMDETFILVKDSEYLYFVDQHLLEERINYEKLKDENL...   \n",
       "2      2     468  SGRPMPVFEDVTRALVRELNPRGDLTPLDSLIDFKHFRPFCLVLRK...   \n",
       "3      3     714  MTARRFLNELADLYGVATSYTDYKGAHIEVSDDTLVKILRALGVNL...   \n",
       "4      4     235  MGSSHHHHHHSSGLVPRGSHMPSYTLHYFNHRGRAEICRMLFAAAG...   \n",
       "..   ...     ...                                                ...   \n",
       "110  110     315  GALARPCDCDVGGALDPQCDEATGQCRCRPHMIGRRCEQVQPGYFR...   \n",
       "111  111     215  GPMDTKFKDDLFRKYVQFHESKVDTTTSRQRPGSDECLRVAASTLL...   \n",
       "112  112     400  MIVRGINMTKIKLESPGFMVHKKLKSMSQSYGVMMTGVPAEVLGQM...   \n",
       "113  113     263  FIKFVTGLEDSLGTIKKKQHSFFVSLTLPDVRGADQILEQACVGSD...   \n",
       "114  114     348  MSKKFFLSLGLVALLFSNSQAIDENLIKAAQAEGRVNSLAMPDTWA...   \n",
       "\n",
       "                                                 dssp8  \\\n",
       "0    CCHHHHHHHHHHHHHHHHHHHHHHHHHHHCSSCTTCCHHHHHHHHH...   \n",
       "1    CCCSCEEEEEETTTEEEEECSSEEEEEEHHHHHHHHHHHHHCCHHH...   \n",
       "2    CCCCCHHHHHHHHHHHHHHSTTSCCEECSCSTTGGGGSTTEEEEEC...   \n",
       "3    CCCCHHHHHHHHHTTBCSEEECTTSCEEECCHHHHHHHHHHTTCCC...   \n",
       "4    CCCCCCCCCCCCCCCCCCCCCCCEEEEECSSSTTTHHHHHHHHHHT...   \n",
       "..                                                 ...   \n",
       "110  CCCCCCCCCCTTTBSSSSCBTTTTBCCBCTTEESTTSCEECTTEEB...   \n",
       "111  CCCCHHHHHHHHHHHHHHHHCCCCCCCCCCCCCCCHHHHHHHHHHH...   \n",
       "112  CCCCCCCCCCCCCCCHHHHHHHHHHHHHHHHGGGGGCCCHHHHHHH...   \n",
       "113  CCCCCCCCCCHHHHHHTSSSCEEEEECCSCCTTCHHHHHHHTTTCS...   \n",
       "114  CCCCCCCCCCCCCCCCCCCCCCCHHHHHHHHHHCEEEEESCCTTST...   \n",
       "\n",
       "                                                 dssp3  \n",
       "0    CCHHHHHHHHHHHHHHHHHHHHHHHHHHHCCCCCCCCHHHHHHHHH...  \n",
       "1    CCCCCEEEEEECCCEEEEECCCEEEEEEHHHHHHHHHHHHHCCHHH...  \n",
       "2    CCCCCHHHHHHHHHHHHHHCCCCCCEECCCCCCHHHHCCCEEEEEC...  \n",
       "3    CCCCHHHHHHHHHCCECCEEECCCCCEEECCHHHHHHHHHHCCCCC...  \n",
       "4    CCCCCCCCCCCCCCCCCCCCCCCEEEEECCCCCCCHHHHHHHHHHC...  \n",
       "..                                                 ...  \n",
       "110  CCCCCCCCCCCCCECCCCCECCCCECCECCCEECCCCCEECCCEEE...  \n",
       "111  CCCCHHHHHHHHHHHHHHHHCCCCCCCCCCCCCCCHHHHHHHHHHH...  \n",
       "112  CCCCCCCCCCCCCCCHHHHHHHHHHHHHHHHHHHHHCCCHHHHHHH...  \n",
       "113  CCCCCCCCCCHHHHHHCCCCCEEEEECCCCCCCCHHHHHHHCCCCC...  \n",
       "114  CCCCCCCCCCCCCCCCCCCCCCCHHHHHHHHHHCEEEEECCCCCCC...  \n",
       "\n",
       "[115 rows x 5 columns]"
      ]
     },
     "execution_count": 4,
     "metadata": {},
     "output_type": "execute_result"
    }
   ],
   "source": [
    "df_test_ts115_2"
   ]
  },
  {
   "cell_type": "markdown",
   "metadata": {},
   "source": [
    "| Code | Structure                     |\n",
    "|------|-------------------------------|\n",
    "| H    | Alpha helix (4-12)            |\n",
    "| B    | Isolated beta-bridge residue  |\n",
    "| E    | Strand                        |\n",
    "| G    | 3-10 helix                    |\n",
    "| I    | Pi helix                      |\n",
    "| T    | Turn                          |\n",
    "| S    | Bend                          |\n",
    "| C    | Coil                          | \n",
    "\n",
    "- Some dataset may use different code for the last structure, such as space '' or 'L', but in this case we use 'C'\n",
    "- DSSP version 4 predicts can predict P state but it is not used in this case, so we convert it to 'C' because it is not a common structure https://chatgpt.com/share/681d8142-dd3c-8005-a045-f54247344b66"
   ]
  },
  {
   "cell_type": "code",
   "execution_count": 5,
   "metadata": {},
   "outputs": [],
   "source": [
    "# Standarkan format struktur sekunder prediksi menggunakan regex\n",
    "df_ts115_2['predicted_dssp8'] = df_ts115_2['predicted_dssp8'].str.replace('-', 'C', regex=True)\n",
    "df_ts115_2['predicted_dssp8'] = df_ts115_2['predicted_dssp8'].str.replace('P', 'C', regex=True)"
   ]
  },
  {
   "cell_type": "code",
   "execution_count": 6,
   "metadata": {},
   "outputs": [],
   "source": [
    "# Standarkan format struktur sekunder prediksi menggunakan regex\n",
    "df_test_ts115_2['dssp8'] = df_test_ts115_2['dssp8'].str.replace('L', 'C', regex=True)"
   ]
  },
  {
   "cell_type": "code",
   "execution_count": 7,
   "metadata": {},
   "outputs": [
    {
     "data": {
      "text/html": [
       "<div>\n",
       "<style scoped>\n",
       "    .dataframe tbody tr th:only-of-type {\n",
       "        vertical-align: middle;\n",
       "    }\n",
       "\n",
       "    .dataframe tbody tr th {\n",
       "        vertical-align: top;\n",
       "    }\n",
       "\n",
       "    .dataframe thead th {\n",
       "        text-align: right;\n",
       "    }\n",
       "</style>\n",
       "<table border=\"1\" class=\"dataframe\">\n",
       "  <thead>\n",
       "    <tr style=\"text-align: right;\">\n",
       "      <th></th>\n",
       "      <th>dssp8</th>\n",
       "      <th>predicted_dssp8</th>\n",
       "    </tr>\n",
       "  </thead>\n",
       "  <tbody>\n",
       "    <tr>\n",
       "      <th>0</th>\n",
       "      <td>CCHHHHHHHHHHHHHHHHHHHHHHHHHHHCSSCTTCCHHHHHHHHH...</td>\n",
       "      <td>CCHHHHHHHHHHHHHHHHHHHHHHHHHHHHSSSCCHHHHHHHHHHH...</td>\n",
       "    </tr>\n",
       "    <tr>\n",
       "      <th>1</th>\n",
       "      <td>CCCSCEEEEEETTTEEEEECSSEEEEEEHHHHHHHHHHHHHCCHHH...</td>\n",
       "      <td>CCSSCEEEEEETTTEEEEECSSEEEEEEHHHHHHHHHHHHHCCHHH...</td>\n",
       "    </tr>\n",
       "    <tr>\n",
       "      <th>2</th>\n",
       "      <td>CCCCCHHHHHHHHHHHHHHSTTSCCEECSCSTTGGGGSTTEEEEEC...</td>\n",
       "      <td>CCCCCHHHHHHHHHHHHHHCTTSSCEECCCGGGGGGGSTTEEEEEC...</td>\n",
       "    </tr>\n",
       "    <tr>\n",
       "      <th>3</th>\n",
       "      <td>CCCCHHHHHHHHHTTBCSEEECTTSCEEECCHHHHHHHHHHTTCCC...</td>\n",
       "      <td>CCCHHHHHHHHHHTTBCSEEECTTSCEEECCHHHHHHHHHHTTCCC...</td>\n",
       "    </tr>\n",
       "    <tr>\n",
       "      <th>4</th>\n",
       "      <td>CCCCCCCCCCCCCCCCCCCCCCCEEEEECSSSTTTHHHHHHHHHHT...</td>\n",
       "      <td>CCCCCCCCCCCCCCCCTTSCCCCEEEEEESSSGGGHHHHHHHHHHT...</td>\n",
       "    </tr>\n",
       "    <tr>\n",
       "      <th>...</th>\n",
       "      <td>...</td>\n",
       "      <td>...</td>\n",
       "    </tr>\n",
       "    <tr>\n",
       "      <th>109</th>\n",
       "      <td>CCCCCCCCCCTTTBSSSSCBTTTTBCCBCTTEESTTSCEECTTEEB...</td>\n",
       "      <td>CCCCCCCCCCTTTEEEEEECTTTCCEEECTTEESTTSCEECTTEEB...</td>\n",
       "    </tr>\n",
       "    <tr>\n",
       "      <th>110</th>\n",
       "      <td>CCCCHHHHHHHHHHHHHHHHCCCCCCCCCCCCCCCHHHHHHHHHHH...</td>\n",
       "      <td>CHHHHHHHHHHHHHHHHHHHHHHHGGGSCCCCCCTHHHHHHHHHHH...</td>\n",
       "    </tr>\n",
       "    <tr>\n",
       "      <th>111</th>\n",
       "      <td>CCCCCCCCCCCCCCCHHHHHHHHHHHHHHHHGGGGGCCCHHHHHHH...</td>\n",
       "      <td>CCCCCCCCCCCCCCCHHHHHHHHHHHHHHHHGGGGGCCCHHHHHHH...</td>\n",
       "    </tr>\n",
       "    <tr>\n",
       "      <th>112</th>\n",
       "      <td>CCCCCCCCCCHHHHHHTSSSCEEEEECCSCCTTCHHHHHHHTTTCS...</td>\n",
       "      <td>CHHHHTTCCCHHHHHHTSSSCEEEEECCSCCTTCHHHHHHHTTTCS...</td>\n",
       "    </tr>\n",
       "    <tr>\n",
       "      <th>113</th>\n",
       "      <td>CCCCCCCCCCCCCCCCCCCCCCCHHHHHHHHHHCEEEEESCCTTST...</td>\n",
       "      <td>CCCCCCCCCCCCCCCCCCCCCCCHHHHHHHHHHCEEEEESCCTTST...</td>\n",
       "    </tr>\n",
       "  </tbody>\n",
       "</table>\n",
       "<p>114 rows × 2 columns</p>\n",
       "</div>"
      ],
      "text/plain": [
       "                                                 dssp8  \\\n",
       "0    CCHHHHHHHHHHHHHHHHHHHHHHHHHHHCSSCTTCCHHHHHHHHH...   \n",
       "1    CCCSCEEEEEETTTEEEEECSSEEEEEEHHHHHHHHHHHHHCCHHH...   \n",
       "2    CCCCCHHHHHHHHHHHHHHSTTSCCEECSCSTTGGGGSTTEEEEEC...   \n",
       "3    CCCCHHHHHHHHHTTBCSEEECTTSCEEECCHHHHHHHHHHTTCCC...   \n",
       "4    CCCCCCCCCCCCCCCCCCCCCCCEEEEECSSSTTTHHHHHHHHHHT...   \n",
       "..                                                 ...   \n",
       "109  CCCCCCCCCCTTTBSSSSCBTTTTBCCBCTTEESTTSCEECTTEEB...   \n",
       "110  CCCCHHHHHHHHHHHHHHHHCCCCCCCCCCCCCCCHHHHHHHHHHH...   \n",
       "111  CCCCCCCCCCCCCCCHHHHHHHHHHHHHHHHGGGGGCCCHHHHHHH...   \n",
       "112  CCCCCCCCCCHHHHHHTSSSCEEEEECCSCCTTCHHHHHHHTTTCS...   \n",
       "113  CCCCCCCCCCCCCCCCCCCCCCCHHHHHHHHHHCEEEEESCCTTST...   \n",
       "\n",
       "                                       predicted_dssp8  \n",
       "0    CCHHHHHHHHHHHHHHHHHHHHHHHHHHHHSSSCCHHHHHHHHHHH...  \n",
       "1    CCSSCEEEEEETTTEEEEECSSEEEEEEHHHHHHHHHHHHHCCHHH...  \n",
       "2    CCCCCHHHHHHHHHHHHHHCTTSSCEECCCGGGGGGGSTTEEEEEC...  \n",
       "3    CCCHHHHHHHHHHTTBCSEEECTTSCEEECCHHHHHHHHHHTTCCC...  \n",
       "4    CCCCCCCCCCCCCCCCTTSCCCCEEEEEESSSGGGHHHHHHHHHHT...  \n",
       "..                                                 ...  \n",
       "109  CCCCCCCCCCTTTEEEEEECTTTCCEEECTTEESTTSCEECTTEEB...  \n",
       "110  CHHHHHHHHHHHHHHHHHHHHHHHGGGSCCCCCCTHHHHHHHHHHH...  \n",
       "111  CCCCCCCCCCCCCCCHHHHHHHHHHHHHHHHGGGGGCCCHHHHHHH...  \n",
       "112  CHHHHTTCCCHHHHHHTSSSCEEEEECCSCCTTCHHHHHHHTTTCS...  \n",
       "113  CCCCCCCCCCCCCCCCCCCCCCCHHHHHHHHHHCEEEEESCCTTST...  \n",
       "\n",
       "[114 rows x 2 columns]"
      ]
     },
     "execution_count": 7,
     "metadata": {},
     "output_type": "execute_result"
    }
   ],
   "source": [
    "# Merge the two DataFrames on the 'id' column\n",
    "df_merged = pd.merge(df_ts115_2, df_test_ts115_2, on='id', suffixes=('_predicted', '_actual'))\n",
    "\n",
    "df_merged[['dssp8', 'predicted_dssp8']]"
   ]
  },
  {
   "cell_type": "markdown",
   "metadata": {},
   "source": [
    "## Definisi fungsi"
   ]
  },
  {
   "cell_type": "markdown",
   "metadata": {},
   "source": [
    "$$Q_s =  \\frac{∑^s_{i=1} C_i}{n}×100\\%$$\n",
    "\n",
    "Dengan:\n",
    "- $C_i$ = Jumlah residu yang terprediksi dengan benar\n",
    "- $n$ = Jumlah residu yang terprediksi\n",
    "- $s$ = Jumlah State yang ada (8 state atau 3 state)"
   ]
  },
  {
   "cell_type": "code",
   "execution_count": 8,
   "metadata": {},
   "outputs": [],
   "source": [
    "def calculate_q_score(predicted, actual):\n",
    "    \"\"\"\n",
    "    Menghitung Q_s untuk satu protein.\n",
    "    \n",
    "    Args:\n",
    "        predicted (str): Struktur sekunder yang diprediksi.\n",
    "        actual (str): Struktur sekunder yang sebenarnya.\n",
    "    \n",
    "    Returns:\n",
    "        float: Nilai Q_s dalam persen.\n",
    "    \"\"\"\n",
    "    correct = sum(1 for p, a in zip(predicted, actual) if p == a)\n",
    "    total = len(actual)\n",
    "    return (correct / total) * 100 if total > 0 else 0"
   ]
  },
  {
   "cell_type": "markdown",
   "metadata": {},
   "source": [
    "$$Q_{avg} = \\frac{\\sum{Q_s}}{n_{protein}}$$\n",
    "\n",
    "Dengan:\n",
    "- $Q_{avg}$ = Akurasi skor-Q rata-rata dari semua protein\n",
    "- $Q_s$ = Akurasi skor-Q dari setiap protein\n",
    "- $n_{protein}$ = Jumlah protein yang diuji"
   ]
  },
  {
   "cell_type": "code",
   "execution_count": 9,
   "metadata": {},
   "outputs": [],
   "source": [
    "def calculate_q_average(predicted_list, actual_list):\n",
    "    \"\"\"\n",
    "    Menghitung Q_avg untuk semua protein dalam dataset.\n",
    "    \n",
    "    Args:\n",
    "        predicted_list (list of str): Daftar struktur sekunder yang diprediksi.\n",
    "        actual_list (list of str): Daftar struktur sekunder yang sebenarnya.\n",
    "    \n",
    "    Returns:\n",
    "        float: Nilai Q_avg dalam persen.\n",
    "    \"\"\"\n",
    "    q_scores = [calculate_q_score(predicted, actual) for predicted, actual in zip(predicted_list, actual_list)]\n",
    "    return sum(q_scores) / len(q_scores) if q_scores else 0"
   ]
  },
  {
   "cell_type": "code",
   "execution_count": 10,
   "metadata": {},
   "outputs": [],
   "source": [
    "def convert_8state_to_3state(ss):\n",
    "    ss_3state = \"\"\n",
    "    for s in ss:\n",
    "        if s in ['H', 'G', 'I']:\n",
    "            ss_3state += 'H'\n",
    "        elif s in ['E', 'B']:\n",
    "            ss_3state += 'E'\n",
    "        else:\n",
    "            ss_3state += 'C'\n",
    "    return ss_3state"
   ]
  },
  {
   "cell_type": "code",
   "execution_count": 11,
   "metadata": {},
   "outputs": [],
   "source": [
    "def calculate_metrics(y_true, y_pred, classes, csv_path=None):\n",
    "    \"\"\"\n",
    "    Calculate precision, recall, and F1-score for given classes and optionally save to CSV.\n",
    "\n",
    "    Args:\n",
    "        y_true (list): True labels (flattened).\n",
    "        y_pred (list): Predicted labels (flattened).\n",
    "        classes (list): List of class labels.\n",
    "        csv_path (str, optional): Path to save the metrics DataFrame as CSV.\n",
    "\n",
    "    Returns:\n",
    "        pd.DataFrame: DataFrame containing metrics per class and average.\n",
    "    \"\"\"\n",
    "\n",
    "    min_len = min(len(y_true), len(y_pred))\n",
    "    y_true = y_true[:min_len]\n",
    "    y_pred = y_pred[:min_len]\n",
    "\n",
    "    precision, recall, f1, _ = precision_recall_fscore_support(\n",
    "        y_true, y_pred, labels=classes, zero_division=0\n",
    "    )\n",
    "\n",
    "    metrics_df = pd.DataFrame({\n",
    "        'Class': classes,\n",
    "        'Precision': precision,\n",
    "        'Recall': recall,\n",
    "        'F1-Score': f1\n",
    "    })\n",
    "\n",
    "    avg_row = pd.DataFrame({\n",
    "        'Class': ['Average'],\n",
    "        'Precision': [precision.mean()],\n",
    "        'Recall': [recall.mean()],\n",
    "        'F1-Score': [f1.mean()]\n",
    "    })\n",
    "\n",
    "    metrics_df = pd.concat([metrics_df, avg_row], ignore_index=True)\n",
    "\n",
    "    if csv_path:\n",
    "        metrics_df.to_csv(csv_path, index=False)\n",
    "\n",
    "    return metrics_df"
   ]
  },
  {
   "cell_type": "markdown",
   "metadata": {},
   "source": [
    "## Akurasi Q8"
   ]
  },
  {
   "cell_type": "code",
   "execution_count": 12,
   "metadata": {},
   "outputs": [
    {
     "name": "stdout",
     "output_type": "stream",
     "text": [
      "Q8_avg: 86.38%\n"
     ]
    }
   ],
   "source": [
    "predicted_list = df_merged['predicted_dssp8'].tolist()  # Struktur sekunder yang diprediksi\n",
    "actual_list = df_merged['dssp8'].tolist()  # Struktur sekunder yang sebenarnya\n",
    "\n",
    "q8_avg = calculate_q_average(predicted_list, actual_list)\n",
    "print(f\"Q8_avg: {q8_avg:.2f}%\")"
   ]
  },
  {
   "cell_type": "markdown",
   "metadata": {},
   "source": [
    "## Precision, Recall, dan F1-Score"
   ]
  },
  {
   "cell_type": "code",
   "execution_count": 13,
   "metadata": {},
   "outputs": [
    {
     "name": "stdout",
     "output_type": "stream",
     "text": [
      "     Class  Precision    Recall  F1-Score\n",
      "0        C   0.929006  0.755143  0.833100\n",
      "1        B   0.760417  0.742373  0.751286\n",
      "2        E   0.921708  0.975808  0.947987\n",
      "3        G   0.720069  0.818805  0.766269\n",
      "4        I   0.791411  0.741379  0.765579\n",
      "5        H   0.905242  0.970110  0.936554\n",
      "6        S   0.740500  0.731016  0.735727\n",
      "7        T   0.742308  0.814060  0.776530\n",
      "8  Average   0.813833  0.818587  0.814129\n"
     ]
    }
   ],
   "source": [
    "# Define the 8 DSSP classes\n",
    "dssp8_classes = ['C', 'B', 'E', 'G', 'I', 'H', 'S', 'T']\n",
    "\n",
    "# Flatten all predicted and actual secondary structure strings into lists of single characters\n",
    "y_pred = [ss for seq in df_merged['predicted_dssp8'] for ss in seq]\n",
    "y_true = [ss for seq in df_merged['dssp8'] for ss in seq]\n",
    "\n",
    "metrics_df = calculate_metrics(y_true, y_pred, dssp8_classes, '../Data/Results/ts115_2_metrics.csv')\n",
    "print(metrics_df)"
   ]
  },
  {
   "cell_type": "markdown",
   "metadata": {},
   "source": [
    "## Akurasi Q3"
   ]
  },
  {
   "cell_type": "code",
   "execution_count": 14,
   "metadata": {},
   "outputs": [
    {
     "name": "stdout",
     "output_type": "stream",
     "text": [
      "Q3_avg: 91.71%\n"
     ]
    }
   ],
   "source": [
    "predicted_list_3state = [convert_8state_to_3state(ss) for ss in predicted_list]\n",
    "actual_list_3state = [convert_8state_to_3state(ss) for ss in actual_list]\n",
    "\n",
    "q3_avg = calculate_q_average(predicted_list_3state, actual_list_3state)\n",
    "print(f\"Q3_avg: {q3_avg:.2f}%\")"
   ]
  },
  {
   "cell_type": "markdown",
   "metadata": {},
   "source": [
    "## Precision, Recall, dan F1-Score"
   ]
  },
  {
   "cell_type": "code",
   "execution_count": 15,
   "metadata": {},
   "outputs": [
    {
     "name": "stdout",
     "output_type": "stream",
     "text": [
      "     Class  Precision    Recall  F1-Score\n",
      "0        H   0.901630  0.969649  0.934403\n",
      "1        E   0.920917  0.970776  0.945189\n",
      "2        C   0.959342  0.870896  0.912982\n",
      "3  Average   0.927296  0.937107  0.930858\n"
     ]
    }
   ],
   "source": [
    "# Define DSSP 3-state classes\n",
    "dssp3_classes = ['H', 'E', 'C']\n",
    "\n",
    "# Flatten all predicted and actual secondary structure strings into lists of single characters\n",
    "y_pred3 = [ss for seq in predicted_list_3state for ss in seq]\n",
    "y_true3 = [ss for seq in actual_list_3state for ss in seq]\n",
    "\n",
    "metrics_df_3state = calculate_metrics(y_true3, y_pred3, dssp3_classes, '../Data/Results/ts115_2_metrics_3state.csv')\n",
    "print(metrics_df_3state)"
   ]
  },
  {
   "cell_type": "markdown",
   "metadata": {},
   "source": [
    "# Visualisasi"
   ]
  },
  {
   "cell_type": "markdown",
   "metadata": {},
   "source": [
    "## 8-State"
   ]
  },
  {
   "cell_type": "code",
   "execution_count": 16,
   "metadata": {},
   "outputs": [
    {
     "data": {
      "image/png": "[encoded data removed]",
      "text/plain": [
       "<Figure size 2000x200 with 1 Axes>"
      ]
     },
     "metadata": {},
     "output_type": "display_data"
    },
    {
     "data": {
      "image/png": "[encoded data removed]",
      "text/plain": [
       "<Figure size 2000x200 with 1 Axes>"
      ]
     },
     "metadata": {},
     "output_type": "display_data"
    }
   ],
   "source": [
    "# Get the residue of the first protein\n",
    "residu = df_ts115_2['residue'].iloc[0]\n",
    "\n",
    "# Get the first protein's dssp8 predicted and actual secondary structure\n",
    "predicted_ss = df_merged['predicted_dssp8'].iloc[0]\n",
    "actual_ss = df_merged['dssp8'].iloc[0]\n",
    "\n",
    "# Define colors for secondary structure elements using 8-state DSSP\n",
    "colors = {'H': 'red', 'B': 'blue', 'E': 'blue', 'G': 'purple', 'I': 'orange', 'T': 'green', 'S': 'yellow', 'C': 'gray'}\n",
    "# Plot\n",
    "fig, ax = plt.subplots(figsize=(20, 2))\n",
    "ax.bar(range(len(actual_ss)), [1]*len(actual_ss), color=[colors[ss] for ss in actual_ss])\n",
    "ax.set_xticks(range(len(actual_ss)))\n",
    "ax.set_xticklabels(residu, rotation=0, fontsize=10)\n",
    "ax.set_yticks([])\n",
    "ax.set_title(\"Real Secondary Structure\")\n",
    "\n",
    "fig, ax = plt.subplots(figsize=(20, 2))\n",
    "ax.bar(range(len(predicted_ss)), [1]*len(predicted_ss), color=[colors[predicted_ss] for predicted_ss in predicted_ss])\n",
    "ax.set_xticks(range(len(predicted_ss)))\n",
    "ax.set_xticklabels(residu, rotation=0, fontsize=10)\n",
    "ax.set_yticks([])\n",
    "ax.set_title(\"Predicted Secondary Structure\")\n",
    "\n",
    "plt.show()"
   ]
  },
  {
   "cell_type": "code",
   "execution_count": 17,
   "metadata": {},
   "outputs": [
    {
     "name": "stdout",
     "output_type": "stream",
     "text": [
      "Q8 for the first protein: 82.86%\n"
     ]
    }
   ],
   "source": [
    "# Akurasi Q8 protein pertama\n",
    "q8_first_protein = calculate_q_score(predicted_ss, actual_ss)\n",
    "print(f\"Q8 for the first protein: {q8_first_protein:.2f}%\")"
   ]
  },
  {
   "cell_type": "markdown",
   "metadata": {},
   "source": [
    "## 3-State"
   ]
  },
  {
   "cell_type": "code",
   "execution_count": 18,
   "metadata": {},
   "outputs": [
    {
     "data": {
      "image/png": "[encoded data removed]",
      "text/plain": [
       "<Figure size 2000x200 with 1 Axes>"
      ]
     },
     "metadata": {},
     "output_type": "display_data"
    },
    {
     "data": {
      "image/png": "[encoded data removed]",
      "text/plain": [
       "<Figure size 2000x200 with 1 Axes>"
      ]
     },
     "metadata": {},
     "output_type": "display_data"
    }
   ],
   "source": [
    "# Get the residue of the first protein\n",
    "residu = df_ts115_2['residue'].iloc[0]\n",
    "\n",
    "# Get the first protein's dssp3 predicted and actual secondary structure\n",
    "predicted_ss = predicted_list_3state[0]\n",
    "actual_ss = actual_list_3state[0]\n",
    "\n",
    "# Define colors for secondary structure elements using 3-state DSSP\n",
    "colors = {'H': 'red', 'E': 'blue', 'C': 'gray'}\n",
    "\n",
    "# Plot\n",
    "fig, ax = plt.subplots(figsize=(20, 2))\n",
    "ax.bar(range(len(actual_ss)), [1]*len(actual_ss), color=[colors[ss] for ss in actual_ss])\n",
    "ax.set_xticks(range(len(actual_ss)))\n",
    "ax.set_xticklabels(residu, rotation=0, fontsize=10)\n",
    "ax.set_yticks([])\n",
    "ax.set_title(\"Real Secondary Structure\")\n",
    "\n",
    "fig, ax = plt.subplots(figsize=(20, 2))\n",
    "ax.bar(range(len(predicted_ss)), [1]*len(predicted_ss), color=[colors[predicted_ss] for predicted_ss in predicted_ss])\n",
    "ax.set_xticks(range(len(predicted_ss)))\n",
    "ax.set_xticklabels(residu, rotation=0, fontsize=10)\n",
    "ax.set_yticks([])\n",
    "ax.set_title(\"Predicted Secondary Structure\")\n",
    "\n",
    "plt.show()"
   ]
  },
  {
   "cell_type": "code",
   "execution_count": 19,
   "metadata": {},
   "outputs": [
    {
     "name": "stdout",
     "output_type": "stream",
     "text": [
      "Q3 for the first protein: 90.00%\n"
     ]
    }
   ],
   "source": [
    "# Akurasi Q3 protein pertama\n",
    "q3 = calculate_q_score(predicted_ss, actual_ss)\n",
    "print(f\"Q3 for the first protein: {q3:.2f}%\")"
   ]
  }
 ],
 "metadata": {
  "kernelspec": {
   "display_name": "Python 3",
   "language": "python",
   "name": "python3"
  },
  "language_info": {
   "codemirror_mode": {
    "name": "ipython",
    "version": 3
   },
   "file_extension": ".py",
   "mimetype": "text/x-python",
   "name": "python",
   "nbconvert_exporter": "python",
   "pygments_lexer": "ipython3",
   "version": "3.10.12"
  }
 },
 "nbformat": 4,
 "nbformat_minor": 2
}
