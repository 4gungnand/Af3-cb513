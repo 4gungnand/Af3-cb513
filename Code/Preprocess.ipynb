{
 "cells": [
  {
   "cell_type": "markdown",
   "metadata": {},
   "source": [
    "# Pre-process CB513"
   ]
  },
  {
   "cell_type": "code",
   "execution_count": 2,
   "metadata": {},
   "outputs": [],
   "source": [
    "# Import necessary libraries\n",
    "import gzip\n",
    "import numpy as np\n",
    "import matplotlib.pyplot as plt\n",
    "import pandas as pd"
   ]
  },
  {
   "cell_type": "code",
   "execution_count": 4,
   "metadata": {},
   "outputs": [],
   "source": [
    "# Define the directory for the dataset\n",
    "dataset_dir = '../Data/Original/'"
   ]
  },
  {
   "cell_type": "markdown",
   "metadata": {},
   "source": [
    "## Define functions and arrays"
   ]
  },
  {
   "cell_type": "markdown",
   "metadata": {},
   "source": [
    "## Preprocess CB513"
   ]
  },
  {
   "cell_type": "code",
   "execution_count": null,
   "metadata": {},
   "outputs": [],
   "source": [
    "# Define the array of characters for amino acid residues\n",
    "amino_acid_residues = [\n",
    "    'A', 'C', 'E', 'D', 'G', \n",
    "    'F', 'I', 'H', 'K', 'M', \n",
    "    'L', 'N', 'Q', 'P', 'S', \n",
    "    'R', 'T', 'W', 'V', 'Y', \n",
    "    'X', '_'\n",
    "]\n",
    "\n",
    "# Define the array of characters for secondary structure labels\n",
    "secondary_structure_labels = ['L', 'B', 'E', 'G', 'I', 'H', 'S', 'T', '_']\n",
    "# Function to convert one-hot encoded residue to string and clean trailing underscores\n",
    "def residue_to_string(residue):\n",
    "    indices = np.argmax(residue[:, :22], axis=-1)\n",
    "    residue_str = ''.join([amino_acid_residues[i] for i in indices])\n",
    "    residue_str = residue_str.rstrip('_')  # Remove trailing underscores\n",
    "    return residue_str\n",
    "\n",
    "# Function to convert one-hot encoded secondary structure to string\n",
    "def secondary_structure_to_string(secondary_structure):\n",
    "    indices = np.argmax(secondary_structure[:, 22:31], axis=-1)\n",
    "    ss_str = ''.join([secondary_structure_labels[i] for i in indices])\n",
    "    ss_str = ss_str.rstrip('_')  # Remove trailing underscores\n",
    "    return ss_str\n",
    "\n",
    "# Function to convert one-hot encoded 8-state secondary structure to 3-state\n",
    "def convert_8state_to_3state(ss):\n",
    "    ss_3state = \"\"\n",
    "    for s in ss:\n",
    "        if s in ['H', 'G', 'I']:\n",
    "            ss_3state += 'H'\n",
    "        elif s in ['E', 'B']:\n",
    "            ss_3state += 'E'\n",
    "        else:\n",
    "            ss_3state += 'C'\n",
    "    return ss_3state"
   ]
  },
  {
   "cell_type": "code",
   "execution_count": null,
   "metadata": {},
   "outputs": [
    {
     "name": "stderr",
     "output_type": "stream",
     "text": [
      "/tmp/ipykernel_4905/2510070811.py:11: UserWarning: Reading `.npy` or `.npz` file required additional header parsing as it was created on Python 2. Save the file again to speed up loading and avoid this warning.\n",
      "  cb513_data = np.load(f)\n"
     ]
    }
   ],
   "source": [
    "def process_protein_data_cb513(input_file, output_file):\n",
    "    \"\"\"\n",
    "    Preprocess the CB513 dataset by reshaping, converting to string representations,\n",
    "    and restructuring the data.\n",
    "    \"\"\"\n",
    "    # Load CB513 data from the compressed numpy file\n",
    "    with gzip.GzipFile(input_file, \"r\") as f:\n",
    "        cb513_data = np.load(f)\n",
    "\n",
    "    # Reshape the data\n",
    "    cb513_reshaped = cb513_data.reshape((514, 700, 57))\n",
    "\n",
    "    preprocessed_data = []\n",
    "\n",
    "    for protein_features in cb513_reshaped:\n",
    "        # Convert features to string representations\n",
    "        residue_sequence = residue_to_string(protein_features)\n",
    "        residue_length = len(residue_sequence)\n",
    "        dssp8_sequence = secondary_structure_to_string(protein_features)\n",
    "        dssp3_sequence = convert_8state_to_3state(dssp8_sequence)\n",
    "\n",
    "        # Append the processed data to the list\n",
    "        preprocessed_data.append({\n",
    "            'length': residue_length,\n",
    "            'residue': residue_sequence,\n",
    "            'dssp8': dssp8_sequence,\n",
    "            'dssp3': dssp3_sequence\n",
    "        })\n",
    "\n",
    "    df = pd.DataFrame(preprocessed_data)\n",
    "    df.to_csv(output_file, index_label=\"id\")\n",
    "\n",
    "\n",
    "input_dir = dataset_dir + 'cb513+profile_split1.npy.gz'\n",
    "output_dir = dataset_dir + 'CB513_preprocessed_2.csv'\n",
    "process_protein_data_cb513(input_dir, output_dir)"
   ]
  },
  {
   "cell_type": "markdown",
   "metadata": {},
   "source": [
    "## Preprocess CASP14"
   ]
  },
  {
   "cell_type": "code",
   "execution_count": null,
   "metadata": {},
   "outputs": [],
   "source": [
    "def process_protein_data_casp14(input_file, output_file):\n",
    "    \"\"\"\n",
    "    Preprocess the CASP14 dataset by combining sequences, \n",
    "    restructuring the data.\n",
    "    \"\"\"\n",
    "    data = pd.read_csv(input_file)\n",
    "\n",
    "    # Group the data by PDB code\n",
    "    grouped = data.groupby('pdb')\n",
    "\n",
    "    processed_data = []\n",
    "    \n",
    "    for _, group in grouped:\n",
    "        # Combine the amino acid and secondary structure sequences\n",
    "        combined_aa = ''.join(group['aa'].tolist())\n",
    "        combined_q8 = ''.join(group['q8'].tolist())\n",
    "        combined_q3 = ''.join(group['q3'].tolist())\n",
    "        protein_length = len(combined_aa)\n",
    "\n",
    "        # Append the processed data to the list\n",
    "        processed_data.append({\n",
    "            'length': protein_length,\n",
    "            'residue': combined_aa,\n",
    "            'dssp8': combined_q8,\n",
    "            'dssp3': combined_q3\n",
    "        })\n",
    "\n",
    "    processed_df = pd.DataFrame(processed_data)\n",
    "    processed_df.to_csv(output_file, index_label=\"id\")\n",
    "\n",
    "\n",
    "input_file = dataset_dir + 'CASP14_dataset.csv'\n",
    "output_file = dataset_dir + 'CASP14_preprocessed.csv'\n",
    "process_protein_data_casp14(input_file, output_file)"
   ]
  },
  {
   "cell_type": "markdown",
   "metadata": {},
   "source": [
    "## Preprocess TS115"
   ]
  },
  {
   "cell_type": "code",
   "execution_count": null,
   "metadata": {},
   "outputs": [],
   "source": [
    "def process_protein_data_ts115(input_file, output_file):\n",
    "    \"\"\"\n",
    "    Preprocess the TS115 dataset by restructuring the data.\n",
    "    \"\"\"\n",
    "    df = pd.read_csv(input_file)\n",
    "\n",
    "    # Preprocess the DataFrame\n",
    "    df['length'] = df['input'].str.len() \n",
    "    df.rename(columns={'input': 'residue'}, inplace=True)\n",
    "    df = df[['length', 'residue', 'dssp8', 'dssp3']] \n",
    "\n",
    "    df.to_csv(output_file, index_label=\"id\")\n",
    "\n",
    "input_file = dataset_dir + 'TS115.csv'\n",
    "output_file = dataset_dir + 'TS115_preprocessed.csv'\n",
    "process_protein_data_ts115(input_file, output_file)"
   ]
  },
  {
   "cell_type": "markdown",
   "metadata": {},
   "source": [
    "## Preprocess CASP12"
   ]
  },
  {
   "cell_type": "code",
   "execution_count": 6,
   "metadata": {},
   "outputs": [],
   "source": [
    "def process_protein_data_CASP12(input_file, output_file):\n",
    "    \"\"\"\n",
    "    Preprocess the CASP12 dataset by cleaning, \n",
    "    restructuring the data, and replacing unknown residues.\n",
    "    \"\"\"\n",
    "    df = pd.read_csv(input_file)\n",
    "\n",
    "    # Preprocess the DataFrame\n",
    "    df['length'] = df['seq'].str.len()\n",
    "    df.rename(columns={'seq': 'residue', 'sst3': 'dssp3', 'sst8':'dssp8'}, inplace=True) \n",
    "    df['residue'] = df['residue'].str.replace('X', 'A') # Replace X with A for compatibility\n",
    "\n",
    "    df = df[['length', 'residue', 'dssp8', 'dssp3']]\n",
    "\n",
    "    # Save\n",
    "    df.to_csv(output_file, index_label=\"id\")\n",
    "\n",
    "input_file = dataset_dir + 'CASP12.csv'\n",
    "output_file = dataset_dir + 'CASP12_preprocessed.csv'\n",
    "process_protein_data_CASP12(input_file, output_file)"
   ]
  }
 ],
 "metadata": {
  "kernelspec": {
   "display_name": "Python 3",
   "language": "python",
   "name": "python3"
  },
  "language_info": {
   "codemirror_mode": {
    "name": "ipython",
    "version": 3
   },
   "file_extension": ".py",
   "mimetype": "text/x-python",
   "name": "python",
   "nbconvert_exporter": "python",
   "pygments_lexer": "ipython3",
   "version": "3.10.12"
  }
 },
 "nbformat": 4,
 "nbformat_minor": 2
}
