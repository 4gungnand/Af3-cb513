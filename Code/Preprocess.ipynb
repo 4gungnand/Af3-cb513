{
 "cells": [
  {
   "cell_type": "markdown",
   "metadata": {},
   "source": [
    "# Pre-process CB513"
   ]
  },
  {
   "cell_type": "code",
   "execution_count": 1,
   "metadata": {},
   "outputs": [],
   "source": [
    "# Import necessary libraries\n",
    "import gzip\n",
    "import numpy as np\n",
    "import matplotlib.pyplot as plt\n",
    "import pandas as pd"
   ]
  },
  {
   "cell_type": "code",
   "execution_count": 2,
   "metadata": {},
   "outputs": [
    {
     "name": "stdout",
     "output_type": "stream",
     "text": [
      "(514, 39900)\n",
      "(514, 700, 57)\n",
      "[[0.         0.         0.         ... 0.26894142 0.9234378  0.        ]\n",
      " [0.         0.         0.         ... 0.11920292 0.00919371 0.        ]\n",
      " [0.         0.         0.         ... 0.5        0.02508696 0.        ]\n",
      " ...\n",
      " [0.         0.         0.         ... 0.         0.         1.        ]\n",
      " [0.         0.         0.         ... 0.         0.         1.        ]\n",
      " [0.         0.         0.         ... 0.         0.         1.        ]]\n",
      "(700, 57)\n"
     ]
    },
    {
     "name": "stderr",
     "output_type": "stream",
     "text": [
      "C:\\Users\\LENOVO\\AppData\\Local\\Temp\\ipykernel_21340\\2274349490.py:3: UserWarning: Reading `.npy` or `.npz` file required additional header parsing as it was created on Python 2. Save the file again to speed up loading and avoid this warning.\n",
      "  cb513 = np.load(f)\n"
     ]
    }
   ],
   "source": [
    "# Load cb513 data from compressed numpy file\n",
    "f = gzip.GzipFile('../Data/Original/cb513+profile_split1.npy.gz', \"r\")\n",
    "cb513 = np.load(f)\n",
    "f.close()\n",
    "\n",
    "print(cb513.shape)\n",
    "# convert all to 700 x 57\n",
    "cb513_reshaped = cb513.reshape((514, 700, 57))\n",
    "print(cb513_reshaped.shape)\n",
    "\n",
    "# example of the first protein in the reshaped data\n",
    "print(cb513_reshaped[0])\n",
    "print(cb513_reshaped[0].shape)"
   ]
  },
  {
   "cell_type": "code",
   "execution_count": 3,
   "metadata": {},
   "outputs": [],
   "source": [
    "# Define the array of characters for amino acid residues\n",
    "amino_acid_residues = [\n",
    "    'A', 'C', 'E', 'D', 'G', \n",
    "    'F', 'I', 'H', 'K', 'M', \n",
    "    'L', 'N', 'Q', 'P', 'S', \n",
    "    'R', 'T', 'W', 'V', 'Y', \n",
    "    'X', '_'\n",
    "]\n",
    "\n",
    "# Define the array of characters for secondary structure labels\n",
    "secondary_structure_labels = ['L', 'B', 'E', 'G', 'I', 'H', 'S', 'T', '_']\n",
    "\n",
    "# Define the array of characters for N- and C- terminals\n",
    "terminals = ['N', 'C']\n",
    "\n",
    "# Define the array of characters for sequence profile (ACDEF,GHIKL,MNPQR,STVWX,Y)\n",
    "sequence_profile_residues = [\n",
    "    'A', 'C', 'D', 'E', 'F',\n",
    "    'G', 'H', 'I', 'K', 'L',\n",
    "    'M', 'N', 'P', 'Q', 'R', \n",
    "    'S', 'T', 'V', 'W', 'X', \n",
    "    'Y', '_'\n",
    "]"
   ]
  },
  {
   "cell_type": "code",
   "execution_count": 4,
   "metadata": {},
   "outputs": [
    {
     "name": "stdout",
     "output_type": "stream",
     "text": [
      "Residue: VPSLATISLENSWSGLSKQIQLAQGNNGIFRTPIVLVDNKGNRVQITNVTSKVVTSNIQLLLNTRNI\n",
      "Secondary Structure: LLLHHHHHHHHHHHHHHHHHHHHTTTTTEEEEEEEELLSSSSLEEEEETTSHHHHHTBLLBLLGGGL\n",
      "Terminals: NC\n",
      "Solvent Accessibility: Relative: [0.0, 0.0, 0.0, 0.0, 0.0, 0.0, 0.0, 0.0, 0.0, 0.0, 0.0, 0.0, 0.0, 0.0, 0.0, 0.0, 0.0, 0.0, 0.0, 0.0, 0.0, 0.0, 0.0, 0.0, 0.0, 0.0, 0.0, 0.0, 0.0, 0.0, 0.0, 0.0, 0.0, 0.0, 0.0, 0.0, 0.0, 0.0, 0.0, 0.0, 0.0, 0.0, 0.0, 0.0, 0.0, 0.0, 0.0, 0.0, 0.0, 0.0, 0.0, 0.0, 0.0, 0.0, 0.0, 0.0, 0.0, 0.0, 0.0, 0.0, 0.0, 0.0, 0.0, 0.0, 0.0, 0.0, 0.0, 0.0, 0.0, 0.0, 0.0, 0.0, 0.0, 0.0, 0.0, 0.0, 0.0, 0.0, 0.0, 0.0, 0.0, 0.0, 0.0, 0.0, 0.0, 0.0, 0.0, 0.0, 0.0, 0.0, 0.0, 0.0, 0.0, 0.0, 0.0, 0.0, 0.0, 0.0, 0.0, 0.0, 0.0, 0.0, 0.0, 0.0, 0.0, 0.0, 0.0, 0.0, 0.0, 0.0, 0.0, 0.0, 0.0, 0.0, 0.0, 0.0, 0.0, 0.0, 0.0, 0.0, 0.0, 0.0, 0.0, 0.0, 0.0, 0.0, 0.0, 0.0, 0.0, 0.0, 0.0, 0.0, 0.0, 0.0, 0.0, 0.0, 0.0, 0.0, 0.0, 0.0, 0.0, 0.0, 0.0, 0.0, 0.0, 0.0, 0.0, 0.0, 0.0, 0.0, 0.0, 0.0, 0.0, 0.0, 0.0, 0.0, 0.0, 0.0, 0.0, 0.0, 0.0, 0.0, 0.0, 0.0, 0.0, 0.0, 0.0, 0.0, 0.0, 0.0, 0.0, 0.0, 0.0, 0.0, 0.0, 0.0, 0.0, 0.0, 0.0, 0.0, 0.0, 0.0, 0.0, 0.0, 0.0, 0.0, 0.0, 0.0, 0.0, 0.0, 0.0, 0.0, 0.0, 0.0, 0.0, 0.0, 0.0, 0.0, 0.0, 0.0, 0.0, 0.0, 0.0, 0.0, 0.0, 0.0, 0.0, 0.0, 0.0, 0.0, 0.0, 0.0, 0.0, 0.0, 0.0, 0.0, 0.0, 0.0, 0.0, 0.0, 0.0, 0.0, 0.0, 0.0, 0.0, 0.0, 0.0, 0.0, 0.0, 0.0, 0.0, 0.0, 0.0, 0.0, 0.0, 0.0, 0.0, 0.0, 0.0, 0.0, 0.0, 0.0, 0.0, 0.0, 0.0, 0.0, 0.0, 0.0, 0.0, 0.0, 0.0, 0.0, 0.0, 0.0, 0.0, 0.0, 0.0, 0.0, 0.0, 0.0, 0.0, 0.0, 0.0, 0.0, 0.0, 0.0, 0.0, 0.0, 0.0, 0.0, 0.0, 0.0, 0.0, 0.0, 0.0, 0.0, 0.0, 0.0, 0.0, 0.0, 0.0, 0.0, 0.0, 0.0, 0.0, 0.0, 0.0, 0.0, 0.0, 0.0, 0.0, 0.0, 0.0, 0.0, 0.0, 0.0, 0.0, 0.0, 0.0, 0.0, 0.0, 0.0, 0.0, 0.0, 0.0, 0.0, 0.0, 0.0, 0.0, 0.0, 0.0, 0.0, 0.0, 0.0, 0.0, 0.0, 0.0, 0.0, 0.0, 0.0, 0.0, 0.0, 0.0, 0.0, 0.0, 0.0, 0.0, 0.0, 0.0, 0.0, 0.0, 0.0, 0.0, 0.0, 0.0, 0.0, 0.0, 0.0, 0.0, 0.0, 0.0, 0.0, 0.0, 0.0, 0.0, 0.0, 0.0, 0.0, 0.0, 0.0, 0.0, 0.0, 0.0, 0.0, 0.0, 0.0, 0.0, 0.0, 0.0, 0.0, 0.0, 0.0, 0.0, 0.0, 0.0, 0.0, 0.0, 0.0, 0.0, 0.0, 0.0, 0.0, 0.0, 0.0, 0.0, 0.0, 0.0, 0.0, 0.0, 0.0, 0.0, 0.0, 0.0, 0.0, 0.0, 0.0, 0.0, 0.0, 0.0, 0.0, 0.0, 0.0, 0.0, 0.0, 0.0, 0.0, 0.0, 0.0, 0.0, 0.0, 0.0, 0.0, 0.0, 0.0, 0.0, 0.0, 0.0, 0.0, 0.0, 0.0, 0.0, 0.0, 0.0, 0.0, 0.0, 0.0, 0.0, 0.0, 0.0, 0.0, 0.0, 0.0, 0.0, 0.0, 0.0, 0.0, 0.0, 0.0, 0.0, 0.0, 0.0, 0.0, 0.0, 0.0, 0.0, 0.0, 0.0, 0.0, 0.0, 0.0, 0.0, 0.0, 0.0, 0.0, 0.0, 0.0, 0.0, 0.0, 0.0, 0.0, 0.0, 0.0, 0.0, 0.0, 0.0, 0.0, 0.0, 0.0, 0.0, 0.0, 0.0, 0.0, 0.0, 0.0, 0.0, 0.0, 0.0, 0.0, 0.0, 0.0, 0.0, 0.0, 0.0, 0.0, 0.0, 0.0, 0.0, 0.0, 0.0, 0.0, 0.0, 0.0, 0.0, 0.0, 0.0, 0.0, 0.0, 0.0, 0.0, 0.0, 0.0, 0.0, 0.0, 0.0, 0.0, 0.0, 0.0, 0.0, 0.0, 0.0, 0.0, 0.0, 0.0, 0.0, 0.0, 0.0, 0.0, 0.0, 0.0, 0.0, 0.0, 0.0, 0.0, 0.0, 0.0, 0.0, 0.0, 0.0, 0.0, 0.0, 0.0, 0.0, 0.0, 0.0, 0.0, 0.0, 0.0, 0.0, 0.0, 0.0, 0.0, 0.0, 0.0, 0.0, 0.0, 0.0, 0.0, 0.0, 0.0, 0.0, 0.0, 0.0, 0.0, 0.0, 0.0, 0.0, 0.0, 0.0, 0.0, 0.0, 0.0, 0.0, 0.0, 0.0, 0.0, 0.0, 0.0, 0.0, 0.0, 0.0, 0.0, 0.0, 0.0, 0.0, 0.0, 0.0, 0.0, 0.0, 0.0, 0.0, 0.0, 0.0, 0.0, 0.0, 0.0, 0.0, 0.0, 0.0, 0.0, 0.0, 0.0, 0.0, 0.0, 0.0, 0.0, 0.0, 0.0, 0.0, 0.0, 0.0, 0.0, 0.0, 0.0, 0.0, 0.0, 0.0, 0.0, 0.0, 0.0, 0.0, 0.0, 0.0, 0.0, 0.0, 0.0, 0.0, 0.0, 0.0, 0.0, 0.0, 0.0, 0.0, 0.0, 0.0, 0.0, 0.0, 0.0, 0.0, 0.0, 0.0, 0.0, 0.0, 0.0, 0.0, 0.0, 0.0, 0.0, 0.0, 0.0, 0.0, 0.0, 0.0, 0.0, 0.0, 0.0, 0.0, 0.0, 0.0, 0.0, 0.0, 0.0, 0.0, 0.0, 0.0, 0.0, 0.0, 0.0, 0.0, 0.0, 0.0, 0.0, 0.0, 0.0, 0.0, 0.0, 0.0, 0.0, 0.0, 0.0, 0.0, 0.0, 0.0, 0.0, 0.0, 0.0, 0.0, 0.0, 0.0, 0.0, 0.0, 0.0, 0.0, 0.0, 0.0, 0.0, 0.0, 0.0, 0.0, 0.0, 0.0, 0.0, 0.0, 0.0, 0.0, 0.0, 0.0, 0.0, 0.0, 0.0, 0.0, 0.0, 0.0, 0.0, 0.0, 0.0, 0.0, 0.0, 0.0, 0.0, 0.0], Absolute: [0.0, 0.0, 0.0, 0.0, 0.0, 0.0, 0.0, 0.0, 0.0, 0.0, 0.0, 0.0, 0.0, 0.0, 0.0, 0.0, 0.0, 0.0, 0.0, 0.0, 0.0, 0.0, 0.0, 0.0, 0.0, 0.0, 0.0, 0.0, 0.0, 0.0, 0.0, 0.0, 0.0, 0.0, 0.0, 0.0, 0.0, 0.0, 0.0, 0.0, 0.0, 0.0, 0.0, 0.0, 0.0, 0.0, 0.0, 0.0, 0.0, 0.0, 0.0, 0.0, 0.0, 0.0, 0.0, 0.0, 0.0, 0.0, 0.0, 0.0, 0.0, 0.0, 0.0, 0.0, 0.0, 0.0, 0.0, 0.0, 0.0, 0.0, 0.0, 0.0, 0.0, 0.0, 0.0, 0.0, 0.0, 0.0, 0.0, 0.0, 0.0, 0.0, 0.0, 0.0, 0.0, 0.0, 0.0, 0.0, 0.0, 0.0, 0.0, 0.0, 0.0, 0.0, 0.0, 0.0, 0.0, 0.0, 0.0, 0.0, 0.0, 0.0, 0.0, 0.0, 0.0, 0.0, 0.0, 0.0, 0.0, 0.0, 0.0, 0.0, 0.0, 0.0, 0.0, 0.0, 0.0, 0.0, 0.0, 0.0, 0.0, 0.0, 0.0, 0.0, 0.0, 0.0, 0.0, 0.0, 0.0, 0.0, 0.0, 0.0, 0.0, 0.0, 0.0, 0.0, 0.0, 0.0, 0.0, 0.0, 0.0, 0.0, 0.0, 0.0, 0.0, 0.0, 0.0, 0.0, 0.0, 0.0, 0.0, 0.0, 0.0, 0.0, 0.0, 0.0, 0.0, 0.0, 0.0, 0.0, 0.0, 0.0, 0.0, 0.0, 0.0, 0.0, 0.0, 0.0, 0.0, 0.0, 0.0, 0.0, 0.0, 0.0, 0.0, 0.0, 0.0, 0.0, 0.0, 0.0, 0.0, 0.0, 0.0, 0.0, 0.0, 0.0, 0.0, 0.0, 0.0, 0.0, 0.0, 0.0, 0.0, 0.0, 0.0, 0.0, 0.0, 0.0, 0.0, 0.0, 0.0, 0.0, 0.0, 0.0, 0.0, 0.0, 0.0, 0.0, 0.0, 0.0, 0.0, 0.0, 0.0, 0.0, 0.0, 0.0, 0.0, 0.0, 0.0, 0.0, 0.0, 0.0, 0.0, 0.0, 0.0, 0.0, 0.0, 0.0, 0.0, 0.0, 0.0, 0.0, 0.0, 0.0, 0.0, 0.0, 0.0, 0.0, 0.0, 0.0, 0.0, 0.0, 0.0, 0.0, 0.0, 0.0, 0.0, 0.0, 0.0, 0.0, 0.0, 0.0, 0.0, 0.0, 0.0, 0.0, 0.0, 0.0, 0.0, 0.0, 0.0, 0.0, 0.0, 0.0, 0.0, 0.0, 0.0, 0.0, 0.0, 0.0, 0.0, 0.0, 0.0, 0.0, 0.0, 0.0, 0.0, 0.0, 0.0, 0.0, 0.0, 0.0, 0.0, 0.0, 0.0, 0.0, 0.0, 0.0, 0.0, 0.0, 0.0, 0.0, 0.0, 0.0, 0.0, 0.0, 0.0, 0.0, 0.0, 0.0, 0.0, 0.0, 0.0, 0.0, 0.0, 0.0, 0.0, 0.0, 0.0, 0.0, 0.0, 0.0, 0.0, 0.0, 0.0, 0.0, 0.0, 0.0, 0.0, 0.0, 0.0, 0.0, 0.0, 0.0, 0.0, 0.0, 0.0, 0.0, 0.0, 0.0, 0.0, 0.0, 0.0, 0.0, 0.0, 0.0, 0.0, 0.0, 0.0, 0.0, 0.0, 0.0, 0.0, 0.0, 0.0, 0.0, 0.0, 0.0, 0.0, 0.0, 0.0, 0.0, 0.0, 0.0, 0.0, 0.0, 0.0, 0.0, 0.0, 0.0, 0.0, 0.0, 0.0, 0.0, 0.0, 0.0, 0.0, 0.0, 0.0, 0.0, 0.0, 0.0, 0.0, 0.0, 0.0, 0.0, 0.0, 0.0, 0.0, 0.0, 0.0, 0.0, 0.0, 0.0, 0.0, 0.0, 0.0, 0.0, 0.0, 0.0, 0.0, 0.0, 0.0, 0.0, 0.0, 0.0, 0.0, 0.0, 0.0, 0.0, 0.0, 0.0, 0.0, 0.0, 0.0, 0.0, 0.0, 0.0, 0.0, 0.0, 0.0, 0.0, 0.0, 0.0, 0.0, 0.0, 0.0, 0.0, 0.0, 0.0, 0.0, 0.0, 0.0, 0.0, 0.0, 0.0, 0.0, 0.0, 0.0, 0.0, 0.0, 0.0, 0.0, 0.0, 0.0, 0.0, 0.0, 0.0, 0.0, 0.0, 0.0, 0.0, 0.0, 0.0, 0.0, 0.0, 0.0, 0.0, 0.0, 0.0, 0.0, 0.0, 0.0, 0.0, 0.0, 0.0, 0.0, 0.0, 0.0, 0.0, 0.0, 0.0, 0.0, 0.0, 0.0, 0.0, 0.0, 0.0, 0.0, 0.0, 0.0, 0.0, 0.0, 0.0, 0.0, 0.0, 0.0, 0.0, 0.0, 0.0, 0.0, 0.0, 0.0, 0.0, 0.0, 0.0, 0.0, 0.0, 0.0, 0.0, 0.0, 0.0, 0.0, 0.0, 0.0, 0.0, 0.0, 0.0, 0.0, 0.0, 0.0, 0.0, 0.0, 0.0, 0.0, 0.0, 0.0, 0.0, 0.0, 0.0, 0.0, 0.0, 0.0, 0.0, 0.0, 0.0, 0.0, 0.0, 0.0, 0.0, 0.0, 0.0, 0.0, 0.0, 0.0, 0.0, 0.0, 0.0, 0.0, 0.0, 0.0, 0.0, 0.0, 0.0, 0.0, 0.0, 0.0, 0.0, 0.0, 0.0, 0.0, 0.0, 0.0, 0.0, 0.0, 0.0, 0.0, 0.0, 0.0, 0.0, 0.0, 0.0, 0.0, 0.0, 0.0, 0.0, 0.0, 0.0, 0.0, 0.0, 0.0, 0.0, 0.0, 0.0, 0.0, 0.0, 0.0, 0.0, 0.0, 0.0, 0.0, 0.0, 0.0, 0.0, 0.0, 0.0, 0.0, 0.0, 0.0, 0.0, 0.0, 0.0, 0.0, 0.0, 0.0, 0.0, 0.0, 0.0, 0.0, 0.0, 0.0, 0.0, 0.0, 0.0, 0.0, 0.0, 0.0, 0.0, 0.0, 0.0, 0.0, 0.0, 0.0, 0.0, 0.0, 0.0, 0.0, 0.0, 0.0, 0.0, 0.0, 0.0, 0.0, 0.0, 0.0, 0.0, 0.0, 0.0, 0.0, 0.0, 0.0, 0.0, 0.0, 0.0, 0.0, 0.0, 0.0, 0.0, 0.0, 0.0, 0.0, 0.0, 0.0, 0.0, 0.0, 0.0, 0.0, 0.0, 0.0, 0.0, 0.0, 0.0, 0.0, 0.0, 0.0, 0.0, 0.0, 0.0, 0.0, 0.0, 0.0, 0.0, 0.0, 0.0, 0.0, 0.0, 0.0, 0.0, 0.0, 0.0, 0.0, 0.0, 0.0, 0.0, 0.0, 0.0, 0.0, 0.0, 0.0, 0.0, 0.0, 0.0, 0.0, 0.0, 0.0, 0.0, 0.0, 0.0, 0.0, 0.0, 0.0, 0.0, 0.0, 0.0, 0.0, 0.0, 0.0, 0.0, 0.0, 0.0, 0.0, 0.0, 0.0, 0.0, 0.0, 0.0, 0.0, 0.0, 0.0, 0.0]\n",
      "Sequence Profile: LPDPAMISLENNWGKLSKQIQRAQSNQGVFPNPVQLQNENGEPWIVDNVDHPVVTTNIALMLYRCNI\n"
     ]
    }
   ],
   "source": [
    "# Function to convert one-hot encoded residue to string and clean trailing underscores\n",
    "def residue_to_string(residue):\n",
    "    indices = np.argmax(residue[:, :22], axis=-1)\n",
    "    residue_str = ''.join([amino_acid_residues[i] for i in indices])\n",
    "    residue_str = residue_str.rstrip('_')  # Remove trailing underscores\n",
    "    return residue_str\n",
    "\n",
    "# Function to convert one-hot encoded secondary structure to string\n",
    "def secondary_structure_to_string(secondary_structure):\n",
    "    indices = np.argmax(secondary_structure[:, 22:31], axis=-1)\n",
    "    ss_str = ''.join([secondary_structure_labels[i] for i in indices])\n",
    "    ss_str = ss_str.rstrip('_')  # Remove trailing underscores\n",
    "    return ss_str\n",
    "\n",
    "# Function to convert one-hot encoded terminals to string\n",
    "def terminals_to_string(terminals_one_hot):\n",
    "    terminals_str = ''\n",
    "    for terminal in terminals_one_hot[:, 31:33]:\n",
    "        if np.array_equal(terminal, [1, 0]):\n",
    "            terminals_str += 'N'\n",
    "        elif np.array_equal(terminal, [0, 1]):\n",
    "            terminals_str += 'C'\n",
    "        else:\n",
    "            terminals_str += ''\n",
    "    return terminals_str\n",
    "\n",
    "# Function to convert solvent accessibility to string\n",
    "def solvent_accessibility_to_string(solvent_accessibility):\n",
    "    relative_accessibility = solvent_accessibility[:, 33]\n",
    "    absolute_accessibility = solvent_accessibility[:, 34]\n",
    "    return f\"Relative: {relative_accessibility.tolist()}, Absolute: {absolute_accessibility.tolist()}\"\n",
    "\n",
    "# Function to convert sequence profile to string\n",
    "def sequence_profile_to_string(sequence_profile):\n",
    "    indices = np.argmax(sequence_profile[:, 35:57], axis=-1)\n",
    "    seq_profile_str = ''.join([sequence_profile_residues[i] for i in indices])\n",
    "    seq_profile_str = seq_profile_str.rstrip('_')  # Remove trailing underscores\n",
    "    return seq_profile_str\n",
    "\n",
    "# Function to convert all features to string\n",
    "def features_to_string(features):\n",
    "    residue_str = residue_to_string(features)\n",
    "    secondary_structure_str = secondary_structure_to_string(features)\n",
    "    terminals_str = terminals_to_string(features)\n",
    "    solvent_accessibility_str = solvent_accessibility_to_string(features)\n",
    "    sequence_profile_str = sequence_profile_to_string(features)\n",
    "    \n",
    "    return f\"Residue: {residue_str}\\n\" \\\n",
    "           f\"Secondary Structure: {secondary_structure_str}\\n\" \\\n",
    "           f\"Terminals: {terminals_str}\\n\" \\\n",
    "           f\"Solvent Accessibility: {solvent_accessibility_str}\\n\" \\\n",
    "           f\"Sequence Profile: {sequence_profile_str}\"\n",
    "\n",
    "# Example usage for the first protein\n",
    "features = cb513_reshaped[0]\n",
    "print(features_to_string(features))"
   ]
  },
  {
   "cell_type": "code",
   "execution_count": 5,
   "metadata": {},
   "outputs": [],
   "source": [
    "def convert_8state_to_3state(ss):\n",
    "    ss_3state = \"\"\n",
    "    for s in ss:\n",
    "        if s in ['H', 'G', 'I']:\n",
    "            ss_3state += 'H'\n",
    "        elif s in ['E', 'B']:\n",
    "            ss_3state += 'E'\n",
    "        else:\n",
    "            ss_3state += 'C'\n",
    "    return ss_3state"
   ]
  },
  {
   "cell_type": "code",
   "execution_count": 8,
   "metadata": {},
   "outputs": [],
   "source": [
    "dataset_dir = '../Data/Original/'"
   ]
  },
  {
   "cell_type": "code",
   "execution_count": null,
   "metadata": {},
   "outputs": [
    {
     "name": "stderr",
     "output_type": "stream",
     "text": [
      "C:\\Users\\LENOVO\\AppData\\Local\\Temp\\ipykernel_21340\\1405963597.py:4: UserWarning: Reading `.npy` or `.npz` file required additional header parsing as it was created on Python 2. Save the file again to speed up loading and avoid this warning.\n",
      "  cb513 = np.load(f)\n"
     ]
    }
   ],
   "source": [
    "# def process_protein_data_cb513(file_path):\n",
    "#     # Load cb513 data from compressed numpy file\n",
    "#     f = gzip.GzipFile(file_path, \"r\")\n",
    "#     cb513 = np.load(f)\n",
    "#     f.close()\n",
    "\n",
    "#     # convert all to 700 x 57\n",
    "#     cb513_reshaped = cb513.reshape((514, 700, 57))\n",
    "\n",
    "#     # variable to store the preprocessed data\n",
    "#     data = []\n",
    "\n",
    "#     # loop through all proteins\n",
    "#     for i in range(len(cb513_reshaped)):\n",
    "#         # crop the arrays for features and labels according to the length of the protein\n",
    "#         features = cb513_reshaped[i]\n",
    "\n",
    "#         # convert the features to string\n",
    "#         residue_len = len(residue_to_string(features))\n",
    "#         residue_str = residue_to_string(features)\n",
    "#         dssp8_ss = secondary_structure_to_string(features)\n",
    "#         dssp3_ss = convert_8state_to_3state(dssp8_ss)\n",
    "\n",
    "#         # Append the combined data to the list\n",
    "#         data.append({'length': residue_len, \n",
    "#                                   'residue': residue_str,\n",
    "#                                   'dssp8': dssp8_ss,\n",
    "#                                    'dssp3': dssp3_ss})\n",
    "#     # create a dataframe from the list\n",
    "#     df = pd.DataFrame(data)\n",
    "\n",
    "#     # save the dataframe to a csv file\n",
    "#     df.to_csv(output_dir, index_label=\"id\")\n",
    "\n",
    "# input_dir = dataset_dir + 'cb513+profile_split1.npy.gz'\n",
    "# output_dir = dataset_dir + 'CB513_dataset_preprocessed.csv'\n",
    "# process_protein_data_cb513(input_dir)"
   ]
  },
  {
   "cell_type": "markdown",
   "metadata": {},
   "source": [
    "# Preprocess CASP14"
   ]
  },
  {
   "cell_type": "code",
   "execution_count": 10,
   "metadata": {},
   "outputs": [],
   "source": [
    "def process_protein_data_casp14(file_path):\n",
    "    # Read the dataset\n",
    "    data = pd.read_csv(file_path)\n",
    "\n",
    "    # Group by PDB code\n",
    "    grouped = data.groupby('pdb')\n",
    "\n",
    "    # Create a list to store the combined data\n",
    "    combined_data = []\n",
    "\n",
    "    # Clean invalid characters in the 'aa' column and adjust 'q3' and 'q8'\n",
    "    def clean_sequence(row):\n",
    "        aa, q3, q8 = row['aa'], row['q3'], row['q8']\n",
    "        cleaned_aa, cleaned_q3, cleaned_q8 = [], [], []\n",
    "        for i, residue in enumerate(aa):\n",
    "            if residue != \"!\":\n",
    "                cleaned_aa.append(residue)\n",
    "                cleaned_q3.append(q3[i])\n",
    "                cleaned_q8.append(q8[i])\n",
    "        return ''.join(cleaned_aa), ''.join(cleaned_q3), ''.join(cleaned_q8)\n",
    "\n",
    "    data[['aa', 'q3', 'q8']] = data.apply(lambda row: pd.Series(clean_sequence(row)), axis=1)\n",
    "\n",
    "    # Process each protein\n",
    "    for pdb_code, group in grouped:\n",
    "        # Combine the sequences\n",
    "        aa = group['aa'].tolist()\n",
    "        combined_aa = ''.join(aa)\n",
    "        # Combine the Q8 structures\n",
    "        q8s = group['q8'].tolist()\n",
    "        combined_q8 = ''.join(q8s)\n",
    "        # Combine the Q3 structures\n",
    "        q3s = group['q3'].tolist()\n",
    "        combined_q3 = ''.join(q3s)\n",
    "        # Get the length of the protein \n",
    "        aa_length = len(combined_aa)\n",
    "\n",
    "        # Append the combined data to the list\n",
    "        combined_data.append({'length': aa_length, \n",
    "                              'residue': combined_aa,\n",
    "                              'dssp8': combined_q8,\n",
    "                               'dssp3': combined_q3,\n",
    "                               'pdb': pdb_code})\n",
    "\n",
    "    # Create a new dataframe from the combined data\n",
    "    df = pd.DataFrame(combined_data)\n",
    "        \n",
    "    # Save the new dataframe\n",
    "    df.to_csv(output_path, index_label=\"id\")\n",
    "\n",
    "file_path = dataset_dir + 'CASP14_dataset.csv'\n",
    "output_path = dataset_dir + 'CASP14_preprocessed.csv'\n",
    "process_protein_data_casp14(file_path)"
   ]
  },
  {
   "cell_type": "markdown",
   "metadata": {},
   "source": [
    "# Preprocess TS115"
   ]
  },
  {
   "cell_type": "code",
   "execution_count": 26,
   "metadata": {},
   "outputs": [],
   "source": [
    "def process_protein_data_ts115(file_path):\n",
    "    # Read the dataset\n",
    "    df = pd.read_csv(file_path)\n",
    "\n",
    "    # Add length column to left of dataframe\n",
    "    df.insert(0, 'length', df['input'].apply(len))\n",
    "\n",
    "    # Rename column \"input\" to \"residue\"\n",
    "    df.rename(columns={'input': 'residue'}, inplace=True)\n",
    "        \n",
    "    # Save the new dataframe\n",
    "    df.to_csv(output_path, index_label=\"id\")\n",
    "\n",
    "file_path = dataset_dir + 'TS115.csv'\n",
    "output_path = dataset_dir + 'TS115_preprocessed.csv'\n",
    "process_protein_data_ts115(file_path)"
   ]
  }
 ],
 "metadata": {
  "kernelspec": {
   "display_name": "base",
   "language": "python",
   "name": "python3"
  },
  "language_info": {
   "codemirror_mode": {
    "name": "ipython",
    "version": 3
   },
   "file_extension": ".py",
   "mimetype": "text/x-python",
   "name": "python",
   "nbconvert_exporter": "python",
   "pygments_lexer": "ipython3",
   "version": "3.12.7"
  }
 },
 "nbformat": 4,
 "nbformat_minor": 2
}
